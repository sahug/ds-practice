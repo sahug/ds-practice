{
  "nbformat": 4,
  "nbformat_minor": 0,
  "metadata": {
    "colab": {
      "name": "Kaggle - Spaceship Titanic.ipynb",
      "provenance": [],
      "collapsed_sections": [],
      "authorship_tag": "ABX9TyM1YV8VfQZSWtGQggXJcgAx",
      "include_colab_link": true
    },
    "kernelspec": {
      "name": "python3",
      "display_name": "Python 3"
    },
    "language_info": {
      "name": "python"
    }
  },
  "cells": [
    {
      "cell_type": "markdown",
      "metadata": {
        "id": "view-in-github",
        "colab_type": "text"
      },
      "source": [
        "<a href=\"https://colab.research.google.com/github/sahug/ds-practice/blob/main/Kaggle%20-%20Spaceship%20Titanic.ipynb\" target=\"_parent\"><img src=\"https://colab.research.google.com/assets/colab-badge.svg\" alt=\"Open In Colab\"/></a>"
      ]
    },
    {
      "cell_type": "markdown",
      "source": [
        "**Kaggle - Spaceship Titanic**"
      ],
      "metadata": {
        "id": "Lbh5Wjc0b7SH"
      }
    },
    {
      "cell_type": "markdown",
      "source": [
        "**Dataset**\n",
        "\n",
        "Link: https://www.kaggle.com/competitions/spaceship-titanic/data"
      ],
      "metadata": {
        "id": "6-b5w8ekj9mY"
      }
    },
    {
      "cell_type": "markdown",
      "source": [
        "**Unzip Files**"
      ],
      "metadata": {
        "id": "J5IDMKDakX6n"
      }
    },
    {
      "cell_type": "code",
      "source": [
        "import zipfile\n",
        "with zipfile.ZipFile(\"/content/spaceship-titanic.zip\", 'r') as zip_ref:\n",
        "    zip_ref.extractall(\"/content/\")"
      ],
      "metadata": {
        "id": "3R7fYn3HjwMZ"
      },
      "execution_count": 1,
      "outputs": []
    },
    {
      "cell_type": "markdown",
      "source": [
        "**Load Dataset**"
      ],
      "metadata": {
        "id": "3CzswtV-kfdy"
      }
    },
    {
      "cell_type": "code",
      "source": [
        "import pandas as pd\n",
        "train = pd.read_csv(\"/content/train.csv\")\n",
        "test = pd.read_csv(\"/content/test.csv\")\n",
        "test_df = test.copy()"
      ],
      "metadata": {
        "id": "VYFxTGgtkcKL"
      },
      "execution_count": 2,
      "outputs": []
    },
    {
      "cell_type": "code",
      "source": [
        "train.head()"
      ],
      "metadata": {
        "colab": {
          "base_uri": "https://localhost:8080/",
          "height": 206
        },
        "id": "x6cRpTyakwOC",
        "outputId": "934d1699-3b34-45bc-efba-43bfbddeb0f7"
      },
      "execution_count": 3,
      "outputs": [
        {
          "output_type": "execute_result",
          "data": {
            "text/plain": [
              "  PassengerId HomePlanet CryoSleep  Cabin  Destination   Age    VIP  \\\n",
              "0     0001_01     Europa     False  B/0/P  TRAPPIST-1e  39.0  False   \n",
              "1     0002_01      Earth     False  F/0/S  TRAPPIST-1e  24.0  False   \n",
              "2     0003_01     Europa     False  A/0/S  TRAPPIST-1e  58.0   True   \n",
              "3     0003_02     Europa     False  A/0/S  TRAPPIST-1e  33.0  False   \n",
              "4     0004_01      Earth     False  F/1/S  TRAPPIST-1e  16.0  False   \n",
              "\n",
              "   RoomService  FoodCourt  ShoppingMall     Spa  VRDeck               Name  \\\n",
              "0          0.0        0.0           0.0     0.0     0.0    Maham Ofracculy   \n",
              "1        109.0        9.0          25.0   549.0    44.0       Juanna Vines   \n",
              "2         43.0     3576.0           0.0  6715.0    49.0      Altark Susent   \n",
              "3          0.0     1283.0         371.0  3329.0   193.0       Solam Susent   \n",
              "4        303.0       70.0         151.0   565.0     2.0  Willy Santantines   \n",
              "\n",
              "   Transported  \n",
              "0        False  \n",
              "1         True  \n",
              "2        False  \n",
              "3        False  \n",
              "4         True  "
            ],
            "text/html": [
              "\n",
              "  <div id=\"df-8ee0972c-be66-4d0c-89e2-22b02dd04fa5\">\n",
              "    <div class=\"colab-df-container\">\n",
              "      <div>\n",
              "<style scoped>\n",
              "    .dataframe tbody tr th:only-of-type {\n",
              "        vertical-align: middle;\n",
              "    }\n",
              "\n",
              "    .dataframe tbody tr th {\n",
              "        vertical-align: top;\n",
              "    }\n",
              "\n",
              "    .dataframe thead th {\n",
              "        text-align: right;\n",
              "    }\n",
              "</style>\n",
              "<table border=\"1\" class=\"dataframe\">\n",
              "  <thead>\n",
              "    <tr style=\"text-align: right;\">\n",
              "      <th></th>\n",
              "      <th>PassengerId</th>\n",
              "      <th>HomePlanet</th>\n",
              "      <th>CryoSleep</th>\n",
              "      <th>Cabin</th>\n",
              "      <th>Destination</th>\n",
              "      <th>Age</th>\n",
              "      <th>VIP</th>\n",
              "      <th>RoomService</th>\n",
              "      <th>FoodCourt</th>\n",
              "      <th>ShoppingMall</th>\n",
              "      <th>Spa</th>\n",
              "      <th>VRDeck</th>\n",
              "      <th>Name</th>\n",
              "      <th>Transported</th>\n",
              "    </tr>\n",
              "  </thead>\n",
              "  <tbody>\n",
              "    <tr>\n",
              "      <th>0</th>\n",
              "      <td>0001_01</td>\n",
              "      <td>Europa</td>\n",
              "      <td>False</td>\n",
              "      <td>B/0/P</td>\n",
              "      <td>TRAPPIST-1e</td>\n",
              "      <td>39.0</td>\n",
              "      <td>False</td>\n",
              "      <td>0.0</td>\n",
              "      <td>0.0</td>\n",
              "      <td>0.0</td>\n",
              "      <td>0.0</td>\n",
              "      <td>0.0</td>\n",
              "      <td>Maham Ofracculy</td>\n",
              "      <td>False</td>\n",
              "    </tr>\n",
              "    <tr>\n",
              "      <th>1</th>\n",
              "      <td>0002_01</td>\n",
              "      <td>Earth</td>\n",
              "      <td>False</td>\n",
              "      <td>F/0/S</td>\n",
              "      <td>TRAPPIST-1e</td>\n",
              "      <td>24.0</td>\n",
              "      <td>False</td>\n",
              "      <td>109.0</td>\n",
              "      <td>9.0</td>\n",
              "      <td>25.0</td>\n",
              "      <td>549.0</td>\n",
              "      <td>44.0</td>\n",
              "      <td>Juanna Vines</td>\n",
              "      <td>True</td>\n",
              "    </tr>\n",
              "    <tr>\n",
              "      <th>2</th>\n",
              "      <td>0003_01</td>\n",
              "      <td>Europa</td>\n",
              "      <td>False</td>\n",
              "      <td>A/0/S</td>\n",
              "      <td>TRAPPIST-1e</td>\n",
              "      <td>58.0</td>\n",
              "      <td>True</td>\n",
              "      <td>43.0</td>\n",
              "      <td>3576.0</td>\n",
              "      <td>0.0</td>\n",
              "      <td>6715.0</td>\n",
              "      <td>49.0</td>\n",
              "      <td>Altark Susent</td>\n",
              "      <td>False</td>\n",
              "    </tr>\n",
              "    <tr>\n",
              "      <th>3</th>\n",
              "      <td>0003_02</td>\n",
              "      <td>Europa</td>\n",
              "      <td>False</td>\n",
              "      <td>A/0/S</td>\n",
              "      <td>TRAPPIST-1e</td>\n",
              "      <td>33.0</td>\n",
              "      <td>False</td>\n",
              "      <td>0.0</td>\n",
              "      <td>1283.0</td>\n",
              "      <td>371.0</td>\n",
              "      <td>3329.0</td>\n",
              "      <td>193.0</td>\n",
              "      <td>Solam Susent</td>\n",
              "      <td>False</td>\n",
              "    </tr>\n",
              "    <tr>\n",
              "      <th>4</th>\n",
              "      <td>0004_01</td>\n",
              "      <td>Earth</td>\n",
              "      <td>False</td>\n",
              "      <td>F/1/S</td>\n",
              "      <td>TRAPPIST-1e</td>\n",
              "      <td>16.0</td>\n",
              "      <td>False</td>\n",
              "      <td>303.0</td>\n",
              "      <td>70.0</td>\n",
              "      <td>151.0</td>\n",
              "      <td>565.0</td>\n",
              "      <td>2.0</td>\n",
              "      <td>Willy Santantines</td>\n",
              "      <td>True</td>\n",
              "    </tr>\n",
              "  </tbody>\n",
              "</table>\n",
              "</div>\n",
              "      <button class=\"colab-df-convert\" onclick=\"convertToInteractive('df-8ee0972c-be66-4d0c-89e2-22b02dd04fa5')\"\n",
              "              title=\"Convert this dataframe to an interactive table.\"\n",
              "              style=\"display:none;\">\n",
              "        \n",
              "  <svg xmlns=\"http://www.w3.org/2000/svg\" height=\"24px\"viewBox=\"0 0 24 24\"\n",
              "       width=\"24px\">\n",
              "    <path d=\"M0 0h24v24H0V0z\" fill=\"none\"/>\n",
              "    <path d=\"M18.56 5.44l.94 2.06.94-2.06 2.06-.94-2.06-.94-.94-2.06-.94 2.06-2.06.94zm-11 1L8.5 8.5l.94-2.06 2.06-.94-2.06-.94L8.5 2.5l-.94 2.06-2.06.94zm10 10l.94 2.06.94-2.06 2.06-.94-2.06-.94-.94-2.06-.94 2.06-2.06.94z\"/><path d=\"M17.41 7.96l-1.37-1.37c-.4-.4-.92-.59-1.43-.59-.52 0-1.04.2-1.43.59L10.3 9.45l-7.72 7.72c-.78.78-.78 2.05 0 2.83L4 21.41c.39.39.9.59 1.41.59.51 0 1.02-.2 1.41-.59l7.78-7.78 2.81-2.81c.8-.78.8-2.07 0-2.86zM5.41 20L4 18.59l7.72-7.72 1.47 1.35L5.41 20z\"/>\n",
              "  </svg>\n",
              "      </button>\n",
              "      \n",
              "  <style>\n",
              "    .colab-df-container {\n",
              "      display:flex;\n",
              "      flex-wrap:wrap;\n",
              "      gap: 12px;\n",
              "    }\n",
              "\n",
              "    .colab-df-convert {\n",
              "      background-color: #E8F0FE;\n",
              "      border: none;\n",
              "      border-radius: 50%;\n",
              "      cursor: pointer;\n",
              "      display: none;\n",
              "      fill: #1967D2;\n",
              "      height: 32px;\n",
              "      padding: 0 0 0 0;\n",
              "      width: 32px;\n",
              "    }\n",
              "\n",
              "    .colab-df-convert:hover {\n",
              "      background-color: #E2EBFA;\n",
              "      box-shadow: 0px 1px 2px rgba(60, 64, 67, 0.3), 0px 1px 3px 1px rgba(60, 64, 67, 0.15);\n",
              "      fill: #174EA6;\n",
              "    }\n",
              "\n",
              "    [theme=dark] .colab-df-convert {\n",
              "      background-color: #3B4455;\n",
              "      fill: #D2E3FC;\n",
              "    }\n",
              "\n",
              "    [theme=dark] .colab-df-convert:hover {\n",
              "      background-color: #434B5C;\n",
              "      box-shadow: 0px 1px 3px 1px rgba(0, 0, 0, 0.15);\n",
              "      filter: drop-shadow(0px 1px 2px rgba(0, 0, 0, 0.3));\n",
              "      fill: #FFFFFF;\n",
              "    }\n",
              "  </style>\n",
              "\n",
              "      <script>\n",
              "        const buttonEl =\n",
              "          document.querySelector('#df-8ee0972c-be66-4d0c-89e2-22b02dd04fa5 button.colab-df-convert');\n",
              "        buttonEl.style.display =\n",
              "          google.colab.kernel.accessAllowed ? 'block' : 'none';\n",
              "\n",
              "        async function convertToInteractive(key) {\n",
              "          const element = document.querySelector('#df-8ee0972c-be66-4d0c-89e2-22b02dd04fa5');\n",
              "          const dataTable =\n",
              "            await google.colab.kernel.invokeFunction('convertToInteractive',\n",
              "                                                     [key], {});\n",
              "          if (!dataTable) return;\n",
              "\n",
              "          const docLinkHtml = 'Like what you see? Visit the ' +\n",
              "            '<a target=\"_blank\" href=https://colab.research.google.com/notebooks/data_table.ipynb>data table notebook</a>'\n",
              "            + ' to learn more about interactive tables.';\n",
              "          element.innerHTML = '';\n",
              "          dataTable['output_type'] = 'display_data';\n",
              "          await google.colab.output.renderOutput(dataTable, element);\n",
              "          const docLink = document.createElement('div');\n",
              "          docLink.innerHTML = docLinkHtml;\n",
              "          element.appendChild(docLink);\n",
              "        }\n",
              "      </script>\n",
              "    </div>\n",
              "  </div>\n",
              "  "
            ]
          },
          "metadata": {},
          "execution_count": 3
        }
      ]
    },
    {
      "cell_type": "code",
      "source": [
        "train.shape"
      ],
      "metadata": {
        "colab": {
          "base_uri": "https://localhost:8080/"
        },
        "id": "SpqhJv1Omiro",
        "outputId": "f8155b1f-57d8-42db-d9b5-8c7f8bdc508e"
      },
      "execution_count": 4,
      "outputs": [
        {
          "output_type": "execute_result",
          "data": {
            "text/plain": [
              "(8693, 14)"
            ]
          },
          "metadata": {},
          "execution_count": 4
        }
      ]
    },
    {
      "cell_type": "markdown",
      "source": [
        "**Data Exploration**"
      ],
      "metadata": {
        "id": "91MDkYPrlO4k"
      }
    },
    {
      "cell_type": "code",
      "source": [
        "train.info()"
      ],
      "metadata": {
        "colab": {
          "base_uri": "https://localhost:8080/"
        },
        "id": "EMW8sFgDlQ0E",
        "outputId": "d87c7c82-de71-4446-cfc3-ba2f2ab135e5"
      },
      "execution_count": 5,
      "outputs": [
        {
          "output_type": "stream",
          "name": "stdout",
          "text": [
            "<class 'pandas.core.frame.DataFrame'>\n",
            "RangeIndex: 8693 entries, 0 to 8692\n",
            "Data columns (total 14 columns):\n",
            " #   Column        Non-Null Count  Dtype  \n",
            "---  ------        --------------  -----  \n",
            " 0   PassengerId   8693 non-null   object \n",
            " 1   HomePlanet    8492 non-null   object \n",
            " 2   CryoSleep     8476 non-null   object \n",
            " 3   Cabin         8494 non-null   object \n",
            " 4   Destination   8511 non-null   object \n",
            " 5   Age           8514 non-null   float64\n",
            " 6   VIP           8490 non-null   object \n",
            " 7   RoomService   8512 non-null   float64\n",
            " 8   FoodCourt     8510 non-null   float64\n",
            " 9   ShoppingMall  8485 non-null   float64\n",
            " 10  Spa           8510 non-null   float64\n",
            " 11  VRDeck        8505 non-null   float64\n",
            " 12  Name          8493 non-null   object \n",
            " 13  Transported   8693 non-null   bool   \n",
            "dtypes: bool(1), float64(6), object(7)\n",
            "memory usage: 891.5+ KB\n"
          ]
        }
      ]
    },
    {
      "cell_type": "code",
      "source": [
        "train.describe(include=\"all\").T"
      ],
      "metadata": {
        "colab": {
          "base_uri": "https://localhost:8080/",
          "height": 488
        },
        "id": "kw0PpC6-lfjx",
        "outputId": "f2caf683-fca5-4940-b647-77931360ecc7"
      },
      "execution_count": 6,
      "outputs": [
        {
          "output_type": "execute_result",
          "data": {
            "text/plain": [
              "               count unique             top  freq        mean          std  \\\n",
              "PassengerId     8693   8693         0001_01     1         NaN          NaN   \n",
              "HomePlanet      8492      3           Earth  4602         NaN          NaN   \n",
              "CryoSleep       8476      2           False  5439         NaN          NaN   \n",
              "Cabin           8494   6560         G/734/S     8         NaN          NaN   \n",
              "Destination     8511      3     TRAPPIST-1e  5915         NaN          NaN   \n",
              "Age           8514.0    NaN             NaN   NaN    28.82793    14.489021   \n",
              "VIP             8490      2           False  8291         NaN          NaN   \n",
              "RoomService   8512.0    NaN             NaN   NaN  224.687617   666.717663   \n",
              "FoodCourt     8510.0    NaN             NaN   NaN  458.077203   1611.48924   \n",
              "ShoppingMall  8485.0    NaN             NaN   NaN  173.729169   604.696458   \n",
              "Spa           8510.0    NaN             NaN   NaN  311.138778  1136.705535   \n",
              "VRDeck        8505.0    NaN             NaN   NaN  304.854791  1145.717189   \n",
              "Name            8493   8473  Gollux Reedall     2         NaN          NaN   \n",
              "Transported     8693      2            True  4378         NaN          NaN   \n",
              "\n",
              "              min   25%   50%   75%      max  \n",
              "PassengerId   NaN   NaN   NaN   NaN      NaN  \n",
              "HomePlanet    NaN   NaN   NaN   NaN      NaN  \n",
              "CryoSleep     NaN   NaN   NaN   NaN      NaN  \n",
              "Cabin         NaN   NaN   NaN   NaN      NaN  \n",
              "Destination   NaN   NaN   NaN   NaN      NaN  \n",
              "Age           0.0  19.0  27.0  38.0     79.0  \n",
              "VIP           NaN   NaN   NaN   NaN      NaN  \n",
              "RoomService   0.0   0.0   0.0  47.0  14327.0  \n",
              "FoodCourt     0.0   0.0   0.0  76.0  29813.0  \n",
              "ShoppingMall  0.0   0.0   0.0  27.0  23492.0  \n",
              "Spa           0.0   0.0   0.0  59.0  22408.0  \n",
              "VRDeck        0.0   0.0   0.0  46.0  24133.0  \n",
              "Name          NaN   NaN   NaN   NaN      NaN  \n",
              "Transported   NaN   NaN   NaN   NaN      NaN  "
            ],
            "text/html": [
              "\n",
              "  <div id=\"df-1ad9f257-e6ca-41f5-8e8d-6da6b8630f53\">\n",
              "    <div class=\"colab-df-container\">\n",
              "      <div>\n",
              "<style scoped>\n",
              "    .dataframe tbody tr th:only-of-type {\n",
              "        vertical-align: middle;\n",
              "    }\n",
              "\n",
              "    .dataframe tbody tr th {\n",
              "        vertical-align: top;\n",
              "    }\n",
              "\n",
              "    .dataframe thead th {\n",
              "        text-align: right;\n",
              "    }\n",
              "</style>\n",
              "<table border=\"1\" class=\"dataframe\">\n",
              "  <thead>\n",
              "    <tr style=\"text-align: right;\">\n",
              "      <th></th>\n",
              "      <th>count</th>\n",
              "      <th>unique</th>\n",
              "      <th>top</th>\n",
              "      <th>freq</th>\n",
              "      <th>mean</th>\n",
              "      <th>std</th>\n",
              "      <th>min</th>\n",
              "      <th>25%</th>\n",
              "      <th>50%</th>\n",
              "      <th>75%</th>\n",
              "      <th>max</th>\n",
              "    </tr>\n",
              "  </thead>\n",
              "  <tbody>\n",
              "    <tr>\n",
              "      <th>PassengerId</th>\n",
              "      <td>8693</td>\n",
              "      <td>8693</td>\n",
              "      <td>0001_01</td>\n",
              "      <td>1</td>\n",
              "      <td>NaN</td>\n",
              "      <td>NaN</td>\n",
              "      <td>NaN</td>\n",
              "      <td>NaN</td>\n",
              "      <td>NaN</td>\n",
              "      <td>NaN</td>\n",
              "      <td>NaN</td>\n",
              "    </tr>\n",
              "    <tr>\n",
              "      <th>HomePlanet</th>\n",
              "      <td>8492</td>\n",
              "      <td>3</td>\n",
              "      <td>Earth</td>\n",
              "      <td>4602</td>\n",
              "      <td>NaN</td>\n",
              "      <td>NaN</td>\n",
              "      <td>NaN</td>\n",
              "      <td>NaN</td>\n",
              "      <td>NaN</td>\n",
              "      <td>NaN</td>\n",
              "      <td>NaN</td>\n",
              "    </tr>\n",
              "    <tr>\n",
              "      <th>CryoSleep</th>\n",
              "      <td>8476</td>\n",
              "      <td>2</td>\n",
              "      <td>False</td>\n",
              "      <td>5439</td>\n",
              "      <td>NaN</td>\n",
              "      <td>NaN</td>\n",
              "      <td>NaN</td>\n",
              "      <td>NaN</td>\n",
              "      <td>NaN</td>\n",
              "      <td>NaN</td>\n",
              "      <td>NaN</td>\n",
              "    </tr>\n",
              "    <tr>\n",
              "      <th>Cabin</th>\n",
              "      <td>8494</td>\n",
              "      <td>6560</td>\n",
              "      <td>G/734/S</td>\n",
              "      <td>8</td>\n",
              "      <td>NaN</td>\n",
              "      <td>NaN</td>\n",
              "      <td>NaN</td>\n",
              "      <td>NaN</td>\n",
              "      <td>NaN</td>\n",
              "      <td>NaN</td>\n",
              "      <td>NaN</td>\n",
              "    </tr>\n",
              "    <tr>\n",
              "      <th>Destination</th>\n",
              "      <td>8511</td>\n",
              "      <td>3</td>\n",
              "      <td>TRAPPIST-1e</td>\n",
              "      <td>5915</td>\n",
              "      <td>NaN</td>\n",
              "      <td>NaN</td>\n",
              "      <td>NaN</td>\n",
              "      <td>NaN</td>\n",
              "      <td>NaN</td>\n",
              "      <td>NaN</td>\n",
              "      <td>NaN</td>\n",
              "    </tr>\n",
              "    <tr>\n",
              "      <th>Age</th>\n",
              "      <td>8514.0</td>\n",
              "      <td>NaN</td>\n",
              "      <td>NaN</td>\n",
              "      <td>NaN</td>\n",
              "      <td>28.82793</td>\n",
              "      <td>14.489021</td>\n",
              "      <td>0.0</td>\n",
              "      <td>19.0</td>\n",
              "      <td>27.0</td>\n",
              "      <td>38.0</td>\n",
              "      <td>79.0</td>\n",
              "    </tr>\n",
              "    <tr>\n",
              "      <th>VIP</th>\n",
              "      <td>8490</td>\n",
              "      <td>2</td>\n",
              "      <td>False</td>\n",
              "      <td>8291</td>\n",
              "      <td>NaN</td>\n",
              "      <td>NaN</td>\n",
              "      <td>NaN</td>\n",
              "      <td>NaN</td>\n",
              "      <td>NaN</td>\n",
              "      <td>NaN</td>\n",
              "      <td>NaN</td>\n",
              "    </tr>\n",
              "    <tr>\n",
              "      <th>RoomService</th>\n",
              "      <td>8512.0</td>\n",
              "      <td>NaN</td>\n",
              "      <td>NaN</td>\n",
              "      <td>NaN</td>\n",
              "      <td>224.687617</td>\n",
              "      <td>666.717663</td>\n",
              "      <td>0.0</td>\n",
              "      <td>0.0</td>\n",
              "      <td>0.0</td>\n",
              "      <td>47.0</td>\n",
              "      <td>14327.0</td>\n",
              "    </tr>\n",
              "    <tr>\n",
              "      <th>FoodCourt</th>\n",
              "      <td>8510.0</td>\n",
              "      <td>NaN</td>\n",
              "      <td>NaN</td>\n",
              "      <td>NaN</td>\n",
              "      <td>458.077203</td>\n",
              "      <td>1611.48924</td>\n",
              "      <td>0.0</td>\n",
              "      <td>0.0</td>\n",
              "      <td>0.0</td>\n",
              "      <td>76.0</td>\n",
              "      <td>29813.0</td>\n",
              "    </tr>\n",
              "    <tr>\n",
              "      <th>ShoppingMall</th>\n",
              "      <td>8485.0</td>\n",
              "      <td>NaN</td>\n",
              "      <td>NaN</td>\n",
              "      <td>NaN</td>\n",
              "      <td>173.729169</td>\n",
              "      <td>604.696458</td>\n",
              "      <td>0.0</td>\n",
              "      <td>0.0</td>\n",
              "      <td>0.0</td>\n",
              "      <td>27.0</td>\n",
              "      <td>23492.0</td>\n",
              "    </tr>\n",
              "    <tr>\n",
              "      <th>Spa</th>\n",
              "      <td>8510.0</td>\n",
              "      <td>NaN</td>\n",
              "      <td>NaN</td>\n",
              "      <td>NaN</td>\n",
              "      <td>311.138778</td>\n",
              "      <td>1136.705535</td>\n",
              "      <td>0.0</td>\n",
              "      <td>0.0</td>\n",
              "      <td>0.0</td>\n",
              "      <td>59.0</td>\n",
              "      <td>22408.0</td>\n",
              "    </tr>\n",
              "    <tr>\n",
              "      <th>VRDeck</th>\n",
              "      <td>8505.0</td>\n",
              "      <td>NaN</td>\n",
              "      <td>NaN</td>\n",
              "      <td>NaN</td>\n",
              "      <td>304.854791</td>\n",
              "      <td>1145.717189</td>\n",
              "      <td>0.0</td>\n",
              "      <td>0.0</td>\n",
              "      <td>0.0</td>\n",
              "      <td>46.0</td>\n",
              "      <td>24133.0</td>\n",
              "    </tr>\n",
              "    <tr>\n",
              "      <th>Name</th>\n",
              "      <td>8493</td>\n",
              "      <td>8473</td>\n",
              "      <td>Gollux Reedall</td>\n",
              "      <td>2</td>\n",
              "      <td>NaN</td>\n",
              "      <td>NaN</td>\n",
              "      <td>NaN</td>\n",
              "      <td>NaN</td>\n",
              "      <td>NaN</td>\n",
              "      <td>NaN</td>\n",
              "      <td>NaN</td>\n",
              "    </tr>\n",
              "    <tr>\n",
              "      <th>Transported</th>\n",
              "      <td>8693</td>\n",
              "      <td>2</td>\n",
              "      <td>True</td>\n",
              "      <td>4378</td>\n",
              "      <td>NaN</td>\n",
              "      <td>NaN</td>\n",
              "      <td>NaN</td>\n",
              "      <td>NaN</td>\n",
              "      <td>NaN</td>\n",
              "      <td>NaN</td>\n",
              "      <td>NaN</td>\n",
              "    </tr>\n",
              "  </tbody>\n",
              "</table>\n",
              "</div>\n",
              "      <button class=\"colab-df-convert\" onclick=\"convertToInteractive('df-1ad9f257-e6ca-41f5-8e8d-6da6b8630f53')\"\n",
              "              title=\"Convert this dataframe to an interactive table.\"\n",
              "              style=\"display:none;\">\n",
              "        \n",
              "  <svg xmlns=\"http://www.w3.org/2000/svg\" height=\"24px\"viewBox=\"0 0 24 24\"\n",
              "       width=\"24px\">\n",
              "    <path d=\"M0 0h24v24H0V0z\" fill=\"none\"/>\n",
              "    <path d=\"M18.56 5.44l.94 2.06.94-2.06 2.06-.94-2.06-.94-.94-2.06-.94 2.06-2.06.94zm-11 1L8.5 8.5l.94-2.06 2.06-.94-2.06-.94L8.5 2.5l-.94 2.06-2.06.94zm10 10l.94 2.06.94-2.06 2.06-.94-2.06-.94-.94-2.06-.94 2.06-2.06.94z\"/><path d=\"M17.41 7.96l-1.37-1.37c-.4-.4-.92-.59-1.43-.59-.52 0-1.04.2-1.43.59L10.3 9.45l-7.72 7.72c-.78.78-.78 2.05 0 2.83L4 21.41c.39.39.9.59 1.41.59.51 0 1.02-.2 1.41-.59l7.78-7.78 2.81-2.81c.8-.78.8-2.07 0-2.86zM5.41 20L4 18.59l7.72-7.72 1.47 1.35L5.41 20z\"/>\n",
              "  </svg>\n",
              "      </button>\n",
              "      \n",
              "  <style>\n",
              "    .colab-df-container {\n",
              "      display:flex;\n",
              "      flex-wrap:wrap;\n",
              "      gap: 12px;\n",
              "    }\n",
              "\n",
              "    .colab-df-convert {\n",
              "      background-color: #E8F0FE;\n",
              "      border: none;\n",
              "      border-radius: 50%;\n",
              "      cursor: pointer;\n",
              "      display: none;\n",
              "      fill: #1967D2;\n",
              "      height: 32px;\n",
              "      padding: 0 0 0 0;\n",
              "      width: 32px;\n",
              "    }\n",
              "\n",
              "    .colab-df-convert:hover {\n",
              "      background-color: #E2EBFA;\n",
              "      box-shadow: 0px 1px 2px rgba(60, 64, 67, 0.3), 0px 1px 3px 1px rgba(60, 64, 67, 0.15);\n",
              "      fill: #174EA6;\n",
              "    }\n",
              "\n",
              "    [theme=dark] .colab-df-convert {\n",
              "      background-color: #3B4455;\n",
              "      fill: #D2E3FC;\n",
              "    }\n",
              "\n",
              "    [theme=dark] .colab-df-convert:hover {\n",
              "      background-color: #434B5C;\n",
              "      box-shadow: 0px 1px 3px 1px rgba(0, 0, 0, 0.15);\n",
              "      filter: drop-shadow(0px 1px 2px rgba(0, 0, 0, 0.3));\n",
              "      fill: #FFFFFF;\n",
              "    }\n",
              "  </style>\n",
              "\n",
              "      <script>\n",
              "        const buttonEl =\n",
              "          document.querySelector('#df-1ad9f257-e6ca-41f5-8e8d-6da6b8630f53 button.colab-df-convert');\n",
              "        buttonEl.style.display =\n",
              "          google.colab.kernel.accessAllowed ? 'block' : 'none';\n",
              "\n",
              "        async function convertToInteractive(key) {\n",
              "          const element = document.querySelector('#df-1ad9f257-e6ca-41f5-8e8d-6da6b8630f53');\n",
              "          const dataTable =\n",
              "            await google.colab.kernel.invokeFunction('convertToInteractive',\n",
              "                                                     [key], {});\n",
              "          if (!dataTable) return;\n",
              "\n",
              "          const docLinkHtml = 'Like what you see? Visit the ' +\n",
              "            '<a target=\"_blank\" href=https://colab.research.google.com/notebooks/data_table.ipynb>data table notebook</a>'\n",
              "            + ' to learn more about interactive tables.';\n",
              "          element.innerHTML = '';\n",
              "          dataTable['output_type'] = 'display_data';\n",
              "          await google.colab.output.renderOutput(dataTable, element);\n",
              "          const docLink = document.createElement('div');\n",
              "          docLink.innerHTML = docLinkHtml;\n",
              "          element.appendChild(docLink);\n",
              "        }\n",
              "      </script>\n",
              "    </div>\n",
              "  </div>\n",
              "  "
            ]
          },
          "metadata": {},
          "execution_count": 6
        }
      ]
    },
    {
      "cell_type": "markdown",
      "source": [
        "**Balance Check**"
      ],
      "metadata": {
        "id": "JTxyfOtgnf_X"
      }
    },
    {
      "cell_type": "code",
      "source": [
        "train[\"Transported\"].value_counts()"
      ],
      "metadata": {
        "colab": {
          "base_uri": "https://localhost:8080/"
        },
        "id": "MgPwJDmhnfYY",
        "outputId": "de9e0a17-8a5d-43bf-cc8d-7b9d3743dcae"
      },
      "execution_count": 7,
      "outputs": [
        {
          "output_type": "execute_result",
          "data": {
            "text/plain": [
              "True     4378\n",
              "False    4315\n",
              "Name: Transported, dtype: int64"
            ]
          },
          "metadata": {},
          "execution_count": 7
        }
      ]
    },
    {
      "cell_type": "markdown",
      "source": [
        "**NaN Data**"
      ],
      "metadata": {
        "id": "zIkKuUXUYNnr"
      }
    },
    {
      "cell_type": "markdown",
      "source": [
        "**Prepare Data**"
      ],
      "metadata": {
        "id": "vllcZGq43ogE"
      }
    },
    {
      "cell_type": "code",
      "source": [
        "ds = train.copy()"
      ],
      "metadata": {
        "id": "hGEmXJND3urv"
      },
      "execution_count": 8,
      "outputs": []
    },
    {
      "cell_type": "markdown",
      "source": [
        "**Null Values**"
      ],
      "metadata": {
        "id": "G7E3H62kVxrP"
      }
    },
    {
      "cell_type": "code",
      "source": [
        "ds.isnull().sum()"
      ],
      "metadata": {
        "colab": {
          "base_uri": "https://localhost:8080/"
        },
        "id": "BmC6OKfeVzo6",
        "outputId": "3452ce0c-ddcc-4c30-b7ae-7015a2655ed4"
      },
      "execution_count": 9,
      "outputs": [
        {
          "output_type": "execute_result",
          "data": {
            "text/plain": [
              "PassengerId       0\n",
              "HomePlanet      201\n",
              "CryoSleep       217\n",
              "Cabin           199\n",
              "Destination     182\n",
              "Age             179\n",
              "VIP             203\n",
              "RoomService     181\n",
              "FoodCourt       183\n",
              "ShoppingMall    208\n",
              "Spa             183\n",
              "VRDeck          188\n",
              "Name            200\n",
              "Transported       0\n",
              "dtype: int64"
            ]
          },
          "metadata": {},
          "execution_count": 9
        }
      ]
    },
    {
      "cell_type": "markdown",
      "source": [
        "**Data Imputation**"
      ],
      "metadata": {
        "id": "Tcw6HwDJWV40"
      }
    },
    {
      "cell_type": "markdown",
      "source": [
        "**Categorlical Data**"
      ],
      "metadata": {
        "id": "8IXx_uyBWmTv"
      }
    },
    {
      "cell_type": "code",
      "source": [
        "# Train\n",
        "ds[\"HomePlanet\"] = ds[\"HomePlanet\"].fillna(ds[\"HomePlanet\"].mode()[0])\n",
        "ds[\"CryoSleep\"] = ds[\"CryoSleep\"].fillna(ds[\"CryoSleep\"].mode()[0])\n",
        "ds[\"Cabin\"] = ds[\"Cabin\"].fillna(ds[\"Cabin\"].mode()[0])\n",
        "ds[\"Destination\"] = ds[\"Destination\"].fillna(ds[\"Destination\"].mode()[0])\n",
        "ds[\"VIP\"] = ds[\"VIP\"].fillna(ds[\"VIP\"].mode()[0])"
      ],
      "metadata": {
        "id": "5kT9edG4WYvr"
      },
      "execution_count": 10,
      "outputs": []
    },
    {
      "cell_type": "code",
      "source": [
        "# Test\n",
        "test[\"HomePlanet\"] = test[\"HomePlanet\"].fillna(test[\"HomePlanet\"].mode()[0])\n",
        "test[\"CryoSleep\"] = test[\"CryoSleep\"].fillna(test[\"CryoSleep\"].mode()[0])\n",
        "test[\"Cabin\"] = test[\"Cabin\"].fillna(test[\"Cabin\"].mode()[0])\n",
        "test[\"Destination\"] = test[\"Destination\"].fillna(test[\"Destination\"].mode()[0])\n",
        "test[\"VIP\"] = test[\"VIP\"].fillna(test[\"VIP\"].mode()[0])"
      ],
      "metadata": {
        "id": "pzNZRBjNRr4l"
      },
      "execution_count": 11,
      "outputs": []
    },
    {
      "cell_type": "markdown",
      "source": [
        "**Neumerical Data**"
      ],
      "metadata": {
        "id": "KUZh4lzcXUxX"
      }
    },
    {
      "cell_type": "code",
      "source": [
        "# Train\n",
        "ds[\"Age\"] = ds[\"Age\"].fillna(ds[\"Age\"].median())\n",
        "ds[\"RoomService\"] = ds[\"RoomService\"].fillna(ds[\"RoomService\"].median())\n",
        "ds[\"FoodCourt\"] = ds[\"FoodCourt\"].fillna(ds[\"FoodCourt\"].median())\n",
        "ds[\"ShoppingMall\"] = ds[\"ShoppingMall\"].fillna(ds[\"ShoppingMall\"].median())\n",
        "ds[\"Spa\"] = ds[\"Spa\"].fillna(ds[\"Spa\"].median())\n",
        "ds[\"VRDeck\"] = ds[\"VRDeck\"].fillna(ds[\"VRDeck\"].median())"
      ],
      "metadata": {
        "id": "IA2OFV3WXWi_"
      },
      "execution_count": 12,
      "outputs": []
    },
    {
      "cell_type": "code",
      "source": [
        "# Test\n",
        "test[\"Age\"] = test[\"Age\"].fillna(test[\"Age\"].median())\n",
        "test[\"RoomService\"] = test[\"RoomService\"].fillna(test[\"RoomService\"].median())\n",
        "test[\"FoodCourt\"] = test[\"FoodCourt\"].fillna(test[\"FoodCourt\"].median())\n",
        "test[\"ShoppingMall\"] = test[\"ShoppingMall\"].fillna(test[\"ShoppingMall\"].median())\n",
        "test[\"Spa\"] = test[\"Spa\"].fillna(test[\"Spa\"].median())\n",
        "test[\"VRDeck\"] = test[\"VRDeck\"].fillna(test[\"VRDeck\"].median())"
      ],
      "metadata": {
        "id": "_rDxkC92R7lj"
      },
      "execution_count": 13,
      "outputs": []
    },
    {
      "cell_type": "code",
      "source": [
        "ds.isnull().sum()"
      ],
      "metadata": {
        "colab": {
          "base_uri": "https://localhost:8080/"
        },
        "id": "4mhXSoA_YXbT",
        "outputId": "24e8b711-1af6-43b1-d363-d75c11c86508"
      },
      "execution_count": 14,
      "outputs": [
        {
          "output_type": "execute_result",
          "data": {
            "text/plain": [
              "PassengerId       0\n",
              "HomePlanet        0\n",
              "CryoSleep         0\n",
              "Cabin             0\n",
              "Destination       0\n",
              "Age               0\n",
              "VIP               0\n",
              "RoomService       0\n",
              "FoodCourt         0\n",
              "ShoppingMall      0\n",
              "Spa               0\n",
              "VRDeck            0\n",
              "Name            200\n",
              "Transported       0\n",
              "dtype: int64"
            ]
          },
          "metadata": {},
          "execution_count": 14
        }
      ]
    },
    {
      "cell_type": "code",
      "source": [
        "test.isnull().sum()"
      ],
      "metadata": {
        "colab": {
          "base_uri": "https://localhost:8080/"
        },
        "id": "kOBNSkamR995",
        "outputId": "4e4cd06f-364c-494a-a64a-a0e1c7a9db10"
      },
      "execution_count": 15,
      "outputs": [
        {
          "output_type": "execute_result",
          "data": {
            "text/plain": [
              "PassengerId      0\n",
              "HomePlanet       0\n",
              "CryoSleep        0\n",
              "Cabin            0\n",
              "Destination      0\n",
              "Age              0\n",
              "VIP              0\n",
              "RoomService      0\n",
              "FoodCourt        0\n",
              "ShoppingMall     0\n",
              "Spa              0\n",
              "VRDeck           0\n",
              "Name            94\n",
              "dtype: int64"
            ]
          },
          "metadata": {},
          "execution_count": 15
        }
      ]
    },
    {
      "cell_type": "markdown",
      "source": [
        "**Data Preprocessing**"
      ],
      "metadata": {
        "id": "mv1XhS80ZJ5X"
      }
    },
    {
      "cell_type": "code",
      "source": [
        "# Train\n",
        "ds[[\"Group\", \"Id\"]] = ds[\"PassengerId\"].str.split(\"_\", expand=True)\n",
        "ds[['Deck', 'Num', 'Side']] = ds['Cabin'].str.split('/', expand = True)"
      ],
      "metadata": {
        "id": "5OGY9VsAZL3i"
      },
      "execution_count": 16,
      "outputs": []
    },
    {
      "cell_type": "code",
      "source": [
        "# Test\n",
        "test[[\"Group\", \"Id\"]] = test[\"PassengerId\"].str.split(\"_\", expand=True)\n",
        "test[['Deck', 'Num', 'Side']] = test['Cabin'].str.split('/', expand = True)"
      ],
      "metadata": {
        "id": "FbIJ4dLHSMDa"
      },
      "execution_count": 17,
      "outputs": []
    },
    {
      "cell_type": "code",
      "source": [
        "# Train\n",
        "group_list = list(ds[\"Group\"].value_counts().sort_index())\n",
        "group_size = []\n",
        "for i in range(len(group_list)):\n",
        "  for j in range(group_list[i]):\n",
        "    group_size.append(group_list[i])\n",
        "\n",
        "ds[\"group_size\"] = group_size"
      ],
      "metadata": {
        "id": "anstxNsBh4UD"
      },
      "execution_count": 18,
      "outputs": []
    },
    {
      "cell_type": "code",
      "source": [
        "# Test\n",
        "group_list = list(test[\"Group\"].value_counts().sort_index())\n",
        "group_size = []\n",
        "for i in range(len(group_list)):\n",
        "  for j in range(group_list[i]):\n",
        "    group_size.append(group_list[i])\n",
        "\n",
        "test[\"group_size\"] = group_size"
      ],
      "metadata": {
        "id": "NZTnIXnHYi5W"
      },
      "execution_count": 19,
      "outputs": []
    },
    {
      "cell_type": "code",
      "source": [
        "# Prprocess Cabin\n",
        "def processCabin(df):\n",
        "    cabin_num = ['Cabin1','Cabin2','Cabin3','Cabin4','Cabin5','Cabin6','Cabin7']\n",
        "    df['Num'] = df['Num'].astype(int)\n",
        "\n",
        "    df[cabin_num[0]] = (df['Num'] < 300)\n",
        "    df[cabin_num[1]] = ((df['Num'] >= 300) & (df['Num'] < 600))\n",
        "    df[cabin_num[2]] = ((df['Num'] >= 600) & (df['Num'] < 900))\n",
        "    df[cabin_num[3]] = ((df['Num'] >= 900) & (df['Num'] < 1200))\n",
        "    df[cabin_num[4]] = ((df['Num'] >= 1200) & (df['Num'] < 1500))\n",
        "    df[cabin_num[5]] = ((df['Num'] >= 1500) & (df['Num'] < 1800))\n",
        "    df[cabin_num[6]] = (df['Num'] >= 1800)"
      ],
      "metadata": {
        "id": "GZbZlZgTqHhk"
      },
      "execution_count": 20,
      "outputs": []
    },
    {
      "cell_type": "code",
      "source": [
        "# Train\n",
        "processCabin(ds)"
      ],
      "metadata": {
        "id": "l4IHdwkOSU_j"
      },
      "execution_count": 21,
      "outputs": []
    },
    {
      "cell_type": "code",
      "source": [
        "# Test\n",
        "processCabin(test)"
      ],
      "metadata": {
        "id": "OU5qhwS_SSHM"
      },
      "execution_count": 22,
      "outputs": []
    },
    {
      "cell_type": "markdown",
      "source": [
        "**Encoding**"
      ],
      "metadata": {
        "id": "mzhiByxTvv6O"
      }
    },
    {
      "cell_type": "code",
      "source": [
        "# Train\n",
        "category_list = ['HomePlanet','Destination','Deck','Side']\n",
        "ohe_ds = pd.get_dummies(ds[category_list])\n",
        "ds = pd.concat([ds, ohe_ds], axis=1)"
      ],
      "metadata": {
        "id": "T265J5xPv1-C"
      },
      "execution_count": 23,
      "outputs": []
    },
    {
      "cell_type": "code",
      "source": [
        "# Test\n",
        "category_list = ['HomePlanet','Destination','Deck','Side']\n",
        "ohe_test = pd.get_dummies(test[category_list])\n",
        "test = pd.concat([test, ohe_test], axis=1)"
      ],
      "metadata": {
        "id": "Y5iPEdCbSdZ2"
      },
      "execution_count": 24,
      "outputs": []
    },
    {
      "cell_type": "code",
      "source": [
        "# Train\n",
        "def encodeBoolean(feature):\n",
        "  for i in range(len(ds[feature])):\n",
        "    if ds[feature][i] == True:\n",
        "      ds[feature][i] = 1\n",
        "    else:\n",
        "      ds[feature][i] = 0\n",
        "  return ds[feature]\n",
        "\n",
        "bool_list = [\"CryoSleep\", \"VIP\", \"Transported\", \"Cabin1\", \"Cabin2\", \"Cabin3\", \"Cabin4\", \"Cabin5\", \"Cabin6\", \"Cabin7\"]\n",
        "for i in bool_list:\n",
        "  ds[i] = encodeBoolean(i)  "
      ],
      "metadata": {
        "colab": {
          "base_uri": "https://localhost:8080/"
        },
        "id": "a3vW1d7V4Xfj",
        "outputId": "4f960c2c-8c41-40e8-89af-9625a34ab58f"
      },
      "execution_count": 25,
      "outputs": [
        {
          "output_type": "stream",
          "name": "stderr",
          "text": [
            "/usr/local/lib/python3.7/dist-packages/ipykernel_launcher.py:7: SettingWithCopyWarning: \n",
            "A value is trying to be set on a copy of a slice from a DataFrame\n",
            "\n",
            "See the caveats in the documentation: https://pandas.pydata.org/pandas-docs/stable/user_guide/indexing.html#returning-a-view-versus-a-copy\n",
            "  import sys\n",
            "/usr/local/lib/python3.7/dist-packages/pandas/core/indexing.py:1732: SettingWithCopyWarning: \n",
            "A value is trying to be set on a copy of a slice from a DataFrame\n",
            "\n",
            "See the caveats in the documentation: https://pandas.pydata.org/pandas-docs/stable/user_guide/indexing.html#returning-a-view-versus-a-copy\n",
            "  self._setitem_single_block(indexer, value, name)\n",
            "/usr/local/lib/python3.7/dist-packages/ipykernel_launcher.py:5: SettingWithCopyWarning: \n",
            "A value is trying to be set on a copy of a slice from a DataFrame\n",
            "\n",
            "See the caveats in the documentation: https://pandas.pydata.org/pandas-docs/stable/user_guide/indexing.html#returning-a-view-versus-a-copy\n",
            "  \"\"\"\n"
          ]
        }
      ]
    },
    {
      "cell_type": "code",
      "source": [
        "# Test\n",
        "def encodeBoolean(feature):\n",
        "  for i in range(len(test[feature])):\n",
        "    if test[feature][i] == True:\n",
        "      test[feature][i] = 1\n",
        "    else:\n",
        "      test[feature][i] = 0\n",
        "  return test[feature]\n",
        "\n",
        "bool_list = [\"CryoSleep\", \"VIP\", \"Cabin1\", \"Cabin2\", \"Cabin3\", \"Cabin4\", \"Cabin5\", \"Cabin6\", \"Cabin7\"]\n",
        "for i in bool_list:\n",
        "  test[i] = encodeBoolean(i)"
      ],
      "metadata": {
        "colab": {
          "base_uri": "https://localhost:8080/"
        },
        "id": "GM_tRchnS-Vv",
        "outputId": "9ebd7dc8-2649-45c0-c45f-83f898cdee72"
      },
      "execution_count": 26,
      "outputs": [
        {
          "output_type": "stream",
          "name": "stderr",
          "text": [
            "/usr/local/lib/python3.7/dist-packages/ipykernel_launcher.py:5: SettingWithCopyWarning: \n",
            "A value is trying to be set on a copy of a slice from a DataFrame\n",
            "\n",
            "See the caveats in the documentation: https://pandas.pydata.org/pandas-docs/stable/user_guide/indexing.html#returning-a-view-versus-a-copy\n",
            "  \"\"\"\n",
            "/usr/local/lib/python3.7/dist-packages/pandas/core/indexing.py:1732: SettingWithCopyWarning: \n",
            "A value is trying to be set on a copy of a slice from a DataFrame\n",
            "\n",
            "See the caveats in the documentation: https://pandas.pydata.org/pandas-docs/stable/user_guide/indexing.html#returning-a-view-versus-a-copy\n",
            "  self._setitem_single_block(indexer, value, name)\n",
            "/usr/local/lib/python3.7/dist-packages/ipykernel_launcher.py:7: SettingWithCopyWarning: \n",
            "A value is trying to be set on a copy of a slice from a DataFrame\n",
            "\n",
            "See the caveats in the documentation: https://pandas.pydata.org/pandas-docs/stable/user_guide/indexing.html#returning-a-view-versus-a-copy\n",
            "  import sys\n"
          ]
        }
      ]
    },
    {
      "cell_type": "markdown",
      "source": [
        "**Drop unwanted columns**"
      ],
      "metadata": {
        "id": "ExkUu9vDw0hS"
      }
    },
    {
      "cell_type": "code",
      "source": [
        "ds = ds.drop(columns=['PassengerId', 'Id', 'HomePlanet','Cabin', 'Destination','Group','Deck', 'Num', 'Side', 'Name'])"
      ],
      "metadata": {
        "id": "WvEse62Nwl9I"
      },
      "execution_count": 27,
      "outputs": []
    },
    {
      "cell_type": "code",
      "source": [
        "test = test.drop(columns=['PassengerId', 'Id', 'HomePlanet','Cabin', 'Destination','Group','Deck', 'Num', 'Side', 'Name'])"
      ],
      "metadata": {
        "id": "c33hDziThG2E"
      },
      "execution_count": 28,
      "outputs": []
    },
    {
      "cell_type": "markdown",
      "source": [
        "**Categorical Data**"
      ],
      "metadata": {
        "id": "e4xwN_HFTz-F"
      }
    },
    {
      "cell_type": "code",
      "source": [
        "import matplotlib.pyplot as plt\n",
        "import seaborn as sns"
      ],
      "metadata": {
        "id": "kR6H4DOR2m48"
      },
      "execution_count": 29,
      "outputs": []
    },
    {
      "cell_type": "code",
      "source": [
        "def categorical_eda(feature):\n",
        "  plt.figure(figsize=(10, 5))\n",
        "  sns.countplot(ds[feature], order=ds[feature].value_counts(ascending=False).index)\n",
        "  train.groupby(ds[feature])[\"Transported\"].value_counts().unstack(0).plot(kind=\"bar\", \n",
        "                                                                                 figsize=(10, 5),\n",
        "                                                                                 xlabel=\"Transported\",\n",
        "                                                                                 ylabel=\"Count\")"
      ],
      "metadata": {
        "id": "R52SIOfoT11o"
      },
      "execution_count": 30,
      "outputs": []
    },
    {
      "cell_type": "markdown",
      "source": [
        "**HomePlanet**"
      ],
      "metadata": {
        "id": "-CvuwlXsnIkZ"
      }
    },
    {
      "cell_type": "code",
      "source": [
        "categorical_eda(\"HomePlanet_Mars\")"
      ],
      "metadata": {
        "colab": {
          "base_uri": "https://localhost:8080/",
          "height": 724
        },
        "id": "EsS5PGFaUGfN",
        "outputId": "9a09daa0-319a-4d27-c0e1-a889be9b8ad1"
      },
      "execution_count": 31,
      "outputs": [
        {
          "output_type": "stream",
          "name": "stderr",
          "text": [
            "/usr/local/lib/python3.7/dist-packages/seaborn/_decorators.py:43: FutureWarning: Pass the following variable as a keyword arg: x. From version 0.12, the only valid positional argument will be `data`, and passing other arguments without an explicit keyword will result in an error or misinterpretation.\n",
            "  FutureWarning\n"
          ]
        },
        {
          "output_type": "display_data",
          "data": {
            "text/plain": [
              "<Figure size 720x360 with 1 Axes>"
            ],
            "image/png": "[encoded data removed]"
          },
          "metadata": {
            "needs_background": "light"
          }
        },
        {
          "output_type": "display_data",
          "data": {
            "text/plain": [
              "<Figure size 720x360 with 1 Axes>"
            ],
            "image/png": "[encoded data removed]"
          },
          "metadata": {
            "needs_background": "light"
          }
        }
      ]
    },
    {
      "cell_type": "markdown",
      "source": [
        "**CryoSleep**"
      ],
      "metadata": {
        "id": "shf2nYzQQQQL"
      }
    },
    {
      "cell_type": "code",
      "source": [
        "categorical_eda(\"HomePlanet_Europa\")"
      ],
      "metadata": {
        "colab": {
          "base_uri": "https://localhost:8080/",
          "height": 724
        },
        "id": "svuvTs4SQUNc",
        "outputId": "6bad659e-0954-408f-d770-c17377ee3f88"
      },
      "execution_count": 32,
      "outputs": [
        {
          "output_type": "stream",
          "name": "stderr",
          "text": [
            "/usr/local/lib/python3.7/dist-packages/seaborn/_decorators.py:43: FutureWarning: Pass the following variable as a keyword arg: x. From version 0.12, the only valid positional argument will be `data`, and passing other arguments without an explicit keyword will result in an error or misinterpretation.\n",
            "  FutureWarning\n"
          ]
        },
        {
          "output_type": "display_data",
          "data": {
            "text/plain": [
              "<Figure size 720x360 with 1 Axes>"
            ],
            "image/png": "[encoded data removed]"
          },
          "metadata": {
            "needs_background": "light"
          }
        },
        {
          "output_type": "display_data",
          "data": {
            "text/plain": [
              "<Figure size 720x360 with 1 Axes>"
            ],
            "image/png": "[encoded data removed]"
          },
          "metadata": {
            "needs_background": "light"
          }
        }
      ]
    },
    {
      "cell_type": "code",
      "source": [
        "categorical_eda(\"CryoSleep\")"
      ],
      "metadata": {
        "colab": {
          "base_uri": "https://localhost:8080/",
          "height": 723
        },
        "outputId": "c8bd7008-7656-4dd2-b3b7-5571537165cc",
        "id": "50UAsZqZCsXK"
      },
      "execution_count": 33,
      "outputs": [
        {
          "output_type": "stream",
          "name": "stderr",
          "text": [
            "/usr/local/lib/python3.7/dist-packages/seaborn/_decorators.py:43: FutureWarning: Pass the following variable as a keyword arg: x. From version 0.12, the only valid positional argument will be `data`, and passing other arguments without an explicit keyword will result in an error or misinterpretation.\n",
            "  FutureWarning\n"
          ]
        },
        {
          "output_type": "display_data",
          "data": {
            "text/plain": [
              "<Figure size 720x360 with 1 Axes>"
            ],
            "image/png": "[encoded data removed]"
          },
          "metadata": {
            "needs_background": "light"
          }
        },
        {
          "output_type": "display_data",
          "data": {
            "text/plain": [
              "<Figure size 720x360 with 1 Axes>"
            ],
            "image/png": "[encoded data removed]"
          },
          "metadata": {
            "needs_background": "light"
          }
        }
      ]
    },
    {
      "cell_type": "code",
      "source": [
        "categorical_eda(\"VIP\")"
      ],
      "metadata": {
        "colab": {
          "base_uri": "https://localhost:8080/",
          "height": 723
        },
        "id": "ccpvormUUeU0",
        "outputId": "de07170b-f336-45d7-cb63-8fe69b5d30c0"
      },
      "execution_count": 34,
      "outputs": [
        {
          "output_type": "stream",
          "name": "stderr",
          "text": [
            "/usr/local/lib/python3.7/dist-packages/seaborn/_decorators.py:43: FutureWarning: Pass the following variable as a keyword arg: x. From version 0.12, the only valid positional argument will be `data`, and passing other arguments without an explicit keyword will result in an error or misinterpretation.\n",
            "  FutureWarning\n"
          ]
        },
        {
          "output_type": "display_data",
          "data": {
            "text/plain": [
              "<Figure size 720x360 with 1 Axes>"
            ],
            "image/png": "[encoded data removed]"
          },
          "metadata": {
            "needs_background": "light"
          }
        },
        {
          "output_type": "display_data",
          "data": {
            "text/plain": [
              "<Figure size 720x360 with 1 Axes>"
            ],
            "image/png": "[encoded data removed]"
          },
          "metadata": {
            "needs_background": "light"
          }
        }
      ]
    },
    {
      "cell_type": "markdown",
      "source": [
        "**Age**"
      ],
      "metadata": {
        "id": "ONG8Nbo9yeXU"
      }
    },
    {
      "cell_type": "code",
      "source": [
        "plt.figure(figsize=(10, 5))\n",
        "sns.distplot(ds[\"Age\"])"
      ],
      "metadata": {
        "colab": {
          "base_uri": "https://localhost:8080/",
          "height": 409
        },
        "id": "AKY7zbzDEwLV",
        "outputId": "7b875a7b-cd9f-4a19-f4c5-fc64ac627f94"
      },
      "execution_count": 35,
      "outputs": [
        {
          "output_type": "stream",
          "name": "stderr",
          "text": [
            "/usr/local/lib/python3.7/dist-packages/seaborn/distributions.py:2619: FutureWarning: `distplot` is a deprecated function and will be removed in a future version. Please adapt your code to use either `displot` (a figure-level function with similar flexibility) or `histplot` (an axes-level function for histograms).\n",
            "  warnings.warn(msg, FutureWarning)\n"
          ]
        },
        {
          "output_type": "execute_result",
          "data": {
            "text/plain": [
              "<matplotlib.axes._subplots.AxesSubplot at 0x7f664b6f40d0>"
            ]
          },
          "metadata": {},
          "execution_count": 35
        },
        {
          "output_type": "display_data",
          "data": {
            "text/plain": [
              "<Figure size 720x360 with 1 Axes>"
            ],
            "image/png": "[encoded data removed]"
          },
          "metadata": {
            "needs_background": "light"
          }
        }
      ]
    },
    {
      "cell_type": "code",
      "source": [
        "plt.figure(figsize=(10, 5))\n",
        "sns.boxplot(x='Age', data=ds)\n"
      ],
      "metadata": {
        "colab": {
          "base_uri": "https://localhost:8080/",
          "height": 352
        },
        "id": "kQTwe7NkykZg",
        "outputId": "0ee1b3c3-67f7-4965-dacb-96a175eb699a"
      },
      "execution_count": 36,
      "outputs": [
        {
          "output_type": "execute_result",
          "data": {
            "text/plain": [
              "<matplotlib.axes._subplots.AxesSubplot at 0x7f664b6f4490>"
            ]
          },
          "metadata": {},
          "execution_count": 36
        },
        {
          "output_type": "display_data",
          "data": {
            "text/plain": [
              "<Figure size 720x360 with 1 Axes>"
            ],
            "image/png": "[encoded data removed]"
          },
          "metadata": {
            "needs_background": "light"
          }
        }
      ]
    },
    {
      "cell_type": "code",
      "source": [
        "plt.figure(figsize=(10, 5))\n",
        "sns.histplot(data=ds, x=\"Age\")"
      ],
      "metadata": {
        "colab": {
          "base_uri": "https://localhost:8080/",
          "height": 352
        },
        "id": "fl8oFaj0yzSq",
        "outputId": "507cacf4-be1e-4a09-8397-e7bf1937d5f8"
      },
      "execution_count": 37,
      "outputs": [
        {
          "output_type": "execute_result",
          "data": {
            "text/plain": [
              "<matplotlib.axes._subplots.AxesSubplot at 0x7f6649401890>"
            ]
          },
          "metadata": {},
          "execution_count": 37
        },
        {
          "output_type": "display_data",
          "data": {
            "text/plain": [
              "<Figure size 720x360 with 1 Axes>"
            ],
            "image/png": "[encoded data removed]"
          },
          "metadata": {
            "needs_background": "light"
          }
        }
      ]
    },
    {
      "cell_type": "markdown",
      "source": [
        "**Correlation Matrix**"
      ],
      "metadata": {
        "id": "sjwyD_0O0or4"
      }
    },
    {
      "cell_type": "code",
      "source": [
        "plt.figure(figsize=(10, 5))\n",
        "sns.heatmap(ds.corr())"
      ],
      "metadata": {
        "colab": {
          "base_uri": "https://localhost:8080/",
          "height": 465
        },
        "id": "kWGL61U50tC5",
        "outputId": "d878701a-4438-445d-f97a-b1c7bb2230f7"
      },
      "execution_count": 38,
      "outputs": [
        {
          "output_type": "execute_result",
          "data": {
            "text/plain": [
              "<matplotlib.axes._subplots.AxesSubplot at 0x7f66493d3e50>"
            ]
          },
          "metadata": {},
          "execution_count": 38
        },
        {
          "output_type": "display_data",
          "data": {
            "text/plain": [
              "<Figure size 720x360 with 2 Axes>"
            ],
            "image/png": "[encoded data removed]"
          },
          "metadata": {
            "needs_background": "light"
          }
        }
      ]
    },
    {
      "cell_type": "markdown",
      "source": [
        "**Feature and Target Split**"
      ],
      "metadata": {
        "id": "y9GGQzHiDZa9"
      }
    },
    {
      "cell_type": "code",
      "source": [
        "Y = ds[\"Transported\"].astype(\"int\")\n",
        "X = ds.drop([\"Transported\"], axis=1)"
      ],
      "metadata": {
        "id": "PrHpXAsbI0lu"
      },
      "execution_count": 39,
      "outputs": []
    },
    {
      "cell_type": "markdown",
      "source": [
        "**Scale**"
      ],
      "metadata": {
        "id": "E3kqbnKY985z"
      }
    },
    {
      "cell_type": "code",
      "source": [
        "# Train\n",
        "cols = X.columns\n",
        "\n",
        "from sklearn.preprocessing import MinMaxScaler\n",
        "mms = MinMaxScaler()\n",
        "ds_scaled = mms.fit_transform(X)\n",
        "ds_scaled = pd.DataFrame(ds_scaled, columns=cols)\n",
        "ds_scaled.head()\n",
        "X = ds_scaled\n",
        "X.head()"
      ],
      "metadata": {
        "id": "8uApaq0k8fki",
        "colab": {
          "base_uri": "https://localhost:8080/",
          "height": 235
        },
        "outputId": "a32179a6-eb28-4cea-87be-a718652792f3"
      },
      "execution_count": 40,
      "outputs": [
        {
          "output_type": "execute_result",
          "data": {
            "text/plain": [
              "   CryoSleep       Age  VIP  RoomService  FoodCourt  ShoppingMall       Spa  \\\n",
              "0        0.0  0.493671  0.0     0.000000   0.000000      0.000000  0.000000   \n",
              "1        0.0  0.303797  0.0     0.007608   0.000302      0.001064  0.024500   \n",
              "2        0.0  0.734177  1.0     0.003001   0.119948      0.000000  0.299670   \n",
              "3        0.0  0.417722  0.0     0.000000   0.043035      0.015793  0.148563   \n",
              "4        0.0  0.202532  0.0     0.021149   0.002348      0.006428  0.025214   \n",
              "\n",
              "     VRDeck  group_size  Cabin1  ...  Deck_A  Deck_B  Deck_C  Deck_D  Deck_E  \\\n",
              "0  0.000000    0.000000     1.0  ...     0.0     1.0     0.0     0.0     0.0   \n",
              "1  0.001823    0.000000     1.0  ...     0.0     0.0     0.0     0.0     0.0   \n",
              "2  0.002030    0.142857     1.0  ...     1.0     0.0     0.0     0.0     0.0   \n",
              "3  0.007997    0.142857     1.0  ...     1.0     0.0     0.0     0.0     0.0   \n",
              "4  0.000083    0.000000     1.0  ...     0.0     0.0     0.0     0.0     0.0   \n",
              "\n",
              "   Deck_F  Deck_G  Deck_T  Side_P  Side_S  \n",
              "0     0.0     0.0     0.0     1.0     0.0  \n",
              "1     1.0     0.0     0.0     0.0     1.0  \n",
              "2     0.0     0.0     0.0     0.0     1.0  \n",
              "3     0.0     0.0     0.0     0.0     1.0  \n",
              "4     1.0     0.0     0.0     0.0     1.0  \n",
              "\n",
              "[5 rows x 32 columns]"
            ],
            "text/html": [
              "\n",
              "  <div id=\"df-9b8e3844-591e-4088-90a2-78689316f677\">\n",
              "    <div class=\"colab-df-container\">\n",
              "      <div>\n",
              "<style scoped>\n",
              "    .dataframe tbody tr th:only-of-type {\n",
              "        vertical-align: middle;\n",
              "    }\n",
              "\n",
              "    .dataframe tbody tr th {\n",
              "        vertical-align: top;\n",
              "    }\n",
              "\n",
              "    .dataframe thead th {\n",
              "        text-align: right;\n",
              "    }\n",
              "</style>\n",
              "<table border=\"1\" class=\"dataframe\">\n",
              "  <thead>\n",
              "    <tr style=\"text-align: right;\">\n",
              "      <th></th>\n",
              "      <th>CryoSleep</th>\n",
              "      <th>Age</th>\n",
              "      <th>VIP</th>\n",
              "      <th>RoomService</th>\n",
              "      <th>FoodCourt</th>\n",
              "      <th>ShoppingMall</th>\n",
              "      <th>Spa</th>\n",
              "      <th>VRDeck</th>\n",
              "      <th>group_size</th>\n",
              "      <th>Cabin1</th>\n",
              "      <th>...</th>\n",
              "      <th>Deck_A</th>\n",
              "      <th>Deck_B</th>\n",
              "      <th>Deck_C</th>\n",
              "      <th>Deck_D</th>\n",
              "      <th>Deck_E</th>\n",
              "      <th>Deck_F</th>\n",
              "      <th>Deck_G</th>\n",
              "      <th>Deck_T</th>\n",
              "      <th>Side_P</th>\n",
              "      <th>Side_S</th>\n",
              "    </tr>\n",
              "  </thead>\n",
              "  <tbody>\n",
              "    <tr>\n",
              "      <th>0</th>\n",
              "      <td>0.0</td>\n",
              "      <td>0.493671</td>\n",
              "      <td>0.0</td>\n",
              "      <td>0.000000</td>\n",
              "      <td>0.000000</td>\n",
              "      <td>0.000000</td>\n",
              "      <td>0.000000</td>\n",
              "      <td>0.000000</td>\n",
              "      <td>0.000000</td>\n",
              "      <td>1.0</td>\n",
              "      <td>...</td>\n",
              "      <td>0.0</td>\n",
              "      <td>1.0</td>\n",
              "      <td>0.0</td>\n",
              "      <td>0.0</td>\n",
              "      <td>0.0</td>\n",
              "      <td>0.0</td>\n",
              "      <td>0.0</td>\n",
              "      <td>0.0</td>\n",
              "      <td>1.0</td>\n",
              "      <td>0.0</td>\n",
              "    </tr>\n",
              "    <tr>\n",
              "      <th>1</th>\n",
              "      <td>0.0</td>\n",
              "      <td>0.303797</td>\n",
              "      <td>0.0</td>\n",
              "      <td>0.007608</td>\n",
              "      <td>0.000302</td>\n",
              "      <td>0.001064</td>\n",
              "      <td>0.024500</td>\n",
              "      <td>0.001823</td>\n",
              "      <td>0.000000</td>\n",
              "      <td>1.0</td>\n",
              "      <td>...</td>\n",
              "      <td>0.0</td>\n",
              "      <td>0.0</td>\n",
              "      <td>0.0</td>\n",
              "      <td>0.0</td>\n",
              "      <td>0.0</td>\n",
              "      <td>1.0</td>\n",
              "      <td>0.0</td>\n",
              "      <td>0.0</td>\n",
              "      <td>0.0</td>\n",
              "      <td>1.0</td>\n",
              "    </tr>\n",
              "    <tr>\n",
              "      <th>2</th>\n",
              "      <td>0.0</td>\n",
              "      <td>0.734177</td>\n",
              "      <td>1.0</td>\n",
              "      <td>0.003001</td>\n",
              "      <td>0.119948</td>\n",
              "      <td>0.000000</td>\n",
              "      <td>0.299670</td>\n",
              "      <td>0.002030</td>\n",
              "      <td>0.142857</td>\n",
              "      <td>1.0</td>\n",
              "      <td>...</td>\n",
              "      <td>1.0</td>\n",
              "      <td>0.0</td>\n",
              "      <td>0.0</td>\n",
              "      <td>0.0</td>\n",
              "      <td>0.0</td>\n",
              "      <td>0.0</td>\n",
              "      <td>0.0</td>\n",
              "      <td>0.0</td>\n",
              "      <td>0.0</td>\n",
              "      <td>1.0</td>\n",
              "    </tr>\n",
              "    <tr>\n",
              "      <th>3</th>\n",
              "      <td>0.0</td>\n",
              "      <td>0.417722</td>\n",
              "      <td>0.0</td>\n",
              "      <td>0.000000</td>\n",
              "      <td>0.043035</td>\n",
              "      <td>0.015793</td>\n",
              "      <td>0.148563</td>\n",
              "      <td>0.007997</td>\n",
              "      <td>0.142857</td>\n",
              "      <td>1.0</td>\n",
              "      <td>...</td>\n",
              "      <td>1.0</td>\n",
              "      <td>0.0</td>\n",
              "      <td>0.0</td>\n",
              "      <td>0.0</td>\n",
              "      <td>0.0</td>\n",
              "      <td>0.0</td>\n",
              "      <td>0.0</td>\n",
              "      <td>0.0</td>\n",
              "      <td>0.0</td>\n",
              "      <td>1.0</td>\n",
              "    </tr>\n",
              "    <tr>\n",
              "      <th>4</th>\n",
              "      <td>0.0</td>\n",
              "      <td>0.202532</td>\n",
              "      <td>0.0</td>\n",
              "      <td>0.021149</td>\n",
              "      <td>0.002348</td>\n",
              "      <td>0.006428</td>\n",
              "      <td>0.025214</td>\n",
              "      <td>0.000083</td>\n",
              "      <td>0.000000</td>\n",
              "      <td>1.0</td>\n",
              "      <td>...</td>\n",
              "      <td>0.0</td>\n",
              "      <td>0.0</td>\n",
              "      <td>0.0</td>\n",
              "      <td>0.0</td>\n",
              "      <td>0.0</td>\n",
              "      <td>1.0</td>\n",
              "      <td>0.0</td>\n",
              "      <td>0.0</td>\n",
              "      <td>0.0</td>\n",
              "      <td>1.0</td>\n",
              "    </tr>\n",
              "  </tbody>\n",
              "</table>\n",
              "<p>5 rows × 32 columns</p>\n",
              "</div>\n",
              "      <button class=\"colab-df-convert\" onclick=\"convertToInteractive('df-9b8e3844-591e-4088-90a2-78689316f677')\"\n",
              "              title=\"Convert this dataframe to an interactive table.\"\n",
              "              style=\"display:none;\">\n",
              "        \n",
              "  <svg xmlns=\"http://www.w3.org/2000/svg\" height=\"24px\"viewBox=\"0 0 24 24\"\n",
              "       width=\"24px\">\n",
              "    <path d=\"M0 0h24v24H0V0z\" fill=\"none\"/>\n",
              "    <path d=\"M18.56 5.44l.94 2.06.94-2.06 2.06-.94-2.06-.94-.94-2.06-.94 2.06-2.06.94zm-11 1L8.5 8.5l.94-2.06 2.06-.94-2.06-.94L8.5 2.5l-.94 2.06-2.06.94zm10 10l.94 2.06.94-2.06 2.06-.94-2.06-.94-.94-2.06-.94 2.06-2.06.94z\"/><path d=\"M17.41 7.96l-1.37-1.37c-.4-.4-.92-.59-1.43-.59-.52 0-1.04.2-1.43.59L10.3 9.45l-7.72 7.72c-.78.78-.78 2.05 0 2.83L4 21.41c.39.39.9.59 1.41.59.51 0 1.02-.2 1.41-.59l7.78-7.78 2.81-2.81c.8-.78.8-2.07 0-2.86zM5.41 20L4 18.59l7.72-7.72 1.47 1.35L5.41 20z\"/>\n",
              "  </svg>\n",
              "      </button>\n",
              "      \n",
              "  <style>\n",
              "    .colab-df-container {\n",
              "      display:flex;\n",
              "      flex-wrap:wrap;\n",
              "      gap: 12px;\n",
              "    }\n",
              "\n",
              "    .colab-df-convert {\n",
              "      background-color: #E8F0FE;\n",
              "      border: none;\n",
              "      border-radius: 50%;\n",
              "      cursor: pointer;\n",
              "      display: none;\n",
              "      fill: #1967D2;\n",
              "      height: 32px;\n",
              "      padding: 0 0 0 0;\n",
              "      width: 32px;\n",
              "    }\n",
              "\n",
              "    .colab-df-convert:hover {\n",
              "      background-color: #E2EBFA;\n",
              "      box-shadow: 0px 1px 2px rgba(60, 64, 67, 0.3), 0px 1px 3px 1px rgba(60, 64, 67, 0.15);\n",
              "      fill: #174EA6;\n",
              "    }\n",
              "\n",
              "    [theme=dark] .colab-df-convert {\n",
              "      background-color: #3B4455;\n",
              "      fill: #D2E3FC;\n",
              "    }\n",
              "\n",
              "    [theme=dark] .colab-df-convert:hover {\n",
              "      background-color: #434B5C;\n",
              "      box-shadow: 0px 1px 3px 1px rgba(0, 0, 0, 0.15);\n",
              "      filter: drop-shadow(0px 1px 2px rgba(0, 0, 0, 0.3));\n",
              "      fill: #FFFFFF;\n",
              "    }\n",
              "  </style>\n",
              "\n",
              "      <script>\n",
              "        const buttonEl =\n",
              "          document.querySelector('#df-9b8e3844-591e-4088-90a2-78689316f677 button.colab-df-convert');\n",
              "        buttonEl.style.display =\n",
              "          google.colab.kernel.accessAllowed ? 'block' : 'none';\n",
              "\n",
              "        async function convertToInteractive(key) {\n",
              "          const element = document.querySelector('#df-9b8e3844-591e-4088-90a2-78689316f677');\n",
              "          const dataTable =\n",
              "            await google.colab.kernel.invokeFunction('convertToInteractive',\n",
              "                                                     [key], {});\n",
              "          if (!dataTable) return;\n",
              "\n",
              "          const docLinkHtml = 'Like what you see? Visit the ' +\n",
              "            '<a target=\"_blank\" href=https://colab.research.google.com/notebooks/data_table.ipynb>data table notebook</a>'\n",
              "            + ' to learn more about interactive tables.';\n",
              "          element.innerHTML = '';\n",
              "          dataTable['output_type'] = 'display_data';\n",
              "          await google.colab.output.renderOutput(dataTable, element);\n",
              "          const docLink = document.createElement('div');\n",
              "          docLink.innerHTML = docLinkHtml;\n",
              "          element.appendChild(docLink);\n",
              "        }\n",
              "      </script>\n",
              "    </div>\n",
              "  </div>\n",
              "  "
            ]
          },
          "metadata": {},
          "execution_count": 40
        }
      ]
    },
    {
      "cell_type": "code",
      "source": [
        "# Test\n",
        "cols = test.columns\n",
        "\n",
        "from sklearn.preprocessing import MinMaxScaler\n",
        "mms = MinMaxScaler()\n",
        "test_scaled = mms.fit_transform(test)\n",
        "test_scaled = pd.DataFrame(test_scaled, columns=cols)\n",
        "test_scaled.head()\n",
        "test = test_scaled\n",
        "test.head()"
      ],
      "metadata": {
        "colab": {
          "base_uri": "https://localhost:8080/",
          "height": 235
        },
        "id": "C6SiIrmrTdwU",
        "outputId": "ef3c8734-e210-46d5-d8a8-0212de962e04"
      },
      "execution_count": 41,
      "outputs": [
        {
          "output_type": "execute_result",
          "data": {
            "text/plain": [
              "   CryoSleep       Age  VIP  RoomService  FoodCourt  ShoppingMall       Spa  \\\n",
              "0        1.0  0.341772  0.0     0.000000   0.000000       0.00000  0.000000   \n",
              "1        0.0  0.240506  0.0     0.000000   0.000356       0.00000  0.142260   \n",
              "2        1.0  0.392405  0.0     0.000000   0.000000       0.00000  0.000000   \n",
              "3        0.0  0.481013  0.0     0.000000   0.263206       0.00000  0.009121   \n",
              "4        0.0  0.253165  0.0     0.000865   0.000000       0.07658  0.000000   \n",
              "\n",
              "     VRDeck  group_size  Cabin1  ...  Deck_A  Deck_B  Deck_C  Deck_D  Deck_E  \\\n",
              "0  0.000000         0.0     1.0  ...     0.0     0.0     0.0     0.0     0.0   \n",
              "1  0.000000         0.0     1.0  ...     0.0     0.0     0.0     0.0     0.0   \n",
              "2  0.000000         0.0     1.0  ...     0.0     0.0     1.0     0.0     0.0   \n",
              "3  0.026266         0.0     1.0  ...     0.0     0.0     1.0     0.0     0.0   \n",
              "4  0.000000         0.0     1.0  ...     0.0     0.0     0.0     0.0     0.0   \n",
              "\n",
              "   Deck_F  Deck_G  Deck_T  Side_P  Side_S  \n",
              "0     0.0     1.0     0.0     0.0     1.0  \n",
              "1     1.0     0.0     0.0     0.0     1.0  \n",
              "2     0.0     0.0     0.0     0.0     1.0  \n",
              "3     0.0     0.0     0.0     0.0     1.0  \n",
              "4     1.0     0.0     0.0     0.0     1.0  \n",
              "\n",
              "[5 rows x 32 columns]"
            ],
            "text/html": [
              "\n",
              "  <div id=\"df-f710b554-dc01-4e50-aea5-08d2bef17cbc\">\n",
              "    <div class=\"colab-df-container\">\n",
              "      <div>\n",
              "<style scoped>\n",
              "    .dataframe tbody tr th:only-of-type {\n",
              "        vertical-align: middle;\n",
              "    }\n",
              "\n",
              "    .dataframe tbody tr th {\n",
              "        vertical-align: top;\n",
              "    }\n",
              "\n",
              "    .dataframe thead th {\n",
              "        text-align: right;\n",
              "    }\n",
              "</style>\n",
              "<table border=\"1\" class=\"dataframe\">\n",
              "  <thead>\n",
              "    <tr style=\"text-align: right;\">\n",
              "      <th></th>\n",
              "      <th>CryoSleep</th>\n",
              "      <th>Age</th>\n",
              "      <th>VIP</th>\n",
              "      <th>RoomService</th>\n",
              "      <th>FoodCourt</th>\n",
              "      <th>ShoppingMall</th>\n",
              "      <th>Spa</th>\n",
              "      <th>VRDeck</th>\n",
              "      <th>group_size</th>\n",
              "      <th>Cabin1</th>\n",
              "      <th>...</th>\n",
              "      <th>Deck_A</th>\n",
              "      <th>Deck_B</th>\n",
              "      <th>Deck_C</th>\n",
              "      <th>Deck_D</th>\n",
              "      <th>Deck_E</th>\n",
              "      <th>Deck_F</th>\n",
              "      <th>Deck_G</th>\n",
              "      <th>Deck_T</th>\n",
              "      <th>Side_P</th>\n",
              "      <th>Side_S</th>\n",
              "    </tr>\n",
              "  </thead>\n",
              "  <tbody>\n",
              "    <tr>\n",
              "      <th>0</th>\n",
              "      <td>1.0</td>\n",
              "      <td>0.341772</td>\n",
              "      <td>0.0</td>\n",
              "      <td>0.000000</td>\n",
              "      <td>0.000000</td>\n",
              "      <td>0.00000</td>\n",
              "      <td>0.000000</td>\n",
              "      <td>0.000000</td>\n",
              "      <td>0.0</td>\n",
              "      <td>1.0</td>\n",
              "      <td>...</td>\n",
              "      <td>0.0</td>\n",
              "      <td>0.0</td>\n",
              "      <td>0.0</td>\n",
              "      <td>0.0</td>\n",
              "      <td>0.0</td>\n",
              "      <td>0.0</td>\n",
              "      <td>1.0</td>\n",
              "      <td>0.0</td>\n",
              "      <td>0.0</td>\n",
              "      <td>1.0</td>\n",
              "    </tr>\n",
              "    <tr>\n",
              "      <th>1</th>\n",
              "      <td>0.0</td>\n",
              "      <td>0.240506</td>\n",
              "      <td>0.0</td>\n",
              "      <td>0.000000</td>\n",
              "      <td>0.000356</td>\n",
              "      <td>0.00000</td>\n",
              "      <td>0.142260</td>\n",
              "      <td>0.000000</td>\n",
              "      <td>0.0</td>\n",
              "      <td>1.0</td>\n",
              "      <td>...</td>\n",
              "      <td>0.0</td>\n",
              "      <td>0.0</td>\n",
              "      <td>0.0</td>\n",
              "      <td>0.0</td>\n",
              "      <td>0.0</td>\n",
              "      <td>1.0</td>\n",
              "      <td>0.0</td>\n",
              "      <td>0.0</td>\n",
              "      <td>0.0</td>\n",
              "      <td>1.0</td>\n",
              "    </tr>\n",
              "    <tr>\n",
              "      <th>2</th>\n",
              "      <td>1.0</td>\n",
              "      <td>0.392405</td>\n",
              "      <td>0.0</td>\n",
              "      <td>0.000000</td>\n",
              "      <td>0.000000</td>\n",
              "      <td>0.00000</td>\n",
              "      <td>0.000000</td>\n",
              "      <td>0.000000</td>\n",
              "      <td>0.0</td>\n",
              "      <td>1.0</td>\n",
              "      <td>...</td>\n",
              "      <td>0.0</td>\n",
              "      <td>0.0</td>\n",
              "      <td>1.0</td>\n",
              "      <td>0.0</td>\n",
              "      <td>0.0</td>\n",
              "      <td>0.0</td>\n",
              "      <td>0.0</td>\n",
              "      <td>0.0</td>\n",
              "      <td>0.0</td>\n",
              "      <td>1.0</td>\n",
              "    </tr>\n",
              "    <tr>\n",
              "      <th>3</th>\n",
              "      <td>0.0</td>\n",
              "      <td>0.481013</td>\n",
              "      <td>0.0</td>\n",
              "      <td>0.000000</td>\n",
              "      <td>0.263206</td>\n",
              "      <td>0.00000</td>\n",
              "      <td>0.009121</td>\n",
              "      <td>0.026266</td>\n",
              "      <td>0.0</td>\n",
              "      <td>1.0</td>\n",
              "      <td>...</td>\n",
              "      <td>0.0</td>\n",
              "      <td>0.0</td>\n",
              "      <td>1.0</td>\n",
              "      <td>0.0</td>\n",
              "      <td>0.0</td>\n",
              "      <td>0.0</td>\n",
              "      <td>0.0</td>\n",
              "      <td>0.0</td>\n",
              "      <td>0.0</td>\n",
              "      <td>1.0</td>\n",
              "    </tr>\n",
              "    <tr>\n",
              "      <th>4</th>\n",
              "      <td>0.0</td>\n",
              "      <td>0.253165</td>\n",
              "      <td>0.0</td>\n",
              "      <td>0.000865</td>\n",
              "      <td>0.000000</td>\n",
              "      <td>0.07658</td>\n",
              "      <td>0.000000</td>\n",
              "      <td>0.000000</td>\n",
              "      <td>0.0</td>\n",
              "      <td>1.0</td>\n",
              "      <td>...</td>\n",
              "      <td>0.0</td>\n",
              "      <td>0.0</td>\n",
              "      <td>0.0</td>\n",
              "      <td>0.0</td>\n",
              "      <td>0.0</td>\n",
              "      <td>1.0</td>\n",
              "      <td>0.0</td>\n",
              "      <td>0.0</td>\n",
              "      <td>0.0</td>\n",
              "      <td>1.0</td>\n",
              "    </tr>\n",
              "  </tbody>\n",
              "</table>\n",
              "<p>5 rows × 32 columns</p>\n",
              "</div>\n",
              "      <button class=\"colab-df-convert\" onclick=\"convertToInteractive('df-f710b554-dc01-4e50-aea5-08d2bef17cbc')\"\n",
              "              title=\"Convert this dataframe to an interactive table.\"\n",
              "              style=\"display:none;\">\n",
              "        \n",
              "  <svg xmlns=\"http://www.w3.org/2000/svg\" height=\"24px\"viewBox=\"0 0 24 24\"\n",
              "       width=\"24px\">\n",
              "    <path d=\"M0 0h24v24H0V0z\" fill=\"none\"/>\n",
              "    <path d=\"M18.56 5.44l.94 2.06.94-2.06 2.06-.94-2.06-.94-.94-2.06-.94 2.06-2.06.94zm-11 1L8.5 8.5l.94-2.06 2.06-.94-2.06-.94L8.5 2.5l-.94 2.06-2.06.94zm10 10l.94 2.06.94-2.06 2.06-.94-2.06-.94-.94-2.06-.94 2.06-2.06.94z\"/><path d=\"M17.41 7.96l-1.37-1.37c-.4-.4-.92-.59-1.43-.59-.52 0-1.04.2-1.43.59L10.3 9.45l-7.72 7.72c-.78.78-.78 2.05 0 2.83L4 21.41c.39.39.9.59 1.41.59.51 0 1.02-.2 1.41-.59l7.78-7.78 2.81-2.81c.8-.78.8-2.07 0-2.86zM5.41 20L4 18.59l7.72-7.72 1.47 1.35L5.41 20z\"/>\n",
              "  </svg>\n",
              "      </button>\n",
              "      \n",
              "  <style>\n",
              "    .colab-df-container {\n",
              "      display:flex;\n",
              "      flex-wrap:wrap;\n",
              "      gap: 12px;\n",
              "    }\n",
              "\n",
              "    .colab-df-convert {\n",
              "      background-color: #E8F0FE;\n",
              "      border: none;\n",
              "      border-radius: 50%;\n",
              "      cursor: pointer;\n",
              "      display: none;\n",
              "      fill: #1967D2;\n",
              "      height: 32px;\n",
              "      padding: 0 0 0 0;\n",
              "      width: 32px;\n",
              "    }\n",
              "\n",
              "    .colab-df-convert:hover {\n",
              "      background-color: #E2EBFA;\n",
              "      box-shadow: 0px 1px 2px rgba(60, 64, 67, 0.3), 0px 1px 3px 1px rgba(60, 64, 67, 0.15);\n",
              "      fill: #174EA6;\n",
              "    }\n",
              "\n",
              "    [theme=dark] .colab-df-convert {\n",
              "      background-color: #3B4455;\n",
              "      fill: #D2E3FC;\n",
              "    }\n",
              "\n",
              "    [theme=dark] .colab-df-convert:hover {\n",
              "      background-color: #434B5C;\n",
              "      box-shadow: 0px 1px 3px 1px rgba(0, 0, 0, 0.15);\n",
              "      filter: drop-shadow(0px 1px 2px rgba(0, 0, 0, 0.3));\n",
              "      fill: #FFFFFF;\n",
              "    }\n",
              "  </style>\n",
              "\n",
              "      <script>\n",
              "        const buttonEl =\n",
              "          document.querySelector('#df-f710b554-dc01-4e50-aea5-08d2bef17cbc button.colab-df-convert');\n",
              "        buttonEl.style.display =\n",
              "          google.colab.kernel.accessAllowed ? 'block' : 'none';\n",
              "\n",
              "        async function convertToInteractive(key) {\n",
              "          const element = document.querySelector('#df-f710b554-dc01-4e50-aea5-08d2bef17cbc');\n",
              "          const dataTable =\n",
              "            await google.colab.kernel.invokeFunction('convertToInteractive',\n",
              "                                                     [key], {});\n",
              "          if (!dataTable) return;\n",
              "\n",
              "          const docLinkHtml = 'Like what you see? Visit the ' +\n",
              "            '<a target=\"_blank\" href=https://colab.research.google.com/notebooks/data_table.ipynb>data table notebook</a>'\n",
              "            + ' to learn more about interactive tables.';\n",
              "          element.innerHTML = '';\n",
              "          dataTable['output_type'] = 'display_data';\n",
              "          await google.colab.output.renderOutput(dataTable, element);\n",
              "          const docLink = document.createElement('div');\n",
              "          docLink.innerHTML = docLinkHtml;\n",
              "          element.appendChild(docLink);\n",
              "        }\n",
              "      </script>\n",
              "    </div>\n",
              "  </div>\n",
              "  "
            ]
          },
          "metadata": {},
          "execution_count": 41
        }
      ]
    },
    {
      "cell_type": "markdown",
      "source": [
        "**Train and Test Split**"
      ],
      "metadata": {
        "id": "GIP4l9hII1g2"
      }
    },
    {
      "cell_type": "code",
      "source": [
        "from sklearn.model_selection import train_test_split\n",
        "x_train, x_test, y_train, y_test = train_test_split(X, Y, test_size=0.10, random_state=42)\n",
        "x_train.shape, x_test.shape, y_train.shape, y_test.shape"
      ],
      "metadata": {
        "colab": {
          "base_uri": "https://localhost:8080/"
        },
        "id": "hrsZzVrJNfru",
        "outputId": "9f418b2f-e553-4b69-f11a-6017dfc572c5"
      },
      "execution_count": 42,
      "outputs": [
        {
          "output_type": "execute_result",
          "data": {
            "text/plain": [
              "((7823, 32), (870, 32), (7823,), (870,))"
            ]
          },
          "metadata": {},
          "execution_count": 42
        }
      ]
    },
    {
      "cell_type": "markdown",
      "source": [
        "**Logistic Regression**"
      ],
      "metadata": {
        "id": "FX8TfUWxLrLY"
      }
    },
    {
      "cell_type": "code",
      "source": [
        "from sklearn.linear_model import LogisticRegressionCV\n",
        "lr = LogisticRegressionCV(cv=5, random_state=0).fit(x_train, y_train)"
      ],
      "metadata": {
        "colab": {
          "base_uri": "https://localhost:8080/"
        },
        "id": "zicEe0J0LtCL",
        "outputId": "921200bc-3b1e-40ff-d352-b2e25a95fd95"
      },
      "execution_count": 43,
      "outputs": [
        {
          "output_type": "stream",
          "name": "stderr",
          "text": [
            "/usr/local/lib/python3.7/dist-packages/sklearn/linear_model/_logistic.py:818: ConvergenceWarning: lbfgs failed to converge (status=1):\n",
            "STOP: TOTAL NO. of ITERATIONS REACHED LIMIT.\n",
            "\n",
            "Increase the number of iterations (max_iter) or scale the data as shown in:\n",
            "    https://scikit-learn.org/stable/modules/preprocessing.html\n",
            "Please also refer to the documentation for alternative solver options:\n",
            "    https://scikit-learn.org/stable/modules/linear_model.html#logistic-regression\n",
            "  extra_warning_msg=_LOGISTIC_SOLVER_CONVERGENCE_MSG,\n",
            "/usr/local/lib/python3.7/dist-packages/sklearn/linear_model/_logistic.py:818: ConvergenceWarning: lbfgs failed to converge (status=1):\n",
            "STOP: TOTAL NO. of ITERATIONS REACHED LIMIT.\n",
            "\n",
            "Increase the number of iterations (max_iter) or scale the data as shown in:\n",
            "    https://scikit-learn.org/stable/modules/preprocessing.html\n",
            "Please also refer to the documentation for alternative solver options:\n",
            "    https://scikit-learn.org/stable/modules/linear_model.html#logistic-regression\n",
            "  extra_warning_msg=_LOGISTIC_SOLVER_CONVERGENCE_MSG,\n",
            "/usr/local/lib/python3.7/dist-packages/sklearn/linear_model/_logistic.py:818: ConvergenceWarning: lbfgs failed to converge (status=1):\n",
            "STOP: TOTAL NO. of ITERATIONS REACHED LIMIT.\n",
            "\n",
            "Increase the number of iterations (max_iter) or scale the data as shown in:\n",
            "    https://scikit-learn.org/stable/modules/preprocessing.html\n",
            "Please also refer to the documentation for alternative solver options:\n",
            "    https://scikit-learn.org/stable/modules/linear_model.html#logistic-regression\n",
            "  extra_warning_msg=_LOGISTIC_SOLVER_CONVERGENCE_MSG,\n",
            "/usr/local/lib/python3.7/dist-packages/sklearn/linear_model/_logistic.py:818: ConvergenceWarning: lbfgs failed to converge (status=1):\n",
            "STOP: TOTAL NO. of ITERATIONS REACHED LIMIT.\n",
            "\n",
            "Increase the number of iterations (max_iter) or scale the data as shown in:\n",
            "    https://scikit-learn.org/stable/modules/preprocessing.html\n",
            "Please also refer to the documentation for alternative solver options:\n",
            "    https://scikit-learn.org/stable/modules/linear_model.html#logistic-regression\n",
            "  extra_warning_msg=_LOGISTIC_SOLVER_CONVERGENCE_MSG,\n",
            "/usr/local/lib/python3.7/dist-packages/sklearn/linear_model/_logistic.py:818: ConvergenceWarning: lbfgs failed to converge (status=1):\n",
            "STOP: TOTAL NO. of ITERATIONS REACHED LIMIT.\n",
            "\n",
            "Increase the number of iterations (max_iter) or scale the data as shown in:\n",
            "    https://scikit-learn.org/stable/modules/preprocessing.html\n",
            "Please also refer to the documentation for alternative solver options:\n",
            "    https://scikit-learn.org/stable/modules/linear_model.html#logistic-regression\n",
            "  extra_warning_msg=_LOGISTIC_SOLVER_CONVERGENCE_MSG,\n",
            "/usr/local/lib/python3.7/dist-packages/sklearn/linear_model/_logistic.py:818: ConvergenceWarning: lbfgs failed to converge (status=1):\n",
            "STOP: TOTAL NO. of ITERATIONS REACHED LIMIT.\n",
            "\n",
            "Increase the number of iterations (max_iter) or scale the data as shown in:\n",
            "    https://scikit-learn.org/stable/modules/preprocessing.html\n",
            "Please also refer to the documentation for alternative solver options:\n",
            "    https://scikit-learn.org/stable/modules/linear_model.html#logistic-regression\n",
            "  extra_warning_msg=_LOGISTIC_SOLVER_CONVERGENCE_MSG,\n",
            "/usr/local/lib/python3.7/dist-packages/sklearn/linear_model/_logistic.py:818: ConvergenceWarning: lbfgs failed to converge (status=1):\n",
            "STOP: TOTAL NO. of ITERATIONS REACHED LIMIT.\n",
            "\n",
            "Increase the number of iterations (max_iter) or scale the data as shown in:\n",
            "    https://scikit-learn.org/stable/modules/preprocessing.html\n",
            "Please also refer to the documentation for alternative solver options:\n",
            "    https://scikit-learn.org/stable/modules/linear_model.html#logistic-regression\n",
            "  extra_warning_msg=_LOGISTIC_SOLVER_CONVERGENCE_MSG,\n",
            "/usr/local/lib/python3.7/dist-packages/sklearn/linear_model/_logistic.py:818: ConvergenceWarning: lbfgs failed to converge (status=1):\n",
            "STOP: TOTAL NO. of ITERATIONS REACHED LIMIT.\n",
            "\n",
            "Increase the number of iterations (max_iter) or scale the data as shown in:\n",
            "    https://scikit-learn.org/stable/modules/preprocessing.html\n",
            "Please also refer to the documentation for alternative solver options:\n",
            "    https://scikit-learn.org/stable/modules/linear_model.html#logistic-regression\n",
            "  extra_warning_msg=_LOGISTIC_SOLVER_CONVERGENCE_MSG,\n",
            "/usr/local/lib/python3.7/dist-packages/sklearn/linear_model/_logistic.py:818: ConvergenceWarning: lbfgs failed to converge (status=1):\n",
            "STOP: TOTAL NO. of ITERATIONS REACHED LIMIT.\n",
            "\n",
            "Increase the number of iterations (max_iter) or scale the data as shown in:\n",
            "    https://scikit-learn.org/stable/modules/preprocessing.html\n",
            "Please also refer to the documentation for alternative solver options:\n",
            "    https://scikit-learn.org/stable/modules/linear_model.html#logistic-regression\n",
            "  extra_warning_msg=_LOGISTIC_SOLVER_CONVERGENCE_MSG,\n",
            "/usr/local/lib/python3.7/dist-packages/sklearn/linear_model/_logistic.py:818: ConvergenceWarning: lbfgs failed to converge (status=1):\n",
            "STOP: TOTAL NO. of ITERATIONS REACHED LIMIT.\n",
            "\n",
            "Increase the number of iterations (max_iter) or scale the data as shown in:\n",
            "    https://scikit-learn.org/stable/modules/preprocessing.html\n",
            "Please also refer to the documentation for alternative solver options:\n",
            "    https://scikit-learn.org/stable/modules/linear_model.html#logistic-regression\n",
            "  extra_warning_msg=_LOGISTIC_SOLVER_CONVERGENCE_MSG,\n",
            "/usr/local/lib/python3.7/dist-packages/sklearn/linear_model/_logistic.py:818: ConvergenceWarning: lbfgs failed to converge (status=1):\n",
            "STOP: TOTAL NO. of ITERATIONS REACHED LIMIT.\n",
            "\n",
            "Increase the number of iterations (max_iter) or scale the data as shown in:\n",
            "    https://scikit-learn.org/stable/modules/preprocessing.html\n",
            "Please also refer to the documentation for alternative solver options:\n",
            "    https://scikit-learn.org/stable/modules/linear_model.html#logistic-regression\n",
            "  extra_warning_msg=_LOGISTIC_SOLVER_CONVERGENCE_MSG,\n",
            "/usr/local/lib/python3.7/dist-packages/sklearn/linear_model/_logistic.py:818: ConvergenceWarning: lbfgs failed to converge (status=1):\n",
            "STOP: TOTAL NO. of ITERATIONS REACHED LIMIT.\n",
            "\n",
            "Increase the number of iterations (max_iter) or scale the data as shown in:\n",
            "    https://scikit-learn.org/stable/modules/preprocessing.html\n",
            "Please also refer to the documentation for alternative solver options:\n",
            "    https://scikit-learn.org/stable/modules/linear_model.html#logistic-regression\n",
            "  extra_warning_msg=_LOGISTIC_SOLVER_CONVERGENCE_MSG,\n",
            "/usr/local/lib/python3.7/dist-packages/sklearn/linear_model/_logistic.py:818: ConvergenceWarning: lbfgs failed to converge (status=1):\n",
            "STOP: TOTAL NO. of ITERATIONS REACHED LIMIT.\n",
            "\n",
            "Increase the number of iterations (max_iter) or scale the data as shown in:\n",
            "    https://scikit-learn.org/stable/modules/preprocessing.html\n",
            "Please also refer to the documentation for alternative solver options:\n",
            "    https://scikit-learn.org/stable/modules/linear_model.html#logistic-regression\n",
            "  extra_warning_msg=_LOGISTIC_SOLVER_CONVERGENCE_MSG,\n",
            "/usr/local/lib/python3.7/dist-packages/sklearn/linear_model/_logistic.py:818: ConvergenceWarning: lbfgs failed to converge (status=1):\n",
            "STOP: TOTAL NO. of ITERATIONS REACHED LIMIT.\n",
            "\n",
            "Increase the number of iterations (max_iter) or scale the data as shown in:\n",
            "    https://scikit-learn.org/stable/modules/preprocessing.html\n",
            "Please also refer to the documentation for alternative solver options:\n",
            "    https://scikit-learn.org/stable/modules/linear_model.html#logistic-regression\n",
            "  extra_warning_msg=_LOGISTIC_SOLVER_CONVERGENCE_MSG,\n",
            "/usr/local/lib/python3.7/dist-packages/sklearn/linear_model/_logistic.py:818: ConvergenceWarning: lbfgs failed to converge (status=1):\n",
            "STOP: TOTAL NO. of ITERATIONS REACHED LIMIT.\n",
            "\n",
            "Increase the number of iterations (max_iter) or scale the data as shown in:\n",
            "    https://scikit-learn.org/stable/modules/preprocessing.html\n",
            "Please also refer to the documentation for alternative solver options:\n",
            "    https://scikit-learn.org/stable/modules/linear_model.html#logistic-regression\n",
            "  extra_warning_msg=_LOGISTIC_SOLVER_CONVERGENCE_MSG,\n"
          ]
        }
      ]
    },
    {
      "cell_type": "code",
      "source": [
        "y_pred = lr.predict(x_test)"
      ],
      "metadata": {
        "id": "PoY6c3HiOQI4"
      },
      "execution_count": 44,
      "outputs": []
    },
    {
      "cell_type": "code",
      "source": [
        "from sklearn.metrics import confusion_matrix\n",
        "cm = confusion_matrix(y_test, y_pred)\n",
        "plt.figure(figsize=(10, 5))\n",
        "sns.heatmap(cm,  annot=True, fmt=\"d\")"
      ],
      "metadata": {
        "colab": {
          "base_uri": "https://localhost:8080/",
          "height": 338
        },
        "id": "Rh9Jx1iXO0nf",
        "outputId": "6e75fc10-455c-4d9a-801e-378e8257a67f"
      },
      "execution_count": 45,
      "outputs": [
        {
          "output_type": "execute_result",
          "data": {
            "text/plain": [
              "<matplotlib.axes._subplots.AxesSubplot at 0x7f66469b8310>"
            ]
          },
          "metadata": {},
          "execution_count": 45
        },
        {
          "output_type": "display_data",
          "data": {
            "text/plain": [
              "<Figure size 720x360 with 2 Axes>"
            ],
            "image/png": "[encoded data removed]"
          },
          "metadata": {
            "needs_background": "light"
          }
        }
      ]
    },
    {
      "cell_type": "code",
      "source": [
        "from sklearn.metrics import accuracy_score\n",
        "acc = accuracy_score(y_test, y_pred)\n",
        "acc"
      ],
      "metadata": {
        "colab": {
          "base_uri": "https://localhost:8080/"
        },
        "id": "nLvFyS3IQNk_",
        "outputId": "32480d89-e1dd-4553-a8d0-fb28beb74c9b"
      },
      "execution_count": 46,
      "outputs": [
        {
          "output_type": "execute_result",
          "data": {
            "text/plain": [
              "0.7735632183908046"
            ]
          },
          "metadata": {},
          "execution_count": 46
        }
      ]
    },
    {
      "cell_type": "markdown",
      "source": [
        "**Models**"
      ],
      "metadata": {
        "id": "LK_woaFrKYwF"
      }
    },
    {
      "cell_type": "code",
      "source": [
        "%pip install -qq catboost"
      ],
      "metadata": {
        "id": "_X6_yHDeLhGe"
      },
      "execution_count": 47,
      "outputs": []
    },
    {
      "cell_type": "code",
      "source": [
        "from sklearn.ensemble import RandomForestClassifier, AdaBoostClassifier, GradientBoostingClassifier, RandomForestRegressor, AdaBoostRegressor, GradientBoostingRegressor\n",
        "from sklearn.tree import DecisionTreeClassifier, DecisionTreeRegressor\n",
        "from xgboost import XGBClassifier\n",
        "from lightgbm import LGBMClassifier\n",
        "from catboost import CatBoostClassifier\n",
        "\n",
        "models = [(\"RandomForestClassifier\", RandomForestClassifier), (\"AdaBoostClassifier\", AdaBoostClassifier), \n",
        "          (\"GradientBoostingClassifier\", GradientBoostingClassifier), (\"DecisionTreeClassifier\", DecisionTreeClassifier),\n",
        "          (\"XGBClassifier\", XGBClassifier), (\"LGBMClassifier\", XGBClassifier),\n",
        "          (\"CatBoostClassifier\", CatBoostClassifier)]"
      ],
      "metadata": {
        "id": "rSD-biQcKaX3"
      },
      "execution_count": 48,
      "outputs": []
    },
    {
      "cell_type": "code",
      "source": [
        "for model_name, model in models:\n",
        "    print(model_name)\n",
        "    m = model()\n",
        "    m.fit(x_train, y_train)\n",
        "    print(\"\\t\\tTest Score = \", m.score(x_test, y_test) * 100)\n",
        "    print(\"\\t\\tTrain Score = \", m.score(x_train, y_train) * 100)\n",
        "    print(\"\\t\\tScore Error = \",abs((m.score(x_train, y_train) - (m.score(x_test, y_test)))) * 100)"
      ],
      "metadata": {
        "colab": {
          "base_uri": "https://localhost:8080/"
        },
        "id": "1NW9xah8LuFo",
        "outputId": "6e75cc9c-14da-4d08-c1b1-2e5be4e92122"
      },
      "execution_count": 49,
      "outputs": [
        {
          "output_type": "stream",
          "name": "stdout",
          "text": [
            "RandomForestClassifier\n",
            "\t\tTest Score =  77.93103448275862\n",
            "\t\tTrain Score =  98.42771315352167\n",
            "\t\tScore Error =  20.496678670763046\n",
            "AdaBoostClassifier\n",
            "\t\tTest Score =  77.47126436781609\n",
            "\t\tTrain Score =  80.41671992841621\n",
            "\t\tScore Error =  2.9454555606001187\n",
            "GradientBoostingClassifier\n",
            "\t\tTest Score =  78.73563218390804\n",
            "\t\tTrain Score =  82.25744599258597\n",
            "\t\tScore Error =  3.5218138086779205\n",
            "DecisionTreeClassifier\n",
            "\t\tTest Score =  72.98850574712644\n",
            "\t\tTrain Score =  98.42771315352167\n",
            "\t\tScore Error =  25.439207406395226\n",
            "XGBClassifier\n",
            "\t\tTest Score =  78.04597701149424\n",
            "\t\tTrain Score =  82.00178959478461\n",
            "\t\tScore Error =  3.9558125832903634\n",
            "LGBMClassifier\n",
            "\t\tTest Score =  78.04597701149424\n",
            "\t\tTrain Score =  82.00178959478461\n",
            "\t\tScore Error =  3.9558125832903634\n",
            "CatBoostClassifier\n",
            "Learning rate set to 0.024797\n",
            "0:\tlearn: 0.6797036\ttotal: 61.5ms\tremaining: 1m 1s\n",
            "1:\tlearn: 0.6681471\ttotal: 75.8ms\tremaining: 37.8s\n",
            "2:\tlearn: 0.6590378\ttotal: 86ms\tremaining: 28.6s\n",
            "3:\tlearn: 0.6496680\ttotal: 101ms\tremaining: 25.1s\n",
            "4:\tlearn: 0.6418626\ttotal: 113ms\tremaining: 22.6s\n",
            "5:\tlearn: 0.6319846\ttotal: 126ms\tremaining: 20.8s\n",
            "6:\tlearn: 0.6216920\ttotal: 144ms\tremaining: 20.4s\n",
            "7:\tlearn: 0.6135645\ttotal: 155ms\tremaining: 19.3s\n",
            "8:\tlearn: 0.6057964\ttotal: 166ms\tremaining: 18.3s\n",
            "9:\tlearn: 0.5970067\ttotal: 180ms\tremaining: 17.8s\n",
            "10:\tlearn: 0.5890851\ttotal: 193ms\tremaining: 17.3s\n",
            "11:\tlearn: 0.5840947\ttotal: 205ms\tremaining: 16.9s\n",
            "12:\tlearn: 0.5785524\ttotal: 218ms\tremaining: 16.6s\n",
            "13:\tlearn: 0.5712268\ttotal: 256ms\tremaining: 18s\n",
            "14:\tlearn: 0.5644956\ttotal: 271ms\tremaining: 17.8s\n",
            "15:\tlearn: 0.5586643\ttotal: 287ms\tremaining: 17.7s\n",
            "16:\tlearn: 0.5539304\ttotal: 293ms\tremaining: 17s\n",
            "17:\tlearn: 0.5488910\ttotal: 299ms\tremaining: 16.3s\n",
            "18:\tlearn: 0.5447105\ttotal: 305ms\tremaining: 15.8s\n",
            "19:\tlearn: 0.5408184\ttotal: 310ms\tremaining: 15.2s\n",
            "20:\tlearn: 0.5359444\ttotal: 315ms\tremaining: 14.7s\n",
            "21:\tlearn: 0.5314151\ttotal: 321ms\tremaining: 14.3s\n",
            "22:\tlearn: 0.5271932\ttotal: 326ms\tremaining: 13.9s\n",
            "23:\tlearn: 0.5245178\ttotal: 332ms\tremaining: 13.5s\n",
            "24:\tlearn: 0.5211958\ttotal: 340ms\tremaining: 13.3s\n",
            "25:\tlearn: 0.5180503\ttotal: 349ms\tremaining: 13.1s\n",
            "26:\tlearn: 0.5141531\ttotal: 356ms\tremaining: 12.8s\n",
            "27:\tlearn: 0.5114543\ttotal: 361ms\tremaining: 12.5s\n",
            "28:\tlearn: 0.5080816\ttotal: 367ms\tremaining: 12.3s\n",
            "29:\tlearn: 0.5040677\ttotal: 373ms\tremaining: 12.1s\n",
            "30:\tlearn: 0.5014092\ttotal: 380ms\tremaining: 11.9s\n",
            "31:\tlearn: 0.4978824\ttotal: 391ms\tremaining: 11.8s\n",
            "32:\tlearn: 0.4949071\ttotal: 399ms\tremaining: 11.7s\n",
            "33:\tlearn: 0.4926015\ttotal: 410ms\tremaining: 11.7s\n",
            "34:\tlearn: 0.4897391\ttotal: 421ms\tremaining: 11.6s\n",
            "35:\tlearn: 0.4875097\ttotal: 431ms\tremaining: 11.5s\n",
            "36:\tlearn: 0.4848058\ttotal: 445ms\tremaining: 11.6s\n",
            "37:\tlearn: 0.4821240\ttotal: 481ms\tremaining: 12.2s\n",
            "38:\tlearn: 0.4806321\ttotal: 488ms\tremaining: 12s\n",
            "39:\tlearn: 0.4782072\ttotal: 493ms\tremaining: 11.8s\n",
            "40:\tlearn: 0.4769190\ttotal: 500ms\tremaining: 11.7s\n",
            "41:\tlearn: 0.4748224\ttotal: 514ms\tremaining: 11.7s\n",
            "42:\tlearn: 0.4722378\ttotal: 528ms\tremaining: 11.8s\n",
            "43:\tlearn: 0.4701975\ttotal: 544ms\tremaining: 11.8s\n",
            "44:\tlearn: 0.4680993\ttotal: 571ms\tremaining: 12.1s\n",
            "45:\tlearn: 0.4669502\ttotal: 585ms\tremaining: 12.1s\n",
            "46:\tlearn: 0.4652947\ttotal: 598ms\tremaining: 12.1s\n",
            "47:\tlearn: 0.4639716\ttotal: 612ms\tremaining: 12.1s\n",
            "48:\tlearn: 0.4625035\ttotal: 637ms\tremaining: 12.4s\n",
            "49:\tlearn: 0.4608956\ttotal: 652ms\tremaining: 12.4s\n",
            "50:\tlearn: 0.4593420\ttotal: 666ms\tremaining: 12.4s\n",
            "51:\tlearn: 0.4579215\ttotal: 679ms\tremaining: 12.4s\n",
            "52:\tlearn: 0.4565976\ttotal: 692ms\tremaining: 12.4s\n",
            "53:\tlearn: 0.4552509\ttotal: 705ms\tremaining: 12.3s\n",
            "54:\tlearn: 0.4541343\ttotal: 722ms\tremaining: 12.4s\n",
            "55:\tlearn: 0.4528992\ttotal: 736ms\tremaining: 12.4s\n",
            "56:\tlearn: 0.4513790\ttotal: 749ms\tremaining: 12.4s\n",
            "57:\tlearn: 0.4496741\ttotal: 761ms\tremaining: 12.4s\n",
            "58:\tlearn: 0.4482765\ttotal: 770ms\tremaining: 12.3s\n",
            "59:\tlearn: 0.4472459\ttotal: 781ms\tremaining: 12.2s\n",
            "60:\tlearn: 0.4461445\ttotal: 795ms\tremaining: 12.2s\n",
            "61:\tlearn: 0.4448088\ttotal: 808ms\tremaining: 12.2s\n",
            "62:\tlearn: 0.4435254\ttotal: 820ms\tremaining: 12.2s\n",
            "63:\tlearn: 0.4426535\ttotal: 848ms\tremaining: 12.4s\n",
            "64:\tlearn: 0.4417987\ttotal: 862ms\tremaining: 12.4s\n",
            "65:\tlearn: 0.4406690\ttotal: 877ms\tremaining: 12.4s\n",
            "66:\tlearn: 0.4395973\ttotal: 890ms\tremaining: 12.4s\n",
            "67:\tlearn: 0.4384348\ttotal: 901ms\tremaining: 12.4s\n",
            "68:\tlearn: 0.4371745\ttotal: 916ms\tremaining: 12.4s\n",
            "69:\tlearn: 0.4362167\ttotal: 921ms\tremaining: 12.2s\n",
            "70:\tlearn: 0.4352313\ttotal: 928ms\tremaining: 12.1s\n",
            "71:\tlearn: 0.4343350\ttotal: 965ms\tremaining: 12.4s\n",
            "72:\tlearn: 0.4333426\ttotal: 970ms\tremaining: 12.3s\n",
            "73:\tlearn: 0.4326815\ttotal: 975ms\tremaining: 12.2s\n",
            "74:\tlearn: 0.4320414\ttotal: 981ms\tremaining: 12.1s\n",
            "75:\tlearn: 0.4313101\ttotal: 987ms\tremaining: 12s\n",
            "76:\tlearn: 0.4305362\ttotal: 993ms\tremaining: 11.9s\n",
            "77:\tlearn: 0.4298801\ttotal: 998ms\tremaining: 11.8s\n",
            "78:\tlearn: 0.4291615\ttotal: 1s\tremaining: 11.7s\n",
            "79:\tlearn: 0.4281028\ttotal: 1.02s\tremaining: 11.8s\n",
            "80:\tlearn: 0.4274374\ttotal: 1.05s\tremaining: 11.9s\n",
            "81:\tlearn: 0.4268319\ttotal: 1.07s\tremaining: 11.9s\n",
            "82:\tlearn: 0.4260067\ttotal: 1.08s\tremaining: 11.9s\n",
            "83:\tlearn: 0.4252027\ttotal: 1.12s\tremaining: 12.3s\n",
            "84:\tlearn: 0.4247285\ttotal: 1.13s\tremaining: 12.2s\n",
            "85:\tlearn: 0.4241913\ttotal: 1.16s\tremaining: 12.3s\n",
            "86:\tlearn: 0.4236971\ttotal: 1.19s\tremaining: 12.5s\n",
            "87:\tlearn: 0.4231758\ttotal: 1.22s\tremaining: 12.7s\n",
            "88:\tlearn: 0.4227208\ttotal: 1.24s\tremaining: 12.6s\n",
            "89:\tlearn: 0.4219756\ttotal: 1.25s\tremaining: 12.6s\n",
            "90:\tlearn: 0.4211169\ttotal: 1.26s\tremaining: 12.6s\n",
            "91:\tlearn: 0.4205240\ttotal: 1.27s\tremaining: 12.5s\n",
            "92:\tlearn: 0.4199310\ttotal: 1.28s\tremaining: 12.4s\n",
            "93:\tlearn: 0.4191155\ttotal: 1.28s\tremaining: 12.4s\n",
            "94:\tlearn: 0.4184483\ttotal: 1.29s\tremaining: 12.3s\n",
            "95:\tlearn: 0.4177611\ttotal: 1.29s\tremaining: 12.2s\n",
            "96:\tlearn: 0.4171732\ttotal: 1.3s\tremaining: 12.1s\n",
            "97:\tlearn: 0.4166897\ttotal: 1.3s\tremaining: 12s\n",
            "98:\tlearn: 0.4160742\ttotal: 1.31s\tremaining: 11.9s\n",
            "99:\tlearn: 0.4154069\ttotal: 1.32s\tremaining: 11.9s\n",
            "100:\tlearn: 0.4146731\ttotal: 1.32s\tremaining: 11.8s\n",
            "101:\tlearn: 0.4142679\ttotal: 1.33s\tremaining: 11.7s\n",
            "102:\tlearn: 0.4137762\ttotal: 1.33s\tremaining: 11.6s\n",
            "103:\tlearn: 0.4132908\ttotal: 1.34s\tremaining: 11.5s\n",
            "104:\tlearn: 0.4130263\ttotal: 1.34s\tremaining: 11.5s\n",
            "105:\tlearn: 0.4123554\ttotal: 1.35s\tremaining: 11.4s\n",
            "106:\tlearn: 0.4118547\ttotal: 1.36s\tremaining: 11.3s\n",
            "107:\tlearn: 0.4113904\ttotal: 1.36s\tremaining: 11.3s\n",
            "108:\tlearn: 0.4108886\ttotal: 1.37s\tremaining: 11.2s\n",
            "109:\tlearn: 0.4103392\ttotal: 1.38s\tremaining: 11.2s\n",
            "110:\tlearn: 0.4100281\ttotal: 1.4s\tremaining: 11.2s\n",
            "111:\tlearn: 0.4096647\ttotal: 1.42s\tremaining: 11.2s\n",
            "112:\tlearn: 0.4092779\ttotal: 1.44s\tremaining: 11.3s\n",
            "113:\tlearn: 0.4089041\ttotal: 1.44s\tremaining: 11.2s\n",
            "114:\tlearn: 0.4084352\ttotal: 1.46s\tremaining: 11.2s\n",
            "115:\tlearn: 0.4079669\ttotal: 1.47s\tremaining: 11.2s\n",
            "116:\tlearn: 0.4075702\ttotal: 1.49s\tremaining: 11.2s\n",
            "117:\tlearn: 0.4072387\ttotal: 1.5s\tremaining: 11.2s\n",
            "118:\tlearn: 0.4068560\ttotal: 1.51s\tremaining: 11.2s\n",
            "119:\tlearn: 0.4065286\ttotal: 1.53s\tremaining: 11.2s\n",
            "120:\tlearn: 0.4062496\ttotal: 1.54s\tremaining: 11.2s\n",
            "121:\tlearn: 0.4056582\ttotal: 1.54s\tremaining: 11.1s\n",
            "122:\tlearn: 0.4051022\ttotal: 1.55s\tremaining: 11.1s\n",
            "123:\tlearn: 0.4046993\ttotal: 1.56s\tremaining: 11s\n",
            "124:\tlearn: 0.4042727\ttotal: 1.56s\tremaining: 10.9s\n",
            "125:\tlearn: 0.4039707\ttotal: 1.57s\tremaining: 10.9s\n",
            "126:\tlearn: 0.4034593\ttotal: 1.59s\tremaining: 10.9s\n",
            "127:\tlearn: 0.4030766\ttotal: 1.6s\tremaining: 10.9s\n",
            "128:\tlearn: 0.4027850\ttotal: 1.61s\tremaining: 10.9s\n",
            "129:\tlearn: 0.4024327\ttotal: 1.63s\tremaining: 10.9s\n",
            "130:\tlearn: 0.4019506\ttotal: 1.64s\tremaining: 10.9s\n",
            "131:\tlearn: 0.4016730\ttotal: 1.65s\tremaining: 10.9s\n",
            "132:\tlearn: 0.4013822\ttotal: 1.66s\tremaining: 10.8s\n",
            "133:\tlearn: 0.4007102\ttotal: 1.68s\tremaining: 10.9s\n",
            "134:\tlearn: 0.4003778\ttotal: 1.7s\tremaining: 10.9s\n",
            "135:\tlearn: 0.3999953\ttotal: 1.71s\tremaining: 10.9s\n",
            "136:\tlearn: 0.3997124\ttotal: 1.72s\tremaining: 10.8s\n",
            "137:\tlearn: 0.3994640\ttotal: 1.75s\tremaining: 10.9s\n",
            "138:\tlearn: 0.3990827\ttotal: 1.76s\tremaining: 10.9s\n",
            "139:\tlearn: 0.3987404\ttotal: 1.77s\tremaining: 10.9s\n",
            "140:\tlearn: 0.3983151\ttotal: 1.79s\tremaining: 10.9s\n",
            "141:\tlearn: 0.3980195\ttotal: 1.8s\tremaining: 10.9s\n",
            "142:\tlearn: 0.3976041\ttotal: 1.81s\tremaining: 10.9s\n",
            "143:\tlearn: 0.3974017\ttotal: 1.82s\tremaining: 10.9s\n",
            "144:\tlearn: 0.3970989\ttotal: 1.84s\tremaining: 10.9s\n",
            "145:\tlearn: 0.3968283\ttotal: 1.85s\tremaining: 10.8s\n",
            "146:\tlearn: 0.3964845\ttotal: 1.86s\tremaining: 10.8s\n",
            "147:\tlearn: 0.3962990\ttotal: 1.88s\tremaining: 10.8s\n",
            "148:\tlearn: 0.3960689\ttotal: 1.91s\tremaining: 10.9s\n",
            "149:\tlearn: 0.3958705\ttotal: 1.93s\tremaining: 10.9s\n",
            "150:\tlearn: 0.3955087\ttotal: 1.94s\tremaining: 10.9s\n",
            "151:\tlearn: 0.3952521\ttotal: 1.95s\tremaining: 10.9s\n",
            "152:\tlearn: 0.3950438\ttotal: 1.97s\tremaining: 10.9s\n",
            "153:\tlearn: 0.3947831\ttotal: 1.98s\tremaining: 10.9s\n",
            "154:\tlearn: 0.3945198\ttotal: 2.04s\tremaining: 11.1s\n",
            "155:\tlearn: 0.3937713\ttotal: 2.05s\tremaining: 11.1s\n",
            "156:\tlearn: 0.3934465\ttotal: 2.06s\tremaining: 11.1s\n",
            "157:\tlearn: 0.3933054\ttotal: 2.08s\tremaining: 11.1s\n",
            "158:\tlearn: 0.3930409\ttotal: 2.09s\tremaining: 11s\n",
            "159:\tlearn: 0.3928145\ttotal: 2.1s\tremaining: 11s\n",
            "160:\tlearn: 0.3926413\ttotal: 2.11s\tremaining: 11s\n",
            "161:\tlearn: 0.3923645\ttotal: 2.12s\tremaining: 11s\n",
            "162:\tlearn: 0.3920674\ttotal: 2.15s\tremaining: 11s\n",
            "163:\tlearn: 0.3915440\ttotal: 2.16s\tremaining: 11s\n",
            "164:\tlearn: 0.3912482\ttotal: 2.17s\tremaining: 11s\n",
            "165:\tlearn: 0.3909253\ttotal: 2.19s\tremaining: 11s\n",
            "166:\tlearn: 0.3903806\ttotal: 2.2s\tremaining: 11s\n",
            "167:\tlearn: 0.3901911\ttotal: 2.22s\tremaining: 11s\n",
            "168:\tlearn: 0.3900140\ttotal: 2.23s\tremaining: 11s\n",
            "169:\tlearn: 0.3898100\ttotal: 2.25s\tremaining: 11s\n",
            "170:\tlearn: 0.3895088\ttotal: 2.26s\tremaining: 11s\n",
            "171:\tlearn: 0.3890394\ttotal: 2.28s\tremaining: 11s\n",
            "172:\tlearn: 0.3885330\ttotal: 2.29s\tremaining: 10.9s\n",
            "173:\tlearn: 0.3882186\ttotal: 2.31s\tremaining: 11s\n",
            "174:\tlearn: 0.3878958\ttotal: 2.33s\tremaining: 11s\n",
            "175:\tlearn: 0.3876783\ttotal: 2.35s\tremaining: 11s\n",
            "176:\tlearn: 0.3874412\ttotal: 2.37s\tremaining: 11s\n",
            "177:\tlearn: 0.3871824\ttotal: 2.38s\tremaining: 11s\n",
            "178:\tlearn: 0.3869289\ttotal: 2.4s\tremaining: 11s\n",
            "179:\tlearn: 0.3866194\ttotal: 2.41s\tremaining: 11s\n",
            "180:\tlearn: 0.3862469\ttotal: 2.43s\tremaining: 11s\n",
            "181:\tlearn: 0.3859633\ttotal: 2.44s\tremaining: 11s\n",
            "182:\tlearn: 0.3857630\ttotal: 2.45s\tremaining: 10.9s\n",
            "183:\tlearn: 0.3854700\ttotal: 2.48s\tremaining: 11s\n",
            "184:\tlearn: 0.3851001\ttotal: 2.5s\tremaining: 11s\n",
            "185:\tlearn: 0.3848218\ttotal: 2.51s\tremaining: 11s\n",
            "186:\tlearn: 0.3846883\ttotal: 2.53s\tremaining: 11s\n",
            "187:\tlearn: 0.3846377\ttotal: 2.54s\tremaining: 11s\n",
            "188:\tlearn: 0.3844509\ttotal: 2.55s\tremaining: 10.9s\n",
            "189:\tlearn: 0.3842613\ttotal: 2.57s\tremaining: 11s\n",
            "190:\tlearn: 0.3840175\ttotal: 2.58s\tremaining: 10.9s\n",
            "191:\tlearn: 0.3838423\ttotal: 2.59s\tremaining: 10.9s\n",
            "192:\tlearn: 0.3835927\ttotal: 2.6s\tremaining: 10.9s\n",
            "193:\tlearn: 0.3831340\ttotal: 2.62s\tremaining: 10.9s\n",
            "194:\tlearn: 0.3829268\ttotal: 2.64s\tremaining: 10.9s\n",
            "195:\tlearn: 0.3825893\ttotal: 2.67s\tremaining: 10.9s\n",
            "196:\tlearn: 0.3823487\ttotal: 2.67s\tremaining: 10.9s\n",
            "197:\tlearn: 0.3821036\ttotal: 2.69s\tremaining: 10.9s\n",
            "198:\tlearn: 0.3818614\ttotal: 2.7s\tremaining: 10.9s\n",
            "199:\tlearn: 0.3815334\ttotal: 2.71s\tremaining: 10.8s\n",
            "200:\tlearn: 0.3813688\ttotal: 2.71s\tremaining: 10.8s\n",
            "201:\tlearn: 0.3810834\ttotal: 2.73s\tremaining: 10.8s\n",
            "202:\tlearn: 0.3809458\ttotal: 2.74s\tremaining: 10.8s\n",
            "203:\tlearn: 0.3807576\ttotal: 2.78s\tremaining: 10.8s\n",
            "204:\tlearn: 0.3805516\ttotal: 2.82s\tremaining: 10.9s\n",
            "205:\tlearn: 0.3802923\ttotal: 2.83s\tremaining: 10.9s\n",
            "206:\tlearn: 0.3800107\ttotal: 2.85s\tremaining: 10.9s\n",
            "207:\tlearn: 0.3797656\ttotal: 2.86s\tremaining: 10.9s\n",
            "208:\tlearn: 0.3795987\ttotal: 2.88s\tremaining: 10.9s\n",
            "209:\tlearn: 0.3794177\ttotal: 2.89s\tremaining: 10.9s\n",
            "210:\tlearn: 0.3792385\ttotal: 2.9s\tremaining: 10.8s\n",
            "211:\tlearn: 0.3789642\ttotal: 2.92s\tremaining: 10.8s\n",
            "212:\tlearn: 0.3788634\ttotal: 2.93s\tremaining: 10.8s\n",
            "213:\tlearn: 0.3786116\ttotal: 2.94s\tremaining: 10.8s\n",
            "214:\tlearn: 0.3784562\ttotal: 2.95s\tremaining: 10.8s\n",
            "215:\tlearn: 0.3781986\ttotal: 2.96s\tremaining: 10.7s\n",
            "216:\tlearn: 0.3780219\ttotal: 2.97s\tremaining: 10.7s\n",
            "217:\tlearn: 0.3776944\ttotal: 2.99s\tremaining: 10.7s\n",
            "218:\tlearn: 0.3774958\ttotal: 3s\tremaining: 10.7s\n",
            "219:\tlearn: 0.3773467\ttotal: 3.02s\tremaining: 10.7s\n",
            "220:\tlearn: 0.3771812\ttotal: 3.04s\tremaining: 10.7s\n",
            "221:\tlearn: 0.3769475\ttotal: 3.04s\tremaining: 10.7s\n",
            "222:\tlearn: 0.3767288\ttotal: 3.05s\tremaining: 10.6s\n",
            "223:\tlearn: 0.3765572\ttotal: 3.06s\tremaining: 10.6s\n",
            "224:\tlearn: 0.3763939\ttotal: 3.06s\tremaining: 10.6s\n",
            "225:\tlearn: 0.3760474\ttotal: 3.08s\tremaining: 10.5s\n",
            "226:\tlearn: 0.3758888\ttotal: 3.1s\tremaining: 10.6s\n",
            "227:\tlearn: 0.3757209\ttotal: 3.11s\tremaining: 10.5s\n",
            "228:\tlearn: 0.3755632\ttotal: 3.14s\tremaining: 10.6s\n",
            "229:\tlearn: 0.3753706\ttotal: 3.16s\tremaining: 10.6s\n",
            "230:\tlearn: 0.3752092\ttotal: 3.18s\tremaining: 10.6s\n",
            "231:\tlearn: 0.3750594\ttotal: 3.21s\tremaining: 10.6s\n",
            "232:\tlearn: 0.3749624\ttotal: 3.21s\tremaining: 10.6s\n",
            "233:\tlearn: 0.3748114\ttotal: 3.22s\tremaining: 10.5s\n",
            "234:\tlearn: 0.3746357\ttotal: 3.23s\tremaining: 10.5s\n",
            "235:\tlearn: 0.3744810\ttotal: 3.25s\tremaining: 10.5s\n",
            "236:\tlearn: 0.3743199\ttotal: 3.26s\tremaining: 10.5s\n",
            "237:\tlearn: 0.3740461\ttotal: 3.27s\tremaining: 10.5s\n",
            "238:\tlearn: 0.3738965\ttotal: 3.29s\tremaining: 10.5s\n",
            "239:\tlearn: 0.3737543\ttotal: 3.3s\tremaining: 10.5s\n",
            "240:\tlearn: 0.3736125\ttotal: 3.33s\tremaining: 10.5s\n",
            "241:\tlearn: 0.3734941\ttotal: 3.34s\tremaining: 10.5s\n",
            "242:\tlearn: 0.3732925\ttotal: 3.36s\tremaining: 10.5s\n",
            "243:\tlearn: 0.3731207\ttotal: 3.37s\tremaining: 10.4s\n",
            "244:\tlearn: 0.3729541\ttotal: 3.38s\tremaining: 10.4s\n",
            "245:\tlearn: 0.3727531\ttotal: 3.4s\tremaining: 10.4s\n",
            "246:\tlearn: 0.3726677\ttotal: 3.41s\tremaining: 10.4s\n",
            "247:\tlearn: 0.3724602\ttotal: 3.43s\tremaining: 10.4s\n",
            "248:\tlearn: 0.3722601\ttotal: 3.46s\tremaining: 10.4s\n",
            "249:\tlearn: 0.3721614\ttotal: 3.47s\tremaining: 10.4s\n",
            "250:\tlearn: 0.3720031\ttotal: 3.48s\tremaining: 10.4s\n",
            "251:\tlearn: 0.3718633\ttotal: 3.49s\tremaining: 10.4s\n",
            "252:\tlearn: 0.3717265\ttotal: 3.51s\tremaining: 10.4s\n",
            "253:\tlearn: 0.3715271\ttotal: 3.52s\tremaining: 10.3s\n",
            "254:\tlearn: 0.3714034\ttotal: 3.53s\tremaining: 10.3s\n",
            "255:\tlearn: 0.3712215\ttotal: 3.55s\tremaining: 10.3s\n",
            "256:\tlearn: 0.3710921\ttotal: 3.57s\tremaining: 10.3s\n",
            "257:\tlearn: 0.3709788\ttotal: 3.58s\tremaining: 10.3s\n",
            "258:\tlearn: 0.3707889\ttotal: 3.6s\tremaining: 10.3s\n",
            "259:\tlearn: 0.3704834\ttotal: 3.63s\tremaining: 10.3s\n",
            "260:\tlearn: 0.3703254\ttotal: 3.65s\tremaining: 10.3s\n",
            "261:\tlearn: 0.3702321\ttotal: 3.66s\tremaining: 10.3s\n",
            "262:\tlearn: 0.3699737\ttotal: 3.68s\tremaining: 10.3s\n",
            "263:\tlearn: 0.3698397\ttotal: 3.69s\tremaining: 10.3s\n",
            "264:\tlearn: 0.3697084\ttotal: 3.7s\tremaining: 10.3s\n",
            "265:\tlearn: 0.3696309\ttotal: 3.71s\tremaining: 10.3s\n",
            "266:\tlearn: 0.3694791\ttotal: 3.72s\tremaining: 10.2s\n",
            "267:\tlearn: 0.3693393\ttotal: 3.74s\tremaining: 10.2s\n",
            "268:\tlearn: 0.3692237\ttotal: 3.77s\tremaining: 10.3s\n",
            "269:\tlearn: 0.3690458\ttotal: 3.79s\tremaining: 10.2s\n",
            "270:\tlearn: 0.3689065\ttotal: 3.8s\tremaining: 10.2s\n",
            "271:\tlearn: 0.3687978\ttotal: 3.81s\tremaining: 10.2s\n",
            "272:\tlearn: 0.3686588\ttotal: 3.82s\tremaining: 10.2s\n",
            "273:\tlearn: 0.3685146\ttotal: 3.82s\tremaining: 10.1s\n",
            "274:\tlearn: 0.3684491\ttotal: 3.83s\tremaining: 10.1s\n",
            "275:\tlearn: 0.3682903\ttotal: 3.83s\tremaining: 10s\n",
            "276:\tlearn: 0.3681947\ttotal: 3.84s\tremaining: 10s\n",
            "277:\tlearn: 0.3680513\ttotal: 3.85s\tremaining: 10s\n",
            "278:\tlearn: 0.3679641\ttotal: 3.86s\tremaining: 9.98s\n",
            "279:\tlearn: 0.3677551\ttotal: 3.88s\tremaining: 9.97s\n",
            "280:\tlearn: 0.3675830\ttotal: 3.89s\tremaining: 9.96s\n",
            "281:\tlearn: 0.3674540\ttotal: 3.91s\tremaining: 9.95s\n",
            "282:\tlearn: 0.3673613\ttotal: 3.92s\tremaining: 9.94s\n",
            "283:\tlearn: 0.3672249\ttotal: 3.94s\tremaining: 9.93s\n",
            "284:\tlearn: 0.3670687\ttotal: 3.96s\tremaining: 9.95s\n",
            "285:\tlearn: 0.3669566\ttotal: 3.98s\tremaining: 9.93s\n",
            "286:\tlearn: 0.3668046\ttotal: 4s\tremaining: 9.94s\n",
            "287:\tlearn: 0.3665380\ttotal: 4.03s\tremaining: 9.97s\n",
            "288:\tlearn: 0.3664539\ttotal: 4.04s\tremaining: 9.95s\n",
            "289:\tlearn: 0.3662938\ttotal: 4.05s\tremaining: 9.91s\n",
            "290:\tlearn: 0.3662120\ttotal: 4.05s\tremaining: 9.87s\n",
            "291:\tlearn: 0.3661034\ttotal: 4.12s\tremaining: 9.98s\n",
            "292:\tlearn: 0.3660972\ttotal: 4.13s\tremaining: 9.96s\n",
            "293:\tlearn: 0.3659829\ttotal: 4.17s\tremaining: 10s\n",
            "294:\tlearn: 0.3658225\ttotal: 4.21s\tremaining: 10.1s\n",
            "295:\tlearn: 0.3656932\ttotal: 4.24s\tremaining: 10.1s\n",
            "296:\tlearn: 0.3654167\ttotal: 4.26s\tremaining: 10.1s\n",
            "297:\tlearn: 0.3653279\ttotal: 4.28s\tremaining: 10.1s\n",
            "298:\tlearn: 0.3652276\ttotal: 4.3s\tremaining: 10.1s\n",
            "299:\tlearn: 0.3651256\ttotal: 4.32s\tremaining: 10.1s\n",
            "300:\tlearn: 0.3650545\ttotal: 4.34s\tremaining: 10.1s\n",
            "301:\tlearn: 0.3648360\ttotal: 4.35s\tremaining: 10.1s\n",
            "302:\tlearn: 0.3646646\ttotal: 4.37s\tremaining: 10s\n",
            "303:\tlearn: 0.3645236\ttotal: 4.38s\tremaining: 10s\n",
            "304:\tlearn: 0.3644153\ttotal: 4.39s\tremaining: 10s\n",
            "305:\tlearn: 0.3643173\ttotal: 4.42s\tremaining: 10s\n",
            "306:\tlearn: 0.3642102\ttotal: 4.46s\tremaining: 10.1s\n",
            "307:\tlearn: 0.3641363\ttotal: 4.46s\tremaining: 10s\n",
            "308:\tlearn: 0.3640507\ttotal: 4.47s\tremaining: 10s\n",
            "309:\tlearn: 0.3639179\ttotal: 4.49s\tremaining: 9.99s\n",
            "310:\tlearn: 0.3637730\ttotal: 4.5s\tremaining: 9.97s\n",
            "311:\tlearn: 0.3636475\ttotal: 4.51s\tremaining: 9.94s\n",
            "312:\tlearn: 0.3635664\ttotal: 4.52s\tremaining: 9.92s\n",
            "313:\tlearn: 0.3634802\ttotal: 4.52s\tremaining: 9.88s\n",
            "314:\tlearn: 0.3633771\ttotal: 4.53s\tremaining: 9.85s\n",
            "315:\tlearn: 0.3632735\ttotal: 4.54s\tremaining: 9.82s\n",
            "316:\tlearn: 0.3631120\ttotal: 4.55s\tremaining: 9.79s\n",
            "317:\tlearn: 0.3630384\ttotal: 4.57s\tremaining: 9.81s\n",
            "318:\tlearn: 0.3629215\ttotal: 4.58s\tremaining: 9.78s\n",
            "319:\tlearn: 0.3627984\ttotal: 4.59s\tremaining: 9.75s\n",
            "320:\tlearn: 0.3627247\ttotal: 4.6s\tremaining: 9.73s\n",
            "321:\tlearn: 0.3626339\ttotal: 4.61s\tremaining: 9.7s\n",
            "322:\tlearn: 0.3625697\ttotal: 4.61s\tremaining: 9.67s\n",
            "323:\tlearn: 0.3624403\ttotal: 4.62s\tremaining: 9.64s\n",
            "324:\tlearn: 0.3623602\ttotal: 4.63s\tremaining: 9.61s\n",
            "325:\tlearn: 0.3621959\ttotal: 4.64s\tremaining: 9.6s\n",
            "326:\tlearn: 0.3619220\ttotal: 4.67s\tremaining: 9.61s\n",
            "327:\tlearn: 0.3615013\ttotal: 4.68s\tremaining: 9.6s\n",
            "328:\tlearn: 0.3613060\ttotal: 4.7s\tremaining: 9.58s\n",
            "329:\tlearn: 0.3612107\ttotal: 4.71s\tremaining: 9.56s\n",
            "330:\tlearn: 0.3610657\ttotal: 4.72s\tremaining: 9.55s\n",
            "331:\tlearn: 0.3608889\ttotal: 4.74s\tremaining: 9.53s\n",
            "332:\tlearn: 0.3608003\ttotal: 4.75s\tremaining: 9.51s\n",
            "333:\tlearn: 0.3606997\ttotal: 4.76s\tremaining: 9.49s\n",
            "334:\tlearn: 0.3605976\ttotal: 4.78s\tremaining: 9.49s\n",
            "335:\tlearn: 0.3605038\ttotal: 4.79s\tremaining: 9.47s\n",
            "336:\tlearn: 0.3603953\ttotal: 4.8s\tremaining: 9.44s\n",
            "337:\tlearn: 0.3602493\ttotal: 4.83s\tremaining: 9.46s\n",
            "338:\tlearn: 0.3600280\ttotal: 4.86s\tremaining: 9.47s\n",
            "339:\tlearn: 0.3598384\ttotal: 4.88s\tremaining: 9.47s\n",
            "340:\tlearn: 0.3596342\ttotal: 4.89s\tremaining: 9.46s\n",
            "341:\tlearn: 0.3595512\ttotal: 4.9s\tremaining: 9.43s\n",
            "342:\tlearn: 0.3593819\ttotal: 4.9s\tremaining: 9.39s\n",
            "343:\tlearn: 0.3590607\ttotal: 4.91s\tremaining: 9.36s\n",
            "344:\tlearn: 0.3588189\ttotal: 4.92s\tremaining: 9.33s\n",
            "345:\tlearn: 0.3586909\ttotal: 4.92s\tremaining: 9.31s\n",
            "346:\tlearn: 0.3585860\ttotal: 4.96s\tremaining: 9.34s\n",
            "347:\tlearn: 0.3584032\ttotal: 4.99s\tremaining: 9.34s\n",
            "348:\tlearn: 0.3582398\ttotal: 5s\tremaining: 9.33s\n",
            "349:\tlearn: 0.3581100\ttotal: 5.03s\tremaining: 9.33s\n",
            "350:\tlearn: 0.3579137\ttotal: 5.04s\tremaining: 9.32s\n",
            "351:\tlearn: 0.3578374\ttotal: 5.06s\tremaining: 9.31s\n",
            "352:\tlearn: 0.3576338\ttotal: 5.09s\tremaining: 9.33s\n",
            "353:\tlearn: 0.3575147\ttotal: 5.13s\tremaining: 9.35s\n",
            "354:\tlearn: 0.3574324\ttotal: 5.14s\tremaining: 9.35s\n",
            "355:\tlearn: 0.3572515\ttotal: 5.17s\tremaining: 9.36s\n",
            "356:\tlearn: 0.3571662\ttotal: 5.19s\tremaining: 9.35s\n",
            "357:\tlearn: 0.3570692\ttotal: 5.21s\tremaining: 9.34s\n",
            "358:\tlearn: 0.3569194\ttotal: 5.24s\tremaining: 9.35s\n",
            "359:\tlearn: 0.3567907\ttotal: 5.26s\tremaining: 9.35s\n",
            "360:\tlearn: 0.3565473\ttotal: 5.27s\tremaining: 9.34s\n",
            "361:\tlearn: 0.3564499\ttotal: 5.29s\tremaining: 9.32s\n",
            "362:\tlearn: 0.3563025\ttotal: 5.3s\tremaining: 9.3s\n",
            "363:\tlearn: 0.3561805\ttotal: 5.32s\tremaining: 9.29s\n",
            "364:\tlearn: 0.3560746\ttotal: 5.33s\tremaining: 9.28s\n",
            "365:\tlearn: 0.3559511\ttotal: 5.35s\tremaining: 9.27s\n",
            "366:\tlearn: 0.3558276\ttotal: 5.38s\tremaining: 9.27s\n",
            "367:\tlearn: 0.3556962\ttotal: 5.4s\tremaining: 9.27s\n",
            "368:\tlearn: 0.3555799\ttotal: 5.42s\tremaining: 9.26s\n",
            "369:\tlearn: 0.3554295\ttotal: 5.45s\tremaining: 9.27s\n",
            "370:\tlearn: 0.3552393\ttotal: 5.47s\tremaining: 9.28s\n",
            "371:\tlearn: 0.3551392\ttotal: 5.48s\tremaining: 9.25s\n",
            "372:\tlearn: 0.3550135\ttotal: 5.5s\tremaining: 9.24s\n",
            "373:\tlearn: 0.3549227\ttotal: 5.52s\tremaining: 9.24s\n",
            "374:\tlearn: 0.3548190\ttotal: 5.54s\tremaining: 9.23s\n",
            "375:\tlearn: 0.3547200\ttotal: 5.56s\tremaining: 9.23s\n",
            "376:\tlearn: 0.3545252\ttotal: 5.58s\tremaining: 9.23s\n",
            "377:\tlearn: 0.3544010\ttotal: 5.61s\tremaining: 9.23s\n",
            "378:\tlearn: 0.3543239\ttotal: 5.62s\tremaining: 9.21s\n",
            "379:\tlearn: 0.3541666\ttotal: 5.64s\tremaining: 9.21s\n",
            "380:\tlearn: 0.3540497\ttotal: 5.67s\tremaining: 9.21s\n",
            "381:\tlearn: 0.3539328\ttotal: 5.68s\tremaining: 9.2s\n",
            "382:\tlearn: 0.3538286\ttotal: 5.7s\tremaining: 9.18s\n",
            "383:\tlearn: 0.3537002\ttotal: 5.7s\tremaining: 9.15s\n",
            "384:\tlearn: 0.3534978\ttotal: 5.71s\tremaining: 9.12s\n",
            "385:\tlearn: 0.3532925\ttotal: 5.71s\tremaining: 9.09s\n",
            "386:\tlearn: 0.3531749\ttotal: 5.72s\tremaining: 9.06s\n",
            "387:\tlearn: 0.3530594\ttotal: 5.73s\tremaining: 9.04s\n",
            "388:\tlearn: 0.3529445\ttotal: 5.75s\tremaining: 9.04s\n",
            "389:\tlearn: 0.3527625\ttotal: 5.78s\tremaining: 9.04s\n",
            "390:\tlearn: 0.3525545\ttotal: 5.79s\tremaining: 9.02s\n",
            "391:\tlearn: 0.3524676\ttotal: 5.8s\tremaining: 8.99s\n",
            "392:\tlearn: 0.3523420\ttotal: 5.81s\tremaining: 8.98s\n",
            "393:\tlearn: 0.3522279\ttotal: 5.83s\tremaining: 8.97s\n",
            "394:\tlearn: 0.3520218\ttotal: 5.86s\tremaining: 8.98s\n",
            "395:\tlearn: 0.3519018\ttotal: 5.88s\tremaining: 8.97s\n",
            "396:\tlearn: 0.3517830\ttotal: 5.9s\tremaining: 8.97s\n",
            "397:\tlearn: 0.3515390\ttotal: 5.93s\tremaining: 8.96s\n",
            "398:\tlearn: 0.3514084\ttotal: 5.95s\tremaining: 8.96s\n",
            "399:\tlearn: 0.3513349\ttotal: 5.96s\tremaining: 8.94s\n",
            "400:\tlearn: 0.3511649\ttotal: 5.98s\tremaining: 8.93s\n",
            "401:\tlearn: 0.3508731\ttotal: 6s\tremaining: 8.93s\n",
            "402:\tlearn: 0.3507492\ttotal: 6.02s\tremaining: 8.92s\n",
            "403:\tlearn: 0.3506614\ttotal: 6.04s\tremaining: 8.9s\n",
            "404:\tlearn: 0.3505736\ttotal: 6.07s\tremaining: 8.92s\n",
            "405:\tlearn: 0.3503195\ttotal: 6.09s\tremaining: 8.91s\n",
            "406:\tlearn: 0.3501547\ttotal: 6.12s\tremaining: 8.91s\n",
            "407:\tlearn: 0.3500628\ttotal: 6.13s\tremaining: 8.89s\n",
            "408:\tlearn: 0.3499192\ttotal: 6.15s\tremaining: 8.88s\n",
            "409:\tlearn: 0.3497496\ttotal: 6.18s\tremaining: 8.9s\n",
            "410:\tlearn: 0.3494745\ttotal: 6.2s\tremaining: 8.88s\n",
            "411:\tlearn: 0.3493935\ttotal: 6.2s\tremaining: 8.85s\n",
            "412:\tlearn: 0.3492224\ttotal: 6.21s\tremaining: 8.83s\n",
            "413:\tlearn: 0.3491451\ttotal: 6.22s\tremaining: 8.81s\n",
            "414:\tlearn: 0.3490573\ttotal: 6.23s\tremaining: 8.79s\n",
            "415:\tlearn: 0.3488966\ttotal: 6.26s\tremaining: 8.79s\n",
            "416:\tlearn: 0.3486100\ttotal: 6.28s\tremaining: 8.79s\n",
            "417:\tlearn: 0.3483173\ttotal: 6.3s\tremaining: 8.78s\n",
            "418:\tlearn: 0.3481529\ttotal: 6.31s\tremaining: 8.76s\n",
            "419:\tlearn: 0.3478960\ttotal: 6.33s\tremaining: 8.75s\n",
            "420:\tlearn: 0.3477535\ttotal: 6.35s\tremaining: 8.73s\n",
            "421:\tlearn: 0.3476908\ttotal: 6.37s\tremaining: 8.72s\n",
            "422:\tlearn: 0.3475363\ttotal: 6.38s\tremaining: 8.71s\n",
            "423:\tlearn: 0.3474062\ttotal: 6.4s\tremaining: 8.69s\n",
            "424:\tlearn: 0.3472633\ttotal: 6.41s\tremaining: 8.67s\n",
            "425:\tlearn: 0.3470492\ttotal: 6.42s\tremaining: 8.65s\n",
            "426:\tlearn: 0.3468521\ttotal: 6.43s\tremaining: 8.63s\n",
            "427:\tlearn: 0.3467625\ttotal: 6.44s\tremaining: 8.61s\n",
            "428:\tlearn: 0.3466697\ttotal: 6.46s\tremaining: 8.6s\n",
            "429:\tlearn: 0.3465263\ttotal: 6.47s\tremaining: 8.58s\n",
            "430:\tlearn: 0.3464322\ttotal: 6.48s\tremaining: 8.56s\n",
            "431:\tlearn: 0.3462197\ttotal: 6.5s\tremaining: 8.54s\n",
            "432:\tlearn: 0.3460344\ttotal: 6.52s\tremaining: 8.53s\n",
            "433:\tlearn: 0.3459628\ttotal: 6.53s\tremaining: 8.52s\n",
            "434:\tlearn: 0.3457931\ttotal: 6.54s\tremaining: 8.5s\n",
            "435:\tlearn: 0.3456981\ttotal: 6.56s\tremaining: 8.49s\n",
            "436:\tlearn: 0.3455797\ttotal: 6.57s\tremaining: 8.46s\n",
            "437:\tlearn: 0.3454066\ttotal: 6.58s\tremaining: 8.45s\n",
            "438:\tlearn: 0.3453257\ttotal: 6.6s\tremaining: 8.43s\n",
            "439:\tlearn: 0.3451903\ttotal: 6.61s\tremaining: 8.41s\n",
            "440:\tlearn: 0.3451016\ttotal: 6.62s\tremaining: 8.39s\n",
            "441:\tlearn: 0.3449972\ttotal: 6.63s\tremaining: 8.37s\n",
            "442:\tlearn: 0.3448684\ttotal: 6.64s\tremaining: 8.35s\n",
            "443:\tlearn: 0.3446701\ttotal: 6.65s\tremaining: 8.33s\n",
            "444:\tlearn: 0.3444406\ttotal: 6.67s\tremaining: 8.31s\n",
            "445:\tlearn: 0.3442529\ttotal: 6.68s\tremaining: 8.29s\n",
            "446:\tlearn: 0.3440973\ttotal: 6.69s\tremaining: 8.27s\n",
            "447:\tlearn: 0.3439749\ttotal: 6.71s\tremaining: 8.27s\n",
            "448:\tlearn: 0.3438601\ttotal: 6.72s\tremaining: 8.25s\n",
            "449:\tlearn: 0.3437595\ttotal: 6.74s\tremaining: 8.24s\n",
            "450:\tlearn: 0.3435999\ttotal: 6.75s\tremaining: 8.22s\n",
            "451:\tlearn: 0.3434955\ttotal: 6.77s\tremaining: 8.21s\n",
            "452:\tlearn: 0.3432713\ttotal: 6.78s\tremaining: 8.19s\n",
            "453:\tlearn: 0.3431835\ttotal: 6.8s\tremaining: 8.18s\n",
            "454:\tlearn: 0.3430931\ttotal: 6.81s\tremaining: 8.16s\n",
            "455:\tlearn: 0.3430289\ttotal: 6.83s\tremaining: 8.14s\n",
            "456:\tlearn: 0.3429214\ttotal: 6.84s\tremaining: 8.13s\n",
            "457:\tlearn: 0.3428227\ttotal: 6.85s\tremaining: 8.11s\n",
            "458:\tlearn: 0.3426811\ttotal: 6.86s\tremaining: 8.09s\n",
            "459:\tlearn: 0.3425694\ttotal: 6.87s\tremaining: 8.07s\n",
            "460:\tlearn: 0.3423815\ttotal: 6.88s\tremaining: 8.05s\n",
            "461:\tlearn: 0.3421831\ttotal: 6.89s\tremaining: 8.03s\n",
            "462:\tlearn: 0.3420443\ttotal: 6.91s\tremaining: 8.01s\n",
            "463:\tlearn: 0.3419352\ttotal: 6.92s\tremaining: 7.99s\n",
            "464:\tlearn: 0.3418501\ttotal: 6.93s\tremaining: 7.97s\n",
            "465:\tlearn: 0.3416848\ttotal: 6.95s\tremaining: 7.97s\n",
            "466:\tlearn: 0.3415232\ttotal: 6.97s\tremaining: 7.95s\n",
            "467:\tlearn: 0.3414002\ttotal: 6.98s\tremaining: 7.94s\n",
            "468:\tlearn: 0.3411864\ttotal: 7s\tremaining: 7.93s\n",
            "469:\tlearn: 0.3410963\ttotal: 7.01s\tremaining: 7.9s\n",
            "470:\tlearn: 0.3409634\ttotal: 7.01s\tremaining: 7.88s\n",
            "471:\tlearn: 0.3408643\ttotal: 7.02s\tremaining: 7.85s\n",
            "472:\tlearn: 0.3406986\ttotal: 7.03s\tremaining: 7.83s\n",
            "473:\tlearn: 0.3405141\ttotal: 7.05s\tremaining: 7.82s\n",
            "474:\tlearn: 0.3404237\ttotal: 7.09s\tremaining: 7.83s\n",
            "475:\tlearn: 0.3403101\ttotal: 7.11s\tremaining: 7.83s\n",
            "476:\tlearn: 0.3401448\ttotal: 7.14s\tremaining: 7.83s\n",
            "477:\tlearn: 0.3400353\ttotal: 7.17s\tremaining: 7.83s\n",
            "478:\tlearn: 0.3398786\ttotal: 7.19s\tremaining: 7.82s\n",
            "479:\tlearn: 0.3397362\ttotal: 7.22s\tremaining: 7.82s\n",
            "480:\tlearn: 0.3396608\ttotal: 7.24s\tremaining: 7.81s\n",
            "481:\tlearn: 0.3395005\ttotal: 7.26s\tremaining: 7.8s\n",
            "482:\tlearn: 0.3393903\ttotal: 7.28s\tremaining: 7.79s\n",
            "483:\tlearn: 0.3392947\ttotal: 7.31s\tremaining: 7.8s\n",
            "484:\tlearn: 0.3391268\ttotal: 7.33s\tremaining: 7.79s\n",
            "485:\tlearn: 0.3389504\ttotal: 7.35s\tremaining: 7.78s\n",
            "486:\tlearn: 0.3387618\ttotal: 7.37s\tremaining: 7.76s\n",
            "487:\tlearn: 0.3386899\ttotal: 7.39s\tremaining: 7.76s\n",
            "488:\tlearn: 0.3385577\ttotal: 7.41s\tremaining: 7.74s\n",
            "489:\tlearn: 0.3383854\ttotal: 7.43s\tremaining: 7.73s\n",
            "490:\tlearn: 0.3382990\ttotal: 7.45s\tremaining: 7.72s\n",
            "491:\tlearn: 0.3381617\ttotal: 7.47s\tremaining: 7.71s\n",
            "492:\tlearn: 0.3380352\ttotal: 7.49s\tremaining: 7.71s\n",
            "493:\tlearn: 0.3379583\ttotal: 7.51s\tremaining: 7.7s\n",
            "494:\tlearn: 0.3378785\ttotal: 7.53s\tremaining: 7.68s\n",
            "495:\tlearn: 0.3377758\ttotal: 7.53s\tremaining: 7.65s\n",
            "496:\tlearn: 0.3376098\ttotal: 7.54s\tremaining: 7.63s\n",
            "497:\tlearn: 0.3374480\ttotal: 7.54s\tremaining: 7.6s\n",
            "498:\tlearn: 0.3373489\ttotal: 7.55s\tremaining: 7.58s\n",
            "499:\tlearn: 0.3371290\ttotal: 7.56s\tremaining: 7.56s\n",
            "500:\tlearn: 0.3370440\ttotal: 7.59s\tremaining: 7.56s\n",
            "501:\tlearn: 0.3369221\ttotal: 7.61s\tremaining: 7.55s\n",
            "502:\tlearn: 0.3368247\ttotal: 7.63s\tremaining: 7.54s\n",
            "503:\tlearn: 0.3366733\ttotal: 7.64s\tremaining: 7.52s\n",
            "504:\tlearn: 0.3365739\ttotal: 7.64s\tremaining: 7.49s\n",
            "505:\tlearn: 0.3364613\ttotal: 7.65s\tremaining: 7.47s\n",
            "506:\tlearn: 0.3363925\ttotal: 7.66s\tremaining: 7.45s\n",
            "507:\tlearn: 0.3362573\ttotal: 7.67s\tremaining: 7.43s\n",
            "508:\tlearn: 0.3361401\ttotal: 7.68s\tremaining: 7.41s\n",
            "509:\tlearn: 0.3360714\ttotal: 7.69s\tremaining: 7.39s\n",
            "510:\tlearn: 0.3359602\ttotal: 7.7s\tremaining: 7.37s\n",
            "511:\tlearn: 0.3358420\ttotal: 7.71s\tremaining: 7.34s\n",
            "512:\tlearn: 0.3356589\ttotal: 7.71s\tremaining: 7.32s\n",
            "513:\tlearn: 0.3355836\ttotal: 7.72s\tremaining: 7.3s\n",
            "514:\tlearn: 0.3354241\ttotal: 7.74s\tremaining: 7.29s\n",
            "515:\tlearn: 0.3352762\ttotal: 7.76s\tremaining: 7.28s\n",
            "516:\tlearn: 0.3351206\ttotal: 7.76s\tremaining: 7.25s\n",
            "517:\tlearn: 0.3350202\ttotal: 7.77s\tremaining: 7.23s\n",
            "518:\tlearn: 0.3349094\ttotal: 7.78s\tremaining: 7.21s\n",
            "519:\tlearn: 0.3348423\ttotal: 7.78s\tremaining: 7.18s\n",
            "520:\tlearn: 0.3347150\ttotal: 7.79s\tremaining: 7.16s\n",
            "521:\tlearn: 0.3345973\ttotal: 7.81s\tremaining: 7.16s\n",
            "522:\tlearn: 0.3344950\ttotal: 7.82s\tremaining: 7.13s\n",
            "523:\tlearn: 0.3343800\ttotal: 7.82s\tremaining: 7.11s\n",
            "524:\tlearn: 0.3342853\ttotal: 7.83s\tremaining: 7.08s\n",
            "525:\tlearn: 0.3341890\ttotal: 7.83s\tremaining: 7.06s\n",
            "526:\tlearn: 0.3340464\ttotal: 7.84s\tremaining: 7.04s\n",
            "527:\tlearn: 0.3339380\ttotal: 7.85s\tremaining: 7.01s\n",
            "528:\tlearn: 0.3338454\ttotal: 7.86s\tremaining: 7s\n",
            "529:\tlearn: 0.3337477\ttotal: 7.87s\tremaining: 6.97s\n",
            "530:\tlearn: 0.3336652\ttotal: 7.89s\tremaining: 6.97s\n",
            "531:\tlearn: 0.3335454\ttotal: 7.9s\tremaining: 6.95s\n",
            "532:\tlearn: 0.3333301\ttotal: 7.91s\tremaining: 6.93s\n",
            "533:\tlearn: 0.3332425\ttotal: 7.92s\tremaining: 6.91s\n",
            "534:\tlearn: 0.3330695\ttotal: 7.94s\tremaining: 6.9s\n",
            "535:\tlearn: 0.3329834\ttotal: 7.95s\tremaining: 6.88s\n",
            "536:\tlearn: 0.3328664\ttotal: 7.96s\tremaining: 6.86s\n",
            "537:\tlearn: 0.3327449\ttotal: 7.96s\tremaining: 6.84s\n",
            "538:\tlearn: 0.3326426\ttotal: 7.97s\tremaining: 6.81s\n",
            "539:\tlearn: 0.3324926\ttotal: 7.97s\tremaining: 6.79s\n",
            "540:\tlearn: 0.3323298\ttotal: 7.99s\tremaining: 6.77s\n",
            "541:\tlearn: 0.3321351\ttotal: 8s\tremaining: 6.76s\n",
            "542:\tlearn: 0.3320603\ttotal: 8.01s\tremaining: 6.74s\n",
            "543:\tlearn: 0.3319129\ttotal: 8.02s\tremaining: 6.72s\n",
            "544:\tlearn: 0.3317602\ttotal: 8.02s\tremaining: 6.7s\n",
            "545:\tlearn: 0.3316606\ttotal: 8.03s\tremaining: 6.67s\n",
            "546:\tlearn: 0.3315196\ttotal: 8.03s\tremaining: 6.65s\n",
            "547:\tlearn: 0.3314539\ttotal: 8.04s\tremaining: 6.63s\n",
            "548:\tlearn: 0.3313068\ttotal: 8.04s\tremaining: 6.61s\n",
            "549:\tlearn: 0.3311310\ttotal: 8.05s\tremaining: 6.58s\n",
            "550:\tlearn: 0.3309893\ttotal: 8.05s\tremaining: 6.56s\n",
            "551:\tlearn: 0.3308927\ttotal: 8.06s\tremaining: 6.54s\n",
            "552:\tlearn: 0.3307714\ttotal: 8.06s\tremaining: 6.52s\n",
            "553:\tlearn: 0.3306040\ttotal: 8.08s\tremaining: 6.5s\n",
            "554:\tlearn: 0.3304673\ttotal: 8.09s\tremaining: 6.49s\n",
            "555:\tlearn: 0.3303112\ttotal: 8.11s\tremaining: 6.47s\n",
            "556:\tlearn: 0.3301814\ttotal: 8.12s\tremaining: 6.46s\n",
            "557:\tlearn: 0.3300945\ttotal: 8.13s\tremaining: 6.44s\n",
            "558:\tlearn: 0.3299346\ttotal: 8.14s\tremaining: 6.42s\n",
            "559:\tlearn: 0.3298227\ttotal: 8.15s\tremaining: 6.41s\n",
            "560:\tlearn: 0.3297299\ttotal: 8.17s\tremaining: 6.39s\n",
            "561:\tlearn: 0.3295672\ttotal: 8.2s\tremaining: 6.39s\n",
            "562:\tlearn: 0.3294435\ttotal: 8.22s\tremaining: 6.38s\n",
            "563:\tlearn: 0.3293486\ttotal: 8.24s\tremaining: 6.37s\n",
            "564:\tlearn: 0.3291956\ttotal: 8.28s\tremaining: 6.37s\n",
            "565:\tlearn: 0.3290597\ttotal: 8.31s\tremaining: 6.37s\n",
            "566:\tlearn: 0.3289398\ttotal: 8.34s\tremaining: 6.37s\n",
            "567:\tlearn: 0.3288332\ttotal: 8.36s\tremaining: 6.36s\n",
            "568:\tlearn: 0.3286705\ttotal: 8.39s\tremaining: 6.35s\n",
            "569:\tlearn: 0.3285421\ttotal: 8.41s\tremaining: 6.34s\n",
            "570:\tlearn: 0.3284347\ttotal: 8.44s\tremaining: 6.34s\n",
            "571:\tlearn: 0.3283297\ttotal: 8.47s\tremaining: 6.34s\n",
            "572:\tlearn: 0.3282689\ttotal: 8.49s\tremaining: 6.33s\n",
            "573:\tlearn: 0.3281541\ttotal: 8.51s\tremaining: 6.32s\n",
            "574:\tlearn: 0.3280288\ttotal: 8.53s\tremaining: 6.3s\n",
            "575:\tlearn: 0.3279057\ttotal: 8.55s\tremaining: 6.29s\n",
            "576:\tlearn: 0.3278311\ttotal: 8.59s\tremaining: 6.3s\n",
            "577:\tlearn: 0.3276777\ttotal: 8.61s\tremaining: 6.29s\n",
            "578:\tlearn: 0.3275838\ttotal: 8.64s\tremaining: 6.28s\n",
            "579:\tlearn: 0.3274616\ttotal: 8.66s\tremaining: 6.27s\n",
            "580:\tlearn: 0.3273029\ttotal: 8.69s\tremaining: 6.27s\n",
            "581:\tlearn: 0.3272081\ttotal: 8.71s\tremaining: 6.26s\n",
            "582:\tlearn: 0.3270967\ttotal: 8.73s\tremaining: 6.25s\n",
            "583:\tlearn: 0.3270055\ttotal: 8.75s\tremaining: 6.23s\n",
            "584:\tlearn: 0.3268651\ttotal: 8.77s\tremaining: 6.22s\n",
            "585:\tlearn: 0.3268011\ttotal: 8.78s\tremaining: 6.21s\n",
            "586:\tlearn: 0.3267335\ttotal: 8.8s\tremaining: 6.19s\n",
            "587:\tlearn: 0.3266710\ttotal: 8.83s\tremaining: 6.18s\n",
            "588:\tlearn: 0.3265982\ttotal: 8.83s\tremaining: 6.16s\n",
            "589:\tlearn: 0.3264622\ttotal: 8.84s\tremaining: 6.14s\n",
            "590:\tlearn: 0.3263479\ttotal: 8.85s\tremaining: 6.12s\n",
            "591:\tlearn: 0.3262724\ttotal: 8.86s\tremaining: 6.11s\n",
            "592:\tlearn: 0.3261606\ttotal: 8.87s\tremaining: 6.09s\n",
            "593:\tlearn: 0.3260630\ttotal: 8.89s\tremaining: 6.07s\n",
            "594:\tlearn: 0.3258889\ttotal: 8.91s\tremaining: 6.07s\n",
            "595:\tlearn: 0.3258169\ttotal: 8.94s\tremaining: 6.06s\n",
            "596:\tlearn: 0.3256652\ttotal: 8.96s\tremaining: 6.05s\n",
            "597:\tlearn: 0.3255839\ttotal: 8.99s\tremaining: 6.05s\n",
            "598:\tlearn: 0.3254951\ttotal: 9.01s\tremaining: 6.03s\n",
            "599:\tlearn: 0.3253561\ttotal: 9.04s\tremaining: 6.03s\n",
            "600:\tlearn: 0.3252746\ttotal: 9.06s\tremaining: 6.01s\n",
            "601:\tlearn: 0.3251357\ttotal: 9.09s\tremaining: 6.01s\n",
            "602:\tlearn: 0.3250298\ttotal: 9.1s\tremaining: 5.99s\n",
            "603:\tlearn: 0.3248866\ttotal: 9.13s\tremaining: 5.98s\n",
            "604:\tlearn: 0.3248033\ttotal: 9.14s\tremaining: 5.96s\n",
            "605:\tlearn: 0.3246668\ttotal: 9.16s\tremaining: 5.95s\n",
            "606:\tlearn: 0.3245857\ttotal: 9.19s\tremaining: 5.95s\n",
            "607:\tlearn: 0.3245259\ttotal: 9.22s\tremaining: 5.95s\n",
            "608:\tlearn: 0.3244308\ttotal: 9.26s\tremaining: 5.95s\n",
            "609:\tlearn: 0.3243694\ttotal: 9.28s\tremaining: 5.93s\n",
            "610:\tlearn: 0.3242297\ttotal: 9.29s\tremaining: 5.92s\n",
            "611:\tlearn: 0.3241148\ttotal: 9.3s\tremaining: 5.9s\n",
            "612:\tlearn: 0.3239111\ttotal: 9.31s\tremaining: 5.88s\n",
            "613:\tlearn: 0.3237795\ttotal: 9.32s\tremaining: 5.86s\n",
            "614:\tlearn: 0.3236191\ttotal: 9.33s\tremaining: 5.84s\n",
            "615:\tlearn: 0.3235268\ttotal: 9.35s\tremaining: 5.83s\n",
            "616:\tlearn: 0.3234689\ttotal: 9.36s\tremaining: 5.81s\n",
            "617:\tlearn: 0.3233399\ttotal: 9.36s\tremaining: 5.79s\n",
            "618:\tlearn: 0.3232247\ttotal: 9.38s\tremaining: 5.77s\n",
            "619:\tlearn: 0.3231414\ttotal: 9.39s\tremaining: 5.75s\n",
            "620:\tlearn: 0.3230541\ttotal: 9.41s\tremaining: 5.74s\n",
            "621:\tlearn: 0.3229822\ttotal: 9.42s\tremaining: 5.72s\n",
            "622:\tlearn: 0.3229185\ttotal: 9.42s\tremaining: 5.7s\n",
            "623:\tlearn: 0.3228043\ttotal: 9.44s\tremaining: 5.68s\n",
            "624:\tlearn: 0.3226846\ttotal: 9.45s\tremaining: 5.67s\n",
            "625:\tlearn: 0.3226060\ttotal: 9.46s\tremaining: 5.65s\n",
            "626:\tlearn: 0.3225263\ttotal: 9.49s\tremaining: 5.64s\n",
            "627:\tlearn: 0.3224627\ttotal: 9.51s\tremaining: 5.63s\n",
            "628:\tlearn: 0.3223463\ttotal: 9.53s\tremaining: 5.62s\n",
            "629:\tlearn: 0.3222271\ttotal: 9.54s\tremaining: 5.6s\n",
            "630:\tlearn: 0.3221390\ttotal: 9.56s\tremaining: 5.59s\n",
            "631:\tlearn: 0.3220683\ttotal: 9.56s\tremaining: 5.57s\n",
            "632:\tlearn: 0.3219496\ttotal: 9.57s\tremaining: 5.55s\n",
            "633:\tlearn: 0.3218702\ttotal: 9.57s\tremaining: 5.53s\n",
            "634:\tlearn: 0.3217584\ttotal: 9.58s\tremaining: 5.51s\n",
            "635:\tlearn: 0.3216768\ttotal: 9.59s\tremaining: 5.49s\n",
            "636:\tlearn: 0.3215935\ttotal: 9.6s\tremaining: 5.47s\n",
            "637:\tlearn: 0.3214895\ttotal: 9.61s\tremaining: 5.45s\n",
            "638:\tlearn: 0.3213393\ttotal: 9.62s\tremaining: 5.43s\n",
            "639:\tlearn: 0.3212603\ttotal: 9.63s\tremaining: 5.41s\n",
            "640:\tlearn: 0.3211984\ttotal: 9.64s\tremaining: 5.4s\n",
            "641:\tlearn: 0.3211433\ttotal: 9.65s\tremaining: 5.38s\n",
            "642:\tlearn: 0.3210216\ttotal: 9.67s\tremaining: 5.37s\n",
            "643:\tlearn: 0.3208938\ttotal: 9.68s\tremaining: 5.35s\n",
            "644:\tlearn: 0.3207465\ttotal: 9.69s\tremaining: 5.33s\n",
            "645:\tlearn: 0.3206009\ttotal: 9.7s\tremaining: 5.32s\n",
            "646:\tlearn: 0.3204807\ttotal: 9.73s\tremaining: 5.31s\n",
            "647:\tlearn: 0.3203722\ttotal: 9.75s\tremaining: 5.3s\n",
            "648:\tlearn: 0.3203289\ttotal: 9.77s\tremaining: 5.28s\n",
            "649:\tlearn: 0.3202398\ttotal: 9.78s\tremaining: 5.26s\n",
            "650:\tlearn: 0.3201591\ttotal: 9.8s\tremaining: 5.25s\n",
            "651:\tlearn: 0.3200412\ttotal: 9.82s\tremaining: 5.24s\n",
            "652:\tlearn: 0.3199672\ttotal: 9.84s\tremaining: 5.23s\n",
            "653:\tlearn: 0.3199085\ttotal: 9.86s\tremaining: 5.21s\n",
            "654:\tlearn: 0.3198597\ttotal: 9.86s\tremaining: 5.19s\n",
            "655:\tlearn: 0.3196971\ttotal: 9.87s\tremaining: 5.17s\n",
            "656:\tlearn: 0.3196142\ttotal: 9.87s\tremaining: 5.15s\n",
            "657:\tlearn: 0.3195033\ttotal: 9.88s\tremaining: 5.13s\n",
            "658:\tlearn: 0.3194012\ttotal: 9.88s\tremaining: 5.11s\n",
            "659:\tlearn: 0.3192929\ttotal: 9.89s\tremaining: 5.1s\n",
            "660:\tlearn: 0.3192016\ttotal: 9.91s\tremaining: 5.08s\n",
            "661:\tlearn: 0.3190907\ttotal: 9.92s\tremaining: 5.07s\n",
            "662:\tlearn: 0.3190195\ttotal: 9.93s\tremaining: 5.04s\n",
            "663:\tlearn: 0.3189572\ttotal: 9.93s\tremaining: 5.03s\n",
            "664:\tlearn: 0.3188798\ttotal: 9.94s\tremaining: 5.01s\n",
            "665:\tlearn: 0.3187316\ttotal: 9.95s\tremaining: 4.99s\n",
            "666:\tlearn: 0.3186550\ttotal: 9.96s\tremaining: 4.97s\n",
            "667:\tlearn: 0.3185320\ttotal: 9.97s\tremaining: 4.95s\n",
            "668:\tlearn: 0.3184242\ttotal: 9.98s\tremaining: 4.94s\n",
            "669:\tlearn: 0.3182935\ttotal: 9.99s\tremaining: 4.92s\n",
            "670:\tlearn: 0.3181583\ttotal: 10s\tremaining: 4.91s\n",
            "671:\tlearn: 0.3180733\ttotal: 10s\tremaining: 4.89s\n",
            "672:\tlearn: 0.3179635\ttotal: 10s\tremaining: 4.87s\n",
            "673:\tlearn: 0.3178568\ttotal: 10s\tremaining: 4.86s\n",
            "674:\tlearn: 0.3177801\ttotal: 10.1s\tremaining: 4.84s\n",
            "675:\tlearn: 0.3176887\ttotal: 10.1s\tremaining: 4.82s\n",
            "676:\tlearn: 0.3175841\ttotal: 10.1s\tremaining: 4.8s\n",
            "677:\tlearn: 0.3175430\ttotal: 10.1s\tremaining: 4.78s\n",
            "678:\tlearn: 0.3174040\ttotal: 10.1s\tremaining: 4.77s\n",
            "679:\tlearn: 0.3173289\ttotal: 10.1s\tremaining: 4.75s\n",
            "680:\tlearn: 0.3172204\ttotal: 10.1s\tremaining: 4.74s\n",
            "681:\tlearn: 0.3171370\ttotal: 10.1s\tremaining: 4.72s\n",
            "682:\tlearn: 0.3170528\ttotal: 10.1s\tremaining: 4.7s\n",
            "683:\tlearn: 0.3169420\ttotal: 10.1s\tremaining: 4.69s\n",
            "684:\tlearn: 0.3168193\ttotal: 10.2s\tremaining: 4.67s\n",
            "685:\tlearn: 0.3167218\ttotal: 10.2s\tremaining: 4.66s\n",
            "686:\tlearn: 0.3166462\ttotal: 10.2s\tremaining: 4.64s\n",
            "687:\tlearn: 0.3165685\ttotal: 10.2s\tremaining: 4.62s\n",
            "688:\tlearn: 0.3164831\ttotal: 10.2s\tremaining: 4.61s\n",
            "689:\tlearn: 0.3163452\ttotal: 10.2s\tremaining: 4.59s\n",
            "690:\tlearn: 0.3162413\ttotal: 10.2s\tremaining: 4.57s\n",
            "691:\tlearn: 0.3160870\ttotal: 10.2s\tremaining: 4.56s\n",
            "692:\tlearn: 0.3159506\ttotal: 10.3s\tremaining: 4.54s\n",
            "693:\tlearn: 0.3158597\ttotal: 10.3s\tremaining: 4.53s\n",
            "694:\tlearn: 0.3157389\ttotal: 10.3s\tremaining: 4.51s\n",
            "695:\tlearn: 0.3156872\ttotal: 10.3s\tremaining: 4.5s\n",
            "696:\tlearn: 0.3155896\ttotal: 10.3s\tremaining: 4.49s\n",
            "697:\tlearn: 0.3155373\ttotal: 10.3s\tremaining: 4.48s\n",
            "698:\tlearn: 0.3154119\ttotal: 10.4s\tremaining: 4.46s\n",
            "699:\tlearn: 0.3153122\ttotal: 10.4s\tremaining: 4.45s\n",
            "700:\tlearn: 0.3152514\ttotal: 10.4s\tremaining: 4.43s\n",
            "701:\tlearn: 0.3151159\ttotal: 10.4s\tremaining: 4.42s\n",
            "702:\tlearn: 0.3150392\ttotal: 10.4s\tremaining: 4.4s\n",
            "703:\tlearn: 0.3149989\ttotal: 10.4s\tremaining: 4.39s\n",
            "704:\tlearn: 0.3149331\ttotal: 10.5s\tremaining: 4.37s\n",
            "705:\tlearn: 0.3148698\ttotal: 10.5s\tremaining: 4.36s\n",
            "706:\tlearn: 0.3148232\ttotal: 10.5s\tremaining: 4.34s\n",
            "707:\tlearn: 0.3147648\ttotal: 10.5s\tremaining: 4.33s\n",
            "708:\tlearn: 0.3146299\ttotal: 10.5s\tremaining: 4.31s\n",
            "709:\tlearn: 0.3144737\ttotal: 10.5s\tremaining: 4.29s\n",
            "710:\tlearn: 0.3143841\ttotal: 10.5s\tremaining: 4.28s\n",
            "711:\tlearn: 0.3142901\ttotal: 10.5s\tremaining: 4.26s\n",
            "712:\tlearn: 0.3142382\ttotal: 10.5s\tremaining: 4.24s\n",
            "713:\tlearn: 0.3141847\ttotal: 10.5s\tremaining: 4.22s\n",
            "714:\tlearn: 0.3140619\ttotal: 10.6s\tremaining: 4.21s\n",
            "715:\tlearn: 0.3139650\ttotal: 10.6s\tremaining: 4.2s\n",
            "716:\tlearn: 0.3138421\ttotal: 10.6s\tremaining: 4.18s\n",
            "717:\tlearn: 0.3137247\ttotal: 10.6s\tremaining: 4.17s\n",
            "718:\tlearn: 0.3136198\ttotal: 10.6s\tremaining: 4.15s\n",
            "719:\tlearn: 0.3135727\ttotal: 10.6s\tremaining: 4.13s\n",
            "720:\tlearn: 0.3135054\ttotal: 10.6s\tremaining: 4.12s\n",
            "721:\tlearn: 0.3133726\ttotal: 10.7s\tremaining: 4.1s\n",
            "722:\tlearn: 0.3133030\ttotal: 10.7s\tremaining: 4.08s\n",
            "723:\tlearn: 0.3132300\ttotal: 10.7s\tremaining: 4.07s\n",
            "724:\tlearn: 0.3131224\ttotal: 10.7s\tremaining: 4.05s\n",
            "725:\tlearn: 0.3130618\ttotal: 10.7s\tremaining: 4.04s\n",
            "726:\tlearn: 0.3129168\ttotal: 10.7s\tremaining: 4.02s\n",
            "727:\tlearn: 0.3128060\ttotal: 10.7s\tremaining: 4s\n",
            "728:\tlearn: 0.3126908\ttotal: 10.7s\tremaining: 3.99s\n",
            "729:\tlearn: 0.3125656\ttotal: 10.7s\tremaining: 3.97s\n",
            "730:\tlearn: 0.3124641\ttotal: 10.8s\tremaining: 3.96s\n",
            "731:\tlearn: 0.3123836\ttotal: 10.8s\tremaining: 3.95s\n",
            "732:\tlearn: 0.3122938\ttotal: 10.8s\tremaining: 3.94s\n",
            "733:\tlearn: 0.3121350\ttotal: 10.8s\tremaining: 3.92s\n",
            "734:\tlearn: 0.3120636\ttotal: 10.8s\tremaining: 3.91s\n",
            "735:\tlearn: 0.3120045\ttotal: 10.9s\tremaining: 3.9s\n",
            "736:\tlearn: 0.3119135\ttotal: 10.9s\tremaining: 3.89s\n",
            "737:\tlearn: 0.3117846\ttotal: 10.9s\tremaining: 3.87s\n",
            "738:\tlearn: 0.3116204\ttotal: 10.9s\tremaining: 3.87s\n",
            "739:\tlearn: 0.3115113\ttotal: 11s\tremaining: 3.85s\n",
            "740:\tlearn: 0.3114223\ttotal: 11s\tremaining: 3.84s\n",
            "741:\tlearn: 0.3113397\ttotal: 11s\tremaining: 3.83s\n",
            "742:\tlearn: 0.3112414\ttotal: 11s\tremaining: 3.82s\n",
            "743:\tlearn: 0.3111334\ttotal: 11.1s\tremaining: 3.81s\n",
            "744:\tlearn: 0.3110158\ttotal: 11.1s\tremaining: 3.79s\n",
            "745:\tlearn: 0.3109039\ttotal: 11.1s\tremaining: 3.78s\n",
            "746:\tlearn: 0.3107928\ttotal: 11.1s\tremaining: 3.77s\n",
            "747:\tlearn: 0.3107076\ttotal: 11.1s\tremaining: 3.75s\n",
            "748:\tlearn: 0.3106138\ttotal: 11.2s\tremaining: 3.74s\n",
            "749:\tlearn: 0.3105466\ttotal: 11.2s\tremaining: 3.73s\n",
            "750:\tlearn: 0.3104257\ttotal: 11.2s\tremaining: 3.72s\n",
            "751:\tlearn: 0.3103620\ttotal: 11.2s\tremaining: 3.71s\n",
            "752:\tlearn: 0.3103145\ttotal: 11.2s\tremaining: 3.69s\n",
            "753:\tlearn: 0.3101999\ttotal: 11.3s\tremaining: 3.68s\n",
            "754:\tlearn: 0.3100703\ttotal: 11.3s\tremaining: 3.66s\n",
            "755:\tlearn: 0.3099573\ttotal: 11.3s\tremaining: 3.65s\n",
            "756:\tlearn: 0.3098808\ttotal: 11.3s\tremaining: 3.63s\n",
            "757:\tlearn: 0.3097842\ttotal: 11.3s\tremaining: 3.62s\n",
            "758:\tlearn: 0.3096897\ttotal: 11.3s\tremaining: 3.6s\n",
            "759:\tlearn: 0.3096047\ttotal: 11.4s\tremaining: 3.59s\n",
            "760:\tlearn: 0.3095539\ttotal: 11.4s\tremaining: 3.58s\n",
            "761:\tlearn: 0.3095097\ttotal: 11.4s\tremaining: 3.56s\n",
            "762:\tlearn: 0.3093920\ttotal: 11.4s\tremaining: 3.55s\n",
            "763:\tlearn: 0.3093100\ttotal: 11.4s\tremaining: 3.53s\n",
            "764:\tlearn: 0.3092280\ttotal: 11.4s\tremaining: 3.52s\n",
            "765:\tlearn: 0.3091300\ttotal: 11.5s\tremaining: 3.5s\n",
            "766:\tlearn: 0.3090160\ttotal: 11.5s\tremaining: 3.48s\n",
            "767:\tlearn: 0.3088844\ttotal: 11.5s\tremaining: 3.47s\n",
            "768:\tlearn: 0.3087895\ttotal: 11.5s\tremaining: 3.45s\n",
            "769:\tlearn: 0.3087436\ttotal: 11.5s\tremaining: 3.43s\n",
            "770:\tlearn: 0.3086245\ttotal: 11.5s\tremaining: 3.42s\n",
            "771:\tlearn: 0.3085323\ttotal: 11.5s\tremaining: 3.4s\n",
            "772:\tlearn: 0.3084552\ttotal: 11.5s\tremaining: 3.39s\n",
            "773:\tlearn: 0.3083690\ttotal: 11.5s\tremaining: 3.37s\n",
            "774:\tlearn: 0.3082402\ttotal: 11.6s\tremaining: 3.35s\n",
            "775:\tlearn: 0.3081697\ttotal: 11.6s\tremaining: 3.34s\n",
            "776:\tlearn: 0.3080945\ttotal: 11.6s\tremaining: 3.32s\n",
            "777:\tlearn: 0.3079759\ttotal: 11.6s\tremaining: 3.3s\n",
            "778:\tlearn: 0.3079058\ttotal: 11.6s\tremaining: 3.28s\n",
            "779:\tlearn: 0.3077848\ttotal: 11.6s\tremaining: 3.27s\n",
            "780:\tlearn: 0.3076682\ttotal: 11.6s\tremaining: 3.25s\n",
            "781:\tlearn: 0.3076034\ttotal: 11.6s\tremaining: 3.23s\n",
            "782:\tlearn: 0.3074994\ttotal: 11.6s\tremaining: 3.21s\n",
            "783:\tlearn: 0.3073888\ttotal: 11.6s\tremaining: 3.2s\n",
            "784:\tlearn: 0.3073125\ttotal: 11.6s\tremaining: 3.18s\n",
            "785:\tlearn: 0.3071848\ttotal: 11.6s\tremaining: 3.16s\n",
            "786:\tlearn: 0.3071341\ttotal: 11.6s\tremaining: 3.15s\n",
            "787:\tlearn: 0.3070950\ttotal: 11.6s\tremaining: 3.13s\n",
            "788:\tlearn: 0.3070004\ttotal: 11.6s\tremaining: 3.11s\n",
            "789:\tlearn: 0.3069035\ttotal: 11.7s\tremaining: 3.1s\n",
            "790:\tlearn: 0.3067845\ttotal: 11.7s\tremaining: 3.08s\n",
            "791:\tlearn: 0.3067022\ttotal: 11.7s\tremaining: 3.07s\n",
            "792:\tlearn: 0.3065808\ttotal: 11.7s\tremaining: 3.05s\n",
            "793:\tlearn: 0.3064873\ttotal: 11.7s\tremaining: 3.04s\n",
            "794:\tlearn: 0.3064233\ttotal: 11.7s\tremaining: 3.03s\n",
            "795:\tlearn: 0.3063613\ttotal: 11.8s\tremaining: 3.01s\n",
            "796:\tlearn: 0.3062884\ttotal: 11.8s\tremaining: 3s\n",
            "797:\tlearn: 0.3061593\ttotal: 11.8s\tremaining: 2.98s\n",
            "798:\tlearn: 0.3061041\ttotal: 11.8s\tremaining: 2.97s\n",
            "799:\tlearn: 0.3059990\ttotal: 11.8s\tremaining: 2.95s\n",
            "800:\tlearn: 0.3059510\ttotal: 11.8s\tremaining: 2.93s\n",
            "801:\tlearn: 0.3058599\ttotal: 11.8s\tremaining: 2.92s\n",
            "802:\tlearn: 0.3057731\ttotal: 11.8s\tremaining: 2.9s\n",
            "803:\tlearn: 0.3056539\ttotal: 11.8s\tremaining: 2.88s\n",
            "804:\tlearn: 0.3055816\ttotal: 11.8s\tremaining: 2.86s\n",
            "805:\tlearn: 0.3054973\ttotal: 11.8s\tremaining: 2.85s\n",
            "806:\tlearn: 0.3053744\ttotal: 11.8s\tremaining: 2.83s\n",
            "807:\tlearn: 0.3052826\ttotal: 11.8s\tremaining: 2.81s\n",
            "808:\tlearn: 0.3051841\ttotal: 11.8s\tremaining: 2.8s\n",
            "809:\tlearn: 0.3051103\ttotal: 11.9s\tremaining: 2.78s\n",
            "810:\tlearn: 0.3050498\ttotal: 11.9s\tremaining: 2.76s\n",
            "811:\tlearn: 0.3049896\ttotal: 11.9s\tremaining: 2.75s\n",
            "812:\tlearn: 0.3049188\ttotal: 11.9s\tremaining: 2.73s\n",
            "813:\tlearn: 0.3048011\ttotal: 11.9s\tremaining: 2.71s\n",
            "814:\tlearn: 0.3046886\ttotal: 11.9s\tremaining: 2.7s\n",
            "815:\tlearn: 0.3045921\ttotal: 11.9s\tremaining: 2.68s\n",
            "816:\tlearn: 0.3045161\ttotal: 11.9s\tremaining: 2.66s\n",
            "817:\tlearn: 0.3044353\ttotal: 11.9s\tremaining: 2.65s\n",
            "818:\tlearn: 0.3043295\ttotal: 11.9s\tremaining: 2.63s\n",
            "819:\tlearn: 0.3042370\ttotal: 11.9s\tremaining: 2.61s\n",
            "820:\tlearn: 0.3041792\ttotal: 11.9s\tremaining: 2.6s\n",
            "821:\tlearn: 0.3040847\ttotal: 11.9s\tremaining: 2.58s\n",
            "822:\tlearn: 0.3039851\ttotal: 11.9s\tremaining: 2.56s\n",
            "823:\tlearn: 0.3039203\ttotal: 11.9s\tremaining: 2.55s\n",
            "824:\tlearn: 0.3038169\ttotal: 12s\tremaining: 2.54s\n",
            "825:\tlearn: 0.3037208\ttotal: 12s\tremaining: 2.52s\n",
            "826:\tlearn: 0.3036324\ttotal: 12s\tremaining: 2.5s\n",
            "827:\tlearn: 0.3035678\ttotal: 12s\tremaining: 2.49s\n",
            "828:\tlearn: 0.3035106\ttotal: 12s\tremaining: 2.47s\n",
            "829:\tlearn: 0.3034209\ttotal: 12s\tremaining: 2.45s\n",
            "830:\tlearn: 0.3033561\ttotal: 12s\tremaining: 2.44s\n",
            "831:\tlearn: 0.3032635\ttotal: 12s\tremaining: 2.42s\n",
            "832:\tlearn: 0.3031629\ttotal: 12s\tremaining: 2.41s\n",
            "833:\tlearn: 0.3031137\ttotal: 12s\tremaining: 2.39s\n",
            "834:\tlearn: 0.3030493\ttotal: 12s\tremaining: 2.37s\n",
            "835:\tlearn: 0.3029596\ttotal: 12s\tremaining: 2.36s\n",
            "836:\tlearn: 0.3029113\ttotal: 12s\tremaining: 2.34s\n",
            "837:\tlearn: 0.3028165\ttotal: 12s\tremaining: 2.33s\n",
            "838:\tlearn: 0.3027332\ttotal: 12s\tremaining: 2.31s\n",
            "839:\tlearn: 0.3026377\ttotal: 12s\tremaining: 2.29s\n",
            "840:\tlearn: 0.3025481\ttotal: 12.1s\tremaining: 2.28s\n",
            "841:\tlearn: 0.3025079\ttotal: 12.1s\tremaining: 2.26s\n",
            "842:\tlearn: 0.3024206\ttotal: 12.1s\tremaining: 2.25s\n",
            "843:\tlearn: 0.3023376\ttotal: 12.1s\tremaining: 2.24s\n",
            "844:\tlearn: 0.3022977\ttotal: 12.1s\tremaining: 2.22s\n",
            "845:\tlearn: 0.3022294\ttotal: 12.1s\tremaining: 2.21s\n",
            "846:\tlearn: 0.3021587\ttotal: 12.1s\tremaining: 2.19s\n",
            "847:\tlearn: 0.3020890\ttotal: 12.2s\tremaining: 2.18s\n",
            "848:\tlearn: 0.3020029\ttotal: 12.2s\tremaining: 2.16s\n",
            "849:\tlearn: 0.3019047\ttotal: 12.2s\tremaining: 2.15s\n",
            "850:\tlearn: 0.3017784\ttotal: 12.2s\tremaining: 2.13s\n",
            "851:\tlearn: 0.3017006\ttotal: 12.2s\tremaining: 2.12s\n",
            "852:\tlearn: 0.3016303\ttotal: 12.2s\tremaining: 2.1s\n",
            "853:\tlearn: 0.3015597\ttotal: 12.2s\tremaining: 2.09s\n",
            "854:\tlearn: 0.3014456\ttotal: 12.2s\tremaining: 2.08s\n",
            "855:\tlearn: 0.3014093\ttotal: 12.3s\tremaining: 2.06s\n",
            "856:\tlearn: 0.3013032\ttotal: 12.3s\tremaining: 2.05s\n",
            "857:\tlearn: 0.3012097\ttotal: 12.3s\tremaining: 2.03s\n",
            "858:\tlearn: 0.3011000\ttotal: 12.3s\tremaining: 2.02s\n",
            "859:\tlearn: 0.3010550\ttotal: 12.3s\tremaining: 2s\n",
            "860:\tlearn: 0.3009836\ttotal: 12.3s\tremaining: 1.99s\n",
            "861:\tlearn: 0.3008743\ttotal: 12.3s\tremaining: 1.97s\n",
            "862:\tlearn: 0.3007552\ttotal: 12.3s\tremaining: 1.96s\n",
            "863:\tlearn: 0.3007033\ttotal: 12.3s\tremaining: 1.94s\n",
            "864:\tlearn: 0.3005753\ttotal: 12.3s\tremaining: 1.93s\n",
            "865:\tlearn: 0.3004630\ttotal: 12.3s\tremaining: 1.91s\n",
            "866:\tlearn: 0.3003919\ttotal: 12.3s\tremaining: 1.89s\n",
            "867:\tlearn: 0.3003243\ttotal: 12.4s\tremaining: 1.88s\n",
            "868:\tlearn: 0.3002218\ttotal: 12.4s\tremaining: 1.87s\n",
            "869:\tlearn: 0.3001396\ttotal: 12.4s\tremaining: 1.85s\n",
            "870:\tlearn: 0.3001135\ttotal: 12.4s\tremaining: 1.84s\n",
            "871:\tlearn: 0.3000056\ttotal: 12.4s\tremaining: 1.82s\n",
            "872:\tlearn: 0.2999277\ttotal: 12.4s\tremaining: 1.81s\n",
            "873:\tlearn: 0.2998885\ttotal: 12.4s\tremaining: 1.79s\n",
            "874:\tlearn: 0.2997776\ttotal: 12.5s\tremaining: 1.78s\n",
            "875:\tlearn: 0.2997090\ttotal: 12.5s\tremaining: 1.76s\n",
            "876:\tlearn: 0.2996004\ttotal: 12.5s\tremaining: 1.75s\n",
            "877:\tlearn: 0.2995825\ttotal: 12.5s\tremaining: 1.74s\n",
            "878:\tlearn: 0.2994743\ttotal: 12.5s\tremaining: 1.72s\n",
            "879:\tlearn: 0.2993689\ttotal: 12.5s\tremaining: 1.71s\n",
            "880:\tlearn: 0.2993071\ttotal: 12.6s\tremaining: 1.7s\n",
            "881:\tlearn: 0.2992536\ttotal: 12.6s\tremaining: 1.68s\n",
            "882:\tlearn: 0.2991643\ttotal: 12.6s\tremaining: 1.67s\n",
            "883:\tlearn: 0.2990948\ttotal: 12.6s\tremaining: 1.65s\n",
            "884:\tlearn: 0.2989990\ttotal: 12.6s\tremaining: 1.64s\n",
            "885:\tlearn: 0.2989471\ttotal: 12.6s\tremaining: 1.62s\n",
            "886:\tlearn: 0.2988454\ttotal: 12.6s\tremaining: 1.61s\n",
            "887:\tlearn: 0.2987786\ttotal: 12.7s\tremaining: 1.6s\n",
            "888:\tlearn: 0.2987208\ttotal: 12.7s\tremaining: 1.58s\n",
            "889:\tlearn: 0.2986305\ttotal: 12.7s\tremaining: 1.57s\n",
            "890:\tlearn: 0.2985411\ttotal: 12.7s\tremaining: 1.55s\n",
            "891:\tlearn: 0.2984552\ttotal: 12.7s\tremaining: 1.54s\n",
            "892:\tlearn: 0.2983318\ttotal: 12.7s\tremaining: 1.52s\n",
            "893:\tlearn: 0.2982394\ttotal: 12.7s\tremaining: 1.51s\n",
            "894:\tlearn: 0.2981724\ttotal: 12.7s\tremaining: 1.5s\n",
            "895:\tlearn: 0.2981058\ttotal: 12.8s\tremaining: 1.48s\n",
            "896:\tlearn: 0.2980278\ttotal: 12.8s\tremaining: 1.47s\n",
            "897:\tlearn: 0.2979580\ttotal: 12.8s\tremaining: 1.45s\n",
            "898:\tlearn: 0.2978828\ttotal: 12.8s\tremaining: 1.44s\n",
            "899:\tlearn: 0.2978209\ttotal: 12.8s\tremaining: 1.42s\n",
            "900:\tlearn: 0.2977294\ttotal: 12.8s\tremaining: 1.41s\n",
            "901:\tlearn: 0.2976633\ttotal: 12.8s\tremaining: 1.39s\n",
            "902:\tlearn: 0.2975770\ttotal: 12.8s\tremaining: 1.38s\n",
            "903:\tlearn: 0.2974703\ttotal: 12.8s\tremaining: 1.36s\n",
            "904:\tlearn: 0.2973957\ttotal: 12.9s\tremaining: 1.35s\n",
            "905:\tlearn: 0.2973408\ttotal: 12.9s\tremaining: 1.33s\n",
            "906:\tlearn: 0.2972366\ttotal: 12.9s\tremaining: 1.32s\n",
            "907:\tlearn: 0.2971536\ttotal: 12.9s\tremaining: 1.31s\n",
            "908:\tlearn: 0.2970651\ttotal: 12.9s\tremaining: 1.29s\n",
            "909:\tlearn: 0.2969921\ttotal: 12.9s\tremaining: 1.28s\n",
            "910:\tlearn: 0.2968823\ttotal: 13s\tremaining: 1.27s\n",
            "911:\tlearn: 0.2968189\ttotal: 13s\tremaining: 1.25s\n",
            "912:\tlearn: 0.2967701\ttotal: 13s\tremaining: 1.24s\n",
            "913:\tlearn: 0.2966825\ttotal: 13s\tremaining: 1.22s\n",
            "914:\tlearn: 0.2966143\ttotal: 13s\tremaining: 1.21s\n",
            "915:\tlearn: 0.2965412\ttotal: 13s\tremaining: 1.2s\n",
            "916:\tlearn: 0.2963789\ttotal: 13.1s\tremaining: 1.18s\n",
            "917:\tlearn: 0.2962877\ttotal: 13.1s\tremaining: 1.17s\n",
            "918:\tlearn: 0.2962237\ttotal: 13.1s\tremaining: 1.15s\n",
            "919:\tlearn: 0.2961303\ttotal: 13.1s\tremaining: 1.14s\n",
            "920:\tlearn: 0.2960062\ttotal: 13.2s\tremaining: 1.13s\n",
            "921:\tlearn: 0.2959011\ttotal: 13.2s\tremaining: 1.11s\n",
            "922:\tlearn: 0.2958127\ttotal: 13.2s\tremaining: 1.1s\n",
            "923:\tlearn: 0.2957077\ttotal: 13.2s\tremaining: 1.08s\n",
            "924:\tlearn: 0.2956027\ttotal: 13.2s\tremaining: 1.07s\n",
            "925:\tlearn: 0.2955442\ttotal: 13.2s\tremaining: 1.05s\n",
            "926:\tlearn: 0.2954592\ttotal: 13.2s\tremaining: 1.04s\n",
            "927:\tlearn: 0.2953194\ttotal: 13.2s\tremaining: 1.02s\n",
            "928:\tlearn: 0.2952649\ttotal: 13.2s\tremaining: 1.01s\n",
            "929:\tlearn: 0.2952212\ttotal: 13.2s\tremaining: 995ms\n",
            "930:\tlearn: 0.2951224\ttotal: 13.2s\tremaining: 982ms\n",
            "931:\tlearn: 0.2950888\ttotal: 13.3s\tremaining: 968ms\n",
            "932:\tlearn: 0.2950120\ttotal: 13.3s\tremaining: 955ms\n",
            "933:\tlearn: 0.2949575\ttotal: 13.3s\tremaining: 942ms\n",
            "934:\tlearn: 0.2948728\ttotal: 13.3s\tremaining: 927ms\n",
            "935:\tlearn: 0.2948008\ttotal: 13.3s\tremaining: 912ms\n",
            "936:\tlearn: 0.2947402\ttotal: 13.3s\tremaining: 897ms\n",
            "937:\tlearn: 0.2946978\ttotal: 13.4s\tremaining: 883ms\n",
            "938:\tlearn: 0.2946217\ttotal: 13.4s\tremaining: 868ms\n",
            "939:\tlearn: 0.2945350\ttotal: 13.4s\tremaining: 853ms\n",
            "940:\tlearn: 0.2944284\ttotal: 13.4s\tremaining: 838ms\n",
            "941:\tlearn: 0.2943113\ttotal: 13.4s\tremaining: 823ms\n",
            "942:\tlearn: 0.2942445\ttotal: 13.4s\tremaining: 809ms\n",
            "943:\tlearn: 0.2941281\ttotal: 13.4s\tremaining: 794ms\n",
            "944:\tlearn: 0.2940883\ttotal: 13.4s\tremaining: 779ms\n",
            "945:\tlearn: 0.2940476\ttotal: 13.4s\tremaining: 765ms\n",
            "946:\tlearn: 0.2939336\ttotal: 13.4s\tremaining: 750ms\n",
            "947:\tlearn: 0.2938132\ttotal: 13.4s\tremaining: 735ms\n",
            "948:\tlearn: 0.2937126\ttotal: 13.4s\tremaining: 721ms\n",
            "949:\tlearn: 0.2936631\ttotal: 13.4s\tremaining: 706ms\n",
            "950:\tlearn: 0.2935199\ttotal: 13.4s\tremaining: 691ms\n",
            "951:\tlearn: 0.2934621\ttotal: 13.4s\tremaining: 677ms\n",
            "952:\tlearn: 0.2933924\ttotal: 13.5s\tremaining: 663ms\n",
            "953:\tlearn: 0.2933085\ttotal: 13.5s\tremaining: 650ms\n",
            "954:\tlearn: 0.2932226\ttotal: 13.5s\tremaining: 635ms\n",
            "955:\tlearn: 0.2931841\ttotal: 13.5s\tremaining: 621ms\n",
            "956:\tlearn: 0.2930388\ttotal: 13.5s\tremaining: 606ms\n",
            "957:\tlearn: 0.2929537\ttotal: 13.5s\tremaining: 592ms\n",
            "958:\tlearn: 0.2928449\ttotal: 13.5s\tremaining: 578ms\n",
            "959:\tlearn: 0.2927997\ttotal: 13.5s\tremaining: 564ms\n",
            "960:\tlearn: 0.2927519\ttotal: 13.6s\tremaining: 550ms\n",
            "961:\tlearn: 0.2926909\ttotal: 13.6s\tremaining: 536ms\n",
            "962:\tlearn: 0.2926186\ttotal: 13.6s\tremaining: 522ms\n",
            "963:\tlearn: 0.2925748\ttotal: 13.6s\tremaining: 508ms\n",
            "964:\tlearn: 0.2924843\ttotal: 13.6s\tremaining: 494ms\n",
            "965:\tlearn: 0.2923744\ttotal: 13.6s\tremaining: 480ms\n",
            "966:\tlearn: 0.2922592\ttotal: 13.6s\tremaining: 465ms\n",
            "967:\tlearn: 0.2922051\ttotal: 13.6s\tremaining: 451ms\n",
            "968:\tlearn: 0.2920870\ttotal: 13.7s\tremaining: 437ms\n",
            "969:\tlearn: 0.2920325\ttotal: 13.7s\tremaining: 423ms\n",
            "970:\tlearn: 0.2919327\ttotal: 13.7s\tremaining: 409ms\n",
            "971:\tlearn: 0.2918119\ttotal: 13.7s\tremaining: 395ms\n",
            "972:\tlearn: 0.2917191\ttotal: 13.7s\tremaining: 381ms\n",
            "973:\tlearn: 0.2916327\ttotal: 13.7s\tremaining: 367ms\n",
            "974:\tlearn: 0.2915517\ttotal: 13.7s\tremaining: 352ms\n",
            "975:\tlearn: 0.2915161\ttotal: 13.8s\tremaining: 338ms\n",
            "976:\tlearn: 0.2914485\ttotal: 13.8s\tremaining: 324ms\n",
            "977:\tlearn: 0.2914058\ttotal: 13.8s\tremaining: 310ms\n",
            "978:\tlearn: 0.2913461\ttotal: 13.8s\tremaining: 296ms\n",
            "979:\tlearn: 0.2912843\ttotal: 13.8s\tremaining: 282ms\n",
            "980:\tlearn: 0.2912068\ttotal: 13.8s\tremaining: 267ms\n",
            "981:\tlearn: 0.2911589\ttotal: 13.8s\tremaining: 253ms\n",
            "982:\tlearn: 0.2911066\ttotal: 13.8s\tremaining: 239ms\n",
            "983:\tlearn: 0.2910222\ttotal: 13.8s\tremaining: 225ms\n",
            "984:\tlearn: 0.2909508\ttotal: 13.8s\tremaining: 211ms\n",
            "985:\tlearn: 0.2908602\ttotal: 13.8s\tremaining: 197ms\n",
            "986:\tlearn: 0.2908173\ttotal: 13.8s\tremaining: 182ms\n",
            "987:\tlearn: 0.2907607\ttotal: 13.9s\tremaining: 168ms\n",
            "988:\tlearn: 0.2907134\ttotal: 13.9s\tremaining: 154ms\n",
            "989:\tlearn: 0.2906550\ttotal: 13.9s\tremaining: 140ms\n",
            "990:\tlearn: 0.2904496\ttotal: 13.9s\tremaining: 126ms\n",
            "991:\tlearn: 0.2903967\ttotal: 13.9s\tremaining: 112ms\n",
            "992:\tlearn: 0.2903298\ttotal: 13.9s\tremaining: 97.9ms\n",
            "993:\tlearn: 0.2902103\ttotal: 13.9s\tremaining: 83.9ms\n",
            "994:\tlearn: 0.2901534\ttotal: 13.9s\tremaining: 69.9ms\n",
            "995:\tlearn: 0.2900805\ttotal: 13.9s\tremaining: 55.9ms\n",
            "996:\tlearn: 0.2900019\ttotal: 13.9s\tremaining: 41.9ms\n",
            "997:\tlearn: 0.2898995\ttotal: 13.9s\tremaining: 28ms\n",
            "998:\tlearn: 0.2898593\ttotal: 14s\tremaining: 14ms\n",
            "999:\tlearn: 0.2897629\ttotal: 14s\tremaining: 0us\n",
            "\t\tTest Score =  79.77011494252874\n",
            "\t\tTrain Score =  87.95858366355618\n",
            "\t\tScore Error =  8.188468721027442\n"
          ]
        }
      ]
    },
    {
      "cell_type": "markdown",
      "source": [
        "Since CatBoostClassifier gives better result we will use it."
      ],
      "metadata": {
        "id": "6eSI5dA4Q-TG"
      }
    },
    {
      "cell_type": "code",
      "source": [
        "m = CatBoostClassifier(iterations=10000,eval_metric='Accuracy',verbose=1000)\n",
        "m.fit(x_train, y_train)\n",
        "print(f\"Test Score = \", m.score(x_test, y_test) * 100)\n",
        "print(f\"Train Score = \",m.score(x_train, y_train) * 100)\n",
        "pred = m.predict(test)\n",
        "pred"
      ],
      "metadata": {
        "colab": {
          "base_uri": "https://localhost:8080/"
        },
        "id": "DzEWkmhoQ9oz",
        "outputId": "97315c8f-07c9-4ab3-9996-01cd239b5ff9"
      },
      "execution_count": 50,
      "outputs": [
        {
          "output_type": "stream",
          "name": "stdout",
          "text": [
            "Learning rate set to 0.003002\n",
            "0:\tlearn: 0.7769398\ttotal: 11ms\tremaining: 1m 50s\n",
            "1000:\tlearn: 0.8134987\ttotal: 11.5s\tremaining: 1m 43s\n",
            "2000:\tlearn: 0.8230858\ttotal: 26.7s\tremaining: 1m 46s\n",
            "3000:\tlearn: 0.8312668\ttotal: 40s\tremaining: 1m 33s\n",
            "4000:\tlearn: 0.8413652\ttotal: 45.2s\tremaining: 1m 7s\n",
            "5000:\tlearn: 0.8547872\ttotal: 50.4s\tremaining: 50.4s\n",
            "6000:\tlearn: 0.8639908\ttotal: 55.6s\tremaining: 37s\n",
            "7000:\tlearn: 0.8705100\ttotal: 1m\tremaining: 26s\n",
            "8000:\tlearn: 0.8771571\ttotal: 1m 5s\tremaining: 16.5s\n",
            "9000:\tlearn: 0.8835485\ttotal: 1m 11s\tremaining: 7.9s\n",
            "9999:\tlearn: 0.8882782\ttotal: 1m 16s\tremaining: 0us\n",
            "Test Score =  80.11494252873564\n",
            "Train Score =  88.8278154160808\n"
          ]
        },
        {
          "output_type": "execute_result",
          "data": {
            "text/plain": [
              "array([1, 0, 1, ..., 1, 1, 1])"
            ]
          },
          "metadata": {},
          "execution_count": 50
        }
      ]
    },
    {
      "cell_type": "code",
      "source": [
        "pred = [True if i == 1 else False for i in pred]"
      ],
      "metadata": {
        "id": "LV9UasYEVhZ8"
      },
      "execution_count": 51,
      "outputs": []
    },
    {
      "cell_type": "code",
      "source": [
        "sample_submission = pd.DataFrame({\n",
        "    \"PassengerId\":test_df.PassengerId,\n",
        "    \"Transported\": pred\n",
        "})"
      ],
      "metadata": {
        "id": "unHoObCpVkGa"
      },
      "execution_count": 52,
      "outputs": []
    },
    {
      "cell_type": "code",
      "source": [
        "sample_submission.head()"
      ],
      "metadata": {
        "colab": {
          "base_uri": "https://localhost:8080/",
          "height": 206
        },
        "id": "b1BjSd2taWgu",
        "outputId": "0b5f376a-02e1-4095-f48a-bccd44652886"
      },
      "execution_count": 53,
      "outputs": [
        {
          "output_type": "execute_result",
          "data": {
            "text/plain": [
              "  PassengerId  Transported\n",
              "0     0013_01         True\n",
              "1     0018_01        False\n",
              "2     0019_01         True\n",
              "3     0021_01         True\n",
              "4     0023_01         True"
            ],
            "text/html": [
              "\n",
              "  <div id=\"df-56e146fd-5841-4a3e-88fa-c4edbae5fafe\">\n",
              "    <div class=\"colab-df-container\">\n",
              "      <div>\n",
              "<style scoped>\n",
              "    .dataframe tbody tr th:only-of-type {\n",
              "        vertical-align: middle;\n",
              "    }\n",
              "\n",
              "    .dataframe tbody tr th {\n",
              "        vertical-align: top;\n",
              "    }\n",
              "\n",
              "    .dataframe thead th {\n",
              "        text-align: right;\n",
              "    }\n",
              "</style>\n",
              "<table border=\"1\" class=\"dataframe\">\n",
              "  <thead>\n",
              "    <tr style=\"text-align: right;\">\n",
              "      <th></th>\n",
              "      <th>PassengerId</th>\n",
              "      <th>Transported</th>\n",
              "    </tr>\n",
              "  </thead>\n",
              "  <tbody>\n",
              "    <tr>\n",
              "      <th>0</th>\n",
              "      <td>0013_01</td>\n",
              "      <td>True</td>\n",
              "    </tr>\n",
              "    <tr>\n",
              "      <th>1</th>\n",
              "      <td>0018_01</td>\n",
              "      <td>False</td>\n",
              "    </tr>\n",
              "    <tr>\n",
              "      <th>2</th>\n",
              "      <td>0019_01</td>\n",
              "      <td>True</td>\n",
              "    </tr>\n",
              "    <tr>\n",
              "      <th>3</th>\n",
              "      <td>0021_01</td>\n",
              "      <td>True</td>\n",
              "    </tr>\n",
              "    <tr>\n",
              "      <th>4</th>\n",
              "      <td>0023_01</td>\n",
              "      <td>True</td>\n",
              "    </tr>\n",
              "  </tbody>\n",
              "</table>\n",
              "</div>\n",
              "      <button class=\"colab-df-convert\" onclick=\"convertToInteractive('df-56e146fd-5841-4a3e-88fa-c4edbae5fafe')\"\n",
              "              title=\"Convert this dataframe to an interactive table.\"\n",
              "              style=\"display:none;\">\n",
              "        \n",
              "  <svg xmlns=\"http://www.w3.org/2000/svg\" height=\"24px\"viewBox=\"0 0 24 24\"\n",
              "       width=\"24px\">\n",
              "    <path d=\"M0 0h24v24H0V0z\" fill=\"none\"/>\n",
              "    <path d=\"M18.56 5.44l.94 2.06.94-2.06 2.06-.94-2.06-.94-.94-2.06-.94 2.06-2.06.94zm-11 1L8.5 8.5l.94-2.06 2.06-.94-2.06-.94L8.5 2.5l-.94 2.06-2.06.94zm10 10l.94 2.06.94-2.06 2.06-.94-2.06-.94-.94-2.06-.94 2.06-2.06.94z\"/><path d=\"M17.41 7.96l-1.37-1.37c-.4-.4-.92-.59-1.43-.59-.52 0-1.04.2-1.43.59L10.3 9.45l-7.72 7.72c-.78.78-.78 2.05 0 2.83L4 21.41c.39.39.9.59 1.41.59.51 0 1.02-.2 1.41-.59l7.78-7.78 2.81-2.81c.8-.78.8-2.07 0-2.86zM5.41 20L4 18.59l7.72-7.72 1.47 1.35L5.41 20z\"/>\n",
              "  </svg>\n",
              "      </button>\n",
              "      \n",
              "  <style>\n",
              "    .colab-df-container {\n",
              "      display:flex;\n",
              "      flex-wrap:wrap;\n",
              "      gap: 12px;\n",
              "    }\n",
              "\n",
              "    .colab-df-convert {\n",
              "      background-color: #E8F0FE;\n",
              "      border: none;\n",
              "      border-radius: 50%;\n",
              "      cursor: pointer;\n",
              "      display: none;\n",
              "      fill: #1967D2;\n",
              "      height: 32px;\n",
              "      padding: 0 0 0 0;\n",
              "      width: 32px;\n",
              "    }\n",
              "\n",
              "    .colab-df-convert:hover {\n",
              "      background-color: #E2EBFA;\n",
              "      box-shadow: 0px 1px 2px rgba(60, 64, 67, 0.3), 0px 1px 3px 1px rgba(60, 64, 67, 0.15);\n",
              "      fill: #174EA6;\n",
              "    }\n",
              "\n",
              "    [theme=dark] .colab-df-convert {\n",
              "      background-color: #3B4455;\n",
              "      fill: #D2E3FC;\n",
              "    }\n",
              "\n",
              "    [theme=dark] .colab-df-convert:hover {\n",
              "      background-color: #434B5C;\n",
              "      box-shadow: 0px 1px 3px 1px rgba(0, 0, 0, 0.15);\n",
              "      filter: drop-shadow(0px 1px 2px rgba(0, 0, 0, 0.3));\n",
              "      fill: #FFFFFF;\n",
              "    }\n",
              "  </style>\n",
              "\n",
              "      <script>\n",
              "        const buttonEl =\n",
              "          document.querySelector('#df-56e146fd-5841-4a3e-88fa-c4edbae5fafe button.colab-df-convert');\n",
              "        buttonEl.style.display =\n",
              "          google.colab.kernel.accessAllowed ? 'block' : 'none';\n",
              "\n",
              "        async function convertToInteractive(key) {\n",
              "          const element = document.querySelector('#df-56e146fd-5841-4a3e-88fa-c4edbae5fafe');\n",
              "          const dataTable =\n",
              "            await google.colab.kernel.invokeFunction('convertToInteractive',\n",
              "                                                     [key], {});\n",
              "          if (!dataTable) return;\n",
              "\n",
              "          const docLinkHtml = 'Like what you see? Visit the ' +\n",
              "            '<a target=\"_blank\" href=https://colab.research.google.com/notebooks/data_table.ipynb>data table notebook</a>'\n",
              "            + ' to learn more about interactive tables.';\n",
              "          element.innerHTML = '';\n",
              "          dataTable['output_type'] = 'display_data';\n",
              "          await google.colab.output.renderOutput(dataTable, element);\n",
              "          const docLink = document.createElement('div');\n",
              "          docLink.innerHTML = docLinkHtml;\n",
              "          element.appendChild(docLink);\n",
              "        }\n",
              "      </script>\n",
              "    </div>\n",
              "  </div>\n",
              "  "
            ]
          },
          "metadata": {},
          "execution_count": 53
        }
      ]
    },
    {
      "cell_type": "code",
      "source": [
        "sample_submission.to_csv(\"/content/submission.csv\", index=False)"
      ],
      "metadata": {
        "id": "2ab916Y3aZRZ"
      },
      "execution_count": 54,
      "outputs": []
    }
  ]
}