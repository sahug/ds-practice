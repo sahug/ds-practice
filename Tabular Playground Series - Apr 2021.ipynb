{
 "cells": [
  {
   "cell_type": "code",
   "execution_count": 1,
   "metadata": {
    "id": "aVx4E4zZlPHQ"
   },
   "outputs": [],
   "source": [
    "import pandas as pd\n",
    "import numpy as np\n",
    "import matplotlib.pyplot as plt\n",
    "%matplotlib inline\n",
    "import seaborn as sns"
   ]
  },
  {
   "cell_type": "code",
   "execution_count": 2,
   "metadata": {
    "id": "Bv3U_23AoWHB"
   },
   "outputs": [],
   "source": [
    "org_train_data = pd.read_csv(\"data/Tabular Playground Series - Apr 2021/train.csv\")\n",
    "org_test_data = pd.read_csv(\"data/Tabular Playground Series - Apr 2021/test.csv\")"
   ]
  },
  {
   "cell_type": "code",
   "execution_count": 3,
   "metadata": {
    "colab": {
     "base_uri": "https://localhost:8080/",
     "height": 255
    },
    "id": "IyhQ-XO9pXyU",
    "outputId": "5b1bde6e-7b74-454e-c786-f1c99e11948e"
   },
   "outputs": [
    {
     "data": {
      "text/html": [
       "<div>\n",
       "<style scoped>\n",
       "    .dataframe tbody tr th:only-of-type {\n",
       "        vertical-align: middle;\n",
       "    }\n",
       "\n",
       "    .dataframe tbody tr th {\n",
       "        vertical-align: top;\n",
       "    }\n",
       "\n",
       "    .dataframe thead th {\n",
       "        text-align: right;\n",
       "    }\n",
       "</style>\n",
       "<table border=\"1\" class=\"dataframe\">\n",
       "  <thead>\n",
       "    <tr style=\"text-align: right;\">\n",
       "      <th></th>\n",
       "      <th>PassengerId</th>\n",
       "      <th>Survived</th>\n",
       "      <th>Pclass</th>\n",
       "      <th>Name</th>\n",
       "      <th>Sex</th>\n",
       "      <th>Age</th>\n",
       "      <th>SibSp</th>\n",
       "      <th>Parch</th>\n",
       "      <th>Ticket</th>\n",
       "      <th>Fare</th>\n",
       "      <th>Cabin</th>\n",
       "      <th>Embarked</th>\n",
       "    </tr>\n",
       "  </thead>\n",
       "  <tbody>\n",
       "    <tr>\n",
       "      <th>0</th>\n",
       "      <td>0</td>\n",
       "      <td>1</td>\n",
       "      <td>1</td>\n",
       "      <td>Oconnor, Frankie</td>\n",
       "      <td>male</td>\n",
       "      <td>NaN</td>\n",
       "      <td>2</td>\n",
       "      <td>0</td>\n",
       "      <td>209245</td>\n",
       "      <td>27.14</td>\n",
       "      <td>C12239</td>\n",
       "      <td>S</td>\n",
       "    </tr>\n",
       "    <tr>\n",
       "      <th>1</th>\n",
       "      <td>1</td>\n",
       "      <td>0</td>\n",
       "      <td>3</td>\n",
       "      <td>Bryan, Drew</td>\n",
       "      <td>male</td>\n",
       "      <td>NaN</td>\n",
       "      <td>0</td>\n",
       "      <td>0</td>\n",
       "      <td>27323</td>\n",
       "      <td>13.35</td>\n",
       "      <td>NaN</td>\n",
       "      <td>S</td>\n",
       "    </tr>\n",
       "    <tr>\n",
       "      <th>2</th>\n",
       "      <td>2</td>\n",
       "      <td>0</td>\n",
       "      <td>3</td>\n",
       "      <td>Owens, Kenneth</td>\n",
       "      <td>male</td>\n",
       "      <td>0.33</td>\n",
       "      <td>1</td>\n",
       "      <td>2</td>\n",
       "      <td>CA 457703</td>\n",
       "      <td>71.29</td>\n",
       "      <td>NaN</td>\n",
       "      <td>S</td>\n",
       "    </tr>\n",
       "    <tr>\n",
       "      <th>3</th>\n",
       "      <td>3</td>\n",
       "      <td>0</td>\n",
       "      <td>3</td>\n",
       "      <td>Kramer, James</td>\n",
       "      <td>male</td>\n",
       "      <td>19.00</td>\n",
       "      <td>0</td>\n",
       "      <td>0</td>\n",
       "      <td>A. 10866</td>\n",
       "      <td>13.04</td>\n",
       "      <td>NaN</td>\n",
       "      <td>S</td>\n",
       "    </tr>\n",
       "    <tr>\n",
       "      <th>4</th>\n",
       "      <td>4</td>\n",
       "      <td>1</td>\n",
       "      <td>3</td>\n",
       "      <td>Bond, Michael</td>\n",
       "      <td>male</td>\n",
       "      <td>25.00</td>\n",
       "      <td>0</td>\n",
       "      <td>0</td>\n",
       "      <td>427635</td>\n",
       "      <td>7.76</td>\n",
       "      <td>NaN</td>\n",
       "      <td>S</td>\n",
       "    </tr>\n",
       "  </tbody>\n",
       "</table>\n",
       "</div>"
      ],
      "text/plain": [
       "   PassengerId  Survived  Pclass              Name   Sex    Age  SibSp  Parch  \\\n",
       "0            0         1       1  Oconnor, Frankie  male    NaN      2      0   \n",
       "1            1         0       3       Bryan, Drew  male    NaN      0      0   \n",
       "2            2         0       3    Owens, Kenneth  male   0.33      1      2   \n",
       "3            3         0       3     Kramer, James  male  19.00      0      0   \n",
       "4            4         1       3     Bond, Michael  male  25.00      0      0   \n",
       "\n",
       "      Ticket   Fare   Cabin Embarked  \n",
       "0     209245  27.14  C12239        S  \n",
       "1      27323  13.35     NaN        S  \n",
       "2  CA 457703  71.29     NaN        S  \n",
       "3   A. 10866  13.04     NaN        S  \n",
       "4     427635   7.76     NaN        S  "
      ]
     },
     "execution_count": 3,
     "metadata": {},
     "output_type": "execute_result"
    }
   ],
   "source": [
    "org_train_data.head(5)"
   ]
  },
  {
   "cell_type": "code",
   "execution_count": 4,
   "metadata": {
    "colab": {
     "base_uri": "https://localhost:8080/",
     "height": 204
    },
    "id": "9GLOMuJ1o86g",
    "outputId": "d40ac502-84b4-4102-a458-d2ceba748105"
   },
   "outputs": [
    {
     "data": {
      "text/html": [
       "<div>\n",
       "<style scoped>\n",
       "    .dataframe tbody tr th:only-of-type {\n",
       "        vertical-align: middle;\n",
       "    }\n",
       "\n",
       "    .dataframe tbody tr th {\n",
       "        vertical-align: top;\n",
       "    }\n",
       "\n",
       "    .dataframe thead th {\n",
       "        text-align: right;\n",
       "    }\n",
       "</style>\n",
       "<table border=\"1\" class=\"dataframe\">\n",
       "  <thead>\n",
       "    <tr style=\"text-align: right;\">\n",
       "      <th></th>\n",
       "      <th>PassengerId</th>\n",
       "      <th>Pclass</th>\n",
       "      <th>Name</th>\n",
       "      <th>Sex</th>\n",
       "      <th>Age</th>\n",
       "      <th>SibSp</th>\n",
       "      <th>Parch</th>\n",
       "      <th>Ticket</th>\n",
       "      <th>Fare</th>\n",
       "      <th>Cabin</th>\n",
       "      <th>Embarked</th>\n",
       "    </tr>\n",
       "  </thead>\n",
       "  <tbody>\n",
       "    <tr>\n",
       "      <th>0</th>\n",
       "      <td>100000</td>\n",
       "      <td>3</td>\n",
       "      <td>Holliday, Daniel</td>\n",
       "      <td>male</td>\n",
       "      <td>19.0</td>\n",
       "      <td>0</td>\n",
       "      <td>0</td>\n",
       "      <td>24745</td>\n",
       "      <td>63.01</td>\n",
       "      <td>NaN</td>\n",
       "      <td>S</td>\n",
       "    </tr>\n",
       "    <tr>\n",
       "      <th>1</th>\n",
       "      <td>100001</td>\n",
       "      <td>3</td>\n",
       "      <td>Nguyen, Lorraine</td>\n",
       "      <td>female</td>\n",
       "      <td>53.0</td>\n",
       "      <td>0</td>\n",
       "      <td>0</td>\n",
       "      <td>13264</td>\n",
       "      <td>5.81</td>\n",
       "      <td>NaN</td>\n",
       "      <td>S</td>\n",
       "    </tr>\n",
       "    <tr>\n",
       "      <th>2</th>\n",
       "      <td>100002</td>\n",
       "      <td>1</td>\n",
       "      <td>Harris, Heather</td>\n",
       "      <td>female</td>\n",
       "      <td>19.0</td>\n",
       "      <td>0</td>\n",
       "      <td>0</td>\n",
       "      <td>25990</td>\n",
       "      <td>38.91</td>\n",
       "      <td>B15315</td>\n",
       "      <td>C</td>\n",
       "    </tr>\n",
       "    <tr>\n",
       "      <th>3</th>\n",
       "      <td>100003</td>\n",
       "      <td>2</td>\n",
       "      <td>Larsen, Eric</td>\n",
       "      <td>male</td>\n",
       "      <td>25.0</td>\n",
       "      <td>0</td>\n",
       "      <td>0</td>\n",
       "      <td>314011</td>\n",
       "      <td>12.93</td>\n",
       "      <td>NaN</td>\n",
       "      <td>S</td>\n",
       "    </tr>\n",
       "    <tr>\n",
       "      <th>4</th>\n",
       "      <td>100004</td>\n",
       "      <td>1</td>\n",
       "      <td>Cleary, Sarah</td>\n",
       "      <td>female</td>\n",
       "      <td>17.0</td>\n",
       "      <td>0</td>\n",
       "      <td>2</td>\n",
       "      <td>26203</td>\n",
       "      <td>26.89</td>\n",
       "      <td>B22515</td>\n",
       "      <td>C</td>\n",
       "    </tr>\n",
       "  </tbody>\n",
       "</table>\n",
       "</div>"
      ],
      "text/plain": [
       "   PassengerId  Pclass              Name     Sex   Age  SibSp  Parch  Ticket  \\\n",
       "0       100000       3  Holliday, Daniel    male  19.0      0      0   24745   \n",
       "1       100001       3  Nguyen, Lorraine  female  53.0      0      0   13264   \n",
       "2       100002       1   Harris, Heather  female  19.0      0      0   25990   \n",
       "3       100003       2      Larsen, Eric    male  25.0      0      0  314011   \n",
       "4       100004       1     Cleary, Sarah  female  17.0      0      2   26203   \n",
       "\n",
       "    Fare   Cabin Embarked  \n",
       "0  63.01     NaN        S  \n",
       "1   5.81     NaN        S  \n",
       "2  38.91  B15315        C  \n",
       "3  12.93     NaN        S  \n",
       "4  26.89  B22515        C  "
      ]
     },
     "execution_count": 4,
     "metadata": {},
     "output_type": "execute_result"
    }
   ],
   "source": [
    "org_test_data.head(5)"
   ]
  },
  {
   "cell_type": "code",
   "execution_count": 5,
   "metadata": {
    "id": "gNZVmNdJtikp"
   },
   "outputs": [],
   "source": [
    "# Check for Null data"
   ]
  },
  {
   "cell_type": "code",
   "execution_count": 6,
   "metadata": {
    "colab": {
     "base_uri": "https://localhost:8080/"
    },
    "id": "a2Us0YVvpG77",
    "outputId": "6fbcbf59-1c39-4216-dbd6-5b50248cbf21"
   },
   "outputs": [
    {
     "data": {
      "text/plain": [
       "PassengerId        0\n",
       "Survived           0\n",
       "Pclass             0\n",
       "Name               0\n",
       "Sex                0\n",
       "Age             3292\n",
       "SibSp              0\n",
       "Parch              0\n",
       "Ticket          4623\n",
       "Fare             134\n",
       "Cabin          67866\n",
       "Embarked         250\n",
       "dtype: int64"
      ]
     },
     "execution_count": 6,
     "metadata": {},
     "output_type": "execute_result"
    }
   ],
   "source": [
    "org_train_data.isnull().sum()"
   ]
  },
  {
   "cell_type": "code",
   "execution_count": 7,
   "metadata": {
    "colab": {
     "base_uri": "https://localhost:8080/"
    },
    "id": "HVGZ5D67pO7P",
    "outputId": "79a7e9e9-936e-4f9f-aa0a-33491120d433"
   },
   "outputs": [
    {
     "data": {
      "text/plain": [
       "PassengerId        0\n",
       "Pclass             0\n",
       "Name               0\n",
       "Sex                0\n",
       "Age             3487\n",
       "SibSp              0\n",
       "Parch              0\n",
       "Ticket          5181\n",
       "Fare             133\n",
       "Cabin          70831\n",
       "Embarked         277\n",
       "dtype: int64"
      ]
     },
     "execution_count": 7,
     "metadata": {},
     "output_type": "execute_result"
    }
   ],
   "source": [
    "org_test_data.isnull().sum()"
   ]
  },
  {
   "cell_type": "code",
   "execution_count": 8,
   "metadata": {
    "id": "uOe5Ft0UtlxS"
   },
   "outputs": [],
   "source": [
    "# Check % of Null data"
   ]
  },
  {
   "cell_type": "code",
   "execution_count": 9,
   "metadata": {
    "id": "oG7WXiHvt1Ej"
   },
   "outputs": [],
   "source": [
    "def missingdata(data):\n",
    "  total = data.isnull().sum().sort_values(ascending = False)\n",
    "  percent = (data.isnull().sum() / data.isnull().count() * 100).sort_values(ascending = False)\n",
    "  ms = pd.concat([total, percent], axis=1, keys=[\"Total\", \"Percent\"])\n",
    "  ms = ms[ms[\"Percent\"] > 0]\n",
    "  f, ax = plt.subplots(figsize=(8, 6))\n",
    "  plt.xticks(rotation=\"90\")\n",
    "\n",
    "  fig = sns.barplot(ms.index, ms[\"Percent\"], color=\"green\", alpha=0.8)\n",
    "  plt.xlabel('Features', fontsize=15)\n",
    "  plt.ylabel('Percent of missing values', fontsize=15)\n",
    "  plt.title('Percent missing data by feature', fontsize=15)\n",
    "  return ms"
   ]
  },
  {
   "cell_type": "code",
   "execution_count": 10,
   "metadata": {
    "colab": {
     "base_uri": "https://localhost:8080/",
     "height": 692
    },
    "id": "ub-ZAPW1yRg6",
    "outputId": "7443080b-158a-4cf2-c170-10e5f2aa3bcf"
   },
   "outputs": [
    {
     "data": {
      "text/html": [
       "<div>\n",
       "<style scoped>\n",
       "    .dataframe tbody tr th:only-of-type {\n",
       "        vertical-align: middle;\n",
       "    }\n",
       "\n",
       "    .dataframe tbody tr th {\n",
       "        vertical-align: top;\n",
       "    }\n",
       "\n",
       "    .dataframe thead th {\n",
       "        text-align: right;\n",
       "    }\n",
       "</style>\n",
       "<table border=\"1\" class=\"dataframe\">\n",
       "  <thead>\n",
       "    <tr style=\"text-align: right;\">\n",
       "      <th></th>\n",
       "      <th>Total</th>\n",
       "      <th>Percent</th>\n",
       "    </tr>\n",
       "  </thead>\n",
       "  <tbody>\n",
       "    <tr>\n",
       "      <th>Cabin</th>\n",
       "      <td>67866</td>\n",
       "      <td>67.866</td>\n",
       "    </tr>\n",
       "    <tr>\n",
       "      <th>Ticket</th>\n",
       "      <td>4623</td>\n",
       "      <td>4.623</td>\n",
       "    </tr>\n",
       "    <tr>\n",
       "      <th>Age</th>\n",
       "      <td>3292</td>\n",
       "      <td>3.292</td>\n",
       "    </tr>\n",
       "    <tr>\n",
       "      <th>Embarked</th>\n",
       "      <td>250</td>\n",
       "      <td>0.250</td>\n",
       "    </tr>\n",
       "    <tr>\n",
       "      <th>Fare</th>\n",
       "      <td>134</td>\n",
       "      <td>0.134</td>\n",
       "    </tr>\n",
       "  </tbody>\n",
       "</table>\n",
       "</div>"
      ],
      "text/plain": [
       "          Total  Percent\n",
       "Cabin     67866   67.866\n",
       "Ticket     4623    4.623\n",
       "Age        3292    3.292\n",
       "Embarked    250    0.250\n",
       "Fare        134    0.134"
      ]
     },
     "execution_count": 10,
     "metadata": {},
     "output_type": "execute_result"
    },
    {
     "data": {
      "image/png": "[encoded data removed]",
      "text/plain": [
       "<Figure size 576x432 with 1 Axes>"
      ]
     },
     "metadata": {
      "needs_background": "light"
     },
     "output_type": "display_data"
    }
   ],
   "source": [
    "missingdata(org_train_data)"
   ]
  },
  {
   "cell_type": "code",
   "execution_count": 11,
   "metadata": {
    "colab": {
     "base_uri": "https://localhost:8080/",
     "height": 692
    },
    "id": "jMLr96vazY3m",
    "outputId": "c9141fbd-8ebf-4658-a912-326ae7e5243b"
   },
   "outputs": [
    {
     "data": {
      "text/html": [
       "<div>\n",
       "<style scoped>\n",
       "    .dataframe tbody tr th:only-of-type {\n",
       "        vertical-align: middle;\n",
       "    }\n",
       "\n",
       "    .dataframe tbody tr th {\n",
       "        vertical-align: top;\n",
       "    }\n",
       "\n",
       "    .dataframe thead th {\n",
       "        text-align: right;\n",
       "    }\n",
       "</style>\n",
       "<table border=\"1\" class=\"dataframe\">\n",
       "  <thead>\n",
       "    <tr style=\"text-align: right;\">\n",
       "      <th></th>\n",
       "      <th>Total</th>\n",
       "      <th>Percent</th>\n",
       "    </tr>\n",
       "  </thead>\n",
       "  <tbody>\n",
       "    <tr>\n",
       "      <th>Cabin</th>\n",
       "      <td>70831</td>\n",
       "      <td>70.831</td>\n",
       "    </tr>\n",
       "    <tr>\n",
       "      <th>Ticket</th>\n",
       "      <td>5181</td>\n",
       "      <td>5.181</td>\n",
       "    </tr>\n",
       "    <tr>\n",
       "      <th>Age</th>\n",
       "      <td>3487</td>\n",
       "      <td>3.487</td>\n",
       "    </tr>\n",
       "    <tr>\n",
       "      <th>Embarked</th>\n",
       "      <td>277</td>\n",
       "      <td>0.277</td>\n",
       "    </tr>\n",
       "    <tr>\n",
       "      <th>Fare</th>\n",
       "      <td>133</td>\n",
       "      <td>0.133</td>\n",
       "    </tr>\n",
       "  </tbody>\n",
       "</table>\n",
       "</div>"
      ],
      "text/plain": [
       "          Total  Percent\n",
       "Cabin     70831   70.831\n",
       "Ticket     5181    5.181\n",
       "Age        3487    3.487\n",
       "Embarked    277    0.277\n",
       "Fare        133    0.133"
      ]
     },
     "execution_count": 11,
     "metadata": {},
     "output_type": "execute_result"
    },
    {
     "data": {
      "image/png": "[encoded data removed]",
      "text/plain": [
       "<Figure size 576x432 with 1 Axes>"
      ]
     },
     "metadata": {
      "needs_background": "light"
     },
     "output_type": "display_data"
    }
   ],
   "source": [
    "missingdata(org_test_data)"
   ]
  },
  {
   "cell_type": "code",
   "execution_count": 12,
   "metadata": {
    "id": "qdAB7m2uqa82"
   },
   "outputs": [],
   "source": [
    "# Drop unnecessary columns. Cabin has 70% Null values in bothe Train and Test data."
   ]
  },
  {
   "cell_type": "code",
   "execution_count": 13,
   "metadata": {
    "colab": {
     "base_uri": "https://localhost:8080/",
     "height": 359
    },
    "id": "1e0UiCNPqfe4",
    "outputId": "f5a9c3f3-1cf6-4632-97ea-3e4bea60be06"
   },
   "outputs": [
    {
     "data": {
      "text/html": [
       "<div>\n",
       "<style scoped>\n",
       "    .dataframe tbody tr th:only-of-type {\n",
       "        vertical-align: middle;\n",
       "    }\n",
       "\n",
       "    .dataframe tbody tr th {\n",
       "        vertical-align: top;\n",
       "    }\n",
       "\n",
       "    .dataframe thead th {\n",
       "        text-align: right;\n",
       "    }\n",
       "</style>\n",
       "<table border=\"1\" class=\"dataframe\">\n",
       "  <thead>\n",
       "    <tr style=\"text-align: right;\">\n",
       "      <th></th>\n",
       "      <th>Survived</th>\n",
       "      <th>Pclass</th>\n",
       "      <th>Name</th>\n",
       "      <th>Sex</th>\n",
       "      <th>Age</th>\n",
       "      <th>SibSp</th>\n",
       "      <th>Parch</th>\n",
       "      <th>Ticket</th>\n",
       "      <th>Fare</th>\n",
       "      <th>Embarked</th>\n",
       "    </tr>\n",
       "  </thead>\n",
       "  <tbody>\n",
       "    <tr>\n",
       "      <th>0</th>\n",
       "      <td>1</td>\n",
       "      <td>1</td>\n",
       "      <td>Oconnor, Frankie</td>\n",
       "      <td>male</td>\n",
       "      <td>NaN</td>\n",
       "      <td>2</td>\n",
       "      <td>0</td>\n",
       "      <td>209245</td>\n",
       "      <td>27.14</td>\n",
       "      <td>S</td>\n",
       "    </tr>\n",
       "    <tr>\n",
       "      <th>1</th>\n",
       "      <td>0</td>\n",
       "      <td>3</td>\n",
       "      <td>Bryan, Drew</td>\n",
       "      <td>male</td>\n",
       "      <td>NaN</td>\n",
       "      <td>0</td>\n",
       "      <td>0</td>\n",
       "      <td>27323</td>\n",
       "      <td>13.35</td>\n",
       "      <td>S</td>\n",
       "    </tr>\n",
       "    <tr>\n",
       "      <th>2</th>\n",
       "      <td>0</td>\n",
       "      <td>3</td>\n",
       "      <td>Owens, Kenneth</td>\n",
       "      <td>male</td>\n",
       "      <td>0.33</td>\n",
       "      <td>1</td>\n",
       "      <td>2</td>\n",
       "      <td>CA 457703</td>\n",
       "      <td>71.29</td>\n",
       "      <td>S</td>\n",
       "    </tr>\n",
       "    <tr>\n",
       "      <th>3</th>\n",
       "      <td>0</td>\n",
       "      <td>3</td>\n",
       "      <td>Kramer, James</td>\n",
       "      <td>male</td>\n",
       "      <td>19.00</td>\n",
       "      <td>0</td>\n",
       "      <td>0</td>\n",
       "      <td>A. 10866</td>\n",
       "      <td>13.04</td>\n",
       "      <td>S</td>\n",
       "    </tr>\n",
       "    <tr>\n",
       "      <th>4</th>\n",
       "      <td>1</td>\n",
       "      <td>3</td>\n",
       "      <td>Bond, Michael</td>\n",
       "      <td>male</td>\n",
       "      <td>25.00</td>\n",
       "      <td>0</td>\n",
       "      <td>0</td>\n",
       "      <td>427635</td>\n",
       "      <td>7.76</td>\n",
       "      <td>S</td>\n",
       "    </tr>\n",
       "    <tr>\n",
       "      <th>5</th>\n",
       "      <td>0</td>\n",
       "      <td>2</td>\n",
       "      <td>Sassano, Jonathan</td>\n",
       "      <td>male</td>\n",
       "      <td>35.00</td>\n",
       "      <td>0</td>\n",
       "      <td>0</td>\n",
       "      <td>13363</td>\n",
       "      <td>6.71</td>\n",
       "      <td>S</td>\n",
       "    </tr>\n",
       "    <tr>\n",
       "      <th>6</th>\n",
       "      <td>0</td>\n",
       "      <td>3</td>\n",
       "      <td>Conway, Jose</td>\n",
       "      <td>male</td>\n",
       "      <td>7.00</td>\n",
       "      <td>0</td>\n",
       "      <td>0</td>\n",
       "      <td>A/5</td>\n",
       "      <td>9.77</td>\n",
       "      <td>S</td>\n",
       "    </tr>\n",
       "    <tr>\n",
       "      <th>7</th>\n",
       "      <td>1</td>\n",
       "      <td>3</td>\n",
       "      <td>Werner, Linda</td>\n",
       "      <td>female</td>\n",
       "      <td>6.00</td>\n",
       "      <td>1</td>\n",
       "      <td>2</td>\n",
       "      <td>434426</td>\n",
       "      <td>31.50</td>\n",
       "      <td>S</td>\n",
       "    </tr>\n",
       "    <tr>\n",
       "      <th>8</th>\n",
       "      <td>0</td>\n",
       "      <td>1</td>\n",
       "      <td>Wardlaw, Michael</td>\n",
       "      <td>male</td>\n",
       "      <td>27.00</td>\n",
       "      <td>2</td>\n",
       "      <td>1</td>\n",
       "      <td>474849</td>\n",
       "      <td>73.02</td>\n",
       "      <td>S</td>\n",
       "    </tr>\n",
       "    <tr>\n",
       "      <th>9</th>\n",
       "      <td>0</td>\n",
       "      <td>2</td>\n",
       "      <td>Greigo, Rudy</td>\n",
       "      <td>male</td>\n",
       "      <td>66.00</td>\n",
       "      <td>0</td>\n",
       "      <td>0</td>\n",
       "      <td>6981</td>\n",
       "      <td>9.14</td>\n",
       "      <td>C</td>\n",
       "    </tr>\n",
       "  </tbody>\n",
       "</table>\n",
       "</div>"
      ],
      "text/plain": [
       "   Survived  Pclass               Name     Sex    Age  SibSp  Parch  \\\n",
       "0         1       1   Oconnor, Frankie    male    NaN      2      0   \n",
       "1         0       3        Bryan, Drew    male    NaN      0      0   \n",
       "2         0       3     Owens, Kenneth    male   0.33      1      2   \n",
       "3         0       3      Kramer, James    male  19.00      0      0   \n",
       "4         1       3      Bond, Michael    male  25.00      0      0   \n",
       "5         0       2  Sassano, Jonathan    male  35.00      0      0   \n",
       "6         0       3       Conway, Jose    male   7.00      0      0   \n",
       "7         1       3      Werner, Linda  female   6.00      1      2   \n",
       "8         0       1   Wardlaw, Michael    male  27.00      2      1   \n",
       "9         0       2       Greigo, Rudy    male  66.00      0      0   \n",
       "\n",
       "      Ticket   Fare Embarked  \n",
       "0     209245  27.14        S  \n",
       "1      27323  13.35        S  \n",
       "2  CA 457703  71.29        S  \n",
       "3   A. 10866  13.04        S  \n",
       "4     427635   7.76        S  \n",
       "5      13363   6.71        S  \n",
       "6       A/5    9.77        S  \n",
       "7     434426  31.50        S  \n",
       "8     474849  73.02        S  \n",
       "9       6981   9.14        C  "
      ]
     },
     "execution_count": 13,
     "metadata": {},
     "output_type": "execute_result"
    }
   ],
   "source": [
    "# Drop from Train Dataset\n",
    "\n",
    "org_train_data.drop([\"PassengerId\", \"Cabin\"], axis=1, inplace=True)\n",
    "org_train_data.head(10)"
   ]
  },
  {
   "cell_type": "code",
   "execution_count": 14,
   "metadata": {
    "colab": {
     "base_uri": "https://localhost:8080/",
     "height": 359
    },
    "id": "iqynvcYprTA5",
    "outputId": "e4d498fb-d00d-4e0e-a702-166f8882b9a1"
   },
   "outputs": [
    {
     "data": {
      "text/html": [
       "<div>\n",
       "<style scoped>\n",
       "    .dataframe tbody tr th:only-of-type {\n",
       "        vertical-align: middle;\n",
       "    }\n",
       "\n",
       "    .dataframe tbody tr th {\n",
       "        vertical-align: top;\n",
       "    }\n",
       "\n",
       "    .dataframe thead th {\n",
       "        text-align: right;\n",
       "    }\n",
       "</style>\n",
       "<table border=\"1\" class=\"dataframe\">\n",
       "  <thead>\n",
       "    <tr style=\"text-align: right;\">\n",
       "      <th></th>\n",
       "      <th>Pclass</th>\n",
       "      <th>Name</th>\n",
       "      <th>Sex</th>\n",
       "      <th>Age</th>\n",
       "      <th>SibSp</th>\n",
       "      <th>Parch</th>\n",
       "      <th>Ticket</th>\n",
       "      <th>Fare</th>\n",
       "      <th>Embarked</th>\n",
       "    </tr>\n",
       "  </thead>\n",
       "  <tbody>\n",
       "    <tr>\n",
       "      <th>0</th>\n",
       "      <td>3</td>\n",
       "      <td>Holliday, Daniel</td>\n",
       "      <td>male</td>\n",
       "      <td>19.0</td>\n",
       "      <td>0</td>\n",
       "      <td>0</td>\n",
       "      <td>24745</td>\n",
       "      <td>63.01</td>\n",
       "      <td>S</td>\n",
       "    </tr>\n",
       "    <tr>\n",
       "      <th>1</th>\n",
       "      <td>3</td>\n",
       "      <td>Nguyen, Lorraine</td>\n",
       "      <td>female</td>\n",
       "      <td>53.0</td>\n",
       "      <td>0</td>\n",
       "      <td>0</td>\n",
       "      <td>13264</td>\n",
       "      <td>5.81</td>\n",
       "      <td>S</td>\n",
       "    </tr>\n",
       "    <tr>\n",
       "      <th>2</th>\n",
       "      <td>1</td>\n",
       "      <td>Harris, Heather</td>\n",
       "      <td>female</td>\n",
       "      <td>19.0</td>\n",
       "      <td>0</td>\n",
       "      <td>0</td>\n",
       "      <td>25990</td>\n",
       "      <td>38.91</td>\n",
       "      <td>C</td>\n",
       "    </tr>\n",
       "    <tr>\n",
       "      <th>3</th>\n",
       "      <td>2</td>\n",
       "      <td>Larsen, Eric</td>\n",
       "      <td>male</td>\n",
       "      <td>25.0</td>\n",
       "      <td>0</td>\n",
       "      <td>0</td>\n",
       "      <td>314011</td>\n",
       "      <td>12.93</td>\n",
       "      <td>S</td>\n",
       "    </tr>\n",
       "    <tr>\n",
       "      <th>4</th>\n",
       "      <td>1</td>\n",
       "      <td>Cleary, Sarah</td>\n",
       "      <td>female</td>\n",
       "      <td>17.0</td>\n",
       "      <td>0</td>\n",
       "      <td>2</td>\n",
       "      <td>26203</td>\n",
       "      <td>26.89</td>\n",
       "      <td>C</td>\n",
       "    </tr>\n",
       "    <tr>\n",
       "      <th>5</th>\n",
       "      <td>3</td>\n",
       "      <td>Orabuena, John</td>\n",
       "      <td>male</td>\n",
       "      <td>34.0</td>\n",
       "      <td>0</td>\n",
       "      <td>0</td>\n",
       "      <td>NaN</td>\n",
       "      <td>10.40</td>\n",
       "      <td>C</td>\n",
       "    </tr>\n",
       "    <tr>\n",
       "      <th>6</th>\n",
       "      <td>1</td>\n",
       "      <td>Guerrero, Angel</td>\n",
       "      <td>female</td>\n",
       "      <td>48.0</td>\n",
       "      <td>1</td>\n",
       "      <td>2</td>\n",
       "      <td>PC 28237</td>\n",
       "      <td>221.94</td>\n",
       "      <td>S</td>\n",
       "    </tr>\n",
       "    <tr>\n",
       "      <th>7</th>\n",
       "      <td>3</td>\n",
       "      <td>Payton, Brian</td>\n",
       "      <td>male</td>\n",
       "      <td>13.0</td>\n",
       "      <td>0</td>\n",
       "      <td>0</td>\n",
       "      <td>42031</td>\n",
       "      <td>9.41</td>\n",
       "      <td>S</td>\n",
       "    </tr>\n",
       "    <tr>\n",
       "      <th>8</th>\n",
       "      <td>3</td>\n",
       "      <td>Murray, Barbara</td>\n",
       "      <td>female</td>\n",
       "      <td>16.0</td>\n",
       "      <td>1</td>\n",
       "      <td>0</td>\n",
       "      <td>C.A. 219645</td>\n",
       "      <td>12.31</td>\n",
       "      <td>S</td>\n",
       "    </tr>\n",
       "    <tr>\n",
       "      <th>9</th>\n",
       "      <td>3</td>\n",
       "      <td>Mickle, Johnny</td>\n",
       "      <td>male</td>\n",
       "      <td>20.0</td>\n",
       "      <td>0</td>\n",
       "      <td>0</td>\n",
       "      <td>39023</td>\n",
       "      <td>6.17</td>\n",
       "      <td>S</td>\n",
       "    </tr>\n",
       "  </tbody>\n",
       "</table>\n",
       "</div>"
      ],
      "text/plain": [
       "   Pclass              Name     Sex   Age  SibSp  Parch       Ticket    Fare  \\\n",
       "0       3  Holliday, Daniel    male  19.0      0      0        24745   63.01   \n",
       "1       3  Nguyen, Lorraine  female  53.0      0      0        13264    5.81   \n",
       "2       1   Harris, Heather  female  19.0      0      0        25990   38.91   \n",
       "3       2      Larsen, Eric    male  25.0      0      0       314011   12.93   \n",
       "4       1     Cleary, Sarah  female  17.0      0      2        26203   26.89   \n",
       "5       3    Orabuena, John    male  34.0      0      0          NaN   10.40   \n",
       "6       1   Guerrero, Angel  female  48.0      1      2     PC 28237  221.94   \n",
       "7       3     Payton, Brian    male  13.0      0      0        42031    9.41   \n",
       "8       3   Murray, Barbara  female  16.0      1      0  C.A. 219645   12.31   \n",
       "9       3    Mickle, Johnny    male  20.0      0      0        39023    6.17   \n",
       "\n",
       "  Embarked  \n",
       "0        S  \n",
       "1        S  \n",
       "2        C  \n",
       "3        S  \n",
       "4        C  \n",
       "5        C  \n",
       "6        S  \n",
       "7        S  \n",
       "8        S  \n",
       "9        S  "
      ]
     },
     "execution_count": 14,
     "metadata": {},
     "output_type": "execute_result"
    }
   ],
   "source": [
    "# Drop from Test Dataset\n",
    "org_test_pssg_id = org_test_data[\"PassengerId\"]\n",
    "org_test_data.drop([\"PassengerId\", \"Cabin\"], axis=1, inplace=True)\n",
    "org_test_data.head(10)"
   ]
  },
  {
   "cell_type": "code",
   "execution_count": 15,
   "metadata": {
    "id": "uOX5T5lrr-Tb"
   },
   "outputs": [],
   "source": [
    "def fill_age(data):\n",
    "  # Populate Missing Age - Has SibSp and Parch\n",
    "  # Age for passanger travelling with SibSp and Parch\n",
    "\n",
    "  # Find Median Age for passanger travelling with SibSp and Parch\n",
    "  age_median_sibsp_parch = data[(data[\"Parch\"] > 0) & (data[\"SibSp\"] > 0)][\"Age\"].median()\n",
    "\n",
    "  # Populate Age for passanger travelling with SibSp and Parch where Age is Null\n",
    "  data.loc[(data[\"Parch\"] > 0) & (data[\"SibSp\"] > 0) & (data[\"Age\"].isnull()), \"Age\"] = age_median_sibsp_parch\n",
    "\n",
    "  # Populate Missing Age - Has SibSp and NO Parch\n",
    "  # Age for passanger travelling with SibSp and NO Parch\n",
    "\n",
    "  # Find Median Age for passanger travelling with SibSp and NO Parch\n",
    "  age_median_sibsp_no_parch = data[(data[\"Parch\"] == 0) & (data[\"SibSp\"] > 0)][\"Age\"].median()\n",
    "\n",
    "  # Populate Age for passanger travelling with SibSp and NO Parch where Age is Null\n",
    "  data.loc[(data[\"Parch\"] == 0) & (data[\"SibSp\"] > 0) & (data[\"Age\"].isnull()), \"Age\"] = age_median_sibsp_no_parch\n",
    "\n",
    "  # Populate Missing Age - Has NO SibSp and NO Parch\n",
    "  # Age for passanger travelling with NO SibSp and NO Parch\n",
    "\n",
    "  # Find Median Age for passanger travelling with NO SibSp and NO Parch\n",
    "  age_median_no_sibsp_no_parch = data[(data[\"Parch\"] == 0) & (data[\"SibSp\"] == 0)][\"Age\"].median()\n",
    "\n",
    "  # Populate Age for passanger travelling with NO SibSp and NO Parch where Age is Null\n",
    "  data.loc[(data[\"Parch\"] == 0) & (data[\"SibSp\"] == 0) & (data[\"Age\"].isnull()), \"Age\"] = age_median_no_sibsp_no_parch\n",
    "\n",
    "  # Populate Missing Age - Has NO SibSp and Has Parch\n",
    "  # Age for passanger travelling with NO SibSp and Has Parch\n",
    "\n",
    "  # Find Median Age for passanger travelling with NO SibSp and Has Parch\n",
    "  age_median_no_sibsp_no_parch = data[(data[\"Parch\"] > 0) & (data[\"SibSp\"] == 0)][\"Age\"].median()\n",
    "\n",
    "  # Populate Age for passanger travelling with NO SibSp and Has Parch where Age is Null\n",
    "  data.loc[(data[\"Parch\"] > 0) & (data[\"SibSp\"] == 0) & (data[\"Age\"].isnull()), \"Age\"] = age_median_no_sibsp_no_parch\n",
    "\n",
    "  return data"
   ]
  },
  {
   "cell_type": "code",
   "execution_count": 16,
   "metadata": {
    "id": "cL22lt0jstEY"
   },
   "outputs": [],
   "source": [
    "# Fill Age for Train and Test Dataset\n",
    "org_train_data = fill_age(org_train_data)\n",
    "org_test_data = fill_age(org_test_data)"
   ]
  },
  {
   "cell_type": "code",
   "execution_count": 17,
   "metadata": {
    "id": "GZu76KEF4_RE"
   },
   "outputs": [],
   "source": [
    "# Create bin for age features\n",
    "\n",
    "# Train Dataset\n",
    "org_train_data['Age_Bin'] = pd.cut(org_train_data['Age'], bins=[0,12,20,40,120], labels=['Children','Teenage','Adult','Elder'])\n",
    "\n",
    "# Test Dataset\n",
    "org_test_data['Age_Bin'] = pd.cut(org_test_data['Age'], bins=[0,12,20,40,120], labels=['Children','Teenage','Adult','Elder'])"
   ]
  },
  {
   "cell_type": "code",
   "execution_count": 18,
   "metadata": {
    "id": "gkqRD0arGzPX"
   },
   "outputs": [],
   "source": [
    "def encode_age_bin(data):\n",
    " return pd.get_dummies(data[\"Age_Bin\"], drop_first=True)\n",
    "\n",
    "train_age_bin = encode_age_bin(org_train_data)\n",
    "test_age_bin = encode_age_bin(org_test_data)"
   ]
  },
  {
   "cell_type": "code",
   "execution_count": 19,
   "metadata": {
    "id": "LKh4YuTZ59s6"
   },
   "outputs": [],
   "source": [
    "org_train_data.drop([\"Age\", \"Age_Bin\"], axis=1, inplace=True)\n",
    "org_test_data.drop([\"Age\", \"Age_Bin\"], axis=1, inplace=True)"
   ]
  },
  {
   "cell_type": "code",
   "execution_count": 20,
   "metadata": {
    "id": "IFnV--8roKQT"
   },
   "outputs": [],
   "source": [
    "# Fill Fare for Test and Train Dataset\n",
    "org_train_data['Fare'].fillna(org_train_data['Fare'].mode()[0], inplace = True)\n",
    "org_test_data['Fare'].fillna(org_train_data['Fare'].mode()[0], inplace = True)"
   ]
  },
  {
   "cell_type": "code",
   "execution_count": 21,
   "metadata": {
    "id": "rmFiwqHA5Ua5"
   },
   "outputs": [],
   "source": [
    "# Create bin for fare features\n",
    "# Train Dataset\n",
    "org_train_data['Fare_Bin'] = pd.cut(org_train_data['Fare'], bins=[0,7.91,14.45,31,1000], labels=['Low_Fare','Median_Fare',\n",
    "                                                                                      'Average_Fare','High_Fare'])\n",
    "\n",
    "# Test Dataset\n",
    "org_test_data['Fare_Bin'] = pd.cut(org_test_data['Fare'], bins=[0,7.91,14.45,31,1000], labels=['Low_Fare','Median_Fare',\n",
    "                                                                                      'Average_Fare','High_Fare'])\n"
   ]
  },
  {
   "cell_type": "code",
   "execution_count": 22,
   "metadata": {
    "id": "-mBIiTzcHAT9"
   },
   "outputs": [],
   "source": [
    "def encode_fare_bin(data):\n",
    "  return pd.get_dummies(org_train_data[\"Fare_Bin\"], drop_first=True)\n",
    "\n",
    "train_fare_bin = encode_fare_bin(org_train_data)\n",
    "test_fare_bin = encode_fare_bin(org_test_data)"
   ]
  },
  {
   "cell_type": "code",
   "execution_count": 23,
   "metadata": {
    "id": "Lo3uZCCRHNpR"
   },
   "outputs": [],
   "source": [
    "# Update Train Dataset\n",
    "org_train_data = pd.concat([org_train_data, train_age_bin, train_fare_bin], axis = 1)\n",
    "org_test_data = pd.concat([org_test_data, test_age_bin, test_fare_bin], axis = 1)\n",
    "\n",
    "org_train_data.drop([\"Fare\", \"Fare_Bin\"], axis=1, inplace=True)\n",
    "org_test_data.drop([\"Fare\", \"Fare_Bin\"], axis=1, inplace=True)"
   ]
  },
  {
   "cell_type": "code",
   "execution_count": 24,
   "metadata": {
    "id": "BHy1YeTCqE4A"
   },
   "outputs": [],
   "source": [
    "# Check for Tickets and add Has_ticket\n",
    "org_train_data[\"Has_Ticket\"] = np.where(org_train_data[\"Ticket\"].isnull(), 0, 1)\n",
    "org_test_data[\"Has_Ticket\"] = np.where(org_test_data[\"Ticket\"].isnull(), 0, 1)\n",
    "\n",
    "# Drop Ticket\n",
    "org_train_data.drop(\"Ticket\", axis=1, inplace=True)\n",
    "org_test_data.drop(\"Ticket\", axis=1, inplace=True)"
   ]
  },
  {
   "cell_type": "code",
   "execution_count": 25,
   "metadata": {
    "id": "FTT9w4G0hx_j"
   },
   "outputs": [],
   "source": [
    "# Fill Embarked for Test and Train Dataset\n",
    "org_train_data['Embarked'].fillna(org_train_data['Embarked'].mode()[0], inplace = True)\n",
    "org_test_data['Embarked'].fillna(org_train_data['Embarked'].mode()[0], inplace = True)"
   ]
  },
  {
   "cell_type": "code",
   "execution_count": 26,
   "metadata": {
    "id": "foLrvtILxjqq"
   },
   "outputs": [],
   "source": [
    "# Apply One Hot Encoding to Train Dataset"
   ]
  },
  {
   "cell_type": "code",
   "execution_count": 27,
   "metadata": {
    "id": "JHSVKHSCRlVh"
   },
   "outputs": [],
   "source": [
    "# Sex\n",
    "def encode_sex(data):\n",
    "  return pd.get_dummies(data[\"Sex\"], drop_first=True)\n",
    "\n",
    "train_sex = encode_sex(org_train_data)\n",
    "test_sex = encode_sex(org_test_data)"
   ]
  },
  {
   "cell_type": "code",
   "execution_count": 28,
   "metadata": {
    "id": "x9OTnDQIxPOc"
   },
   "outputs": [],
   "source": [
    "# Pclass\n",
    "def encode_pclass(data):\n",
    "  return pd.get_dummies(data[\"Pclass\"], drop_first=True)\n",
    "\n",
    "train_pclass = encode_pclass(org_train_data)\n",
    "test_pclass = encode_pclass(org_test_data)"
   ]
  },
  {
   "cell_type": "code",
   "execution_count": 29,
   "metadata": {
    "id": "VOU3R5AkxW2G"
   },
   "outputs": [],
   "source": [
    "# Embarked\n",
    "def encode_embarked(data):\n",
    "  return pd.get_dummies(org_train_data[\"Embarked\"], drop_first=True)\n",
    "\n",
    "train_embarked = encode_embarked(org_train_data)\n",
    "test_embarked = encode_embarked(org_test_data)"
   ]
  },
  {
   "cell_type": "code",
   "execution_count": 30,
   "metadata": {
    "id": "lKhXeKPQxwBl"
   },
   "outputs": [],
   "source": [
    "# Add Encoded Sex, embarked, pclass to Train Dataset\n",
    "org_train_data = pd.concat([org_train_data, train_sex, train_embarked, train_pclass], axis = 1)\n",
    "org_test_data = pd.concat([org_test_data, test_sex, test_embarked, test_pclass], axis = 1)"
   ]
  },
  {
   "cell_type": "code",
   "execution_count": 31,
   "metadata": {
    "id": "wbEH7aCpyAoS"
   },
   "outputs": [],
   "source": [
    "# Drop Sex, embarked, pclass to Train Dataset\n",
    "org_train_data.drop([\"Pclass\", \"Sex\", \"Embarked\"], axis=1, inplace=True)\n",
    "org_test_data.drop([\"Pclass\", \"Sex\", \"Embarked\"], axis=1, inplace=True)"
   ]
  },
  {
   "cell_type": "code",
   "execution_count": 32,
   "metadata": {
    "id": "P0GCOSUHX3O2"
   },
   "outputs": [],
   "source": [
    "# Calculate Family Size\n",
    "org_train_data[\"Family_Size\"] = org_train_data[\"SibSp\"] + org_train_data[\"Parch\"] + 1\n",
    "org_test_data[\"Family_Size\"] = org_test_data[\"SibSp\"] + org_test_data[\"Parch\"] + 1"
   ]
  },
  {
   "cell_type": "code",
   "execution_count": 33,
   "metadata": {
    "id": "i7pBe_QDhcB_"
   },
   "outputs": [],
   "source": [
    "# Create Bin for Family Size\n",
    "org_train_data['Family_Bin'] = pd.cut(org_train_data['Family_Size'], bins=[0,1,3,5,20], labels=['Single_Family','Median_Family',\n",
    "                                                                                      'Average_Family','Big_Family'])\n",
    "\n",
    "org_test_data['Family_Bin'] = pd.cut(org_test_data['Family_Size'], bins=[0,1,3,5,20], labels=['Single_Family','Median_Family',\n",
    "                                                                                      'Average_Family','Big_Family'])"
   ]
  },
  {
   "cell_type": "code",
   "execution_count": 34,
   "metadata": {
    "id": "Cae8MwMo43o3"
   },
   "outputs": [],
   "source": [
    "def encode_family_bin(data):\n",
    "  return pd.get_dummies(data[\"Family_Bin\"], drop_first=True)\n",
    "\n",
    "train_family_bin = encode_family_bin(org_train_data)\n",
    "test_family_bin = encode_family_bin(org_test_data)"
   ]
  },
  {
   "cell_type": "code",
   "execution_count": 35,
   "metadata": {
    "id": "qZzB2Hlw5PJc"
   },
   "outputs": [],
   "source": [
    "org_train_data = pd.concat([org_train_data, train_family_bin], axis = 1)\n",
    "org_test_data = pd.concat([org_test_data, test_family_bin], axis = 1)"
   ]
  },
  {
   "cell_type": "code",
   "execution_count": 36,
   "metadata": {
    "id": "1XFnUmVP5wNW"
   },
   "outputs": [],
   "source": [
    "# Drop unnecessary columns\n",
    "org_train_data.drop([\"Family_Size\", \"Family_Bin\", \"Name\"], axis=1, inplace=True)\n",
    "org_test_data.drop([\"Family_Size\", \"Family_Bin\", \"Name\"], axis=1, inplace=True)"
   ]
  },
  {
   "cell_type": "code",
   "execution_count": 37,
   "metadata": {
    "colab": {
     "base_uri": "https://localhost:8080/",
     "height": 224
    },
    "id": "5n5ZSTnf1q_g",
    "outputId": "d6198592-0321-4a72-8c8c-249a7115ba6b"
   },
   "outputs": [
    {
     "data": {
      "text/html": [
       "<div>\n",
       "<style scoped>\n",
       "    .dataframe tbody tr th:only-of-type {\n",
       "        vertical-align: middle;\n",
       "    }\n",
       "\n",
       "    .dataframe tbody tr th {\n",
       "        vertical-align: top;\n",
       "    }\n",
       "\n",
       "    .dataframe thead th {\n",
       "        text-align: right;\n",
       "    }\n",
       "</style>\n",
       "<table border=\"1\" class=\"dataframe\">\n",
       "  <thead>\n",
       "    <tr style=\"text-align: right;\">\n",
       "      <th></th>\n",
       "      <th>Survived</th>\n",
       "      <th>SibSp</th>\n",
       "      <th>Parch</th>\n",
       "      <th>Teenage</th>\n",
       "      <th>Adult</th>\n",
       "      <th>Elder</th>\n",
       "      <th>Median_Fare</th>\n",
       "      <th>Average_Fare</th>\n",
       "      <th>High_Fare</th>\n",
       "      <th>Has_Ticket</th>\n",
       "      <th>male</th>\n",
       "      <th>Q</th>\n",
       "      <th>S</th>\n",
       "      <th>2</th>\n",
       "      <th>3</th>\n",
       "      <th>Median_Family</th>\n",
       "      <th>Average_Family</th>\n",
       "      <th>Big_Family</th>\n",
       "    </tr>\n",
       "  </thead>\n",
       "  <tbody>\n",
       "    <tr>\n",
       "      <th>0</th>\n",
       "      <td>1</td>\n",
       "      <td>2</td>\n",
       "      <td>0</td>\n",
       "      <td>0</td>\n",
       "      <td>0</td>\n",
       "      <td>1</td>\n",
       "      <td>0</td>\n",
       "      <td>1</td>\n",
       "      <td>0</td>\n",
       "      <td>1</td>\n",
       "      <td>1</td>\n",
       "      <td>0</td>\n",
       "      <td>1</td>\n",
       "      <td>0</td>\n",
       "      <td>0</td>\n",
       "      <td>1</td>\n",
       "      <td>0</td>\n",
       "      <td>0</td>\n",
       "    </tr>\n",
       "    <tr>\n",
       "      <th>1</th>\n",
       "      <td>0</td>\n",
       "      <td>0</td>\n",
       "      <td>0</td>\n",
       "      <td>0</td>\n",
       "      <td>1</td>\n",
       "      <td>0</td>\n",
       "      <td>1</td>\n",
       "      <td>0</td>\n",
       "      <td>0</td>\n",
       "      <td>1</td>\n",
       "      <td>1</td>\n",
       "      <td>0</td>\n",
       "      <td>1</td>\n",
       "      <td>0</td>\n",
       "      <td>1</td>\n",
       "      <td>0</td>\n",
       "      <td>0</td>\n",
       "      <td>0</td>\n",
       "    </tr>\n",
       "    <tr>\n",
       "      <th>2</th>\n",
       "      <td>0</td>\n",
       "      <td>1</td>\n",
       "      <td>2</td>\n",
       "      <td>0</td>\n",
       "      <td>0</td>\n",
       "      <td>0</td>\n",
       "      <td>0</td>\n",
       "      <td>0</td>\n",
       "      <td>1</td>\n",
       "      <td>1</td>\n",
       "      <td>1</td>\n",
       "      <td>0</td>\n",
       "      <td>1</td>\n",
       "      <td>0</td>\n",
       "      <td>1</td>\n",
       "      <td>0</td>\n",
       "      <td>1</td>\n",
       "      <td>0</td>\n",
       "    </tr>\n",
       "    <tr>\n",
       "      <th>3</th>\n",
       "      <td>0</td>\n",
       "      <td>0</td>\n",
       "      <td>0</td>\n",
       "      <td>1</td>\n",
       "      <td>0</td>\n",
       "      <td>0</td>\n",
       "      <td>1</td>\n",
       "      <td>0</td>\n",
       "      <td>0</td>\n",
       "      <td>1</td>\n",
       "      <td>1</td>\n",
       "      <td>0</td>\n",
       "      <td>1</td>\n",
       "      <td>0</td>\n",
       "      <td>1</td>\n",
       "      <td>0</td>\n",
       "      <td>0</td>\n",
       "      <td>0</td>\n",
       "    </tr>\n",
       "    <tr>\n",
       "      <th>4</th>\n",
       "      <td>1</td>\n",
       "      <td>0</td>\n",
       "      <td>0</td>\n",
       "      <td>0</td>\n",
       "      <td>1</td>\n",
       "      <td>0</td>\n",
       "      <td>0</td>\n",
       "      <td>0</td>\n",
       "      <td>0</td>\n",
       "      <td>1</td>\n",
       "      <td>1</td>\n",
       "      <td>0</td>\n",
       "      <td>1</td>\n",
       "      <td>0</td>\n",
       "      <td>1</td>\n",
       "      <td>0</td>\n",
       "      <td>0</td>\n",
       "      <td>0</td>\n",
       "    </tr>\n",
       "  </tbody>\n",
       "</table>\n",
       "</div>"
      ],
      "text/plain": [
       "   Survived  SibSp  Parch  Teenage  Adult  Elder  Median_Fare  Average_Fare  \\\n",
       "0         1      2      0        0      0      1            0             1   \n",
       "1         0      0      0        0      1      0            1             0   \n",
       "2         0      1      2        0      0      0            0             0   \n",
       "3         0      0      0        1      0      0            1             0   \n",
       "4         1      0      0        0      1      0            0             0   \n",
       "\n",
       "   High_Fare  Has_Ticket  male  Q  S  2  3  Median_Family  Average_Family  \\\n",
       "0          0           1     1  0  1  0  0              1               0   \n",
       "1          0           1     1  0  1  0  1              0               0   \n",
       "2          1           1     1  0  1  0  1              0               1   \n",
       "3          0           1     1  0  1  0  1              0               0   \n",
       "4          0           1     1  0  1  0  1              0               0   \n",
       "\n",
       "   Big_Family  \n",
       "0           0  \n",
       "1           0  \n",
       "2           0  \n",
       "3           0  \n",
       "4           0  "
      ]
     },
     "execution_count": 37,
     "metadata": {},
     "output_type": "execute_result"
    }
   ],
   "source": [
    "org_train_data.head(5)"
   ]
  },
  {
   "cell_type": "code",
   "execution_count": 38,
   "metadata": {
    "colab": {
     "base_uri": "https://localhost:8080/",
     "height": 224
    },
    "id": "CYYylw5i1uIr",
    "outputId": "35e0b338-0734-446d-d1b2-0fa9e097eb61"
   },
   "outputs": [
    {
     "data": {
      "text/html": [
       "<div>\n",
       "<style scoped>\n",
       "    .dataframe tbody tr th:only-of-type {\n",
       "        vertical-align: middle;\n",
       "    }\n",
       "\n",
       "    .dataframe tbody tr th {\n",
       "        vertical-align: top;\n",
       "    }\n",
       "\n",
       "    .dataframe thead th {\n",
       "        text-align: right;\n",
       "    }\n",
       "</style>\n",
       "<table border=\"1\" class=\"dataframe\">\n",
       "  <thead>\n",
       "    <tr style=\"text-align: right;\">\n",
       "      <th></th>\n",
       "      <th>SibSp</th>\n",
       "      <th>Parch</th>\n",
       "      <th>Teenage</th>\n",
       "      <th>Adult</th>\n",
       "      <th>Elder</th>\n",
       "      <th>Median_Fare</th>\n",
       "      <th>Average_Fare</th>\n",
       "      <th>High_Fare</th>\n",
       "      <th>Has_Ticket</th>\n",
       "      <th>male</th>\n",
       "      <th>Q</th>\n",
       "      <th>S</th>\n",
       "      <th>2</th>\n",
       "      <th>3</th>\n",
       "      <th>Median_Family</th>\n",
       "      <th>Average_Family</th>\n",
       "      <th>Big_Family</th>\n",
       "    </tr>\n",
       "  </thead>\n",
       "  <tbody>\n",
       "    <tr>\n",
       "      <th>0</th>\n",
       "      <td>0</td>\n",
       "      <td>0</td>\n",
       "      <td>1</td>\n",
       "      <td>0</td>\n",
       "      <td>0</td>\n",
       "      <td>0</td>\n",
       "      <td>1</td>\n",
       "      <td>0</td>\n",
       "      <td>1</td>\n",
       "      <td>1</td>\n",
       "      <td>0</td>\n",
       "      <td>1</td>\n",
       "      <td>0</td>\n",
       "      <td>1</td>\n",
       "      <td>0</td>\n",
       "      <td>0</td>\n",
       "      <td>0</td>\n",
       "    </tr>\n",
       "    <tr>\n",
       "      <th>1</th>\n",
       "      <td>0</td>\n",
       "      <td>0</td>\n",
       "      <td>0</td>\n",
       "      <td>0</td>\n",
       "      <td>1</td>\n",
       "      <td>1</td>\n",
       "      <td>0</td>\n",
       "      <td>0</td>\n",
       "      <td>1</td>\n",
       "      <td>0</td>\n",
       "      <td>0</td>\n",
       "      <td>1</td>\n",
       "      <td>0</td>\n",
       "      <td>1</td>\n",
       "      <td>0</td>\n",
       "      <td>0</td>\n",
       "      <td>0</td>\n",
       "    </tr>\n",
       "    <tr>\n",
       "      <th>2</th>\n",
       "      <td>0</td>\n",
       "      <td>0</td>\n",
       "      <td>1</td>\n",
       "      <td>0</td>\n",
       "      <td>0</td>\n",
       "      <td>0</td>\n",
       "      <td>0</td>\n",
       "      <td>1</td>\n",
       "      <td>1</td>\n",
       "      <td>0</td>\n",
       "      <td>0</td>\n",
       "      <td>1</td>\n",
       "      <td>0</td>\n",
       "      <td>0</td>\n",
       "      <td>0</td>\n",
       "      <td>0</td>\n",
       "      <td>0</td>\n",
       "    </tr>\n",
       "    <tr>\n",
       "      <th>3</th>\n",
       "      <td>0</td>\n",
       "      <td>0</td>\n",
       "      <td>0</td>\n",
       "      <td>1</td>\n",
       "      <td>0</td>\n",
       "      <td>1</td>\n",
       "      <td>0</td>\n",
       "      <td>0</td>\n",
       "      <td>1</td>\n",
       "      <td>1</td>\n",
       "      <td>0</td>\n",
       "      <td>1</td>\n",
       "      <td>1</td>\n",
       "      <td>0</td>\n",
       "      <td>0</td>\n",
       "      <td>0</td>\n",
       "      <td>0</td>\n",
       "    </tr>\n",
       "    <tr>\n",
       "      <th>4</th>\n",
       "      <td>0</td>\n",
       "      <td>2</td>\n",
       "      <td>1</td>\n",
       "      <td>0</td>\n",
       "      <td>0</td>\n",
       "      <td>0</td>\n",
       "      <td>0</td>\n",
       "      <td>0</td>\n",
       "      <td>1</td>\n",
       "      <td>0</td>\n",
       "      <td>0</td>\n",
       "      <td>1</td>\n",
       "      <td>0</td>\n",
       "      <td>0</td>\n",
       "      <td>1</td>\n",
       "      <td>0</td>\n",
       "      <td>0</td>\n",
       "    </tr>\n",
       "  </tbody>\n",
       "</table>\n",
       "</div>"
      ],
      "text/plain": [
       "   SibSp  Parch  Teenage  Adult  Elder  Median_Fare  Average_Fare  High_Fare  \\\n",
       "0      0      0        1      0      0            0             1          0   \n",
       "1      0      0        0      0      1            1             0          0   \n",
       "2      0      0        1      0      0            0             0          1   \n",
       "3      0      0        0      1      0            1             0          0   \n",
       "4      0      2        1      0      0            0             0          0   \n",
       "\n",
       "   Has_Ticket  male  Q  S  2  3  Median_Family  Average_Family  Big_Family  \n",
       "0           1     1  0  1  0  1              0               0           0  \n",
       "1           1     0  0  1  0  1              0               0           0  \n",
       "2           1     0  0  1  0  0              0               0           0  \n",
       "3           1     1  0  1  1  0              0               0           0  \n",
       "4           1     0  0  1  0  0              1               0           0  "
      ]
     },
     "execution_count": 38,
     "metadata": {},
     "output_type": "execute_result"
    }
   ],
   "source": [
    "org_test_data.head(5)"
   ]
  },
  {
   "cell_type": "code",
   "execution_count": 39,
   "metadata": {
    "id": "Lsvy3xa3KLmH"
   },
   "outputs": [],
   "source": [
    "training_feature = org_train_data.drop(\"Survived\", axis=1)\n",
    "training_target = org_train_data[\"Survived\"]\n"
   ]
  },
  {
   "cell_type": "code",
   "execution_count": 40,
   "metadata": {},
   "outputs": [
    {
     "data": {
      "image/png": "[encoded data removed]",
      "text/plain": [
       "<Figure size 1440x864 with 2 Axes>"
      ]
     },
     "metadata": {
      "needs_background": "light"
     },
     "output_type": "display_data"
    }
   ],
   "source": [
    "sns.heatmap(training_feature.corr(),annot=True,cmap='RdYlGn',linewidths=0.2) #data.corr()-->correlation matrix\n",
    "fig = plt.gcf()\n",
    "fig.set_size_inches(20,12)\n",
    "plt.show()"
   ]
  },
  {
   "cell_type": "code",
   "execution_count": 41,
   "metadata": {
    "colab": {
     "base_uri": "https://localhost:8080/"
    },
    "id": "nQYCJGNq92Gh",
    "outputId": "87a39814-d9d7-40b3-e083-e1cef2e50095"
   },
   "outputs": [
    {
     "name": "stderr",
     "output_type": "stream",
     "text": [
      "/Users/gajendrasahu/opt/anaconda3/envs/datasciencebasics/lib/python3.5/site-packages/sklearn/preprocessing/data.py:617: DataConversionWarning: Data with input dtype uint8, int64 were all converted to float64 by StandardScaler.\n",
      "  return self.partial_fit(X, y)\n",
      "/Users/gajendrasahu/opt/anaconda3/envs/datasciencebasics/lib/python3.5/site-packages/sklearn/base.py:462: DataConversionWarning: Data with input dtype uint8, int64 were all converted to float64 by StandardScaler.\n",
      "  return self.fit(X, **fit_params).transform(X)\n"
     ]
    },
    {
     "data": {
      "text/plain": [
       "array([[ 1.85761787, -0.47844837, -0.22557436, ...,  1.73200462,\n",
       "        -0.34578908, -0.15900783],\n",
       "       [-0.46105688, -0.47844837, -0.22557436, ..., -0.57736567,\n",
       "        -0.34578908, -0.15900783],\n",
       "       [ 0.69828049,  1.6266571 , -0.22557436, ..., -0.57736567,\n",
       "         2.89193635, -0.15900783],\n",
       "       ...,\n",
       "       [-0.46105688, -0.47844837, -0.22557436, ..., -0.57736567,\n",
       "        -0.34578908, -0.15900783],\n",
       "       [-0.46105688,  0.57410437, -0.22557436, ...,  1.73200462,\n",
       "        -0.34578908, -0.15900783],\n",
       "       [-0.46105688, -0.47844837, -0.22557436, ..., -0.57736567,\n",
       "        -0.34578908, -0.15900783]])"
      ]
     },
     "execution_count": 41,
     "metadata": {},
     "output_type": "execute_result"
    }
   ],
   "source": [
    "from sklearn.preprocessing import StandardScaler\n",
    "\n",
    "standard_scaler = StandardScaler()\n",
    "standard_scaler.fit_transform(training_feature)"
   ]
  },
  {
   "cell_type": "code",
   "execution_count": 42,
   "metadata": {
    "colab": {
     "base_uri": "https://localhost:8080/"
    },
    "id": "9L7LdIhjK5_t",
    "outputId": "77ec0bf7-0f16-4811-ffc0-7b63f0975a23"
   },
   "outputs": [
    {
     "data": {
      "text/plain": [
       "0        1\n",
       "1        0\n",
       "2        0\n",
       "3        0\n",
       "4        1\n",
       "5        0\n",
       "6        0\n",
       "7        1\n",
       "8        0\n",
       "9        0\n",
       "10       0\n",
       "11       0\n",
       "12       0\n",
       "13       1\n",
       "14       1\n",
       "15       1\n",
       "16       0\n",
       "17       0\n",
       "18       0\n",
       "19       1\n",
       "20       0\n",
       "21       0\n",
       "22       0\n",
       "23       1\n",
       "24       0\n",
       "25       0\n",
       "26       0\n",
       "27       1\n",
       "28       1\n",
       "29       0\n",
       "        ..\n",
       "99970    1\n",
       "99971    0\n",
       "99972    0\n",
       "99973    0\n",
       "99974    0\n",
       "99975    0\n",
       "99976    1\n",
       "99977    0\n",
       "99978    0\n",
       "99979    0\n",
       "99980    0\n",
       "99981    1\n",
       "99982    0\n",
       "99983    1\n",
       "99984    1\n",
       "99985    1\n",
       "99986    0\n",
       "99987    0\n",
       "99988    1\n",
       "99989    1\n",
       "99990    1\n",
       "99991    0\n",
       "99992    1\n",
       "99993    1\n",
       "99994    0\n",
       "99995    1\n",
       "99996    0\n",
       "99997    0\n",
       "99998    0\n",
       "99999    0\n",
       "Name: Survived, Length: 100000, dtype: int64"
      ]
     },
     "execution_count": 42,
     "metadata": {},
     "output_type": "execute_result"
    }
   ],
   "source": [
    "training_target"
   ]
  },
  {
   "cell_type": "code",
   "execution_count": 43,
   "metadata": {
    "colab": {
     "base_uri": "https://localhost:8080/"
    },
    "id": "LiNa_imXMrRP",
    "outputId": "8fd47196-ba3c-4260-db74-32e2a5353b56"
   },
   "outputs": [
    {
     "name": "stdout",
     "output_type": "stream",
     "text": [
      "<class 'pandas.core.frame.DataFrame'>\n",
      "RangeIndex: 100000 entries, 0 to 99999\n",
      "Data columns (total 17 columns):\n",
      "SibSp             100000 non-null int64\n",
      "Parch             100000 non-null int64\n",
      "Teenage           100000 non-null uint8\n",
      "Adult             100000 non-null uint8\n",
      "Elder             100000 non-null uint8\n",
      "Median_Fare       100000 non-null uint8\n",
      "Average_Fare      100000 non-null uint8\n",
      "High_Fare         100000 non-null uint8\n",
      "Has_Ticket        100000 non-null int64\n",
      "male              100000 non-null uint8\n",
      "Q                 100000 non-null uint8\n",
      "S                 100000 non-null uint8\n",
      "2                 100000 non-null uint8\n",
      "3                 100000 non-null uint8\n",
      "Median_Family     100000 non-null uint8\n",
      "Average_Family    100000 non-null uint8\n",
      "Big_Family        100000 non-null uint8\n",
      "dtypes: int64(3), uint8(14)\n",
      "memory usage: 3.6 MB\n"
     ]
    }
   ],
   "source": [
    "training_feature.info()"
   ]
  },
  {
   "cell_type": "code",
   "execution_count": 44,
   "metadata": {
    "colab": {
     "base_uri": "https://localhost:8080/"
    },
    "id": "WJcTEuAXMxRq",
    "outputId": "83c48fca-1434-4b92-db77-c2c26519b65e"
   },
   "outputs": [
    {
     "name": "stdout",
     "output_type": "stream",
     "text": [
      "<class 'pandas.core.frame.DataFrame'>\n",
      "RangeIndex: 100000 entries, 0 to 99999\n",
      "Data columns (total 17 columns):\n",
      "SibSp             100000 non-null int64\n",
      "Parch             100000 non-null int64\n",
      "Teenage           100000 non-null uint8\n",
      "Adult             100000 non-null uint8\n",
      "Elder             100000 non-null uint8\n",
      "Median_Fare       100000 non-null uint8\n",
      "Average_Fare      100000 non-null uint8\n",
      "High_Fare         100000 non-null uint8\n",
      "Has_Ticket        100000 non-null int64\n",
      "male              100000 non-null uint8\n",
      "Q                 100000 non-null uint8\n",
      "S                 100000 non-null uint8\n",
      "2                 100000 non-null uint8\n",
      "3                 100000 non-null uint8\n",
      "Median_Family     100000 non-null uint8\n",
      "Average_Family    100000 non-null uint8\n",
      "Big_Family        100000 non-null uint8\n",
      "dtypes: int64(3), uint8(14)\n",
      "memory usage: 3.6 MB\n"
     ]
    }
   ],
   "source": [
    "org_test_data.info()"
   ]
  },
  {
   "cell_type": "markdown",
   "metadata": {
    "id": "RvVuZSlmlkCh"
   },
   "source": [
    "**Model**\n",
    "\n",
    "Now we are ready to train a model and predict the required solution. There are lot of predictive modelling algorithms to choose from. We must understand the type of problem and solution requirement to narrow down to a select few models which we can evaluate. Our problem is a classification and regression problem. We want to identify relationship between output (Survived or not) with other variables or features (Gender, Age, Port...). We are also perfoming a category of machine learning which is called supervised learning as we are training our model with a given dataset. With these two criteria - Supervised Learning plus Classification and Regression, we can narrow down our choice of models to a few. These include:\n",
    "\n",
    "- Logistic Regression\n",
    "- KNN\n",
    "- Support Vector Machines\n",
    "- Naive Bayes classifier\n",
    "- Decision Tree\n",
    "- Random Forrest\n",
    "- Linear Discriminant Analysis\n",
    "- Ada Boost Classifier\n",
    "- Gradient Boosting Classifier\n",
    "\n",
    "And also compared above given classifiers and evaluate the mean accuracy of each of them by a stratified kfold cross validation procedure and plot accuracy based confusion matrix"
   ]
  },
  {
   "cell_type": "markdown",
   "metadata": {
    "id": "1G2u1YtYlyxP"
   },
   "source": [
    "## Split Data to Test and Train"
   ]
  },
  {
   "cell_type": "code",
   "execution_count": 45,
   "metadata": {
    "id": "eQK4ARSUlwmQ"
   },
   "outputs": [],
   "source": [
    "from sklearn.model_selection import train_test_split, cross_val_score, cross_val_predict, KFold\n",
    "from sklearn.metrics import accuracy_score, confusion_matrix"
   ]
  },
  {
   "cell_type": "code",
   "execution_count": 46,
   "metadata": {
    "id": "dtiE2kh2mx3G"
   },
   "outputs": [],
   "source": [
    "x_train, x_test, y_train, y_test = train_test_split(training_feature, training_target, test_size=0.2, random_state=42)"
   ]
  },
  {
   "cell_type": "code",
   "execution_count": 47,
   "metadata": {
    "colab": {
     "base_uri": "https://localhost:8080/"
    },
    "id": "xKcU1CtwngNt",
    "outputId": "c2f77712-811e-4d17-9724-23529d50e1a2"
   },
   "outputs": [
    {
     "data": {
      "text/plain": [
       "((80000, 17), (20000, 17), (80000,), (20000,))"
      ]
     },
     "execution_count": 47,
     "metadata": {},
     "output_type": "execute_result"
    }
   ],
   "source": [
    "x_train.shape, x_test.shape, y_train.shape, y_test.shape"
   ]
  },
  {
   "cell_type": "markdown",
   "metadata": {
    "id": "FtEBzUHMnwjC"
   },
   "source": [
    "## Logistic Regression"
   ]
  },
  {
   "cell_type": "code",
   "execution_count": 48,
   "metadata": {
    "colab": {
     "base_uri": "https://localhost:8080/",
     "height": 351
    },
    "id": "3paoP8Dhn1zg",
    "outputId": "54c6c562-18bd-4372-c68e-51803588e95e"
   },
   "outputs": [
    {
     "name": "stderr",
     "output_type": "stream",
     "text": [
      "/Users/gajendrasahu/opt/anaconda3/envs/datasciencebasics/lib/python3.5/site-packages/sklearn/linear_model/logistic.py:432: FutureWarning: Default solver will be changed to 'lbfgs' in 0.22. Specify a solver to silence this warning.\n",
      "  FutureWarning)\n"
     ]
    },
    {
     "name": "stdout",
     "output_type": "stream",
     "text": [
      "-------------- The Accuracy of the model ----------------------------\n",
      "The Accuracy of the Logistic Regression is 77.28\n"
     ]
    },
    {
     "name": "stderr",
     "output_type": "stream",
     "text": [
      "/Users/gajendrasahu/opt/anaconda3/envs/datasciencebasics/lib/python3.5/site-packages/sklearn/linear_model/logistic.py:432: FutureWarning: Default solver will be changed to 'lbfgs' in 0.22. Specify a solver to silence this warning.\n",
      "  FutureWarning)\n",
      "/Users/gajendrasahu/opt/anaconda3/envs/datasciencebasics/lib/python3.5/site-packages/sklearn/linear_model/logistic.py:432: FutureWarning: Default solver will be changed to 'lbfgs' in 0.22. Specify a solver to silence this warning.\n",
      "  FutureWarning)\n",
      "/Users/gajendrasahu/opt/anaconda3/envs/datasciencebasics/lib/python3.5/site-packages/sklearn/linear_model/logistic.py:432: FutureWarning: Default solver will be changed to 'lbfgs' in 0.22. Specify a solver to silence this warning.\n",
      "  FutureWarning)\n",
      "/Users/gajendrasahu/opt/anaconda3/envs/datasciencebasics/lib/python3.5/site-packages/sklearn/linear_model/logistic.py:432: FutureWarning: Default solver will be changed to 'lbfgs' in 0.22. Specify a solver to silence this warning.\n",
      "  FutureWarning)\n",
      "/Users/gajendrasahu/opt/anaconda3/envs/datasciencebasics/lib/python3.5/site-packages/sklearn/linear_model/logistic.py:432: FutureWarning: Default solver will be changed to 'lbfgs' in 0.22. Specify a solver to silence this warning.\n",
      "  FutureWarning)\n",
      "/Users/gajendrasahu/opt/anaconda3/envs/datasciencebasics/lib/python3.5/site-packages/sklearn/linear_model/logistic.py:432: FutureWarning: Default solver will be changed to 'lbfgs' in 0.22. Specify a solver to silence this warning.\n",
      "  FutureWarning)\n",
      "/Users/gajendrasahu/opt/anaconda3/envs/datasciencebasics/lib/python3.5/site-packages/sklearn/linear_model/logistic.py:432: FutureWarning: Default solver will be changed to 'lbfgs' in 0.22. Specify a solver to silence this warning.\n",
      "  FutureWarning)\n",
      "/Users/gajendrasahu/opt/anaconda3/envs/datasciencebasics/lib/python3.5/site-packages/sklearn/linear_model/logistic.py:432: FutureWarning: Default solver will be changed to 'lbfgs' in 0.22. Specify a solver to silence this warning.\n",
      "  FutureWarning)\n",
      "/Users/gajendrasahu/opt/anaconda3/envs/datasciencebasics/lib/python3.5/site-packages/sklearn/linear_model/logistic.py:432: FutureWarning: Default solver will be changed to 'lbfgs' in 0.22. Specify a solver to silence this warning.\n",
      "  FutureWarning)\n",
      "/Users/gajendrasahu/opt/anaconda3/envs/datasciencebasics/lib/python3.5/site-packages/sklearn/linear_model/logistic.py:432: FutureWarning: Default solver will be changed to 'lbfgs' in 0.22. Specify a solver to silence this warning.\n",
      "  FutureWarning)\n"
     ]
    },
    {
     "name": "stdout",
     "output_type": "stream",
     "text": [
      "The cross validated score for Logistic Regression is: 77.17\n"
     ]
    },
    {
     "name": "stderr",
     "output_type": "stream",
     "text": [
      "/Users/gajendrasahu/opt/anaconda3/envs/datasciencebasics/lib/python3.5/site-packages/sklearn/linear_model/logistic.py:432: FutureWarning: Default solver will be changed to 'lbfgs' in 0.22. Specify a solver to silence this warning.\n",
      "  FutureWarning)\n",
      "/Users/gajendrasahu/opt/anaconda3/envs/datasciencebasics/lib/python3.5/site-packages/sklearn/linear_model/logistic.py:432: FutureWarning: Default solver will be changed to 'lbfgs' in 0.22. Specify a solver to silence this warning.\n",
      "  FutureWarning)\n",
      "/Users/gajendrasahu/opt/anaconda3/envs/datasciencebasics/lib/python3.5/site-packages/sklearn/linear_model/logistic.py:432: FutureWarning: Default solver will be changed to 'lbfgs' in 0.22. Specify a solver to silence this warning.\n",
      "  FutureWarning)\n",
      "/Users/gajendrasahu/opt/anaconda3/envs/datasciencebasics/lib/python3.5/site-packages/sklearn/linear_model/logistic.py:432: FutureWarning: Default solver will be changed to 'lbfgs' in 0.22. Specify a solver to silence this warning.\n",
      "  FutureWarning)\n",
      "/Users/gajendrasahu/opt/anaconda3/envs/datasciencebasics/lib/python3.5/site-packages/sklearn/linear_model/logistic.py:432: FutureWarning: Default solver will be changed to 'lbfgs' in 0.22. Specify a solver to silence this warning.\n",
      "  FutureWarning)\n",
      "/Users/gajendrasahu/opt/anaconda3/envs/datasciencebasics/lib/python3.5/site-packages/sklearn/linear_model/logistic.py:432: FutureWarning: Default solver will be changed to 'lbfgs' in 0.22. Specify a solver to silence this warning.\n",
      "  FutureWarning)\n",
      "/Users/gajendrasahu/opt/anaconda3/envs/datasciencebasics/lib/python3.5/site-packages/sklearn/linear_model/logistic.py:432: FutureWarning: Default solver will be changed to 'lbfgs' in 0.22. Specify a solver to silence this warning.\n",
      "  FutureWarning)\n",
      "/Users/gajendrasahu/opt/anaconda3/envs/datasciencebasics/lib/python3.5/site-packages/sklearn/linear_model/logistic.py:432: FutureWarning: Default solver will be changed to 'lbfgs' in 0.22. Specify a solver to silence this warning.\n",
      "  FutureWarning)\n",
      "/Users/gajendrasahu/opt/anaconda3/envs/datasciencebasics/lib/python3.5/site-packages/sklearn/linear_model/logistic.py:432: FutureWarning: Default solver will be changed to 'lbfgs' in 0.22. Specify a solver to silence this warning.\n",
      "  FutureWarning)\n",
      "/Users/gajendrasahu/opt/anaconda3/envs/datasciencebasics/lib/python3.5/site-packages/sklearn/linear_model/logistic.py:432: FutureWarning: Default solver will be changed to 'lbfgs' in 0.22. Specify a solver to silence this warning.\n",
      "  FutureWarning)\n"
     ]
    },
    {
     "data": {
      "text/plain": [
       "Text(0.5, 1.05, 'Logistic Regression Confusion Matrix')"
      ]
     },
     "execution_count": 48,
     "metadata": {},
     "output_type": "execute_result"
    },
    {
     "data": {
      "image/png": "[encoded data removed]",
      "text/plain": [
       "<Figure size 432x288 with 2 Axes>"
      ]
     },
     "metadata": {
      "needs_background": "light"
     },
     "output_type": "display_data"
    }
   ],
   "source": [
    "from sklearn.linear_model import LogisticRegression\n",
    "\n",
    "logistic_regression = LogisticRegression()\n",
    "logistic_regression.fit(x_train, y_train)\n",
    "lr_prediction = logistic_regression.predict(x_test)\n",
    "\n",
    "print('-------------- The Accuracy of the model ----------------------------')\n",
    "print('The Accuracy of the Logistic Regression is', round(accuracy_score(y_test, lr_prediction) * 100, 2))\n",
    "\n",
    "# k=10, split the data into 10 equal parts\n",
    "kfold = KFold(n_splits=10, shuffle=True, random_state=22)\n",
    "\n",
    "lr_cv_score = cross_val_score(logistic_regression, training_feature, training_target, cv=kfold, scoring='accuracy')\n",
    "\n",
    "print('The cross validated score for Logistic Regression is:', round(lr_cv_score.mean() * 100, 2))\n",
    "\n",
    "y_pred = cross_val_predict(logistic_regression, training_feature, training_target, cv=kfold)\n",
    "\n",
    "sns.heatmap(confusion_matrix(training_target, y_pred), annot=True, fmt='3.0f', cmap=\"summer\")\n",
    "\n",
    "plt.title('Logistic Regression Confusion Matrix', y=1.05, size=15)\n"
   ]
  },
  {
   "cell_type": "markdown",
   "metadata": {},
   "source": [
    "## LogisticRegression HyperParameter Tuning"
   ]
  },
  {
   "cell_type": "code",
   "execution_count": 49,
   "metadata": {},
   "outputs": [
    {
     "name": "stderr",
     "output_type": "stream",
     "text": [
      "/Users/gajendrasahu/opt/anaconda3/envs/datasciencebasics/lib/python3.5/site-packages/sklearn/linear_model/logistic.py:432: FutureWarning: Default solver will be changed to 'lbfgs' in 0.22. Specify a solver to silence this warning.\n",
      "  FutureWarning)\n"
     ]
    },
    {
     "name": "stdout",
     "output_type": "stream",
     "text": [
      "0.77185\n"
     ]
    },
    {
     "data": {
      "text/plain": [
       "LogisticRegression(C=0.01, class_weight=None, dual=False, fit_intercept=True,\n",
       "          intercept_scaling=1, max_iter=100, multi_class='warn',\n",
       "          n_jobs=None, penalty='l1', random_state=None, solver='warn',\n",
       "          tol=0.0001, verbose=0, warm_start=False)"
      ]
     },
     "execution_count": 49,
     "metadata": {},
     "output_type": "execute_result"
    }
   ],
   "source": [
    "from sklearn.linear_model import LogisticRegression\n",
    "from sklearn.model_selection import GridSearchCV\n",
    "\n",
    "logistic_regression = LogisticRegression()\n",
    "\n",
    "kfold = KFold(n_splits=10, shuffle=True, random_state=22)\n",
    "\n",
    "param_grid = {\"penalty\": [\"l2\", \"l1\"],\n",
    "              \"C\": [100, 10, 1.0, 0.1, 0.01],\n",
    "              }\n",
    "\n",
    "lr_model = GridSearchCV(estimator=logistic_regression, param_grid=param_grid, cv=kfold, n_jobs=4, scoring=\"accuracy\")\n",
    "\n",
    "lr_model.fit(x_train, y_train)\n",
    "\n",
    "# Best score\n",
    "print(lr_model.best_score_)\n",
    "\n",
    "# Best Estimator\n",
    "lr_model.best_estimator_\n"
   ]
  },
  {
   "cell_type": "markdown",
   "metadata": {},
   "source": [
    "## LogisticRegression with Best Parameters"
   ]
  },
  {
   "cell_type": "code",
   "execution_count": 50,
   "metadata": {},
   "outputs": [
    {
     "name": "stderr",
     "output_type": "stream",
     "text": [
      "/Users/gajendrasahu/opt/anaconda3/envs/datasciencebasics/lib/python3.5/site-packages/sklearn/linear_model/logistic.py:432: FutureWarning: Default solver will be changed to 'lbfgs' in 0.22. Specify a solver to silence this warning.\n",
      "  FutureWarning)\n"
     ]
    },
    {
     "name": "stdout",
     "output_type": "stream",
     "text": [
      "-------------- The Accuracy of the model ----------------------------\n",
      "The Accuracy of the Logistic Regression is 77.3\n"
     ]
    },
    {
     "name": "stderr",
     "output_type": "stream",
     "text": [
      "/Users/gajendrasahu/opt/anaconda3/envs/datasciencebasics/lib/python3.5/site-packages/sklearn/linear_model/logistic.py:432: FutureWarning: Default solver will be changed to 'lbfgs' in 0.22. Specify a solver to silence this warning.\n",
      "  FutureWarning)\n",
      "/Users/gajendrasahu/opt/anaconda3/envs/datasciencebasics/lib/python3.5/site-packages/sklearn/linear_model/logistic.py:432: FutureWarning: Default solver will be changed to 'lbfgs' in 0.22. Specify a solver to silence this warning.\n",
      "  FutureWarning)\n",
      "/Users/gajendrasahu/opt/anaconda3/envs/datasciencebasics/lib/python3.5/site-packages/sklearn/linear_model/logistic.py:432: FutureWarning: Default solver will be changed to 'lbfgs' in 0.22. Specify a solver to silence this warning.\n",
      "  FutureWarning)\n",
      "/Users/gajendrasahu/opt/anaconda3/envs/datasciencebasics/lib/python3.5/site-packages/sklearn/linear_model/logistic.py:432: FutureWarning: Default solver will be changed to 'lbfgs' in 0.22. Specify a solver to silence this warning.\n",
      "  FutureWarning)\n",
      "/Users/gajendrasahu/opt/anaconda3/envs/datasciencebasics/lib/python3.5/site-packages/sklearn/linear_model/logistic.py:432: FutureWarning: Default solver will be changed to 'lbfgs' in 0.22. Specify a solver to silence this warning.\n",
      "  FutureWarning)\n",
      "/Users/gajendrasahu/opt/anaconda3/envs/datasciencebasics/lib/python3.5/site-packages/sklearn/linear_model/logistic.py:432: FutureWarning: Default solver will be changed to 'lbfgs' in 0.22. Specify a solver to silence this warning.\n",
      "  FutureWarning)\n",
      "/Users/gajendrasahu/opt/anaconda3/envs/datasciencebasics/lib/python3.5/site-packages/sklearn/linear_model/logistic.py:432: FutureWarning: Default solver will be changed to 'lbfgs' in 0.22. Specify a solver to silence this warning.\n",
      "  FutureWarning)\n",
      "/Users/gajendrasahu/opt/anaconda3/envs/datasciencebasics/lib/python3.5/site-packages/sklearn/linear_model/logistic.py:432: FutureWarning: Default solver will be changed to 'lbfgs' in 0.22. Specify a solver to silence this warning.\n",
      "  FutureWarning)\n",
      "/Users/gajendrasahu/opt/anaconda3/envs/datasciencebasics/lib/python3.5/site-packages/sklearn/linear_model/logistic.py:432: FutureWarning: Default solver will be changed to 'lbfgs' in 0.22. Specify a solver to silence this warning.\n",
      "  FutureWarning)\n",
      "/Users/gajendrasahu/opt/anaconda3/envs/datasciencebasics/lib/python3.5/site-packages/sklearn/linear_model/logistic.py:432: FutureWarning: Default solver will be changed to 'lbfgs' in 0.22. Specify a solver to silence this warning.\n",
      "  FutureWarning)\n"
     ]
    },
    {
     "name": "stdout",
     "output_type": "stream",
     "text": [
      "The cross validated score for Logistic Regression is: 77.21\n"
     ]
    },
    {
     "name": "stderr",
     "output_type": "stream",
     "text": [
      "/Users/gajendrasahu/opt/anaconda3/envs/datasciencebasics/lib/python3.5/site-packages/sklearn/linear_model/logistic.py:432: FutureWarning: Default solver will be changed to 'lbfgs' in 0.22. Specify a solver to silence this warning.\n",
      "  FutureWarning)\n",
      "/Users/gajendrasahu/opt/anaconda3/envs/datasciencebasics/lib/python3.5/site-packages/sklearn/linear_model/logistic.py:432: FutureWarning: Default solver will be changed to 'lbfgs' in 0.22. Specify a solver to silence this warning.\n",
      "  FutureWarning)\n",
      "/Users/gajendrasahu/opt/anaconda3/envs/datasciencebasics/lib/python3.5/site-packages/sklearn/linear_model/logistic.py:432: FutureWarning: Default solver will be changed to 'lbfgs' in 0.22. Specify a solver to silence this warning.\n",
      "  FutureWarning)\n",
      "/Users/gajendrasahu/opt/anaconda3/envs/datasciencebasics/lib/python3.5/site-packages/sklearn/linear_model/logistic.py:432: FutureWarning: Default solver will be changed to 'lbfgs' in 0.22. Specify a solver to silence this warning.\n",
      "  FutureWarning)\n",
      "/Users/gajendrasahu/opt/anaconda3/envs/datasciencebasics/lib/python3.5/site-packages/sklearn/linear_model/logistic.py:432: FutureWarning: Default solver will be changed to 'lbfgs' in 0.22. Specify a solver to silence this warning.\n",
      "  FutureWarning)\n",
      "/Users/gajendrasahu/opt/anaconda3/envs/datasciencebasics/lib/python3.5/site-packages/sklearn/linear_model/logistic.py:432: FutureWarning: Default solver will be changed to 'lbfgs' in 0.22. Specify a solver to silence this warning.\n",
      "  FutureWarning)\n",
      "/Users/gajendrasahu/opt/anaconda3/envs/datasciencebasics/lib/python3.5/site-packages/sklearn/linear_model/logistic.py:432: FutureWarning: Default solver will be changed to 'lbfgs' in 0.22. Specify a solver to silence this warning.\n",
      "  FutureWarning)\n",
      "/Users/gajendrasahu/opt/anaconda3/envs/datasciencebasics/lib/python3.5/site-packages/sklearn/linear_model/logistic.py:432: FutureWarning: Default solver will be changed to 'lbfgs' in 0.22. Specify a solver to silence this warning.\n",
      "  FutureWarning)\n",
      "/Users/gajendrasahu/opt/anaconda3/envs/datasciencebasics/lib/python3.5/site-packages/sklearn/linear_model/logistic.py:432: FutureWarning: Default solver will be changed to 'lbfgs' in 0.22. Specify a solver to silence this warning.\n",
      "  FutureWarning)\n",
      "/Users/gajendrasahu/opt/anaconda3/envs/datasciencebasics/lib/python3.5/site-packages/sklearn/linear_model/logistic.py:432: FutureWarning: Default solver will be changed to 'lbfgs' in 0.22. Specify a solver to silence this warning.\n",
      "  FutureWarning)\n"
     ]
    },
    {
     "data": {
      "text/plain": [
       "Text(0.5, 1.05, 'Logistic Regression Confusion Matrix')"
      ]
     },
     "execution_count": 50,
     "metadata": {},
     "output_type": "execute_result"
    },
    {
     "data": {
      "image/png": "[encoded data removed]",
      "text/plain": [
       "<Figure size 432x288 with 2 Axes>"
      ]
     },
     "metadata": {
      "needs_background": "light"
     },
     "output_type": "display_data"
    }
   ],
   "source": [
    "from sklearn.linear_model import LogisticRegression\n",
    "\n",
    "logistic_regression = LogisticRegression(C=0.01, class_weight=None, dual=False, fit_intercept=True,\n",
    "          intercept_scaling=1, max_iter=100, multi_class='warn',\n",
    "          n_jobs=None, penalty='l1', random_state=None, solver='warn',\n",
    "          tol=0.0001, verbose=0, warm_start=False)\n",
    "\n",
    "logistic_regression.fit(x_train, y_train)\n",
    "\n",
    "lr_prediction = logistic_regression.predict(x_test)\n",
    "\n",
    "print('-------------- The Accuracy of the model ----------------------------')\n",
    "print('The Accuracy of the Logistic Regression is', round(accuracy_score(y_test, lr_prediction) * 100, 2))\n",
    "\n",
    "# k=10, split the data into 10 equal parts\n",
    "kfold = KFold(n_splits=10, shuffle=True, random_state=22)\n",
    "\n",
    "lr_cv_score = cross_val_score(logistic_regression, training_feature, training_target, cv=kfold, scoring='accuracy')\n",
    "\n",
    "print('The cross validated score for Logistic Regression is:', round(lr_cv_score.mean() * 100, 2))\n",
    "\n",
    "y_pred = cross_val_predict(logistic_regression, training_feature, training_target, cv=kfold)\n",
    "\n",
    "sns.heatmap(confusion_matrix(training_target, y_pred), annot=True, fmt='3.0f', cmap=\"summer\")\n",
    "\n",
    "plt.title('Logistic Regression Confusion Matrix', y=1.05, size=15)\n",
    "\n"
   ]
  },
  {
   "cell_type": "markdown",
   "metadata": {
    "id": "CLH72vic-rS3"
   },
   "source": [
    "## RandomForestClassifier Hyper-Parameter Tunning"
   ]
  },
  {
   "cell_type": "code",
   "execution_count": 51,
   "metadata": {},
   "outputs": [
    {
     "name": "stdout",
     "output_type": "stream",
     "text": [
      "Fitting 10 folds for each of 3 candidates, totalling 30 fits\n"
     ]
    },
    {
     "name": "stderr",
     "output_type": "stream",
     "text": [
      "[Parallel(n_jobs=4)]: Using backend LokyBackend with 4 concurrent workers.\n",
      "[Parallel(n_jobs=4)]: Done  30 out of  30 | elapsed:  8.9min finished\n"
     ]
    },
    {
     "name": "stdout",
     "output_type": "stream",
     "text": [
      "0.767425\n"
     ]
    },
    {
     "data": {
      "text/plain": [
       "RandomForestClassifier(bootstrap=True, class_weight=None, criterion='gini',\n",
       "            max_depth=None, max_features='auto', max_leaf_nodes=None,\n",
       "            min_impurity_decrease=0.0, min_impurity_split=None,\n",
       "            min_samples_leaf=1, min_samples_split=2,\n",
       "            min_weight_fraction_leaf=0.0, n_estimators=700, n_jobs=None,\n",
       "            oob_score=False, random_state=None, verbose=0,\n",
       "            warm_start=False)"
      ]
     },
     "execution_count": 51,
     "metadata": {},
     "output_type": "execute_result"
    }
   ],
   "source": [
    "from sklearn.ensemble import RandomForestClassifier\n",
    "from sklearn.model_selection import GridSearchCV\n",
    "\n",
    "random_forest = RandomForestClassifier()\n",
    "\n",
    "n_estimator = range(500, 800, 100)\n",
    "\n",
    "param_grid = {\"n_estimators\": n_estimator}\n",
    "\n",
    "# k=10, split the data into 10 equal parts\n",
    "kfold = KFold(n_splits=10, shuffle=True, random_state=22)\n",
    "\n",
    "rf_classisier_cv = GridSearchCV(random_forest, param_grid=param_grid, cv=kfold, scoring=\"accuracy\", n_jobs= 4, verbose = 1)\n",
    "\n",
    "rf_classisier_cv.fit(x_train, y_train)\n",
    "\n",
    "\n",
    "# Best score\n",
    "print(rf_classisier_cv.best_score_)\n",
    "\n",
    "# Best Estimator\n",
    "rf_classisier_cv.best_estimator_"
   ]
  },
  {
   "cell_type": "markdown",
   "metadata": {},
   "source": [
    "## RandomForestClassifier with Best Parameters"
   ]
  },
  {
   "cell_type": "code",
   "execution_count": 52,
   "metadata": {
    "colab": {
     "base_uri": "https://localhost:8080/",
     "height": 351
    },
    "id": "PTVV1d5c-tMS",
    "outputId": "ab0b1491-95b0-4969-aecf-bc9904f9d261"
   },
   "outputs": [
    {
     "name": "stdout",
     "output_type": "stream",
     "text": [
      "-------------- The Accuracy of the model ----------------------------\n",
      "The Accuracy of the Random Forest is 77.09\n",
      "The cross validated score for Random Forest is: 76.99\n"
     ]
    },
    {
     "data": {
      "text/plain": [
       "Text(0.5, 1.05, 'Random Forest Confusion Matrix')"
      ]
     },
     "execution_count": 52,
     "metadata": {},
     "output_type": "execute_result"
    },
    {
     "data": {
      "image/png": "[encoded data removed]",
      "text/plain": [
       "<Figure size 432x288 with 2 Axes>"
      ]
     },
     "metadata": {
      "needs_background": "light"
     },
     "output_type": "display_data"
    }
   ],
   "source": [
    "from sklearn.ensemble import RandomForestClassifier\n",
    "\n",
    "random_forest = RandomForestClassifier(criterion='gini', n_estimators=700,\n",
    "                             min_samples_split=10,min_samples_leaf=1,\n",
    "                             max_features='auto',oob_score=True,\n",
    "                             random_state=1,n_jobs=-1)\n",
    "random_forest.fit(x_train, y_train)\n",
    "\n",
    "rf_prediction = random_forest.predict(x_test)\n",
    "\n",
    "print('-------------- The Accuracy of the model ----------------------------')\n",
    "print('The Accuracy of the Random Forest is', round(accuracy_score(y_test, rf_prediction) * 100, 2))\n",
    "\n",
    "# k=10, split the data into 10 equal parts\n",
    "kfold = KFold(n_splits=10, shuffle=True, random_state=22)\n",
    "\n",
    "rf_cv_score = cross_val_score(random_forest, training_feature, training_target, cv=kfold, scoring='accuracy')\n",
    "\n",
    "print('The cross validated score for Random Forest is:', round(rf_cv_score.mean() * 100, 2))\n",
    "\n",
    "y_pred = cross_val_predict(random_forest, training_feature, training_target, cv=kfold)\n",
    "\n",
    "sns.heatmap(confusion_matrix(training_target, y_pred), annot=True, fmt='3.0f', cmap=\"summer\")\n",
    "\n",
    "plt.title('Random Forest Confusion Matrix', y=1.05, size=15)\n"
   ]
  },
  {
   "cell_type": "markdown",
   "metadata": {
    "id": "XFsoCz-1oDwv"
   },
   "source": [
    "## Support Vector Machines"
   ]
  },
  {
   "cell_type": "code",
   "execution_count": 53,
   "metadata": {
    "id": "eD6SI9X_oLzK"
   },
   "outputs": [],
   "source": [
    "# from sklearn.svm import SVC, LinearSVC\n",
    "\n",
    "# svc = SVC()\n",
    "# svc.fit(x_train, y_train)\n",
    "# svc_prediction = svc.predict(x_test)\n",
    "\n",
    "# print('-------------- The Accuracy of the model ----------------------------')\n",
    "# print('The Accuracy of the SVC is', round(accuracy_score(y_test, svc_prediction) * 100, 2))\n",
    "\n",
    "# # k=10, split the data into 10 equal parts\n",
    "# kfold = KFold(n_splits=10, shuffle=True, random_state=22)\n",
    "\n",
    "# svc_cv_score = cross_val_score(svc, training_feature, training_target, cv=kfold, scoring='accuracy')\n",
    "\n",
    "# print('The cross validated score for SVC is:', round(svc_cv_score.mean() * 100, 2))\n",
    "\n",
    "# y_pred = cross_val_predict(svc, training_feature, training_target, cv=kfold)\n",
    "\n",
    "# sns.heatmap(confusion_matrix(training_target, y_pred), annot=True, fmt='3.0f', cmap=\"summer\")\n",
    "\n",
    "# plt.title('SVC Confusion Matrix', y=1.05, size=15)\n"
   ]
  },
  {
   "cell_type": "markdown",
   "metadata": {
    "id": "AcEn-XsR2_IQ"
   },
   "source": [
    "## Decision Tree"
   ]
  },
  {
   "cell_type": "code",
   "execution_count": 54,
   "metadata": {
    "colab": {
     "base_uri": "https://localhost:8080/",
     "height": 351
    },
    "id": "eYFuSvQn22hA",
    "outputId": "f594602a-1048-4565-f33e-54388be8fde6"
   },
   "outputs": [
    {
     "name": "stdout",
     "output_type": "stream",
     "text": [
      "-------------- The Accuracy of the model ----------------------------\n",
      "The Accuracy of the Decision Tree is 76.81\n",
      "The cross validated score for Decision Tree is: 76.8\n"
     ]
    },
    {
     "data": {
      "text/plain": [
       "Text(0.5, 1.05, 'Decision Tree Confusion Matrix')"
      ]
     },
     "execution_count": 54,
     "metadata": {},
     "output_type": "execute_result"
    },
    {
     "data": {
      "image/png": "[encoded data removed]",
      "text/plain": [
       "<Figure size 432x288 with 2 Axes>"
      ]
     },
     "metadata": {
      "needs_background": "light"
     },
     "output_type": "display_data"
    }
   ],
   "source": [
    "from sklearn.tree import DecisionTreeClassifier\n",
    "\n",
    "dt_classifier = DecisionTreeClassifier(criterion='gini', \n",
    "                             min_samples_split=10,min_samples_leaf=1,\n",
    "                             max_features='auto')\n",
    "\n",
    "dt_classifier.fit(x_train, y_train)\n",
    "\n",
    "dt_prediction = dt_classifier.predict(x_test)\n",
    "\n",
    "print('-------------- The Accuracy of the model ----------------------------')\n",
    "print('The Accuracy of the Decision Tree is', round(accuracy_score(y_test, dt_prediction) * 100, 2))\n",
    "\n",
    "kfold = KFold(n_splits=10, shuffle=True, random_state=42)\n",
    "\n",
    "dt_cv_score = cross_val_score(dt_classifier, training_feature, training_target, cv=kfold, scoring='accuracy')\n",
    "\n",
    "print('The cross validated score for Decision Tree is:', round(dt_cv_score.mean() * 100, 2))\n",
    "\n",
    "y_pred = cross_val_predict(dt_classifier, training_feature, training_target, cv=kfold)\n",
    "\n",
    "sns.heatmap(confusion_matrix(training_target, y_pred), annot=True, fmt='3.0f', cmap=\"summer\")\n",
    "\n",
    "plt.title('Decision Tree Confusion Matrix', y=1.05, size=15)\n",
    "\n",
    "\n"
   ]
  },
  {
   "cell_type": "markdown",
   "metadata": {},
   "source": [
    "## Decision Tree HyperParameter Tuning"
   ]
  },
  {
   "cell_type": "code",
   "execution_count": 55,
   "metadata": {},
   "outputs": [
    {
     "name": "stdout",
     "output_type": "stream",
     "text": [
      "0.7706625\n"
     ]
    },
    {
     "data": {
      "text/plain": [
       "DecisionTreeClassifier(class_weight=None, criterion='gini', max_depth=10,\n",
       "            max_features=10, max_leaf_nodes=None,\n",
       "            min_impurity_decrease=0.0, min_impurity_split=None,\n",
       "            min_samples_leaf=1, min_samples_split=2,\n",
       "            min_weight_fraction_leaf=0.0, presort=False, random_state=None,\n",
       "            splitter='best')"
      ]
     },
     "execution_count": 55,
     "metadata": {},
     "output_type": "execute_result"
    }
   ],
   "source": [
    "from sklearn.tree import DecisionTreeClassifier\n",
    "from sklearn.model_selection import GridSearchCV\n",
    "\n",
    "decision_tree = DecisionTreeClassifier()\n",
    "\n",
    "kfold = KFold(n_splits=10, shuffle=True, random_state=42)\n",
    "\n",
    "param_grid = {\"max_depth\": [5, 10, 15],\n",
    "              \"max_features\": [5, 10, 17]\n",
    "}\n",
    "\n",
    "dt_model = GridSearchCV(estimator=decision_tree, param_grid=param_grid, cv=kfold, n_jobs=4, scoring=\"accuracy\")\n",
    "\n",
    "dt_model.fit(x_train, y_train)\n",
    "\n",
    "# Best score\n",
    "print(dt_model.best_score_)\n",
    "\n",
    "# Best Estimator\n",
    "dt_model.best_estimator_"
   ]
  },
  {
   "cell_type": "markdown",
   "metadata": {},
   "source": [
    "## DecesionTree with Best parameters"
   ]
  },
  {
   "cell_type": "code",
   "execution_count": 56,
   "metadata": {},
   "outputs": [
    {
     "name": "stdout",
     "output_type": "stream",
     "text": [
      "-------------- The Accuracy of the model ----------------------------\n",
      "The Accuracy of the Decision Tree is 77.14\n",
      "The cross validated score for Decision Tree is: 77.1\n"
     ]
    },
    {
     "data": {
      "text/plain": [
       "Text(0.5, 1.05, 'Decision Tree Confusion Matrix')"
      ]
     },
     "execution_count": 56,
     "metadata": {},
     "output_type": "execute_result"
    },
    {
     "data": {
      "image/png": "[encoded data removed]",
      "text/plain": [
       "<Figure size 432x288 with 2 Axes>"
      ]
     },
     "metadata": {
      "needs_background": "light"
     },
     "output_type": "display_data"
    }
   ],
   "source": [
    "from sklearn.tree import DecisionTreeClassifier\n",
    "\n",
    "dt_classifier = DecisionTreeClassifier(class_weight=None, criterion='gini', max_depth=10,\n",
    "            max_features=10, max_leaf_nodes=None,\n",
    "            min_impurity_decrease=0.0, min_impurity_split=None,\n",
    "            min_samples_leaf=1, min_samples_split=2,\n",
    "            min_weight_fraction_leaf=0.0, presort=False, random_state=None,\n",
    "            splitter='best')\n",
    "\n",
    "dt_classifier.fit(x_train, y_train)\n",
    "\n",
    "dt_prediction = dt_classifier.predict(x_test)\n",
    "\n",
    "print('-------------- The Accuracy of the model ----------------------------')\n",
    "print('The Accuracy of the Decision Tree is', round(accuracy_score(y_test, dt_prediction) * 100, 2))\n",
    "\n",
    "kfold = KFold(n_splits=10, shuffle=True, random_state=42)\n",
    "\n",
    "dt_cv_score = cross_val_score(dt_classifier, training_feature, training_target, cv=kfold, scoring='accuracy')\n",
    "\n",
    "print('The cross validated score for Decision Tree is:', round(dt_cv_score.mean() * 100, 2))\n",
    "\n",
    "y_pred = cross_val_predict(dt_classifier, training_feature, training_target, cv=kfold)\n",
    "\n",
    "sns.heatmap(confusion_matrix(training_target, y_pred), annot=True, fmt='3.0f', cmap=\"summer\")\n",
    "\n",
    "plt.title('Decision Tree Confusion Matrix', y=1.05, size=15)"
   ]
  },
  {
   "cell_type": "markdown",
   "metadata": {
    "id": "wAuRW2CttqbC"
   },
   "source": [
    "## AdaBoost"
   ]
  },
  {
   "cell_type": "code",
   "execution_count": 57,
   "metadata": {
    "colab": {
     "base_uri": "https://localhost:8080/",
     "height": 351
    },
    "id": "78wUiPSBthYj",
    "outputId": "75afc61b-8d1c-49fc-ae99-93419f48b535"
   },
   "outputs": [
    {
     "name": "stdout",
     "output_type": "stream",
     "text": [
      "-------------- The Accuracy of the model ----------------------------\n",
      "The Accuracy of the ADA Boost Classifier is 77.24\n",
      "The cross validated score for ADA Boost Classifier is: 77.17\n"
     ]
    },
    {
     "data": {
      "text/plain": [
       "Text(0.5, 1.05, 'ADA Boost Classifier Confusion Matrix')"
      ]
     },
     "execution_count": 57,
     "metadata": {},
     "output_type": "execute_result"
    },
    {
     "data": {
      "image/png": "[encoded data removed]",
      "text/plain": [
       "<Figure size 432x288 with 2 Axes>"
      ]
     },
     "metadata": {
      "needs_background": "light"
     },
     "output_type": "display_data"
    }
   ],
   "source": [
    "from sklearn.ensemble import AdaBoostClassifier\n",
    "\n",
    "ada_classifier = AdaBoostClassifier()\n",
    "ada_classifier.fit(x_train, y_train)\n",
    "ada_prediction = ada_classifier.predict(x_test)\n",
    "\n",
    "print('-------------- The Accuracy of the model ----------------------------')\n",
    "print('The Accuracy of the ADA Boost Classifier is', round(accuracy_score(y_test, ada_prediction) * 100, 2))\n",
    "\n",
    "kfold = KFold(n_splits=10, shuffle=True, random_state=42)\n",
    "\n",
    "ada_cv_score = cross_val_score(ada_classifier, training_feature, training_target, cv=kfold, scoring='accuracy')\n",
    "\n",
    "print('The cross validated score for ADA Boost Classifier is:', round(ada_cv_score.mean() * 100, 2))\n",
    "\n",
    "y_pred = cross_val_predict(ada_classifier, training_feature, training_target, cv=kfold)\n",
    "\n",
    "sns.heatmap(confusion_matrix(training_target, y_pred), annot=True, fmt='3.0f', cmap=\"summer\")\n",
    "\n",
    "plt.title('ADA Boost Classifier Confusion Matrix', y=1.05, size=15)"
   ]
  },
  {
   "cell_type": "markdown",
   "metadata": {},
   "source": [
    "## AdaBoost Hyperparameter Tuning"
   ]
  },
  {
   "cell_type": "code",
   "execution_count": 58,
   "metadata": {},
   "outputs": [
    {
     "name": "stdout",
     "output_type": "stream",
     "text": [
      "Fitting 10 folds for each of 15 candidates, totalling 150 fits\n"
     ]
    },
    {
     "name": "stderr",
     "output_type": "stream",
     "text": [
      "[Parallel(n_jobs=4)]: Using backend LokyBackend with 4 concurrent workers.\n",
      "[Parallel(n_jobs=4)]: Done  42 tasks      | elapsed:  1.5min\n",
      "[Parallel(n_jobs=4)]: Done 150 out of 150 | elapsed:  6.1min finished\n"
     ]
    },
    {
     "name": "stdout",
     "output_type": "stream",
     "text": [
      "0.7720125\n"
     ]
    },
    {
     "data": {
      "text/plain": [
       "AdaBoostClassifier(algorithm='SAMME.R', base_estimator=None,\n",
       "          learning_rate=0.2, n_estimators=200, random_state=None)"
      ]
     },
     "execution_count": 58,
     "metadata": {},
     "output_type": "execute_result"
    }
   ],
   "source": [
    "from sklearn.ensemble import AdaBoostClassifier\n",
    "from sklearn.model_selection import GridSearchCV\n",
    "\n",
    "ada_classifier = AdaBoostClassifier()\n",
    "\n",
    "kfold = KFold(n_splits=10, shuffle=True, random_state=42)\n",
    "\n",
    "param_grid = {\"n_estimators\": [50, 100, 200],\n",
    "              \"learning_rate\": [0.001, 0.01, 0.1, 0.2, 0.5]    \n",
    "}\n",
    "\n",
    "ada_model = GridSearchCV(ada_classifier, param_grid = param_grid, cv=kfold, scoring=\"accuracy\", n_jobs= 4, verbose = 1)\n",
    "\n",
    "ada_model.fit(x_train, y_train)\n",
    "\n",
    "# Best score\n",
    "print(ada_model.best_score_)\n",
    "\n",
    "# Best Estimator\n",
    "ada_model.best_estimator_\n",
    "\n"
   ]
  },
  {
   "cell_type": "markdown",
   "metadata": {},
   "source": [
    "## AdaBoostClassifier with Best Paramaters"
   ]
  },
  {
   "cell_type": "code",
   "execution_count": 59,
   "metadata": {},
   "outputs": [
    {
     "name": "stdout",
     "output_type": "stream",
     "text": [
      "-------------- The Accuracy of the model ----------------------------\n",
      "The Accuracy of the ADA Boost Classifier is 77.3\n",
      "The cross validated score for ADA Boost Classifier is: 77.2\n"
     ]
    },
    {
     "data": {
      "text/plain": [
       "Text(0.5, 1.05, 'ADA Boost Classifier Confusion Matrix')"
      ]
     },
     "execution_count": 59,
     "metadata": {},
     "output_type": "execute_result"
    },
    {
     "data": {
      "image/png": "[encoded data removed]",
      "text/plain": [
       "<Figure size 432x288 with 2 Axes>"
      ]
     },
     "metadata": {
      "needs_background": "light"
     },
     "output_type": "display_data"
    }
   ],
   "source": [
    "from sklearn.ensemble import AdaBoostClassifier\n",
    "\n",
    "ada_classifier = AdaBoostClassifier(algorithm='SAMME.R', base_estimator=None,\n",
    "          learning_rate=0.2, n_estimators=200, random_state=None)\n",
    "\n",
    "ada_classifier.fit(x_train, y_train)\n",
    "ada_prediction = ada_classifier.predict(x_test)\n",
    "\n",
    "print('-------------- The Accuracy of the model ----------------------------')\n",
    "print('The Accuracy of the ADA Boost Classifier is', round(accuracy_score(y_test, ada_prediction) * 100, 2))\n",
    "\n",
    "kfold = KFold(n_splits=10, shuffle=True, random_state=42)\n",
    "\n",
    "ada_cv_score = cross_val_score(ada_classifier, training_feature, training_target, cv=kfold, scoring='accuracy')\n",
    "\n",
    "print('The cross validated score for ADA Boost Classifier is:', round(ada_cv_score.mean() * 100, 2))\n",
    "\n",
    "y_pred = cross_val_predict(ada_classifier, training_feature, training_target, cv=kfold)\n",
    "\n",
    "sns.heatmap(confusion_matrix(training_target, y_pred), annot=True, fmt='3.0f', cmap=\"summer\")\n",
    "\n",
    "plt.title('ADA Boost Classifier Confusion Matrix', y=1.05, size=15)"
   ]
  },
  {
   "cell_type": "markdown",
   "metadata": {
    "id": "H5heUWP1wJUL"
   },
   "source": [
    "## Linear Discriminant Analysis"
   ]
  },
  {
   "cell_type": "code",
   "execution_count": 60,
   "metadata": {
    "colab": {
     "base_uri": "https://localhost:8080/",
     "height": 385
    },
    "id": "OhUmguJUwQBs",
    "outputId": "32a844c4-00f7-49f6-f111-5786658f634e"
   },
   "outputs": [
    {
     "name": "stdout",
     "output_type": "stream",
     "text": [
      "LinearDiscriminantAnalysis(n_components=None, priors=None, shrinkage=None,\n",
      "              solver='svd', store_covariance=False, tol=0.0001)\n",
      "-------------- The Accuracy of the model ----------------------------\n",
      "The Accuracy of the LDA Classifier is 77.45\n",
      "The cross validated score for LDA Classifier is: 77.24\n"
     ]
    },
    {
     "data": {
      "text/plain": [
       "Text(0.5, 1.05, 'LDA Classifier Confusion Matrix')"
      ]
     },
     "execution_count": 60,
     "metadata": {},
     "output_type": "execute_result"
    },
    {
     "data": {
      "image/png": "[encoded data removed]",
      "text/plain": [
       "<Figure size 432x288 with 2 Axes>"
      ]
     },
     "metadata": {
      "needs_background": "light"
     },
     "output_type": "display_data"
    }
   ],
   "source": [
    "from sklearn.discriminant_analysis import LinearDiscriminantAnalysis\n",
    "\n",
    "lda_classifier = LinearDiscriminantAnalysis()\n",
    "\n",
    "print(lda_classifier)\n",
    "\n",
    "lda_classifier.fit(x_train, y_train)\n",
    "\n",
    "lda_prediction = lda_classifier.predict(x_test)\n",
    "\n",
    "print('-------------- The Accuracy of the model ----------------------------')\n",
    "print('The Accuracy of the LDA Classifier is', round(accuracy_score(y_test, lda_prediction) * 100, 2))\n",
    "\n",
    "kfold = KFold(n_splits=10, shuffle=True, random_state=42)\n",
    "\n",
    "lda_cv_score = cross_val_score(lda_classifier, training_feature, training_target, cv=kfold, scoring='accuracy')\n",
    "\n",
    "print('The cross validated score for LDA Classifier is:', round(lda_cv_score.mean() * 100, 2))\n",
    "\n",
    "y_pred = cross_val_predict(lda_classifier, training_feature, training_target, cv=kfold)\n",
    "\n",
    "sns.heatmap(confusion_matrix(training_target, y_pred), annot=True, fmt='3.0f', cmap=\"summer\")\n",
    "\n",
    "plt.title('LDA Classifier Confusion Matrix', y=1.05, size=15)\n"
   ]
  },
  {
   "cell_type": "markdown",
   "metadata": {},
   "source": [
    "## LDA HyperParameters Tuning"
   ]
  },
  {
   "cell_type": "code",
   "execution_count": 61,
   "metadata": {},
   "outputs": [
    {
     "name": "stdout",
     "output_type": "stream",
     "text": [
      "Fitting 10 folds for each of 24 candidates, totalling 240 fits\n"
     ]
    },
    {
     "name": "stderr",
     "output_type": "stream",
     "text": [
      "[Parallel(n_jobs=4)]: Using backend LokyBackend with 4 concurrent workers.\n",
      "[Parallel(n_jobs=4)]: Done  42 tasks      | elapsed:    6.2s\n",
      "[Parallel(n_jobs=4)]: Done 192 tasks      | elapsed:   25.9s\n",
      "[Parallel(n_jobs=4)]: Done 240 out of 240 | elapsed:   32.0s finished\n"
     ]
    },
    {
     "name": "stdout",
     "output_type": "stream",
     "text": [
      "0.772225\n"
     ]
    },
    {
     "data": {
      "text/plain": [
       "LinearDiscriminantAnalysis(n_components=None, priors=None, shrinkage=0,\n",
       "              solver='lsqr', store_covariance=False, tol=0.0001)"
      ]
     },
     "execution_count": 61,
     "metadata": {},
     "output_type": "execute_result"
    }
   ],
   "source": [
    "from sklearn.discriminant_analysis import LinearDiscriminantAnalysis\n",
    "from sklearn.model_selection import GridSearchCV\n",
    "\n",
    "lda_classifier = LinearDiscriminantAnalysis()\n",
    "\n",
    "kfold = KFold(n_splits=10, shuffle=True, random_state=42)\n",
    "\n",
    "param_grid = {\"solver\": [\"lsqr\", \"eigen\"],\n",
    "              \"shrinkage\": [0, 0.5, 1.0],\n",
    "              \"tol\": [0.0001, 0.001, 0.01, 0.1]              \n",
    "              }\n",
    "\n",
    "lda_model = GridSearchCV(lda_classifier, param_grid = param_grid, cv=kfold, scoring=\"accuracy\", n_jobs= 4, verbose = 1)\n",
    "\n",
    "lda_model.fit(x_train, y_train)\n",
    "\n",
    "# Best score\n",
    "print(lda_model.best_score_)\n",
    "\n",
    "# Best Estimator\n",
    "lda_model.best_estimator_\n"
   ]
  },
  {
   "cell_type": "markdown",
   "metadata": {},
   "source": [
    "## LDA with Best Parameters"
   ]
  },
  {
   "cell_type": "code",
   "execution_count": 62,
   "metadata": {},
   "outputs": [
    {
     "name": "stdout",
     "output_type": "stream",
     "text": [
      "LinearDiscriminantAnalysis(n_components=None, priors=None, shrinkage=0,\n",
      "              solver='lsqr', store_covariance=False, tol=0.0001)\n",
      "-------------- The Accuracy of the model ----------------------------\n",
      "The Accuracy of the LDA Classifier is 77.45\n",
      "The cross validated score for LDA Classifier is: 77.24\n"
     ]
    },
    {
     "data": {
      "text/plain": [
       "Text(0.5, 1.05, 'LDA Classifier Confusion Matrix')"
      ]
     },
     "execution_count": 62,
     "metadata": {},
     "output_type": "execute_result"
    },
    {
     "data": {
      "image/png": "[encoded data removed]",
      "text/plain": [
       "<Figure size 432x288 with 2 Axes>"
      ]
     },
     "metadata": {
      "needs_background": "light"
     },
     "output_type": "display_data"
    }
   ],
   "source": [
    "from sklearn.discriminant_analysis import LinearDiscriminantAnalysis\n",
    "\n",
    "lda_classifier = LinearDiscriminantAnalysis(n_components=None, priors=None, shrinkage=0,\n",
    "              solver='lsqr', store_covariance=False, tol=0.0001)\n",
    "\n",
    "print(lda_classifier)\n",
    "\n",
    "lda_classifier.fit(x_train, y_train)\n",
    "\n",
    "lda_prediction = lda_classifier.predict(x_test)\n",
    "\n",
    "print('-------------- The Accuracy of the model ----------------------------')\n",
    "print('The Accuracy of the LDA Classifier is', round(accuracy_score(y_test, lda_prediction) * 100, 2))\n",
    "\n",
    "kfold = KFold(n_splits=10, shuffle=True, random_state=42)\n",
    "\n",
    "lda_cv_score = cross_val_score(lda_classifier, training_feature, training_target, cv=kfold, scoring='accuracy')\n",
    "\n",
    "print('The cross validated score for LDA Classifier is:', round(lda_cv_score.mean() * 100, 2))\n",
    "\n",
    "y_pred = cross_val_predict(lda_classifier, training_feature, training_target, cv=kfold)\n",
    "\n",
    "sns.heatmap(confusion_matrix(training_target, y_pred), annot=True, fmt='3.0f', cmap=\"summer\")\n",
    "\n",
    "plt.title('LDA Classifier Confusion Matrix', y=1.05, size=15)\n",
    "\n"
   ]
  },
  {
   "cell_type": "markdown",
   "metadata": {
    "id": "Qe5q6IHDxWsy"
   },
   "source": [
    "## Gradient Boosting Classifier"
   ]
  },
  {
   "cell_type": "code",
   "execution_count": 63,
   "metadata": {
    "colab": {
     "base_uri": "https://localhost:8080/",
     "height": 521
    },
    "id": "jwVCpnYtxYhk",
    "outputId": "17728e9e-9bf2-42df-cb10-4b5754e8b51c"
   },
   "outputs": [
    {
     "name": "stdout",
     "output_type": "stream",
     "text": [
      "GradientBoostingClassifier(criterion='friedman_mse', init=None,\n",
      "              learning_rate=0.1, loss='deviance', max_depth=3,\n",
      "              max_features=None, max_leaf_nodes=None,\n",
      "              min_impurity_decrease=0.0, min_impurity_split=None,\n",
      "              min_samples_leaf=1, min_samples_split=2,\n",
      "              min_weight_fraction_leaf=0.0, n_estimators=100,\n",
      "              n_iter_no_change=None, presort='auto', random_state=None,\n",
      "              subsample=1.0, tol=0.0001, validation_fraction=0.1,\n",
      "              verbose=0, warm_start=False)\n",
      "-------------- The Accuracy of the model ----------------------------\n",
      "The Accuracy of the GB Classifier is 77.27\n",
      "The cross validated score for GB Classifier is: 77.3\n"
     ]
    },
    {
     "data": {
      "text/plain": [
       "Text(0.5, 1.05, 'GB Classifier Confusion Matrix')"
      ]
     },
     "execution_count": 63,
     "metadata": {},
     "output_type": "execute_result"
    },
    {
     "data": {
      "image/png": "[encoded data removed]",
      "text/plain": [
       "<Figure size 432x288 with 2 Axes>"
      ]
     },
     "metadata": {
      "needs_background": "light"
     },
     "output_type": "display_data"
    }
   ],
   "source": [
    "from sklearn.ensemble import GradientBoostingClassifier\n",
    "\n",
    "gb_classifier = GradientBoostingClassifier()\n",
    "\n",
    "print(gb_classifier)\n",
    "\n",
    "gb_classifier.fit(x_train, y_train)\n",
    "\n",
    "gb_prediction = gb_classifier.predict(x_test)\n",
    "\n",
    "print('-------------- The Accuracy of the model ----------------------------')\n",
    "print('The Accuracy of the GB Classifier is', round(accuracy_score(y_test, gb_prediction) * 100, 2))\n",
    "\n",
    "kfold = KFold(n_splits=10, shuffle=True, random_state=42)\n",
    "\n",
    "gb_cv_score = cross_val_score(gb_classifier, training_feature, training_target, cv=kfold, scoring='accuracy')\n",
    "\n",
    "print('The cross validated score for GB Classifier is:', round(gb_cv_score.mean() * 100, 2))\n",
    "\n",
    "y_pred = cross_val_predict(gb_classifier, training_feature, training_target, cv=kfold)\n",
    "\n",
    "sns.heatmap(confusion_matrix(training_target, y_pred), annot=True, fmt='3.0f', cmap=\"summer\")\n",
    "\n",
    "plt.title('GB Classifier Confusion Matrix', y=1.05, size=15)\n"
   ]
  },
  {
   "cell_type": "markdown",
   "metadata": {
    "id": "iKPCD3nbU3-L"
   },
   "source": [
    "## Gradient Boost HyperParameter Tuning"
   ]
  },
  {
   "cell_type": "code",
   "execution_count": 64,
   "metadata": {
    "colab": {
     "base_uri": "https://localhost:8080/",
     "height": 375
    },
    "id": "ud7AkaGpU1jc",
    "outputId": "83793b24-7471-41ed-c023-33f96a5d9bb7"
   },
   "outputs": [],
   "source": [
    "# from sklearn.model_selection import GridSearchCV\n",
    "# from sklearn.ensemble import GradientBoostingClassifier\n",
    "# gb_classifier = GradientBoostingClassifier()\n",
    "# param_grid = {'loss' : [\"deviance\"],\n",
    "#               'n_estimators' : [100,200,300,400],\n",
    "#               'learning_rate': [0.01, 0.1, 1.0],\n",
    "#               'max_depth': [4, 8],\n",
    "#               'min_samples_leaf': [100,150],\n",
    "#               'max_features': [10, 17] \n",
    "#               }\n",
    "\n",
    "# kfold = KFold(n_splits=10, shuffle=True, random_state=42)\n",
    "\n",
    "# gb_model = GridSearchCV(gb_classifier, param_grid = param_grid, cv=kfold, scoring=\"accuracy\", n_jobs= 4, verbose = 1)\n",
    "\n",
    "# gb_model.fit(x_train, y_train)\n",
    "\n",
    "# # Best score\n",
    "# gb_model.best_score_\n",
    "\n",
    "# # Best Estimator \n",
    "# gb_model.best_estimator_\n"
   ]
  },
  {
   "cell_type": "code",
   "execution_count": 65,
   "metadata": {},
   "outputs": [],
   "source": [
    "# gb_model.best_estimator_.feature_importances_"
   ]
  },
  {
   "cell_type": "code",
   "execution_count": 66,
   "metadata": {},
   "outputs": [],
   "source": [
    "# d = {'Stats':x_train.columns,'Feature':gb_model.best_estimator_.feature_importances_}\n",
    "# df = pd.DataFrame(d)\n",
    "# df"
   ]
  },
  {
   "cell_type": "markdown",
   "metadata": {},
   "source": [
    "## Gradient Boost with Best Parameters"
   ]
  },
  {
   "cell_type": "code",
   "execution_count": 67,
   "metadata": {
    "id": "yKY5Iv84H-RV"
   },
   "outputs": [
    {
     "name": "stdout",
     "output_type": "stream",
     "text": [
      "GradientBoostingClassifier(criterion='friedman_mse', init=None,\n",
      "              learning_rate=0.1, loss='deviance', max_depth=4,\n",
      "              max_features=10, max_leaf_nodes=None,\n",
      "              min_impurity_decrease=0.0, min_impurity_split=None,\n",
      "              min_samples_leaf=150, min_samples_split=2,\n",
      "              min_weight_fraction_leaf=0.0, n_estimators=200,\n",
      "              n_iter_no_change=None, presort='auto', random_state=None,\n",
      "              subsample=1.0, tol=0.0001, validation_fraction=0.1,\n",
      "              verbose=0, warm_start=False)\n",
      "-------------- The Accuracy of the model ----------------------------\n",
      "The Accuracy of the GB Classifier is 77.39\n",
      "The cross validated score for GB Classifier is: 77.46\n"
     ]
    },
    {
     "data": {
      "text/plain": [
       "Text(0.5, 1.05, 'GB Classifier Confusion Matrix')"
      ]
     },
     "execution_count": 67,
     "metadata": {},
     "output_type": "execute_result"
    },
    {
     "data": {
      "image/png": "[encoded data removed]",
      "text/plain": [
       "<Figure size 432x288 with 2 Axes>"
      ]
     },
     "metadata": {
      "needs_background": "light"
     },
     "output_type": "display_data"
    }
   ],
   "source": [
    "from sklearn.ensemble import GradientBoostingClassifier\n",
    "\n",
    "gb_classifier = GradientBoostingClassifier(criterion='friedman_mse', init=None,\n",
    "              learning_rate=0.1, loss='deviance', max_depth=4,\n",
    "              max_features=10, max_leaf_nodes=None,\n",
    "              min_impurity_decrease=0.0, min_impurity_split=None,\n",
    "              min_samples_leaf=150, min_samples_split=2,\n",
    "              min_weight_fraction_leaf=0.0, n_estimators=200,\n",
    "              n_iter_no_change=None, presort='auto', random_state=None,\n",
    "              subsample=1.0, tol=0.0001, validation_fraction=0.1,\n",
    "              verbose=0, warm_start=False)\n",
    "\n",
    "print(gb_classifier)\n",
    "\n",
    "gb_classifier.fit(x_train, y_train)\n",
    "\n",
    "gb_prediction = gb_classifier.predict(x_test)\n",
    "\n",
    "print('-------------- The Accuracy of the model ----------------------------')\n",
    "print('The Accuracy of the GB Classifier is', round(accuracy_score(y_test, gb_prediction) * 100, 2))\n",
    "\n",
    "kfold = KFold(n_splits=10, shuffle=True, random_state=42)\n",
    "\n",
    "gb_cv_score = cross_val_score(gb_classifier, training_feature, training_target, cv=kfold, scoring='accuracy')\n",
    "\n",
    "print('The cross validated score for GB Classifier is:', round(gb_cv_score.mean() * 100, 2))\n",
    "\n",
    "y_pred = cross_val_predict(gb_classifier, training_feature, training_target, cv=kfold)\n",
    "\n",
    "sns.heatmap(confusion_matrix(training_target, y_pred), annot=True, fmt='3.0f', cmap=\"summer\")\n",
    "\n",
    "plt.title('GB Classifier Confusion Matrix', y=1.05, size=15)\n",
    "\n"
   ]
  },
  {
   "cell_type": "markdown",
   "metadata": {},
   "source": [
    "## Model Evaluation Scores"
   ]
  },
  {
   "cell_type": "code",
   "execution_count": 68,
   "metadata": {},
   "outputs": [
    {
     "data": {
      "text/html": [
       "<div>\n",
       "<style scoped>\n",
       "    .dataframe tbody tr th:only-of-type {\n",
       "        vertical-align: middle;\n",
       "    }\n",
       "\n",
       "    .dataframe tbody tr th {\n",
       "        vertical-align: top;\n",
       "    }\n",
       "\n",
       "    .dataframe thead th {\n",
       "        text-align: right;\n",
       "    }\n",
       "</style>\n",
       "<table border=\"1\" class=\"dataframe\">\n",
       "  <thead>\n",
       "    <tr style=\"text-align: right;\">\n",
       "      <th></th>\n",
       "      <th>Model</th>\n",
       "      <th>Score</th>\n",
       "    </tr>\n",
       "  </thead>\n",
       "  <tbody>\n",
       "    <tr>\n",
       "      <th>5</th>\n",
       "      <td>GradientBoostingClassifier</td>\n",
       "      <td>0.77462</td>\n",
       "    </tr>\n",
       "    <tr>\n",
       "      <th>4</th>\n",
       "      <td>LinearDiscriminantAnalysis</td>\n",
       "      <td>0.77237</td>\n",
       "    </tr>\n",
       "    <tr>\n",
       "      <th>0</th>\n",
       "      <td>LogisticRegression</td>\n",
       "      <td>0.77208</td>\n",
       "    </tr>\n",
       "    <tr>\n",
       "      <th>3</th>\n",
       "      <td>AdaBoostClassifier</td>\n",
       "      <td>0.77199</td>\n",
       "    </tr>\n",
       "    <tr>\n",
       "      <th>2</th>\n",
       "      <td>DecisionTreeClassifier</td>\n",
       "      <td>0.77104</td>\n",
       "    </tr>\n",
       "    <tr>\n",
       "      <th>1</th>\n",
       "      <td>RandomForestClassifier</td>\n",
       "      <td>0.76992</td>\n",
       "    </tr>\n",
       "  </tbody>\n",
       "</table>\n",
       "</div>"
      ],
      "text/plain": [
       "                        Model    Score\n",
       "5  GradientBoostingClassifier  0.77462\n",
       "4  LinearDiscriminantAnalysis  0.77237\n",
       "0          LogisticRegression  0.77208\n",
       "3          AdaBoostClassifier  0.77199\n",
       "2      DecisionTreeClassifier  0.77104\n",
       "1      RandomForestClassifier  0.76992"
      ]
     },
     "execution_count": 68,
     "metadata": {},
     "output_type": "execute_result"
    }
   ],
   "source": [
    "models = pd.DataFrame({\n",
    "    'Model': ['LogisticRegression', \n",
    "              'RandomForestClassifier', 'DecisionTreeClassifier', 'AdaBoostClassifier', \n",
    "              'LinearDiscriminantAnalysis','GradientBoostingClassifier'],\n",
    "    'Score': [lr_cv_score.mean(), rf_cv_score.mean(), dt_cv_score.mean(), \n",
    "              ada_cv_score.mean(), lda_cv_score.mean(), gb_cv_score.mean()]})\n",
    "models.sort_values(by='Score',ascending=False)"
   ]
  },
  {
   "cell_type": "markdown",
   "metadata": {},
   "source": [
    "# Applying Feature Selection "
   ]
  },
  {
   "cell_type": "markdown",
   "metadata": {},
   "source": [
    "### Information Gain"
   ]
  },
  {
   "cell_type": "code",
   "execution_count": 69,
   "metadata": {},
   "outputs": [],
   "source": [
    "from sklearn.feature_selection import mutual_info_classif\n",
    "import matplotlib.pyplot as plt\n",
    "import pandas as pd\n",
    "%matplotlib inline\n",
    "\n",
    "importances = mutual_info_classif(x_train, y_train)\n",
    "feat_importances = pd.Series(importances, x_train.columns[0:len(x_train.columns)])"
   ]
  },
  {
   "cell_type": "code",
   "execution_count": 70,
   "metadata": {},
   "outputs": [
    {
     "data": {
      "text/plain": [
       "male              0.136951\n",
       "S                 0.076669\n",
       "3                 0.050031\n",
       "High_Fare         0.021744\n",
       "Median_Fare       0.017538\n",
       "Has_Ticket        0.011711\n",
       "Parch             0.009698\n",
       "Elder             0.007201\n",
       "Median_Family     0.006750\n",
       "2                 0.006135\n",
       "Adult             0.005776\n",
       "Q                 0.005239\n",
       "Average_Fare      0.002497\n",
       "Average_Family    0.001188\n",
       "SibSp             0.000818\n",
       "Big_Family        0.000582\n",
       "Teenage           0.000000\n",
       "dtype: float64"
      ]
     },
     "execution_count": 70,
     "metadata": {},
     "output_type": "execute_result"
    }
   ],
   "source": [
    "feat_importances.sort_values(ascending=False)"
   ]
  },
  {
   "cell_type": "code",
   "execution_count": 71,
   "metadata": {},
   "outputs": [
    {
     "data": {
      "image/png": "[encoded data removed]",
      "text/plain": [
       "<Figure size 432x288 with 1 Axes>"
      ]
     },
     "metadata": {
      "needs_background": "light"
     },
     "output_type": "display_data"
    }
   ],
   "source": [
    "feat_importances.plot(kind=\"bar\", color=\"teal\")\n",
    "plt.show()"
   ]
  },
  {
   "cell_type": "code",
   "execution_count": 72,
   "metadata": {},
   "outputs": [
    {
     "data": {
      "text/plain": [
       "Index(['Median_Fare', 'High_Fare', 'Has_Ticket', 'male', 'S', 3], dtype='object')"
      ]
     },
     "execution_count": 72,
     "metadata": {},
     "output_type": "execute_result"
    }
   ],
   "source": [
    "from sklearn.feature_selection import SelectKBest\n",
    "sel = SelectKBest(mutual_info_classif, k=6).fit(x_train, y_train)\n",
    "x_train.columns[sel.get_support()]"
   ]
  },
  {
   "cell_type": "code",
   "execution_count": 73,
   "metadata": {},
   "outputs": [
    {
     "data": {
      "text/plain": [
       "((80000, 6), (20000, 6))"
      ]
     },
     "execution_count": 73,
     "metadata": {},
     "output_type": "execute_result"
    }
   ],
   "source": [
    "x_train_ig = sel.transform(x_train)\n",
    "x_test_ig = sel.transform(x_test)\n",
    "x_train_ig.shape, x_test_ig.shape"
   ]
  },
  {
   "cell_type": "markdown",
   "metadata": {},
   "source": [
    "### GradientBoostingClassifier"
   ]
  },
  {
   "cell_type": "code",
   "execution_count": 74,
   "metadata": {},
   "outputs": [
    {
     "name": "stdout",
     "output_type": "stream",
     "text": [
      "GradientBoostingClassifier(criterion='friedman_mse', init=None,\n",
      "              learning_rate=0.1, loss='deviance', max_depth=5,\n",
      "              max_features='auto', max_leaf_nodes=None,\n",
      "              min_impurity_decrease=0.0, min_impurity_split=None,\n",
      "              min_samples_leaf=200, min_samples_split=2,\n",
      "              min_weight_fraction_leaf=0.0, n_estimators=300,\n",
      "              n_iter_no_change=None, presort='auto', random_state=None,\n",
      "              subsample=1.0, tol=0.0001, validation_fraction=0.1,\n",
      "              verbose=0, warm_start=False)\n",
      "-------------- The Accuracy of the model ----------------------------\n",
      "The Accuracy of the GB Classifier is 76.68\n",
      "The cross validated score for GB Classifier is: 77.44\n"
     ]
    },
    {
     "data": {
      "text/plain": [
       "Text(0.5, 1.05, 'GB Classifier Confusion Matrix')"
      ]
     },
     "execution_count": 74,
     "metadata": {},
     "output_type": "execute_result"
    },
    {
     "data": {
      "image/png": "[encoded data removed]",
      "text/plain": [
       "<Figure size 432x288 with 2 Axes>"
      ]
     },
     "metadata": {
      "needs_background": "light"
     },
     "output_type": "display_data"
    }
   ],
   "source": [
    "from sklearn.ensemble import GradientBoostingClassifier\n",
    "\n",
    "gb_classifier = GradientBoostingClassifier(criterion='friedman_mse', init=None,\n",
    "              learning_rate=0.1, loss='deviance', max_depth=5,\n",
    "              max_features=\"auto\", max_leaf_nodes=None,\n",
    "              min_impurity_decrease=0.0, min_impurity_split=None,\n",
    "              min_samples_leaf=200, min_samples_split=2,\n",
    "              min_weight_fraction_leaf=0.0, n_estimators=300,\n",
    "              n_iter_no_change=None, presort='auto', random_state=None,\n",
    "              subsample=1.0, tol=0.0001, validation_fraction=0.1,\n",
    "              verbose=0, warm_start=False)\n",
    "\n",
    "print(gb_classifier)\n",
    "\n",
    "gb_classifier.fit(x_train_ig, y_train)\n",
    "\n",
    "gb_prediction = gb_classifier.predict(x_test_ig)\n",
    "\n",
    "print('-------------- The Accuracy of the model ----------------------------')\n",
    "print('The Accuracy of the GB Classifier is', round(accuracy_score(y_test, gb_prediction) * 100, 2))\n",
    "\n",
    "kfold = KFold(n_splits=10, shuffle=True, random_state=42)\n",
    "\n",
    "gb_cv_score = cross_val_score(gb_classifier, training_feature, training_target, cv=kfold, scoring='accuracy')\n",
    "\n",
    "print('The cross validated score for GB Classifier is:', round(gb_cv_score.mean() * 100, 2))\n",
    "\n",
    "y_pred = cross_val_predict(gb_classifier, training_feature, training_target, cv=kfold)\n",
    "\n",
    "sns.heatmap(confusion_matrix(training_target, y_pred), annot=True, fmt='3.0f', cmap=\"summer\")\n",
    "\n",
    "plt.title('GB Classifier Confusion Matrix', y=1.05, size=15)"
   ]
  },
  {
   "cell_type": "markdown",
   "metadata": {},
   "source": [
    "# Chi Square"
   ]
  },
  {
   "cell_type": "code",
   "execution_count": 75,
   "metadata": {},
   "outputs": [
    {
     "data": {
      "text/plain": [
       "Median_Fare        0.000000e+00\n",
       "High_Fare          0.000000e+00\n",
       "male               0.000000e+00\n",
       "S                  0.000000e+00\n",
       "3                  0.000000e+00\n",
       "2                 1.185273e-197\n",
       "Elder             1.113640e-124\n",
       "Adult             9.945706e-118\n",
       "Q                 2.472928e-115\n",
       "Median_Family      2.899951e-99\n",
       "Average_Fare       5.391382e-57\n",
       "Parch              3.536009e-20\n",
       "Teenage            2.072378e-13\n",
       "Average_Family     9.554453e-08\n",
       "Has_Ticket         1.043135e-02\n",
       "Big_Family         2.126790e-02\n",
       "SibSp              7.873346e-02\n",
       "dtype: float64"
      ]
     },
     "execution_count": 75,
     "metadata": {},
     "output_type": "execute_result"
    }
   ],
   "source": [
    "from sklearn.feature_selection import chi2\n",
    "\n",
    "importances = chi2(x_train, y_train)\n",
    "feat_importances = pd.Series(importances[1], index=x_train.columns)\n",
    "feat_importances.sort_values(ascending=True)"
   ]
  },
  {
   "cell_type": "code",
   "execution_count": 76,
   "metadata": {},
   "outputs": [
    {
     "data": {
      "image/png": "[encoded data removed]",
      "text/plain": [
       "<Figure size 432x288 with 1 Axes>"
      ]
     },
     "metadata": {
      "needs_background": "light"
     },
     "output_type": "display_data"
    }
   ],
   "source": [
    "feat_importances.plot(kind=\"bar\", color=\"teal\")\n",
    "plt.show()"
   ]
  },
  {
   "cell_type": "code",
   "execution_count": 77,
   "metadata": {},
   "outputs": [
    {
     "data": {
      "text/plain": [
       "Index([         'Parch',        'Teenage',          'Adult',          'Elder',\n",
       "          'Median_Fare',   'Average_Fare',      'High_Fare',           'male',\n",
       "                    'Q',              'S',                2,                3,\n",
       "        'Median_Family', 'Average_Family'],\n",
       "      dtype='object')"
      ]
     },
     "execution_count": 77,
     "metadata": {},
     "output_type": "execute_result"
    }
   ],
   "source": [
    "from sklearn.feature_selection import SelectKBest\n",
    "sel = SelectKBest(chi2, k=14).fit(x_train, y_train)\n",
    "x_train.columns[sel.get_support()]"
   ]
  },
  {
   "cell_type": "code",
   "execution_count": 78,
   "metadata": {},
   "outputs": [
    {
     "data": {
      "text/plain": [
       "((80000, 14), (20000, 14))"
      ]
     },
     "execution_count": 78,
     "metadata": {},
     "output_type": "execute_result"
    }
   ],
   "source": [
    "x_train_chi = sel.transform(x_train)\n",
    "x_test_chi = sel.transform(x_test)\n",
    "x_train_chi.shape, x_test_chi.shape"
   ]
  },
  {
   "cell_type": "code",
   "execution_count": 79,
   "metadata": {
    "scrolled": true
   },
   "outputs": [
    {
     "name": "stdout",
     "output_type": "stream",
     "text": [
      "GradientBoostingClassifier(criterion='friedman_mse', init=None,\n",
      "              learning_rate=0.1, loss='deviance', max_depth=5,\n",
      "              max_features='auto', max_leaf_nodes=None,\n",
      "              min_impurity_decrease=0.0, min_impurity_split=None,\n",
      "              min_samples_leaf=200, min_samples_split=2,\n",
      "              min_weight_fraction_leaf=0.0, n_estimators=300,\n",
      "              n_iter_no_change=None, presort='auto', random_state=None,\n",
      "              subsample=1.0, tol=0.0001, validation_fraction=0.1,\n",
      "              verbose=0, warm_start=False)\n",
      "-------------- The Accuracy of the model ----------------------------\n",
      "The Accuracy of the GB Classifier is 76.92\n",
      "The cross validated score for GB Classifier is: 77.44\n"
     ]
    },
    {
     "data": {
      "text/plain": [
       "Text(0.5, 1.05, 'GB Classifier Confusion Matrix')"
      ]
     },
     "execution_count": 79,
     "metadata": {},
     "output_type": "execute_result"
    },
    {
     "data": {
      "image/png": "[encoded data removed]",
      "text/plain": [
       "<Figure size 432x288 with 2 Axes>"
      ]
     },
     "metadata": {
      "needs_background": "light"
     },
     "output_type": "display_data"
    }
   ],
   "source": [
    "from sklearn.ensemble import GradientBoostingClassifier\n",
    "\n",
    "gb_classifier = GradientBoostingClassifier(criterion='friedman_mse', init=None,\n",
    "              learning_rate=0.1, loss='deviance', max_depth=5,\n",
    "              max_features=\"auto\", max_leaf_nodes=None,\n",
    "              min_impurity_decrease=0.0, min_impurity_split=None,\n",
    "              min_samples_leaf=200, min_samples_split=2,\n",
    "              min_weight_fraction_leaf=0.0, n_estimators=300,\n",
    "              n_iter_no_change=None, presort='auto', random_state=None,\n",
    "              subsample=1.0, tol=0.0001, validation_fraction=0.1,\n",
    "              verbose=0, warm_start=False)\n",
    "\n",
    "print(gb_classifier)\n",
    "\n",
    "gb_classifier.fit(x_train_chi, y_train)\n",
    "\n",
    "gb_prediction = gb_classifier.predict(x_test_chi)\n",
    "\n",
    "print('-------------- The Accuracy of the model ----------------------------')\n",
    "print('The Accuracy of the GB Classifier is', round(accuracy_score(y_test, gb_prediction) * 100, 2))\n",
    "\n",
    "kfold = KFold(n_splits=10, shuffle=True, random_state=42)\n",
    "\n",
    "gb_cv_score = cross_val_score(gb_classifier, training_feature, training_target, cv=kfold, scoring='accuracy')\n",
    "\n",
    "print('The cross validated score for GB Classifier is:', round(gb_cv_score.mean() * 100, 2))\n",
    "\n",
    "y_pred = cross_val_predict(gb_classifier, training_feature, training_target, cv=kfold)\n",
    "\n",
    "sns.heatmap(confusion_matrix(training_target, y_pred), annot=True, fmt='3.0f', cmap=\"summer\")\n",
    "\n",
    "plt.title('GB Classifier Confusion Matrix', y=1.05, size=15)"
   ]
  },
  {
   "cell_type": "code",
   "execution_count": 80,
   "metadata": {
    "scrolled": true
   },
   "outputs": [
    {
     "name": "stdout",
     "output_type": "stream",
     "text": [
      "GradientBoostingClassifier(criterion='friedman_mse', init=None,\n",
      "              learning_rate=0.1, loss='deviance', max_depth=5,\n",
      "              max_features='auto', max_leaf_nodes=None,\n",
      "              min_impurity_decrease=0.0, min_impurity_split=None,\n",
      "              min_samples_leaf=200, min_samples_split=2,\n",
      "              min_weight_fraction_leaf=0.0, n_estimators=300,\n",
      "              n_iter_no_change=None, presort='auto', random_state=None,\n",
      "              subsample=1.0, tol=0.0001, validation_fraction=0.1,\n",
      "              verbose=0, warm_start=False)\n",
      "-------------- The Accuracy of the model ----------------------------\n",
      "The Accuracy of the GB Classifier is 77.52\n",
      "The cross validated score for GB Classifier is: 77.44\n"
     ]
    },
    {
     "data": {
      "text/plain": [
       "Text(0.5, 1.05, 'GB Classifier Confusion Matrix')"
      ]
     },
     "execution_count": 80,
     "metadata": {},
     "output_type": "execute_result"
    },
    {
     "data": {
      "image/png": "[encoded data removed]",
      "text/plain": [
       "<Figure size 432x288 with 2 Axes>"
      ]
     },
     "metadata": {
      "needs_background": "light"
     },
     "output_type": "display_data"
    }
   ],
   "source": [
    "from sklearn.ensemble import GradientBoostingClassifier\n",
    "\n",
    "gb_classifier = GradientBoostingClassifier(criterion='friedman_mse', init=None,\n",
    "              learning_rate=0.1, loss='deviance', max_depth=5,\n",
    "              max_features=\"auto\", max_leaf_nodes=None,\n",
    "              min_impurity_decrease=0.0, min_impurity_split=None,\n",
    "              min_samples_leaf=200, min_samples_split=2,\n",
    "              min_weight_fraction_leaf=0.0, n_estimators=300,\n",
    "              n_iter_no_change=None, presort='auto', random_state=None,\n",
    "              subsample=1.0, tol=0.0001, validation_fraction=0.1,\n",
    "              verbose=0, warm_start=False)\n",
    "\n",
    "print(gb_classifier)\n",
    "\n",
    "gb_classifier.fit(x_train, y_train)\n",
    "\n",
    "gb_prediction = gb_classifier.predict(x_test)\n",
    "\n",
    "print('-------------- The Accuracy of the model ----------------------------')\n",
    "print('The Accuracy of the GB Classifier is', round(accuracy_score(y_test, gb_prediction) * 100, 2))\n",
    "\n",
    "kfold = KFold(n_splits=10, shuffle=True, random_state=42)\n",
    "\n",
    "gb_cv_score = cross_val_score(gb_classifier, training_feature, training_target, cv=kfold, scoring='accuracy')\n",
    "\n",
    "print('The cross validated score for GB Classifier is:', round(gb_cv_score.mean() * 100, 2))\n",
    "\n",
    "y_pred = cross_val_predict(gb_classifier, training_feature, training_target, cv=kfold)\n",
    "\n",
    "sns.heatmap(confusion_matrix(training_target, y_pred), annot=True, fmt='3.0f', cmap=\"summer\")\n",
    "\n",
    "plt.title('GB Classifier Confusion Matrix', y=1.05, size=15)"
   ]
  },
  {
   "cell_type": "code",
   "execution_count": 81,
   "metadata": {},
   "outputs": [],
   "source": [
    "submission = pd.read_csv(\"data/Tabular Playground Series - Apr 2021/sample_submission.csv\")"
   ]
  },
  {
   "cell_type": "code",
   "execution_count": 82,
   "metadata": {},
   "outputs": [],
   "source": [
    "y_pred = gb_classifier.predict(org_test_data)"
   ]
  },
  {
   "cell_type": "code",
   "execution_count": 83,
   "metadata": {},
   "outputs": [],
   "source": [
    "export_df = pd.DataFrame()\n",
    "export_df[\"PassengerId\"] = org_test_pssg_id\n",
    "export_df[\"Survived\"] = y_pred\n",
    "export_df.to_csv(\"data/Tabular Playground Series - Apr 2021/my_gb_classifier_submission.csv\", index=False)"
   ]
  },
  {
   "cell_type": "code",
   "execution_count": 84,
   "metadata": {},
   "outputs": [
    {
     "data": {
      "text/html": [
       "<div>\n",
       "<style scoped>\n",
       "    .dataframe tbody tr th:only-of-type {\n",
       "        vertical-align: middle;\n",
       "    }\n",
       "\n",
       "    .dataframe tbody tr th {\n",
       "        vertical-align: top;\n",
       "    }\n",
       "\n",
       "    .dataframe thead th {\n",
       "        text-align: right;\n",
       "    }\n",
       "</style>\n",
       "<table border=\"1\" class=\"dataframe\">\n",
       "  <thead>\n",
       "    <tr style=\"text-align: right;\">\n",
       "      <th></th>\n",
       "      <th>PassengerId</th>\n",
       "      <th>Survived</th>\n",
       "    </tr>\n",
       "  </thead>\n",
       "  <tbody>\n",
       "    <tr>\n",
       "      <th>0</th>\n",
       "      <td>100000</td>\n",
       "      <td>0</td>\n",
       "    </tr>\n",
       "    <tr>\n",
       "      <th>1</th>\n",
       "      <td>100001</td>\n",
       "      <td>0</td>\n",
       "    </tr>\n",
       "    <tr>\n",
       "      <th>2</th>\n",
       "      <td>100002</td>\n",
       "      <td>1</td>\n",
       "    </tr>\n",
       "    <tr>\n",
       "      <th>3</th>\n",
       "      <td>100003</td>\n",
       "      <td>0</td>\n",
       "    </tr>\n",
       "    <tr>\n",
       "      <th>4</th>\n",
       "      <td>100004</td>\n",
       "      <td>1</td>\n",
       "    </tr>\n",
       "    <tr>\n",
       "      <th>5</th>\n",
       "      <td>100005</td>\n",
       "      <td>0</td>\n",
       "    </tr>\n",
       "    <tr>\n",
       "      <th>6</th>\n",
       "      <td>100006</td>\n",
       "      <td>0</td>\n",
       "    </tr>\n",
       "    <tr>\n",
       "      <th>7</th>\n",
       "      <td>100007</td>\n",
       "      <td>0</td>\n",
       "    </tr>\n",
       "    <tr>\n",
       "      <th>8</th>\n",
       "      <td>100008</td>\n",
       "      <td>1</td>\n",
       "    </tr>\n",
       "    <tr>\n",
       "      <th>9</th>\n",
       "      <td>100009</td>\n",
       "      <td>0</td>\n",
       "    </tr>\n",
       "    <tr>\n",
       "      <th>10</th>\n",
       "      <td>100010</td>\n",
       "      <td>0</td>\n",
       "    </tr>\n",
       "    <tr>\n",
       "      <th>11</th>\n",
       "      <td>100011</td>\n",
       "      <td>0</td>\n",
       "    </tr>\n",
       "    <tr>\n",
       "      <th>12</th>\n",
       "      <td>100012</td>\n",
       "      <td>0</td>\n",
       "    </tr>\n",
       "    <tr>\n",
       "      <th>13</th>\n",
       "      <td>100013</td>\n",
       "      <td>0</td>\n",
       "    </tr>\n",
       "    <tr>\n",
       "      <th>14</th>\n",
       "      <td>100014</td>\n",
       "      <td>0</td>\n",
       "    </tr>\n",
       "    <tr>\n",
       "      <th>15</th>\n",
       "      <td>100015</td>\n",
       "      <td>0</td>\n",
       "    </tr>\n",
       "    <tr>\n",
       "      <th>16</th>\n",
       "      <td>100016</td>\n",
       "      <td>0</td>\n",
       "    </tr>\n",
       "    <tr>\n",
       "      <th>17</th>\n",
       "      <td>100017</td>\n",
       "      <td>0</td>\n",
       "    </tr>\n",
       "    <tr>\n",
       "      <th>18</th>\n",
       "      <td>100018</td>\n",
       "      <td>0</td>\n",
       "    </tr>\n",
       "    <tr>\n",
       "      <th>19</th>\n",
       "      <td>100019</td>\n",
       "      <td>1</td>\n",
       "    </tr>\n",
       "    <tr>\n",
       "      <th>20</th>\n",
       "      <td>100020</td>\n",
       "      <td>0</td>\n",
       "    </tr>\n",
       "    <tr>\n",
       "      <th>21</th>\n",
       "      <td>100021</td>\n",
       "      <td>0</td>\n",
       "    </tr>\n",
       "    <tr>\n",
       "      <th>22</th>\n",
       "      <td>100022</td>\n",
       "      <td>0</td>\n",
       "    </tr>\n",
       "    <tr>\n",
       "      <th>23</th>\n",
       "      <td>100023</td>\n",
       "      <td>0</td>\n",
       "    </tr>\n",
       "    <tr>\n",
       "      <th>24</th>\n",
       "      <td>100024</td>\n",
       "      <td>0</td>\n",
       "    </tr>\n",
       "    <tr>\n",
       "      <th>25</th>\n",
       "      <td>100025</td>\n",
       "      <td>0</td>\n",
       "    </tr>\n",
       "    <tr>\n",
       "      <th>26</th>\n",
       "      <td>100026</td>\n",
       "      <td>0</td>\n",
       "    </tr>\n",
       "    <tr>\n",
       "      <th>27</th>\n",
       "      <td>100027</td>\n",
       "      <td>1</td>\n",
       "    </tr>\n",
       "    <tr>\n",
       "      <th>28</th>\n",
       "      <td>100028</td>\n",
       "      <td>0</td>\n",
       "    </tr>\n",
       "    <tr>\n",
       "      <th>29</th>\n",
       "      <td>100029</td>\n",
       "      <td>1</td>\n",
       "    </tr>\n",
       "    <tr>\n",
       "      <th>...</th>\n",
       "      <td>...</td>\n",
       "      <td>...</td>\n",
       "    </tr>\n",
       "    <tr>\n",
       "      <th>99970</th>\n",
       "      <td>199970</td>\n",
       "      <td>0</td>\n",
       "    </tr>\n",
       "    <tr>\n",
       "      <th>99971</th>\n",
       "      <td>199971</td>\n",
       "      <td>0</td>\n",
       "    </tr>\n",
       "    <tr>\n",
       "      <th>99972</th>\n",
       "      <td>199972</td>\n",
       "      <td>0</td>\n",
       "    </tr>\n",
       "    <tr>\n",
       "      <th>99973</th>\n",
       "      <td>199973</td>\n",
       "      <td>1</td>\n",
       "    </tr>\n",
       "    <tr>\n",
       "      <th>99974</th>\n",
       "      <td>199974</td>\n",
       "      <td>0</td>\n",
       "    </tr>\n",
       "    <tr>\n",
       "      <th>99975</th>\n",
       "      <td>199975</td>\n",
       "      <td>0</td>\n",
       "    </tr>\n",
       "    <tr>\n",
       "      <th>99976</th>\n",
       "      <td>199976</td>\n",
       "      <td>0</td>\n",
       "    </tr>\n",
       "    <tr>\n",
       "      <th>99977</th>\n",
       "      <td>199977</td>\n",
       "      <td>0</td>\n",
       "    </tr>\n",
       "    <tr>\n",
       "      <th>99978</th>\n",
       "      <td>199978</td>\n",
       "      <td>0</td>\n",
       "    </tr>\n",
       "    <tr>\n",
       "      <th>99979</th>\n",
       "      <td>199979</td>\n",
       "      <td>1</td>\n",
       "    </tr>\n",
       "    <tr>\n",
       "      <th>99980</th>\n",
       "      <td>199980</td>\n",
       "      <td>0</td>\n",
       "    </tr>\n",
       "    <tr>\n",
       "      <th>99981</th>\n",
       "      <td>199981</td>\n",
       "      <td>0</td>\n",
       "    </tr>\n",
       "    <tr>\n",
       "      <th>99982</th>\n",
       "      <td>199982</td>\n",
       "      <td>0</td>\n",
       "    </tr>\n",
       "    <tr>\n",
       "      <th>99983</th>\n",
       "      <td>199983</td>\n",
       "      <td>0</td>\n",
       "    </tr>\n",
       "    <tr>\n",
       "      <th>99984</th>\n",
       "      <td>199984</td>\n",
       "      <td>0</td>\n",
       "    </tr>\n",
       "    <tr>\n",
       "      <th>99985</th>\n",
       "      <td>199985</td>\n",
       "      <td>0</td>\n",
       "    </tr>\n",
       "    <tr>\n",
       "      <th>99986</th>\n",
       "      <td>199986</td>\n",
       "      <td>0</td>\n",
       "    </tr>\n",
       "    <tr>\n",
       "      <th>99987</th>\n",
       "      <td>199987</td>\n",
       "      <td>1</td>\n",
       "    </tr>\n",
       "    <tr>\n",
       "      <th>99988</th>\n",
       "      <td>199988</td>\n",
       "      <td>0</td>\n",
       "    </tr>\n",
       "    <tr>\n",
       "      <th>99989</th>\n",
       "      <td>199989</td>\n",
       "      <td>1</td>\n",
       "    </tr>\n",
       "    <tr>\n",
       "      <th>99990</th>\n",
       "      <td>199990</td>\n",
       "      <td>0</td>\n",
       "    </tr>\n",
       "    <tr>\n",
       "      <th>99991</th>\n",
       "      <td>199991</td>\n",
       "      <td>1</td>\n",
       "    </tr>\n",
       "    <tr>\n",
       "      <th>99992</th>\n",
       "      <td>199992</td>\n",
       "      <td>0</td>\n",
       "    </tr>\n",
       "    <tr>\n",
       "      <th>99993</th>\n",
       "      <td>199993</td>\n",
       "      <td>0</td>\n",
       "    </tr>\n",
       "    <tr>\n",
       "      <th>99994</th>\n",
       "      <td>199994</td>\n",
       "      <td>1</td>\n",
       "    </tr>\n",
       "    <tr>\n",
       "      <th>99995</th>\n",
       "      <td>199995</td>\n",
       "      <td>1</td>\n",
       "    </tr>\n",
       "    <tr>\n",
       "      <th>99996</th>\n",
       "      <td>199996</td>\n",
       "      <td>0</td>\n",
       "    </tr>\n",
       "    <tr>\n",
       "      <th>99997</th>\n",
       "      <td>199997</td>\n",
       "      <td>0</td>\n",
       "    </tr>\n",
       "    <tr>\n",
       "      <th>99998</th>\n",
       "      <td>199998</td>\n",
       "      <td>0</td>\n",
       "    </tr>\n",
       "    <tr>\n",
       "      <th>99999</th>\n",
       "      <td>199999</td>\n",
       "      <td>1</td>\n",
       "    </tr>\n",
       "  </tbody>\n",
       "</table>\n",
       "<p>100000 rows × 2 columns</p>\n",
       "</div>"
      ],
      "text/plain": [
       "       PassengerId  Survived\n",
       "0           100000         0\n",
       "1           100001         0\n",
       "2           100002         1\n",
       "3           100003         0\n",
       "4           100004         1\n",
       "5           100005         0\n",
       "6           100006         0\n",
       "7           100007         0\n",
       "8           100008         1\n",
       "9           100009         0\n",
       "10          100010         0\n",
       "11          100011         0\n",
       "12          100012         0\n",
       "13          100013         0\n",
       "14          100014         0\n",
       "15          100015         0\n",
       "16          100016         0\n",
       "17          100017         0\n",
       "18          100018         0\n",
       "19          100019         1\n",
       "20          100020         0\n",
       "21          100021         0\n",
       "22          100022         0\n",
       "23          100023         0\n",
       "24          100024         0\n",
       "25          100025         0\n",
       "26          100026         0\n",
       "27          100027         1\n",
       "28          100028         0\n",
       "29          100029         1\n",
       "...            ...       ...\n",
       "99970       199970         0\n",
       "99971       199971         0\n",
       "99972       199972         0\n",
       "99973       199973         1\n",
       "99974       199974         0\n",
       "99975       199975         0\n",
       "99976       199976         0\n",
       "99977       199977         0\n",
       "99978       199978         0\n",
       "99979       199979         1\n",
       "99980       199980         0\n",
       "99981       199981         0\n",
       "99982       199982         0\n",
       "99983       199983         0\n",
       "99984       199984         0\n",
       "99985       199985         0\n",
       "99986       199986         0\n",
       "99987       199987         1\n",
       "99988       199988         0\n",
       "99989       199989         1\n",
       "99990       199990         0\n",
       "99991       199991         1\n",
       "99992       199992         0\n",
       "99993       199993         0\n",
       "99994       199994         1\n",
       "99995       199995         1\n",
       "99996       199996         0\n",
       "99997       199997         0\n",
       "99998       199998         0\n",
       "99999       199999         1\n",
       "\n",
       "[100000 rows x 2 columns]"
      ]
     },
     "execution_count": 84,
     "metadata": {},
     "output_type": "execute_result"
    }
   ],
   "source": [
    "export_df"
   ]
  },
  {
   "cell_type": "markdown",
   "metadata": {},
   "source": [
    "# ANN"
   ]
  },
  {
   "cell_type": "code",
   "execution_count": 85,
   "metadata": {},
   "outputs": [],
   "source": [
    "import tensorflow as tf\n",
    "from tensorflow import keras\n",
    "from tensorflow.keras import Sequential, regularizers # Importing sequential model\n",
    "from tensorflow.keras.layers import Flatten, Dense, BatchNormalization, Dropout # Importing layers"
   ]
  },
  {
   "cell_type": "code",
   "execution_count": 86,
   "metadata": {},
   "outputs": [
    {
     "data": {
      "text/plain": [
       "(6, 6)"
      ]
     },
     "execution_count": 86,
     "metadata": {},
     "output_type": "execute_result"
    }
   ],
   "source": [
    "x_train_ig.shape[1], x_test_ig.shape[1]"
   ]
  },
  {
   "cell_type": "code",
   "execution_count": 104,
   "metadata": {},
   "outputs": [],
   "source": [
    "def annModel(x_train, y_train, x_test, y_test, batch, epochs):\n",
    "    model = Sequential()\n",
    "\n",
    "    model.add(Dense(x_train.shape[1], activation=\"relu\", input_dim=x_train.shape[1], kernel_regularizer=regularizers.l2(0.01)))\n",
    "        \n",
    "    model.add(Dense(64, activation=\"relu\"))\n",
    "\n",
    "    model.add(BatchNormalization())\n",
    "\n",
    "    model.add(Dense(32, activation=\"relu\"))\n",
    "    \n",
    "    model.add(Dense(1, activation=\"sigmoid\"))\n",
    "    \n",
    "    model.summary()\n",
    "    \n",
    "    model.compile(optimizer=\"Adam\", loss=\"binary_crossentropy\", metrics=[\"accuracy\"])\n",
    "    \n",
    "    model.fit(x_train, y_train, batch_size=batch, epochs=epochs, verbose=1, validation_data=(x_test, y_test))\n",
    "    \n",
    "    return model"
   ]
  },
  {
   "cell_type": "code",
   "execution_count": 88,
   "metadata": {},
   "outputs": [
    {
     "name": "stdout",
     "output_type": "stream",
     "text": [
      "_________________________________________________________________\n",
      "Layer (type)                 Output Shape              Param #   \n",
      "=================================================================\n",
      "dense (Dense)                (None, 6)                 42        \n",
      "_________________________________________________________________\n",
      "dense_1 (Dense)              (None, 64)                448       \n",
      "_________________________________________________________________\n",
      "batch_normalization (BatchNo (None, 64)                256       \n",
      "_________________________________________________________________\n",
      "dense_2 (Dense)              (None, 32)                2080      \n",
      "_________________________________________________________________\n",
      "batch_normalization_1 (Batch (None, 32)                128       \n",
      "_________________________________________________________________\n",
      "dense_3 (Dense)              (None, 1)                 33        \n",
      "=================================================================\n",
      "Total params: 2,987\n",
      "Trainable params: 2,795\n",
      "Non-trainable params: 192\n",
      "_________________________________________________________________\n",
      "Train on 80000 samples, validate on 20000 samples\n",
      "Epoch 1/10\n",
      "80000/80000 [==============================] - 70s 870us/step - loss: 0.5501 - acc: 0.7531 - val_loss: 0.5190 - val_acc: 0.7613\n",
      "Epoch 2/10\n",
      "80000/80000 [==============================] - 59s 737us/step - loss: 0.5213 - acc: 0.7592 - val_loss: 0.5005 - val_acc: 0.7653\n",
      "Epoch 3/10\n",
      "80000/80000 [==============================] - 59s 737us/step - loss: 0.5201 - acc: 0.7592 - val_loss: 0.5143 - val_acc: 0.7661\n",
      "Epoch 4/10\n",
      "80000/80000 [==============================] - 60s 748us/step - loss: 0.5183 - acc: 0.7589 - val_loss: 0.5084 - val_acc: 0.7631\n",
      "Epoch 5/10\n",
      "80000/80000 [==============================] - 60s 752us/step - loss: 0.5183 - acc: 0.7601 - val_loss: 0.5113 - val_acc: 0.7647\n",
      "Epoch 6/10\n",
      "80000/80000 [==============================] - 60s 748us/step - loss: 0.5187 - acc: 0.7598 - val_loss: 0.5137 - val_acc: 0.7652\n",
      "Epoch 7/10\n",
      "80000/80000 [==============================] - 59s 737us/step - loss: 0.5184 - acc: 0.7582 - val_loss: 0.5004 - val_acc: 0.7669\n",
      "Epoch 8/10\n",
      "80000/80000 [==============================] - 60s 745us/step - loss: 0.5178 - acc: 0.7591 - val_loss: 0.5005 - val_acc: 0.7669\n",
      "Epoch 9/10\n",
      "80000/80000 [==============================] - 60s 748us/step - loss: 0.5178 - acc: 0.7603 - val_loss: 0.5003 - val_acc: 0.7663\n",
      "Epoch 10/10\n",
      "80000/80000 [==============================] - 62s 769us/step - loss: 0.5176 - acc: 0.7609 - val_loss: 0.4995 - val_acc: 0.7661\n"
     ]
    },
    {
     "data": {
      "text/plain": [
       "<tensorflow.python.keras.engine.sequential.Sequential at 0x7fdc81113ba8>"
      ]
     },
     "execution_count": 88,
     "metadata": {},
     "output_type": "execute_result"
    }
   ],
   "source": [
    "annModel(x_train_ig, y_train, x_test_ig, y_test, 10, 10)"
   ]
  },
  {
   "cell_type": "code",
   "execution_count": 89,
   "metadata": {},
   "outputs": [
    {
     "name": "stdout",
     "output_type": "stream",
     "text": [
      "_________________________________________________________________\n",
      "Layer (type)                 Output Shape              Param #   \n",
      "=================================================================\n",
      "dense_4 (Dense)              (None, 14)                210       \n",
      "_________________________________________________________________\n",
      "dense_5 (Dense)              (None, 64)                960       \n",
      "_________________________________________________________________\n",
      "batch_normalization_2 (Batch (None, 64)                256       \n",
      "_________________________________________________________________\n",
      "dense_6 (Dense)              (None, 32)                2080      \n",
      "_________________________________________________________________\n",
      "batch_normalization_3 (Batch (None, 32)                128       \n",
      "_________________________________________________________________\n",
      "dense_7 (Dense)              (None, 1)                 33        \n",
      "=================================================================\n",
      "Total params: 3,667\n",
      "Trainable params: 3,475\n",
      "Non-trainable params: 192\n",
      "_________________________________________________________________\n",
      "Train on 80000 samples, validate on 20000 samples\n",
      "Epoch 1/10\n",
      "80000/80000 [==============================] - 61s 756us/step - loss: 0.5543 - acc: 0.7526 - val_loss: 0.5059 - val_acc: 0.7656\n",
      "Epoch 2/10\n",
      "80000/80000 [==============================] - 60s 749us/step - loss: 0.5229 - acc: 0.7556 - val_loss: 0.5024 - val_acc: 0.7633\n",
      "Epoch 3/10\n",
      "80000/80000 [==============================] - 63s 783us/step - loss: 0.5190 - acc: 0.7580 - val_loss: 0.4990 - val_acc: 0.7677\n",
      "Epoch 4/10\n",
      "80000/80000 [==============================] - 62s 776us/step - loss: 0.5199 - acc: 0.7558 - val_loss: 0.5012 - val_acc: 0.7655\n",
      "Epoch 5/10\n",
      "80000/80000 [==============================] - 61s 762us/step - loss: 0.5196 - acc: 0.7573 - val_loss: 0.4971 - val_acc: 0.7686\n",
      "Epoch 6/10\n",
      "80000/80000 [==============================] - 62s 776us/step - loss: 0.5187 - acc: 0.7582 - val_loss: 0.4991 - val_acc: 0.7655\n",
      "Epoch 7/10\n",
      "80000/80000 [==============================] - 67s 838us/step - loss: 0.5174 - acc: 0.7593 - val_loss: 0.4993 - val_acc: 0.7665\n",
      "Epoch 8/10\n",
      "80000/80000 [==============================] - 63s 784us/step - loss: 0.5180 - acc: 0.7598 - val_loss: 0.4962 - val_acc: 0.7688\n",
      "Epoch 9/10\n",
      "80000/80000 [==============================] - 61s 760us/step - loss: 0.5167 - acc: 0.7607 - val_loss: 0.4974 - val_acc: 0.7654\n",
      "Epoch 10/10\n",
      "80000/80000 [==============================] - 63s 787us/step - loss: 0.5167 - acc: 0.7601 - val_loss: 0.4985 - val_acc: 0.7677\n"
     ]
    },
    {
     "data": {
      "text/plain": [
       "<tensorflow.python.keras.engine.sequential.Sequential at 0x7fdc8233e898>"
      ]
     },
     "execution_count": 89,
     "metadata": {},
     "output_type": "execute_result"
    }
   ],
   "source": [
    "annModel(x_train_chi, y_train, x_test_chi, y_test, 10, 10)"
   ]
  },
  {
   "cell_type": "code",
   "execution_count": 90,
   "metadata": {},
   "outputs": [
    {
     "data": {
      "text/plain": [
       "(80000,)"
      ]
     },
     "execution_count": 90,
     "metadata": {},
     "output_type": "execute_result"
    }
   ],
   "source": [
    "x_train[\"male\"].shape"
   ]
  },
  {
   "cell_type": "code",
   "execution_count": 105,
   "metadata": {
    "scrolled": false
   },
   "outputs": [
    {
     "name": "stdout",
     "output_type": "stream",
     "text": [
      "_________________________________________________________________\n",
      "Layer (type)                 Output Shape              Param #   \n",
      "=================================================================\n",
      "dense_19 (Dense)             (None, 17)                306       \n",
      "_________________________________________________________________\n",
      "dense_20 (Dense)             (None, 64)                1152      \n",
      "_________________________________________________________________\n",
      "dense_21 (Dense)             (None, 1)                 65        \n",
      "=================================================================\n",
      "Total params: 1,523\n",
      "Trainable params: 1,523\n",
      "Non-trainable params: 0\n",
      "_________________________________________________________________\n",
      "Train on 80000 samples, validate on 20000 samples\n",
      "Epoch 1/10\n",
      "80000/80000 [==============================] - 38s 469us/step - loss: 0.5163 - acc: 0.7670 - val_loss: 0.4981 - val_acc: 0.7696\n",
      "Epoch 2/10\n",
      "80000/80000 [==============================] - 36s 456us/step - loss: 0.4972 - acc: 0.7703 - val_loss: 0.4959 - val_acc: 0.7714\n",
      "Epoch 3/10\n",
      "80000/80000 [==============================] - 36s 453us/step - loss: 0.4952 - acc: 0.7705 - val_loss: 0.5016 - val_acc: 0.7672\n",
      "Epoch 4/10\n",
      "80000/80000 [==============================] - 36s 454us/step - loss: 0.4943 - acc: 0.7709 - val_loss: 0.4942 - val_acc: 0.7713\n",
      "Epoch 5/10\n",
      "80000/80000 [==============================] - 36s 456us/step - loss: 0.4939 - acc: 0.7709 - val_loss: 0.4922 - val_acc: 0.7720\n",
      "Epoch 6/10\n",
      "80000/80000 [==============================] - 37s 461us/step - loss: 0.4941 - acc: 0.7715 - val_loss: 0.4912 - val_acc: 0.7718\n",
      "Epoch 7/10\n",
      "80000/80000 [==============================] - 37s 457us/step - loss: 0.4934 - acc: 0.7713 - val_loss: 0.4941 - val_acc: 0.7709\n",
      "Epoch 8/10\n",
      "80000/80000 [==============================] - 36s 452us/step - loss: 0.4937 - acc: 0.7715 - val_loss: 0.4910 - val_acc: 0.7741\n",
      "Epoch 9/10\n",
      "80000/80000 [==============================] - 38s 478us/step - loss: 0.4936 - acc: 0.7717 - val_loss: 0.5037 - val_acc: 0.7675\n",
      "Epoch 10/10\n",
      "80000/80000 [==============================] - 37s 467us/step - loss: 0.4934 - acc: 0.7714 - val_loss: 0.4943 - val_acc: 0.7695\n"
     ]
    },
    {
     "data": {
      "text/plain": [
       "<tensorflow.python.keras.engine.sequential.Sequential at 0x7fdc821f64a8>"
      ]
     },
     "execution_count": 105,
     "metadata": {},
     "output_type": "execute_result"
    }
   ],
   "source": [
    "ann_model = annModel(x_train, y_train, x_test, y_test, 10, 10)\n",
    "ann_model"
   ]
  },
  {
   "cell_type": "code",
   "execution_count": 92,
   "metadata": {},
   "outputs": [
    {
     "data": {
      "text/html": [
       "<div>\n",
       "<style scoped>\n",
       "    .dataframe tbody tr th:only-of-type {\n",
       "        vertical-align: middle;\n",
       "    }\n",
       "\n",
       "    .dataframe tbody tr th {\n",
       "        vertical-align: top;\n",
       "    }\n",
       "\n",
       "    .dataframe thead th {\n",
       "        text-align: right;\n",
       "    }\n",
       "</style>\n",
       "<table border=\"1\" class=\"dataframe\">\n",
       "  <thead>\n",
       "    <tr style=\"text-align: right;\">\n",
       "      <th></th>\n",
       "      <th>SibSp</th>\n",
       "      <th>Parch</th>\n",
       "      <th>Teenage</th>\n",
       "      <th>Adult</th>\n",
       "      <th>Elder</th>\n",
       "      <th>Median_Fare</th>\n",
       "      <th>Average_Fare</th>\n",
       "      <th>High_Fare</th>\n",
       "      <th>Has_Ticket</th>\n",
       "      <th>male</th>\n",
       "      <th>Q</th>\n",
       "      <th>S</th>\n",
       "      <th>2</th>\n",
       "      <th>3</th>\n",
       "      <th>Median_Family</th>\n",
       "      <th>Average_Family</th>\n",
       "      <th>Big_Family</th>\n",
       "    </tr>\n",
       "  </thead>\n",
       "  <tbody>\n",
       "    <tr>\n",
       "      <th>0</th>\n",
       "      <td>0</td>\n",
       "      <td>0</td>\n",
       "      <td>1</td>\n",
       "      <td>0</td>\n",
       "      <td>0</td>\n",
       "      <td>0</td>\n",
       "      <td>1</td>\n",
       "      <td>0</td>\n",
       "      <td>1</td>\n",
       "      <td>1</td>\n",
       "      <td>0</td>\n",
       "      <td>1</td>\n",
       "      <td>0</td>\n",
       "      <td>1</td>\n",
       "      <td>0</td>\n",
       "      <td>0</td>\n",
       "      <td>0</td>\n",
       "    </tr>\n",
       "    <tr>\n",
       "      <th>1</th>\n",
       "      <td>0</td>\n",
       "      <td>0</td>\n",
       "      <td>0</td>\n",
       "      <td>0</td>\n",
       "      <td>1</td>\n",
       "      <td>1</td>\n",
       "      <td>0</td>\n",
       "      <td>0</td>\n",
       "      <td>1</td>\n",
       "      <td>0</td>\n",
       "      <td>0</td>\n",
       "      <td>1</td>\n",
       "      <td>0</td>\n",
       "      <td>1</td>\n",
       "      <td>0</td>\n",
       "      <td>0</td>\n",
       "      <td>0</td>\n",
       "    </tr>\n",
       "    <tr>\n",
       "      <th>2</th>\n",
       "      <td>0</td>\n",
       "      <td>0</td>\n",
       "      <td>1</td>\n",
       "      <td>0</td>\n",
       "      <td>0</td>\n",
       "      <td>0</td>\n",
       "      <td>0</td>\n",
       "      <td>1</td>\n",
       "      <td>1</td>\n",
       "      <td>0</td>\n",
       "      <td>0</td>\n",
       "      <td>1</td>\n",
       "      <td>0</td>\n",
       "      <td>0</td>\n",
       "      <td>0</td>\n",
       "      <td>0</td>\n",
       "      <td>0</td>\n",
       "    </tr>\n",
       "    <tr>\n",
       "      <th>3</th>\n",
       "      <td>0</td>\n",
       "      <td>0</td>\n",
       "      <td>0</td>\n",
       "      <td>1</td>\n",
       "      <td>0</td>\n",
       "      <td>1</td>\n",
       "      <td>0</td>\n",
       "      <td>0</td>\n",
       "      <td>1</td>\n",
       "      <td>1</td>\n",
       "      <td>0</td>\n",
       "      <td>1</td>\n",
       "      <td>1</td>\n",
       "      <td>0</td>\n",
       "      <td>0</td>\n",
       "      <td>0</td>\n",
       "      <td>0</td>\n",
       "    </tr>\n",
       "    <tr>\n",
       "      <th>4</th>\n",
       "      <td>0</td>\n",
       "      <td>2</td>\n",
       "      <td>1</td>\n",
       "      <td>0</td>\n",
       "      <td>0</td>\n",
       "      <td>0</td>\n",
       "      <td>0</td>\n",
       "      <td>0</td>\n",
       "      <td>1</td>\n",
       "      <td>0</td>\n",
       "      <td>0</td>\n",
       "      <td>1</td>\n",
       "      <td>0</td>\n",
       "      <td>0</td>\n",
       "      <td>1</td>\n",
       "      <td>0</td>\n",
       "      <td>0</td>\n",
       "    </tr>\n",
       "  </tbody>\n",
       "</table>\n",
       "</div>"
      ],
      "text/plain": [
       "   SibSp  Parch  Teenage  Adult  Elder  Median_Fare  Average_Fare  High_Fare  \\\n",
       "0      0      0        1      0      0            0             1          0   \n",
       "1      0      0        0      0      1            1             0          0   \n",
       "2      0      0        1      0      0            0             0          1   \n",
       "3      0      0        0      1      0            1             0          0   \n",
       "4      0      2        1      0      0            0             0          0   \n",
       "\n",
       "   Has_Ticket  male  Q  S  2  3  Median_Family  Average_Family  Big_Family  \n",
       "0           1     1  0  1  0  1              0               0           0  \n",
       "1           1     0  0  1  0  1              0               0           0  \n",
       "2           1     0  0  1  0  0              0               0           0  \n",
       "3           1     1  0  1  1  0              0               0           0  \n",
       "4           1     0  0  1  0  0              1               0           0  "
      ]
     },
     "execution_count": 92,
     "metadata": {},
     "output_type": "execute_result"
    }
   ],
   "source": [
    "org_test_data.head()"
   ]
  },
  {
   "cell_type": "code",
   "execution_count": 93,
   "metadata": {},
   "outputs": [],
   "source": [
    "y_pred = ann_model.predict_classes(org_test_data)"
   ]
  },
  {
   "cell_type": "code",
   "execution_count": 94,
   "metadata": {},
   "outputs": [
    {
     "data": {
      "text/plain": [
       "array([[0],\n",
       "       [0],\n",
       "       [1],\n",
       "       ...,\n",
       "       [0],\n",
       "       [1],\n",
       "       [1]], dtype=int32)"
      ]
     },
     "execution_count": 94,
     "metadata": {},
     "output_type": "execute_result"
    }
   ],
   "source": [
    "y_pred"
   ]
  },
  {
   "cell_type": "code",
   "execution_count": 95,
   "metadata": {},
   "outputs": [
    {
     "data": {
      "text/plain": [
       "0    100000\n",
       "1    100001\n",
       "2    100002\n",
       "3    100003\n",
       "4    100004\n",
       "Name: PassengerId, dtype: int64"
      ]
     },
     "execution_count": 95,
     "metadata": {},
     "output_type": "execute_result"
    }
   ],
   "source": [
    "org_test_pssg_id.head()"
   ]
  },
  {
   "cell_type": "code",
   "execution_count": 96,
   "metadata": {},
   "outputs": [],
   "source": [
    "submission = pd.read_csv(\"data/Tabular Playground Series - Apr 2021/sample_submission.csv\")"
   ]
  },
  {
   "cell_type": "code",
   "execution_count": 97,
   "metadata": {},
   "outputs": [
    {
     "data": {
      "text/html": [
       "<div>\n",
       "<style scoped>\n",
       "    .dataframe tbody tr th:only-of-type {\n",
       "        vertical-align: middle;\n",
       "    }\n",
       "\n",
       "    .dataframe tbody tr th {\n",
       "        vertical-align: top;\n",
       "    }\n",
       "\n",
       "    .dataframe thead th {\n",
       "        text-align: right;\n",
       "    }\n",
       "</style>\n",
       "<table border=\"1\" class=\"dataframe\">\n",
       "  <thead>\n",
       "    <tr style=\"text-align: right;\">\n",
       "      <th></th>\n",
       "      <th>PassengerId</th>\n",
       "      <th>Survived</th>\n",
       "    </tr>\n",
       "  </thead>\n",
       "  <tbody>\n",
       "    <tr>\n",
       "      <th>0</th>\n",
       "      <td>100000</td>\n",
       "      <td>1</td>\n",
       "    </tr>\n",
       "    <tr>\n",
       "      <th>1</th>\n",
       "      <td>100001</td>\n",
       "      <td>1</td>\n",
       "    </tr>\n",
       "    <tr>\n",
       "      <th>2</th>\n",
       "      <td>100002</td>\n",
       "      <td>1</td>\n",
       "    </tr>\n",
       "    <tr>\n",
       "      <th>3</th>\n",
       "      <td>100003</td>\n",
       "      <td>1</td>\n",
       "    </tr>\n",
       "    <tr>\n",
       "      <th>4</th>\n",
       "      <td>100004</td>\n",
       "      <td>1</td>\n",
       "    </tr>\n",
       "  </tbody>\n",
       "</table>\n",
       "</div>"
      ],
      "text/plain": [
       "   PassengerId  Survived\n",
       "0       100000         1\n",
       "1       100001         1\n",
       "2       100002         1\n",
       "3       100003         1\n",
       "4       100004         1"
      ]
     },
     "execution_count": 97,
     "metadata": {},
     "output_type": "execute_result"
    }
   ],
   "source": [
    "submission.head()"
   ]
  },
  {
   "cell_type": "code",
   "execution_count": 98,
   "metadata": {},
   "outputs": [],
   "source": [
    "export_df = pd.DataFrame()\n",
    "export_df[\"PassengerId\"] = org_test_pssg_id\n",
    "export_df[\"Survived\"] = y_pred\n",
    "export_df.to_csv(\"data/Tabular Playground Series - Apr 2021/my_submission.csv\", index=False)"
   ]
  },
  {
   "cell_type": "code",
   "execution_count": 99,
   "metadata": {},
   "outputs": [
    {
     "data": {
      "text/html": [
       "<div>\n",
       "<style scoped>\n",
       "    .dataframe tbody tr th:only-of-type {\n",
       "        vertical-align: middle;\n",
       "    }\n",
       "\n",
       "    .dataframe tbody tr th {\n",
       "        vertical-align: top;\n",
       "    }\n",
       "\n",
       "    .dataframe thead th {\n",
       "        text-align: right;\n",
       "    }\n",
       "</style>\n",
       "<table border=\"1\" class=\"dataframe\">\n",
       "  <thead>\n",
       "    <tr style=\"text-align: right;\">\n",
       "      <th></th>\n",
       "      <th>PassengerId</th>\n",
       "      <th>Survived</th>\n",
       "    </tr>\n",
       "  </thead>\n",
       "  <tbody>\n",
       "    <tr>\n",
       "      <th>0</th>\n",
       "      <td>100000</td>\n",
       "      <td>0</td>\n",
       "    </tr>\n",
       "    <tr>\n",
       "      <th>1</th>\n",
       "      <td>100001</td>\n",
       "      <td>0</td>\n",
       "    </tr>\n",
       "    <tr>\n",
       "      <th>2</th>\n",
       "      <td>100002</td>\n",
       "      <td>1</td>\n",
       "    </tr>\n",
       "    <tr>\n",
       "      <th>3</th>\n",
       "      <td>100003</td>\n",
       "      <td>0</td>\n",
       "    </tr>\n",
       "    <tr>\n",
       "      <th>4</th>\n",
       "      <td>100004</td>\n",
       "      <td>1</td>\n",
       "    </tr>\n",
       "    <tr>\n",
       "      <th>5</th>\n",
       "      <td>100005</td>\n",
       "      <td>0</td>\n",
       "    </tr>\n",
       "    <tr>\n",
       "      <th>6</th>\n",
       "      <td>100006</td>\n",
       "      <td>1</td>\n",
       "    </tr>\n",
       "    <tr>\n",
       "      <th>7</th>\n",
       "      <td>100007</td>\n",
       "      <td>0</td>\n",
       "    </tr>\n",
       "    <tr>\n",
       "      <th>8</th>\n",
       "      <td>100008</td>\n",
       "      <td>1</td>\n",
       "    </tr>\n",
       "    <tr>\n",
       "      <th>9</th>\n",
       "      <td>100009</td>\n",
       "      <td>0</td>\n",
       "    </tr>\n",
       "    <tr>\n",
       "      <th>10</th>\n",
       "      <td>100010</td>\n",
       "      <td>0</td>\n",
       "    </tr>\n",
       "    <tr>\n",
       "      <th>11</th>\n",
       "      <td>100011</td>\n",
       "      <td>0</td>\n",
       "    </tr>\n",
       "    <tr>\n",
       "      <th>12</th>\n",
       "      <td>100012</td>\n",
       "      <td>0</td>\n",
       "    </tr>\n",
       "    <tr>\n",
       "      <th>13</th>\n",
       "      <td>100013</td>\n",
       "      <td>0</td>\n",
       "    </tr>\n",
       "    <tr>\n",
       "      <th>14</th>\n",
       "      <td>100014</td>\n",
       "      <td>0</td>\n",
       "    </tr>\n",
       "    <tr>\n",
       "      <th>15</th>\n",
       "      <td>100015</td>\n",
       "      <td>0</td>\n",
       "    </tr>\n",
       "    <tr>\n",
       "      <th>16</th>\n",
       "      <td>100016</td>\n",
       "      <td>0</td>\n",
       "    </tr>\n",
       "    <tr>\n",
       "      <th>17</th>\n",
       "      <td>100017</td>\n",
       "      <td>0</td>\n",
       "    </tr>\n",
       "    <tr>\n",
       "      <th>18</th>\n",
       "      <td>100018</td>\n",
       "      <td>0</td>\n",
       "    </tr>\n",
       "    <tr>\n",
       "      <th>19</th>\n",
       "      <td>100019</td>\n",
       "      <td>1</td>\n",
       "    </tr>\n",
       "    <tr>\n",
       "      <th>20</th>\n",
       "      <td>100020</td>\n",
       "      <td>0</td>\n",
       "    </tr>\n",
       "    <tr>\n",
       "      <th>21</th>\n",
       "      <td>100021</td>\n",
       "      <td>0</td>\n",
       "    </tr>\n",
       "    <tr>\n",
       "      <th>22</th>\n",
       "      <td>100022</td>\n",
       "      <td>0</td>\n",
       "    </tr>\n",
       "    <tr>\n",
       "      <th>23</th>\n",
       "      <td>100023</td>\n",
       "      <td>0</td>\n",
       "    </tr>\n",
       "    <tr>\n",
       "      <th>24</th>\n",
       "      <td>100024</td>\n",
       "      <td>0</td>\n",
       "    </tr>\n",
       "    <tr>\n",
       "      <th>25</th>\n",
       "      <td>100025</td>\n",
       "      <td>0</td>\n",
       "    </tr>\n",
       "    <tr>\n",
       "      <th>26</th>\n",
       "      <td>100026</td>\n",
       "      <td>1</td>\n",
       "    </tr>\n",
       "    <tr>\n",
       "      <th>27</th>\n",
       "      <td>100027</td>\n",
       "      <td>1</td>\n",
       "    </tr>\n",
       "    <tr>\n",
       "      <th>28</th>\n",
       "      <td>100028</td>\n",
       "      <td>0</td>\n",
       "    </tr>\n",
       "    <tr>\n",
       "      <th>29</th>\n",
       "      <td>100029</td>\n",
       "      <td>1</td>\n",
       "    </tr>\n",
       "    <tr>\n",
       "      <th>...</th>\n",
       "      <td>...</td>\n",
       "      <td>...</td>\n",
       "    </tr>\n",
       "    <tr>\n",
       "      <th>99970</th>\n",
       "      <td>199970</td>\n",
       "      <td>0</td>\n",
       "    </tr>\n",
       "    <tr>\n",
       "      <th>99971</th>\n",
       "      <td>199971</td>\n",
       "      <td>0</td>\n",
       "    </tr>\n",
       "    <tr>\n",
       "      <th>99972</th>\n",
       "      <td>199972</td>\n",
       "      <td>0</td>\n",
       "    </tr>\n",
       "    <tr>\n",
       "      <th>99973</th>\n",
       "      <td>199973</td>\n",
       "      <td>1</td>\n",
       "    </tr>\n",
       "    <tr>\n",
       "      <th>99974</th>\n",
       "      <td>199974</td>\n",
       "      <td>0</td>\n",
       "    </tr>\n",
       "    <tr>\n",
       "      <th>99975</th>\n",
       "      <td>199975</td>\n",
       "      <td>0</td>\n",
       "    </tr>\n",
       "    <tr>\n",
       "      <th>99976</th>\n",
       "      <td>199976</td>\n",
       "      <td>0</td>\n",
       "    </tr>\n",
       "    <tr>\n",
       "      <th>99977</th>\n",
       "      <td>199977</td>\n",
       "      <td>0</td>\n",
       "    </tr>\n",
       "    <tr>\n",
       "      <th>99978</th>\n",
       "      <td>199978</td>\n",
       "      <td>0</td>\n",
       "    </tr>\n",
       "    <tr>\n",
       "      <th>99979</th>\n",
       "      <td>199979</td>\n",
       "      <td>1</td>\n",
       "    </tr>\n",
       "    <tr>\n",
       "      <th>99980</th>\n",
       "      <td>199980</td>\n",
       "      <td>0</td>\n",
       "    </tr>\n",
       "    <tr>\n",
       "      <th>99981</th>\n",
       "      <td>199981</td>\n",
       "      <td>0</td>\n",
       "    </tr>\n",
       "    <tr>\n",
       "      <th>99982</th>\n",
       "      <td>199982</td>\n",
       "      <td>0</td>\n",
       "    </tr>\n",
       "    <tr>\n",
       "      <th>99983</th>\n",
       "      <td>199983</td>\n",
       "      <td>0</td>\n",
       "    </tr>\n",
       "    <tr>\n",
       "      <th>99984</th>\n",
       "      <td>199984</td>\n",
       "      <td>0</td>\n",
       "    </tr>\n",
       "    <tr>\n",
       "      <th>99985</th>\n",
       "      <td>199985</td>\n",
       "      <td>0</td>\n",
       "    </tr>\n",
       "    <tr>\n",
       "      <th>99986</th>\n",
       "      <td>199986</td>\n",
       "      <td>0</td>\n",
       "    </tr>\n",
       "    <tr>\n",
       "      <th>99987</th>\n",
       "      <td>199987</td>\n",
       "      <td>1</td>\n",
       "    </tr>\n",
       "    <tr>\n",
       "      <th>99988</th>\n",
       "      <td>199988</td>\n",
       "      <td>0</td>\n",
       "    </tr>\n",
       "    <tr>\n",
       "      <th>99989</th>\n",
       "      <td>199989</td>\n",
       "      <td>1</td>\n",
       "    </tr>\n",
       "    <tr>\n",
       "      <th>99990</th>\n",
       "      <td>199990</td>\n",
       "      <td>0</td>\n",
       "    </tr>\n",
       "    <tr>\n",
       "      <th>99991</th>\n",
       "      <td>199991</td>\n",
       "      <td>1</td>\n",
       "    </tr>\n",
       "    <tr>\n",
       "      <th>99992</th>\n",
       "      <td>199992</td>\n",
       "      <td>0</td>\n",
       "    </tr>\n",
       "    <tr>\n",
       "      <th>99993</th>\n",
       "      <td>199993</td>\n",
       "      <td>0</td>\n",
       "    </tr>\n",
       "    <tr>\n",
       "      <th>99994</th>\n",
       "      <td>199994</td>\n",
       "      <td>1</td>\n",
       "    </tr>\n",
       "    <tr>\n",
       "      <th>99995</th>\n",
       "      <td>199995</td>\n",
       "      <td>1</td>\n",
       "    </tr>\n",
       "    <tr>\n",
       "      <th>99996</th>\n",
       "      <td>199996</td>\n",
       "      <td>0</td>\n",
       "    </tr>\n",
       "    <tr>\n",
       "      <th>99997</th>\n",
       "      <td>199997</td>\n",
       "      <td>0</td>\n",
       "    </tr>\n",
       "    <tr>\n",
       "      <th>99998</th>\n",
       "      <td>199998</td>\n",
       "      <td>1</td>\n",
       "    </tr>\n",
       "    <tr>\n",
       "      <th>99999</th>\n",
       "      <td>199999</td>\n",
       "      <td>1</td>\n",
       "    </tr>\n",
       "  </tbody>\n",
       "</table>\n",
       "<p>100000 rows × 2 columns</p>\n",
       "</div>"
      ],
      "text/plain": [
       "       PassengerId  Survived\n",
       "0           100000         0\n",
       "1           100001         0\n",
       "2           100002         1\n",
       "3           100003         0\n",
       "4           100004         1\n",
       "5           100005         0\n",
       "6           100006         1\n",
       "7           100007         0\n",
       "8           100008         1\n",
       "9           100009         0\n",
       "10          100010         0\n",
       "11          100011         0\n",
       "12          100012         0\n",
       "13          100013         0\n",
       "14          100014         0\n",
       "15          100015         0\n",
       "16          100016         0\n",
       "17          100017         0\n",
       "18          100018         0\n",
       "19          100019         1\n",
       "20          100020         0\n",
       "21          100021         0\n",
       "22          100022         0\n",
       "23          100023         0\n",
       "24          100024         0\n",
       "25          100025         0\n",
       "26          100026         1\n",
       "27          100027         1\n",
       "28          100028         0\n",
       "29          100029         1\n",
       "...            ...       ...\n",
       "99970       199970         0\n",
       "99971       199971         0\n",
       "99972       199972         0\n",
       "99973       199973         1\n",
       "99974       199974         0\n",
       "99975       199975         0\n",
       "99976       199976         0\n",
       "99977       199977         0\n",
       "99978       199978         0\n",
       "99979       199979         1\n",
       "99980       199980         0\n",
       "99981       199981         0\n",
       "99982       199982         0\n",
       "99983       199983         0\n",
       "99984       199984         0\n",
       "99985       199985         0\n",
       "99986       199986         0\n",
       "99987       199987         1\n",
       "99988       199988         0\n",
       "99989       199989         1\n",
       "99990       199990         0\n",
       "99991       199991         1\n",
       "99992       199992         0\n",
       "99993       199993         0\n",
       "99994       199994         1\n",
       "99995       199995         1\n",
       "99996       199996         0\n",
       "99997       199997         0\n",
       "99998       199998         1\n",
       "99999       199999         1\n",
       "\n",
       "[100000 rows x 2 columns]"
      ]
     },
     "execution_count": 99,
     "metadata": {},
     "output_type": "execute_result"
    }
   ],
   "source": [
    "export_df"
   ]
  }
 ],
 "metadata": {
  "colab": {
   "collapsed_sections": [],
   "name": "Tabular Playground Series - Apr 2021.ipynb",
   "provenance": []
  },
  "kernelspec": {
   "display_name": "Python 3",
   "language": "python",
   "name": "python3"
  },
  "language_info": {
   "codemirror_mode": {
    "name": "ipython",
    "version": 3
   },
   "file_extension": ".py",
   "mimetype": "text/x-python",
   "name": "python",
   "nbconvert_exporter": "python",
   "pygments_lexer": "ipython3",
   "version": "3.5.6"
  }
 },
 "nbformat": 4,
 "nbformat_minor": 1
}
