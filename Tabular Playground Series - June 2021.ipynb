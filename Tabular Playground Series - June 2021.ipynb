{
 "nbformat": 4,
 "nbformat_minor": 0,
 "metadata": {
  "colab": {
   "name": "Tabular Playground Series - June 2021.ipynb",
   "provenance": [],
   "collapsed_sections": []
  },
  "kernelspec": {
   "name": "python3",
   "display_name": "Python 3"
  },
  "language_info": {
   "name": "python"
  }
 },
 "cells": [
  {
   "cell_type": "code",
   "metadata": {
    "colab": {
     "base_uri": "https://localhost:8080/"
    },
    "id": "Q7tlnAQ3wX_R",
    "outputId": "93580b2c-b873-412d-cd0f-b4105e5bf8da"
   },
   "source": [
    "!pip install tensorflow_decision_forests --upgrade\n"
   ],
   "execution_count": null,
   "outputs": []
  },
  {
   "cell_type": "code",
   "metadata": {
    "colab": {
     "base_uri": "https://localhost:8080/"
    },
    "id": "9Q7NtH81wh1P",
    "outputId": "576adf6c-dd29-4e7d-ca61-4a45d247db62"
   },
   "source": [
    "!pip install tensorflow==2.5.0\n"
   ],
   "execution_count": null,
   "outputs": []
  },
  {
   "cell_type": "code",
   "metadata": {
    "id": "hBJ1i4uAwjdu"
   },
   "source": [
    "!pip install -q wurlitzer\n"
   ],
   "execution_count": null,
   "outputs": []
  },
  {
   "cell_type": "code",
   "metadata": {
    "id": "wz0H_T3Kwsez"
   },
   "source": [
    "import numpy as np\n",
    "import pandas as pd\n",
    "import tensorflow as tf\n",
    "import tensorflow_decision_forests as tfdf\n",
    "from sklearn.model_selection import train_test_split"
   ],
   "execution_count": null,
   "outputs": []
  },
  {
   "cell_type": "code",
   "metadata": {
    "colab": {
     "base_uri": "https://localhost:8080/",
     "height": 224
    },
    "id": "WpQejT8owv_o",
    "outputId": "f0de075f-5c2d-440f-d8a7-24c07f720e19"
   },
   "source": [
    "train = pd.read_csv(\"/content/sample_data/train.csv\")\n",
    "train.head()"
   ],
   "execution_count": null,
   "outputs": []
  },
  {
   "cell_type": "code",
   "metadata": {
    "colab": {
     "base_uri": "https://localhost:8080/",
     "height": 224
    },
    "id": "nnhRf-JFw42n",
    "outputId": "b86e6b66-903e-45a2-db3d-58d97ce9b93a"
   },
   "source": [
    "test = pd.read_csv(\"/content/sample_data/test.csv\")\n",
    "test.head()"
   ],
   "execution_count": null,
   "outputs": []
  },
  {
   "cell_type": "code",
   "metadata": {
    "colab": {
     "base_uri": "https://localhost:8080/",
     "height": 204
    },
    "id": "vWVoDvG6xBqd",
    "outputId": "d0ab014e-1767-4d1a-8412-d4ed254cc1e6"
   },
   "source": [
    "sample_submission = pd.read_csv(\"/content/sample_data/sample_submission.csv\")\n",
    "sample_submission.head()"
   ],
   "execution_count": null,
   "outputs": []
  },
  {
   "cell_type": "code",
   "metadata": {
    "id": "Cjdea9EzxJcE"
   },
   "source": [
    "train.drop(\"id\", axis=1, inplace=True)\n",
    "test.drop(\"id\", axis=1, inplace=True)"
   ],
   "execution_count": null,
   "outputs": []
  },
  {
   "cell_type": "code",
   "metadata": {
    "id": "IoAOEnT6xMmc"
   },
   "source": [
    "train_copy = train.copy()"
   ],
   "execution_count": null,
   "outputs": []
  },
  {
   "cell_type": "code",
   "metadata": {
    "id": "avv-K0vyxPMi"
   },
   "source": [
    "train.drop(\"target\", axis=1, inplace=True)"
   ],
   "execution_count": null,
   "outputs": []
  },
  {
   "cell_type": "code",
   "metadata": {
    "colab": {
     "base_uri": "https://localhost:8080/",
     "height": 224
    },
    "id": "3XvUf1SzxR-Q",
    "outputId": "a5bf2d3f-ebfc-44ac-8613-54b1f11d6e11"
   },
   "source": [
    "data = pd.concat([train, test], axis=0)\n",
    "data.head()"
   ],
   "execution_count": null,
   "outputs": []
  },
  {
   "cell_type": "code",
   "metadata": {
    "colab": {
     "base_uri": "https://localhost:8080/"
    },
    "id": "B0Z5T91Key0p",
    "outputId": "f1989848-96e2-4ff9-efb5-88e6bc9bdf3e"
   },
   "source": [
    "test.shape"
   ],
   "execution_count": null,
   "outputs": []
  },
  {
   "cell_type": "code",
   "metadata": {
    "id": "SYbsMy1IyM0p"
   },
   "source": [
    "train = data[:200000]\n",
    "test = data[200000:]"
   ],
   "execution_count": null,
   "outputs": []
  },
  {
   "cell_type": "code",
   "metadata": {
    "colab": {
     "base_uri": "https://localhost:8080/",
     "height": 224
    },
    "id": "p8WDk6kYyPvG",
    "outputId": "260b6ea7-0608-42f9-ad53-98d07f956d9b"
   },
   "source": [
    "train = pd.concat([train, train_copy[\"target\"]], axis=1)\n",
    "train.head()"
   ],
   "execution_count": null,
   "outputs": []
  },
  {
   "cell_type": "code",
   "metadata": {
    "colab": {
     "base_uri": "https://localhost:8080/"
    },
    "id": "spphFzUj41-l",
    "outputId": "aab45488-cbd1-4813-c742-54a572c90cec"
   },
   "source": [
    "train.shape"
   ],
   "execution_count": null,
   "outputs": []
  },
  {
   "cell_type": "code",
   "metadata": {
    "id": "twm8s0M34xPh"
   },
   "source": [
    "train.drop_duplicates(inplace=True)"
   ],
   "execution_count": null,
   "outputs": []
  },
  {
   "cell_type": "code",
   "metadata": {
    "colab": {
     "base_uri": "https://localhost:8080/"
    },
    "id": "XdsVA6Ny4_WL",
    "outputId": "198c3a69-1460-4e95-eda9-b902a910f0bb"
   },
   "source": [
    "train.shape"
   ],
   "execution_count": null,
   "outputs": []
  },
  {
   "cell_type": "code",
   "metadata": {
    "id": "RbnipKznybfH"
   },
   "source": [
    "# train.replace({'Class_1': 0, 'Class_2': 1, 'Class_3':2, 'Class_4': 3}, inplace = True)\n",
    "train.replace(\n",
    "    {\n",
    "        \"Class_1\": 0,\n",
    "        \"Class_2\": 1,\n",
    "        \"Class_3\": 2,\n",
    "        \"Class_4\": 3,\n",
    "        \"Class_5\": 4,\n",
    "        \"Class_6\": 5,\n",
    "        \"Class_7\": 6,\n",
    "        \"Class_8\": 7,\n",
    "        \"Class_9\": 8,\n",
    "    },\n",
    "    inplace=True,\n",
    ")"
   ],
   "execution_count": null,
   "outputs": []
  },
  {
   "cell_type": "code",
   "metadata": {
    "colab": {
     "base_uri": "https://localhost:8080/",
     "height": 224
    },
    "id": "udRvt52xyeqT",
    "outputId": "d2fa4e59-b5ea-4284-996b-37fbe4974f71"
   },
   "source": [
    "train.head()"
   ],
   "execution_count": null,
   "outputs": []
  },
  {
   "cell_type": "code",
   "metadata": {
    "id": "6L7ez6iTziFD"
   },
   "source": [
    "train_df = train[0:180000]\n",
    "eval_df = train[180000:]"
   ],
   "execution_count": null,
   "outputs": []
  },
  {
   "cell_type": "code",
   "metadata": {
    "id": "2TcjObR4zkqv"
   },
   "source": [
    "train_ds = tfdf.keras.pd_dataframe_to_tf_dataset(train_df, label=\"target\")"
   ],
   "execution_count": null,
   "outputs": []
  },
  {
   "cell_type": "code",
   "metadata": {
    "id": "DGcQBX0gzoJ1"
   },
   "source": [
    "eval_ds = tfdf.keras.pd_dataframe_to_tf_dataset(eval_df, label=\"target\")"
   ],
   "execution_count": null,
   "outputs": []
  },
  {
   "cell_type": "code",
   "metadata": {
    "id": "1Hz5cIz6zs3P"
   },
   "source": [
    "test_ds = tfdf.keras.pd_dataframe_to_tf_dataset(test, label=None)"
   ],
   "execution_count": null,
   "outputs": []
  },
  {
   "cell_type": "code",
   "metadata": {
    "id": "uwhiutpzzwE7"
   },
   "source": [
    "model = tfdf.keras.GradientBoostedTreesModel(\n",
    "    num_trees=100,\n",
    "    growing_strategy=\"BEST_FIRST_GLOBAL\",\n",
    "    max_depth=8,\n",
    "    hyperparameter_template=\"benchmark_rank1\",\n",
    ")"
   ],
   "execution_count": null,
   "outputs": []
  },
  {
   "cell_type": "code",
   "metadata": {
    "id": "PJrEfkzBzzS2"
   },
   "source": [
    "model.compile(metrics=[\"accuracy\"])"
   ],
   "execution_count": null,
   "outputs": []
  },
  {
   "cell_type": "code",
   "metadata": {
    "colab": {
     "base_uri": "https://localhost:8080/"
    },
    "id": "wLwcPzDJz3FC",
    "outputId": "bd5a0b58-cbc3-476f-e732-55c8fe6db8f5"
   },
   "source": [
    "model.fit(train_ds)"
   ],
   "execution_count": null,
   "outputs": []
  },
  {
   "cell_type": "code",
   "metadata": {
    "colab": {
     "base_uri": "https://localhost:8080/"
    },
    "id": "0gEN7LAC37JG",
    "outputId": "e9f7ff9e-bea9-47fb-e14c-65a23b82088b"
   },
   "source": [
    "model.evaluate(eval_ds)"
   ],
   "execution_count": null,
   "outputs": []
  },
  {
   "cell_type": "code",
   "metadata": {
    "colab": {
     "base_uri": "https://localhost:8080/"
    },
    "id": "dYzMMEjM3_is",
    "outputId": "aa85cd67-3cb4-46ea-b7b8-2802bad6474e"
   },
   "source": [
    "model.summary()"
   ],
   "execution_count": null,
   "outputs": []
  },
  {
   "cell_type": "code",
   "metadata": {
    "colab": {
     "base_uri": "https://localhost:8080/"
    },
    "id": "3g8AZGEz4M34",
    "outputId": "dd962815-c186-44bc-8e72-29f065bc6c63"
   },
   "source": [
    "model.save(\"TPD_JUNE_2021_1\")"
   ],
   "execution_count": null,
   "outputs": []
  },
  {
   "cell_type": "code",
   "metadata": {
    "colab": {
     "base_uri": "https://localhost:8080/"
    },
    "id": "oGeI3PHC4SSO",
    "outputId": "93967cf7-4dca-4d29-8d52-39b92b81594b"
   },
   "source": [
    "model.make_inspector().training_logs()"
   ],
   "execution_count": null,
   "outputs": []
  },
  {
   "cell_type": "code",
   "metadata": {
    "colab": {
     "base_uri": "https://localhost:8080/",
     "height": 279
    },
    "id": "Kp2D5aWE4ZND",
    "outputId": "3075cc95-3a56-4202-e2ac-fb56ef8f006a"
   },
   "source": [
    "import matplotlib.pyplot as plt\n",
    "\n",
    "logs = model.make_inspector().training_logs()\n",
    "\n",
    "plt.figure(figsize=(12, 4))\n",
    "\n",
    "plt.subplot(1, 2, 1)\n",
    "plt.plot([log.num_trees for log in logs], [log.evaluation.accuracy for log in logs])\n",
    "plt.xlabel(\"Number of trees\")\n",
    "plt.ylabel(\"Accuracy (out-of-bag)\")\n",
    "\n",
    "plt.subplot(1, 2, 2)\n",
    "plt.plot([log.num_trees for log in logs], [log.evaluation.loss for log in logs])\n",
    "plt.xlabel(\"Number of trees\")\n",
    "plt.ylabel(\"Logloss (out-of-bag)\")\n",
    "\n",
    "plt.show()"
   ],
   "execution_count": null,
   "outputs": []
  },
  {
   "cell_type": "code",
   "metadata": {
    "id": "zLMNKK0A5uq1"
   },
   "source": [
    "y_pred = model.predict(test_ds)"
   ],
   "execution_count": null,
   "outputs": []
  },
  {
   "cell_type": "code",
   "metadata": {
    "id": "VHTwKBe6502X"
   },
   "source": [
    "sample_submission.iloc[:, 1:10] = y_pred\n",
    "sample_submission"
   ],
   "execution_count": null,
   "outputs": []
  },
  {
   "cell_type": "code",
   "metadata": {
    "id": "oPjBBN0p57l2"
   },
   "source": [
    "sample_submission.to_csv(\"/content/sample_data/submission_df.csv\", index=False)"
   ],
   "execution_count": null,
   "outputs": []
  }
 ]
}
