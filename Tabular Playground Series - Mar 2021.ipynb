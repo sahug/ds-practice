{
 "cells": [
  {
   "cell_type": "code",
   "execution_count": null,
   "metadata": {},
   "outputs": [],
   "source": [
    "import numpy as np\n",
    "import pandas as pd\n",
    "import matplotlib.pyplot as plt\n",
    "%matplotlib inline\n",
    "from sklearn import metrics"
   ]
  },
  {
   "cell_type": "code",
   "execution_count": null,
   "metadata": {},
   "outputs": [],
   "source": [
    "org_test_data = pd.read_csv(\"data/Tabular Playground Series - Mar 2021/test.csv\")"
   ]
  },
  {
   "cell_type": "code",
   "execution_count": null,
   "metadata": {},
   "outputs": [],
   "source": [
    "org_test_data.head(20)"
   ]
  },
  {
   "cell_type": "code",
   "execution_count": null,
   "metadata": {},
   "outputs": [],
   "source": [
    "org_train_data = pd.read_csv(\"data/Tabular Playground Series - Mar 2021/train.csv\")"
   ]
  },
  {
   "cell_type": "code",
   "execution_count": null,
   "metadata": {},
   "outputs": [],
   "source": [
    "org_train_data.head(20)"
   ]
  },
  {
   "cell_type": "code",
   "execution_count": null,
   "metadata": {},
   "outputs": [],
   "source": [
    "org_train_data.info()"
   ]
  },
  {
   "cell_type": "code",
   "execution_count": null,
   "metadata": {},
   "outputs": [],
   "source": [
    "# Check for null\n",
    "org_train_data.isnull().sum()"
   ]
  },
  {
   "cell_type": "code",
   "execution_count": null,
   "metadata": {},
   "outputs": [],
   "source": [
    "# Get all columns with float values. Exclude Strings to plot histogram.\n",
    "feature_list_num = [\n",
    "    \"cont0\",\n",
    "    \"cont1\",\n",
    "    \"cont2\",\n",
    "    \"cont3\",\n",
    "    \"cont4\",\n",
    "    \"cont5\",\n",
    "    \"cont6\",\n",
    "    \"cont7\",\n",
    "    \"cont8\",\n",
    "    \"cont9\",\n",
    "    \"cont10\",\n",
    "]\n",
    "feature_list_num"
   ]
  },
  {
   "cell_type": "code",
   "execution_count": null,
   "metadata": {},
   "outputs": [],
   "source": [
    "feature_list_cat = [\n",
    "    \"cat0\",\n",
    "    \"cat1\",\n",
    "    \"cat2\",\n",
    "    \"cat3\",\n",
    "    \"cat4\",\n",
    "    \"cat5\",\n",
    "    \"cat6\",\n",
    "    \"cat7\",\n",
    "    \"cat8\",\n",
    "    \"cat9\",\n",
    "    \"cat10\",\n",
    "    \"cat11\",\n",
    "    \"cat12\",\n",
    "    \"cat13\",\n",
    "    \"cat14\",\n",
    "    \"cat15\",\n",
    "    \"cat16\",\n",
    "    \"cat17\",\n",
    "    \"cat18\",\n",
    "]\n",
    "feature_list_cat"
   ]
  },
  {
   "cell_type": "code",
   "execution_count": null,
   "metadata": {},
   "outputs": [],
   "source": [
    "# Histogram for each numeric feature\n",
    "\n",
    "fig, axs = plt.subplots(5, 3)\n",
    "fig.set_size_inches(8, 8)\n",
    "fig.tight_layout(rect=[0, 0.03, 1, 0.95])\n",
    "\n",
    "axs[0, 0].hist(org_train_data[feature_list_num[0]], bins=100)  # First histogram at 0x0\n",
    "axs[0, 0].set_title(feature_list_num[0])\n",
    "\n",
    "axs[0, 1].hist(org_train_data[feature_list_num[1]], bins=100)  # Second histogram at 0x1\n",
    "axs[0, 1].set_title(feature_list_num[1])\n",
    "\n",
    "axs[0, 2].hist(org_train_data[feature_list_num[2]], bins=100)\n",
    "axs[0, 2].set_title(feature_list_num[2])\n",
    "\n",
    "axs[1, 0].hist(org_train_data[feature_list_num[3]], bins=100)\n",
    "axs[1, 0].set_title(feature_list_num[3])\n",
    "\n",
    "axs[1, 1].hist(org_train_data[feature_list_num[4]], bins=100)\n",
    "axs[1, 1].set_title(feature_list_num[4])\n",
    "\n",
    "axs[1, 2].hist(org_train_data[feature_list_num[5]], bins=100)\n",
    "axs[1, 2].set_title(feature_list_num[5])\n",
    "\n",
    "axs[2, 0].hist(org_train_data[feature_list_num[6]], bins=100)\n",
    "axs[2, 0].set_title(feature_list_num[6])\n",
    "\n",
    "axs[2, 1].hist(org_train_data[feature_list_num[7]], bins=100)\n",
    "axs[2, 1].set_title(feature_list_num[7])\n",
    "\n",
    "axs[2, 2].hist(org_train_data[feature_list_num[8]], bins=100)\n",
    "axs[2, 2].set_title(feature_list_num[8])\n",
    "\n",
    "axs[3, 0].hist(org_train_data[feature_list_num[9]], bins=100)\n",
    "axs[3, 0].set_title(feature_list_num[9])\n",
    "\n",
    "axs[3, 1].hist(org_train_data[feature_list_num[10]], bins=100)\n",
    "axs[3, 1].set_title(feature_list_num[10])\n",
    "\n",
    "# Hide x labels and tick labels for top plots and y ticks for right plots.\n",
    "for ax in axs.flat:\n",
    "    ax.label_outer()\n",
    "\n",
    "plt.suptitle(\"Histograms of Numerical Features\", size=14)"
   ]
  },
  {
   "cell_type": "code",
   "execution_count": null,
   "metadata": {},
   "outputs": [],
   "source": [
    "import seaborn as sns"
   ]
  },
  {
   "cell_type": "code",
   "execution_count": null,
   "metadata": {},
   "outputs": [],
   "source": [
    "fig, axs = plt.subplots(4, 3)\n",
    "fig.set_size_inches(12, 9)\n",
    "fig.tight_layout(rect=[0, 0.03, 1, 0.95])\n",
    "fig.subplots_adjust(wspace=0.4, hspace=0.5)\n",
    "\n",
    "sns.countplot(data=org_train_data, x=feature_list_cat[0], ax=axs[0, 0])\n",
    "axs[0, 0].title.set_text(feature_list_cat[0])\n",
    "axs[0, 0].set(xlabel=None)\n",
    "axs[0, 0].set(ylabel=None)\n",
    "\n",
    "sns.countplot(data=org_train_data, x=feature_list_cat[1], ax=axs[0, 1])\n",
    "axs[0, 1].title.set_text(feature_list_cat[1])\n",
    "axs[0, 1].set(xlabel=None)\n",
    "axs[0, 1].set(ylabel=None)\n",
    "\n",
    "sns.countplot(data=org_train_data, x=feature_list_cat[2], ax=axs[0, 2])\n",
    "axs[0, 2].title.set_text(feature_list_cat[2])\n",
    "axs[0, 2].set(xlabel=None)\n",
    "axs[0, 2].set(ylabel=None)\n",
    "\n",
    "sns.countplot(data=org_train_data, x=feature_list_cat[3], ax=axs[1, 0])\n",
    "axs[1, 0].title.set_text(feature_list_cat[3])\n",
    "axs[1, 0].set(xlabel=None)\n",
    "axs[1, 0].set(ylabel=None)\n",
    "\n",
    "sns.countplot(data=org_train_data, x=feature_list_cat[4], ax=axs[1, 1])\n",
    "axs[1, 1].title.set_text(feature_list_cat[4])\n",
    "axs[1, 1].set(xlabel=None)\n",
    "axs[1, 1].set(ylabel=None)\n",
    "\n",
    "sns.countplot(data=org_train_data, x=feature_list_cat[5], ax=axs[1, 2])\n",
    "axs[1, 2].title.set_text(feature_list_cat[5])\n",
    "axs[1, 2].set(xlabel=None)\n",
    "axs[1, 2].set(ylabel=None)\n",
    "\n",
    "sns.countplot(data=org_train_data, x=feature_list_cat[6], ax=axs[2, 0])\n",
    "axs[2, 0].title.set_text(feature_list_cat[6])\n",
    "axs[2, 0].set(xlabel=None)\n",
    "axs[2, 0].set(ylabel=None)\n",
    "\n",
    "sns.countplot(data=org_train_data, x=feature_list_cat[7], ax=axs[2, 1])\n",
    "axs[2, 1].title.set_text(feature_list_cat[7])\n",
    "axs[2, 1].set(xlabel=None)\n",
    "axs[2, 1].set(ylabel=None)\n",
    "\n",
    "sns.countplot(data=org_train_data, x=feature_list_cat[8], ax=axs[2, 2])\n",
    "axs[2, 2].title.set_text(feature_list_cat[8])\n",
    "axs[2, 2].set(xlabel=None)\n",
    "axs[2, 2].set(ylabel=None)\n",
    "\n",
    "sns.countplot(data=org_train_data, x=feature_list_cat[9], ax=axs[3, 0])\n",
    "axs[3, 0].title.set_text(feature_list_cat[9])\n",
    "axs[3, 0].set(xlabel=None)\n",
    "axs[3, 0].set(ylabel=None)"
   ]
  },
  {
   "cell_type": "code",
   "execution_count": null,
   "metadata": {},
   "outputs": [],
   "source": [
    "features = org_train_data.drop(\"target\", axis=1)\n",
    "features = features.drop(\"id\", axis=1)\n",
    "features.head(5)"
   ]
  },
  {
   "cell_type": "code",
   "execution_count": null,
   "metadata": {},
   "outputs": [],
   "source": [
    "target = org_train_data[[\"target\"]]\n",
    "target.head(5)"
   ]
  },
  {
   "cell_type": "code",
   "execution_count": null,
   "metadata": {},
   "outputs": [],
   "source": [
    "type(features), type(target)"
   ]
  },
  {
   "cell_type": "code",
   "execution_count": null,
   "metadata": {},
   "outputs": [],
   "source": [
    "from sklearn.preprocessing import OrdinalEncoder, StandardScaler\n",
    "\n",
    "scalar = StandardScaler()\n",
    "encoder = OrdinalEncoder()\n",
    "\n",
    "features[feature_list_num] = scalar.fit_transform(features[feature_list_num])\n",
    "features[feature_list_cat] = encoder.fit_transform(features[feature_list_cat])\n",
    "\n",
    "features.head(5)"
   ]
  },
  {
   "cell_type": "code",
   "execution_count": null,
   "metadata": {},
   "outputs": [],
   "source": [
    "from sklearn.model_selection import train_test_split"
   ]
  },
  {
   "cell_type": "code",
   "execution_count": null,
   "metadata": {},
   "outputs": [],
   "source": [
    "x_train, x_test, y_train, y_test = train_test_split(\n",
    "    features, target, test_size=0.2, random_state=42\n",
    ")"
   ]
  },
  {
   "cell_type": "code",
   "execution_count": null,
   "metadata": {},
   "outputs": [],
   "source": [
    "x_train.size, x_test.size, y_train.size, y_test.size"
   ]
  },
  {
   "cell_type": "markdown",
   "metadata": {},
   "source": [
    "### Logistic Regression"
   ]
  },
  {
   "cell_type": "code",
   "execution_count": null,
   "metadata": {},
   "outputs": [],
   "source": [
    "from sklearn.linear_model import LogisticRegression\n",
    "\n",
    "logistic_regression = LogisticRegression(solver=\"lbfgs\", max_iter=500)\n",
    "\n",
    "logistic_regression.fit(x_train, y_train)"
   ]
  },
  {
   "cell_type": "code",
   "execution_count": null,
   "metadata": {},
   "outputs": [],
   "source": [
    "lr_y_train_pred = logistic_regression.predict(x_train)"
   ]
  },
  {
   "cell_type": "code",
   "execution_count": null,
   "metadata": {},
   "outputs": [],
   "source": [
    "from sklearn.metrics import (\n",
    "    explained_variance_score,\n",
    "    mean_absolute_error,\n",
    "    mean_squared_error,\n",
    "    r2_score,\n",
    ")\n",
    "\n",
    "print(\n",
    "    \"explained_variance_score: \",\n",
    "    str(round(explained_variance_score(y_train, lr_y_train_pred), 4)),\n",
    ")\n",
    "print(\"r2_score: \", str(round(r2_score(y_train, lr_y_train_pred), 4)))\n",
    "print(\n",
    "    \"mean_absolute_error: \",\n",
    "    str(round(mean_absolute_error(y_train, lr_y_train_pred), 4)),\n",
    ")\n",
    "print(\n",
    "    \"mean_squared_error: \", str(round(mean_squared_error(y_train, lr_y_train_pred), 4))\n",
    ")"
   ]
  },
  {
   "cell_type": "code",
   "execution_count": null,
   "metadata": {},
   "outputs": [],
   "source": [
    "lr_y_test_pred = logistic_regression.predict(x_test)"
   ]
  },
  {
   "cell_type": "code",
   "execution_count": null,
   "metadata": {},
   "outputs": [],
   "source": [
    "logistic_regression.score(x_test, y_test)"
   ]
  },
  {
   "cell_type": "markdown",
   "metadata": {},
   "source": [
    "### SGD (Stochastic Gradient Descent)"
   ]
  },
  {
   "cell_type": "code",
   "execution_count": null,
   "metadata": {},
   "outputs": [],
   "source": [
    "from sklearn.linear_model import SGDClassifier"
   ]
  },
  {
   "cell_type": "code",
   "execution_count": null,
   "metadata": {},
   "outputs": [],
   "source": [
    "sgd_classifier = SGDClassifier(loss=\"hinge\", penalty=\"l2\", max_iter=5)"
   ]
  },
  {
   "cell_type": "code",
   "execution_count": null,
   "metadata": {
    "scrolled": true
   },
   "outputs": [],
   "source": [
    "sgd_classifier.fit(x_train, y_train)"
   ]
  },
  {
   "cell_type": "code",
   "execution_count": null,
   "metadata": {},
   "outputs": [],
   "source": [
    "sgd_y_train_pred = sgd_classifier.predict(x_train)"
   ]
  },
  {
   "cell_type": "code",
   "execution_count": null,
   "metadata": {},
   "outputs": [],
   "source": [
    "from sklearn.metrics import (\n",
    "    explained_variance_score,\n",
    "    mean_absolute_error,\n",
    "    mean_squared_error,\n",
    "    r2_score,\n",
    ")\n",
    "\n",
    "print(\n",
    "    \"explained_variance_score: \",\n",
    "    str(round(explained_variance_score(y_train, sgd_y_train_pred), 4)),\n",
    ")\n",
    "print(\"r2_score: \", str(round(r2_score(y_train, sgd_y_train_pred), 4)))\n",
    "print(\n",
    "    \"mean_absolute_error: \",\n",
    "    str(round(mean_absolute_error(y_train, sgd_y_train_pred), 4)),\n",
    ")\n",
    "print(\n",
    "    \"mean_squared_error: \", str(round(mean_squared_error(y_train, sgd_y_train_pred), 4))\n",
    ")"
   ]
  },
  {
   "cell_type": "code",
   "execution_count": null,
   "metadata": {},
   "outputs": [],
   "source": [
    "sgd_y_test_pred = sgd_classifier.predict(x_test)"
   ]
  },
  {
   "cell_type": "code",
   "execution_count": null,
   "metadata": {},
   "outputs": [],
   "source": [
    "sgd_classifier.score(x_test, y_test)"
   ]
  },
  {
   "cell_type": "markdown",
   "metadata": {},
   "source": [
    "### Decision Tree"
   ]
  },
  {
   "cell_type": "code",
   "execution_count": null,
   "metadata": {},
   "outputs": [],
   "source": [
    "from sklearn.tree import DecisionTreeClassifier"
   ]
  },
  {
   "cell_type": "code",
   "execution_count": null,
   "metadata": {},
   "outputs": [],
   "source": [
    "dt_classifier = DecisionTreeClassifier(criterion=\"gini\", random_state=1)"
   ]
  },
  {
   "cell_type": "code",
   "execution_count": null,
   "metadata": {},
   "outputs": [],
   "source": [
    "dt_classifier.fit(x_train, y_train)"
   ]
  },
  {
   "cell_type": "code",
   "execution_count": null,
   "metadata": {},
   "outputs": [],
   "source": [
    "dt_y_train_pred = dt_classifier.predict(x_train)"
   ]
  },
  {
   "cell_type": "code",
   "execution_count": null,
   "metadata": {},
   "outputs": [],
   "source": [
    "from sklearn.metrics import (\n",
    "    explained_variance_score,\n",
    "    mean_absolute_error,\n",
    "    mean_squared_error,\n",
    "    r2_score,\n",
    ")\n",
    "\n",
    "print(\n",
    "    \"explained_variance_score: \",\n",
    "    str(round(explained_variance_score(y_train, dt_y_train_pred), 4)),\n",
    ")\n",
    "print(\"r2_score: \", str(round(r2_score(y_train, dt_y_train_pred), 4)))\n",
    "print(\n",
    "    \"mean_absolute_error: \",\n",
    "    str(round(mean_absolute_error(y_train, dt_y_train_pred), 4)),\n",
    ")\n",
    "print(\n",
    "    \"mean_squared_error: \", str(round(mean_squared_error(y_train, dt_y_train_pred), 4))\n",
    ")"
   ]
  },
  {
   "cell_type": "code",
   "execution_count": null,
   "metadata": {},
   "outputs": [],
   "source": [
    "dt_y_test_pred = dt_classifier.predict(x_test)"
   ]
  },
  {
   "cell_type": "code",
   "execution_count": null,
   "metadata": {},
   "outputs": [],
   "source": [
    "dt_y_test_pred"
   ]
  },
  {
   "cell_type": "code",
   "execution_count": null,
   "metadata": {},
   "outputs": [],
   "source": [
    "dt_classifier.score(x_test, y_test)"
   ]
  },
  {
   "cell_type": "code",
   "execution_count": null,
   "metadata": {},
   "outputs": [],
   "source": [
    "print(\"Accuracy: \", metrics.accuracy_score(y_test, dt_y_test_pred))"
   ]
  },
  {
   "cell_type": "markdown",
   "metadata": {},
   "source": [
    "### Random Forest"
   ]
  },
  {
   "cell_type": "code",
   "execution_count": null,
   "metadata": {},
   "outputs": [],
   "source": [
    "from sklearn.datasets import make_classification\n",
    "from sklearn.ensemble import RandomForestClassifier"
   ]
  },
  {
   "cell_type": "code",
   "execution_count": null,
   "metadata": {},
   "outputs": [],
   "source": [
    "rf_classifier = RandomForestClassifier(n_estimators=100, random_state=42)"
   ]
  },
  {
   "cell_type": "code",
   "execution_count": null,
   "metadata": {},
   "outputs": [],
   "source": [
    "rf_classifier.fit(x_train, y_train.values.ravel())"
   ]
  },
  {
   "cell_type": "code",
   "execution_count": null,
   "metadata": {},
   "outputs": [],
   "source": [
    "rf_y_train_pred = rf_classifier.predict(x_train)"
   ]
  },
  {
   "cell_type": "code",
   "execution_count": null,
   "metadata": {},
   "outputs": [],
   "source": [
    "from sklearn.metrics import (\n",
    "    explained_variance_score,\n",
    "    mean_absolute_error,\n",
    "    mean_squared_error,\n",
    "    r2_score,\n",
    ")\n",
    "\n",
    "print(\n",
    "    \"explained_variance_score: \",\n",
    "    str(round(explained_variance_score(y_train, rf_y_train_pred), 4)),\n",
    ")\n",
    "print(\"r2_score: \", str(round(r2_score(y_train, rf_y_train_pred), 4)))\n",
    "print(\n",
    "    \"mean_absolute_error: \",\n",
    "    str(round(mean_absolute_error(y_train, rf_y_train_pred), 4)),\n",
    ")\n",
    "print(\n",
    "    \"mean_squared_error: \", str(round(mean_squared_error(y_train, rf_y_train_pred), 4))\n",
    ")"
   ]
  },
  {
   "cell_type": "code",
   "execution_count": null,
   "metadata": {},
   "outputs": [],
   "source": [
    "rf_y_test_pred = rf_classifier.predict(x_test)"
   ]
  },
  {
   "cell_type": "code",
   "execution_count": null,
   "metadata": {},
   "outputs": [],
   "source": [
    "rf_classifier.score(x_test, y_test)"
   ]
  },
  {
   "cell_type": "code",
   "execution_count": null,
   "metadata": {},
   "outputs": [],
   "source": [
    "print(\"Accuracy: \", metrics.accuracy_score(y_test, rf_y_test_pred))"
   ]
  },
  {
   "cell_type": "markdown",
   "metadata": {},
   "source": [
    "### ANN (Artificial Neural Networks)"
   ]
  },
  {
   "cell_type": "code",
   "execution_count": null,
   "metadata": {},
   "outputs": [],
   "source": [
    "import tensorflow as tf\n",
    "from tensorflow import keras\n",
    "from tensorflow.keras import Sequential  # Importing sequential model\n",
    "from tensorflow.keras.layers import Dense, Flatten  # Importing layers"
   ]
  },
  {
   "cell_type": "code",
   "execution_count": null,
   "metadata": {},
   "outputs": [],
   "source": [
    "model = Sequential()\n",
    "\n",
    "# Input Layer. Input all data or all columns in original data.\n",
    "# X.shape[1] will give us the count of column in 1st row.\n",
    "model.add(\n",
    "    Dense(x_train.shape[1], activation=\"relu\", input_dim=x_train.shape[1])\n",
    ")  # X.shape[1] = 11\n",
    "\n",
    "# Hidden layer. Repeat the test for 128 times.\n",
    "model.add(Dense(32, activation=\"relu\"))  # 128 No of layers. (11 + 1) x 128 = 1536\n",
    "\n",
    "model.add(Dense(64, activation=\"relu\"))\n",
    "\n",
    "model.add(Dense(128, activation=\"relu\"))\n",
    "\n",
    "# Output Layer. Ouput no of layers is expected different outcome -1. Here it is, exited or not exited, 2 - 1 = 1\n",
    "model.add(Dense(1, activation=\"sigmoid\"))  # (128 + 1) x 1 = 129\n",
    "\n",
    "# Total\n",
    "# 1536 + 129 = 1797"
   ]
  },
  {
   "cell_type": "code",
   "execution_count": null,
   "metadata": {},
   "outputs": [],
   "source": [
    "model.summary()"
   ]
  },
  {
   "cell_type": "code",
   "execution_count": null,
   "metadata": {},
   "outputs": [],
   "source": [
    "model.compile(optimizer=\"adam\", loss=\"binary_crossentropy\", metrics=[\"accuracy\"])"
   ]
  },
  {
   "cell_type": "code",
   "execution_count": null,
   "metadata": {
    "scrolled": true
   },
   "outputs": [],
   "source": [
    "model.fit(x_train, y_train, batch_size=10, epochs=10, verbose=1)"
   ]
  },
  {
   "cell_type": "code",
   "execution_count": null,
   "metadata": {},
   "outputs": [],
   "source": [
    "x_output = pd.read_csv(\"data/Tabular Playground Series - Mar 2021/test.csv\")\n",
    "x_submit = pd.read_csv(\"data/Tabular Playground Series - Mar 2021/test.csv\")\n",
    "output_id = x_output[\"id\"]\n",
    "x_output = x_output.drop(\"id\", axis=1)"
   ]
  },
  {
   "cell_type": "code",
   "execution_count": null,
   "metadata": {},
   "outputs": [],
   "source": [
    "x_output.head(5)"
   ]
  },
  {
   "cell_type": "code",
   "execution_count": null,
   "metadata": {},
   "outputs": [],
   "source": [
    "x_output[feature_list_num] = scalar.fit_transform(x_output[feature_list_num])\n",
    "x_output[feature_list_cat] = encoder.fit_transform(x_output[feature_list_cat])\n",
    "x_output.head(5)"
   ]
  },
  {
   "cell_type": "code",
   "execution_count": null,
   "metadata": {},
   "outputs": [],
   "source": [
    "import datetime as datetime\n",
    "\n",
    "now = datetime.datetime.now()\n",
    "\n",
    "y_output = rf_classifier.predict(x_output)\n",
    "x_output[\"id\"] = output_id\n",
    "x_output[\"target\"] = y_output\n",
    "\n",
    "date_time = (\n",
    "    \"date_\"\n",
    "    + str(now.year)\n",
    "    + \"-\"\n",
    "    + str(now.month)\n",
    "    + \"-\"\n",
    "    + str(now.day)\n",
    "    + \"_time_\"\n",
    "    + str(now.hour)\n",
    "    + \"-\"\n",
    "    + str(now.minute)\n",
    ")\n",
    "\n",
    "x_output.to_csv(\"data/Tabular Playground Series - Mar 2021/my_submit.csv\", index=False)"
   ]
  },
  {
   "cell_type": "code",
   "execution_count": null,
   "metadata": {},
   "outputs": [],
   "source": [
    "x_output.head(5)"
   ]
  },
  {
   "cell_type": "code",
   "execution_count": null,
   "metadata": {},
   "outputs": [],
   "source": [
    "submit = pd.read_csv(\"data/Tabular Playground Series - Mar 2021/sample_submission.csv\")\n",
    "submit.head(5)"
   ]
  }
 ],
 "metadata": {
  "kernelspec": {
   "display_name": "Python 3",
   "language": "python",
   "name": "python3"
  },
  "language_info": {
   "codemirror_mode": {
    "name": "ipython",
    "version": 3
   },
   "file_extension": ".py",
   "mimetype": "text/x-python",
   "name": "python",
   "nbconvert_exporter": "python",
   "pygments_lexer": "ipython3",
   "version": "3.5.6"
  }
 },
 "nbformat": 4,
 "nbformat_minor": 4
}
