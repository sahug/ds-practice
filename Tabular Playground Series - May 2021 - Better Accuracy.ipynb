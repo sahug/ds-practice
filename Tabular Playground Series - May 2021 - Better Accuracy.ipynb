{
 "nbformat": 4,
 "nbformat_minor": 0,
 "metadata": {
  "colab": {
   "name": "Tabular Playground Series - June 2021.ipynb",
   "provenance": [],
   "collapsed_sections": []
  },
  "kernelspec": {
   "name": "python3",
   "display_name": "Python 3"
  },
  "language_info": {
   "name": "python"
  }
 },
 "cells": [
  {
   "cell_type": "code",
   "metadata": {
    "id": "n5MTCnisv1Bx"
   },
   "source": [
    "import numpy as np  # linear algebra\n",
    "import pandas as pd  # data processing, CSV file I/O (e.g. pd.read_csv)"
   ],
   "execution_count": null,
   "outputs": []
  },
  {
   "cell_type": "code",
   "metadata": {
    "colab": {
     "base_uri": "https://localhost:8080/"
    },
    "id": "Q7tlnAQ3wX_R",
    "outputId": "04222dad-162a-45c9-a446-ed801a454604"
   },
   "source": [
    "!pip install tensorflow_decision_forests --upgrade\n"
   ],
   "execution_count": null,
   "outputs": []
  },
  {
   "cell_type": "code",
   "metadata": {
    "colab": {
     "base_uri": "https://localhost:8080/"
    },
    "id": "9Q7NtH81wh1P",
    "outputId": "86b5b346-a6c3-4bd8-f891-af4206aef0ea"
   },
   "source": [
    "!pip install tensorflow==2.5.0\n"
   ],
   "execution_count": null,
   "outputs": []
  },
  {
   "cell_type": "code",
   "metadata": {
    "id": "hBJ1i4uAwjdu"
   },
   "source": [
    "!pip install -q wurlitzer\n"
   ],
   "execution_count": null,
   "outputs": []
  },
  {
   "cell_type": "code",
   "metadata": {
    "id": "wz0H_T3Kwsez"
   },
   "source": [
    "import numpy as np\n",
    "import pandas as pd\n",
    "import tensorflow as tf\n",
    "import tensorflow_decision_forests as tfdf\n",
    "from sklearn.model_selection import train_test_split"
   ],
   "execution_count": null,
   "outputs": []
  },
  {
   "cell_type": "code",
   "metadata": {
    "colab": {
     "base_uri": "https://localhost:8080/",
     "height": 224
    },
    "id": "WpQejT8owv_o",
    "outputId": "38b4cdbc-f8ab-4bcb-d04c-73d7921ab3d8"
   },
   "source": [
    "train = pd.read_csv(\"/content/sample_data/train.csv\")\n",
    "train.head()"
   ],
   "execution_count": null,
   "outputs": []
  },
  {
   "cell_type": "code",
   "metadata": {
    "colab": {
     "base_uri": "https://localhost:8080/",
     "height": 224
    },
    "id": "nnhRf-JFw42n",
    "outputId": "1562d1b6-7c68-4a82-cefc-8256b62f63ff"
   },
   "source": [
    "test = pd.read_csv(\"/content/sample_data/test.csv\")\n",
    "test.head()"
   ],
   "execution_count": null,
   "outputs": []
  },
  {
   "cell_type": "code",
   "metadata": {
    "colab": {
     "base_uri": "https://localhost:8080/",
     "height": 204
    },
    "id": "vWVoDvG6xBqd",
    "outputId": "e0c45788-55ea-474e-ba7c-004fb239d569"
   },
   "source": [
    "sample_submission = pd.read_csv(\"/content/sample_data/sample_submission.csv\")\n",
    "sample_submission.head()"
   ],
   "execution_count": null,
   "outputs": []
  },
  {
   "cell_type": "code",
   "metadata": {
    "id": "Cjdea9EzxJcE"
   },
   "source": [
    "train.drop(\"id\", axis=1, inplace=True)\n",
    "test.drop(\"id\", axis=1, inplace=True)"
   ],
   "execution_count": null,
   "outputs": []
  },
  {
   "cell_type": "code",
   "metadata": {
    "id": "IoAOEnT6xMmc"
   },
   "source": [
    "train_copy = train.copy()"
   ],
   "execution_count": null,
   "outputs": []
  },
  {
   "cell_type": "code",
   "metadata": {
    "id": "avv-K0vyxPMi"
   },
   "source": [
    "train.drop(\"target\", axis=1, inplace=True)"
   ],
   "execution_count": null,
   "outputs": []
  },
  {
   "cell_type": "code",
   "metadata": {
    "colab": {
     "base_uri": "https://localhost:8080/",
     "height": 224
    },
    "id": "3XvUf1SzxR-Q",
    "outputId": "569914a3-b288-4c2d-d898-c832cad42d01"
   },
   "source": [
    "data = pd.concat([train, test], axis=0)\n",
    "data.head()"
   ],
   "execution_count": null,
   "outputs": []
  },
  {
   "cell_type": "code",
   "metadata": {
    "id": "SYbsMy1IyM0p"
   },
   "source": [
    "train = data[:100000]\n",
    "test = data[100000:]"
   ],
   "execution_count": null,
   "outputs": []
  },
  {
   "cell_type": "code",
   "metadata": {
    "colab": {
     "base_uri": "https://localhost:8080/",
     "height": 224
    },
    "id": "p8WDk6kYyPvG",
    "outputId": "67d57246-7a2e-4a87-cacb-6d504a10122a"
   },
   "source": [
    "train = pd.concat([train, train_copy[\"target\"]], axis=1)\n",
    "train.head()"
   ],
   "execution_count": null,
   "outputs": []
  },
  {
   "cell_type": "code",
   "metadata": {
    "id": "RbnipKznybfH"
   },
   "source": [
    "train.replace({\"Class_1\": 0, \"Class_2\": 1, \"Class_3\": 2, \"Class_4\": 3}, inplace=True)"
   ],
   "execution_count": null,
   "outputs": []
  },
  {
   "cell_type": "code",
   "metadata": {
    "colab": {
     "base_uri": "https://localhost:8080/",
     "height": 224
    },
    "id": "udRvt52xyeqT",
    "outputId": "24fdc662-12c2-4998-bd66-912da3f1403e"
   },
   "source": [
    "train.head()"
   ],
   "execution_count": null,
   "outputs": []
  },
  {
   "cell_type": "code",
   "metadata": {
    "colab": {
     "base_uri": "https://localhost:8080/"
    },
    "id": "7VWbjym7yi-9",
    "outputId": "86a05240-5f76-40d5-b23f-2ec58ca8e545"
   },
   "source": [
    "train.shape"
   ],
   "execution_count": null,
   "outputs": []
  },
  {
   "cell_type": "code",
   "metadata": {
    "id": "6L7ez6iTziFD"
   },
   "source": [
    "train_df = train[0:80000]\n",
    "eval_df = train[80000:]"
   ],
   "execution_count": null,
   "outputs": []
  },
  {
   "cell_type": "code",
   "metadata": {
    "id": "2TcjObR4zkqv"
   },
   "source": [
    "train_ds = tfdf.keras.pd_dataframe_to_tf_dataset(train_df, label=\"target\")"
   ],
   "execution_count": null,
   "outputs": []
  },
  {
   "cell_type": "code",
   "metadata": {
    "id": "DGcQBX0gzoJ1"
   },
   "source": [
    "eval_ds = tfdf.keras.pd_dataframe_to_tf_dataset(eval_df, label=\"target\")"
   ],
   "execution_count": null,
   "outputs": []
  },
  {
   "cell_type": "code",
   "metadata": {
    "id": "1Hz5cIz6zs3P"
   },
   "source": [
    "test_ds = tfdf.keras.pd_dataframe_to_tf_dataset(test, label=None)"
   ],
   "execution_count": null,
   "outputs": []
  },
  {
   "cell_type": "code",
   "metadata": {
    "id": "uwhiutpzzwE7"
   },
   "source": [
    "model = tfdf.keras.GradientBoostedTreesModel(\n",
    "    num_trees=100,\n",
    "    growing_strategy=\"BEST_FIRST_GLOBAL\",\n",
    "    max_depth=8,\n",
    "    hyperparameter_template=\"benchmark_rank1\",\n",
    ")"
   ],
   "execution_count": null,
   "outputs": []
  },
  {
   "cell_type": "code",
   "metadata": {
    "id": "PJrEfkzBzzS2"
   },
   "source": [
    "model.compile(metrics=[\"accuracy\"])"
   ],
   "execution_count": null,
   "outputs": []
  },
  {
   "cell_type": "code",
   "metadata": {
    "colab": {
     "base_uri": "https://localhost:8080/"
    },
    "id": "wLwcPzDJz3FC",
    "outputId": "f842669c-e5f5-4fbe-935b-b6a5078ee9a9"
   },
   "source": [
    "model.fit(train_ds)"
   ],
   "execution_count": null,
   "outputs": []
  },
  {
   "cell_type": "code",
   "metadata": {
    "colab": {
     "base_uri": "https://localhost:8080/"
    },
    "id": "0gEN7LAC37JG",
    "outputId": "249dab5c-8f70-401d-af72-973abd6e1e6b"
   },
   "source": [
    "model.evaluate(eval_ds)"
   ],
   "execution_count": null,
   "outputs": []
  },
  {
   "cell_type": "code",
   "metadata": {
    "colab": {
     "base_uri": "https://localhost:8080/"
    },
    "id": "dYzMMEjM3_is",
    "outputId": "1d78e212-fe07-4893-bb90-72f0cf40769c"
   },
   "source": [
    "model.summary()"
   ],
   "execution_count": null,
   "outputs": []
  },
  {
   "cell_type": "code",
   "metadata": {
    "colab": {
     "base_uri": "https://localhost:8080/"
    },
    "id": "3g8AZGEz4M34",
    "outputId": "f488f68c-0dfd-485a-b85c-0b3b590e1a75"
   },
   "source": [
    "model.save(\"TPD_MAY_2021_1\")"
   ],
   "execution_count": null,
   "outputs": []
  },
  {
   "cell_type": "code",
   "metadata": {
    "colab": {
     "base_uri": "https://localhost:8080/"
    },
    "id": "oGeI3PHC4SSO",
    "outputId": "19c7c755-e272-4672-f614-a8567e46fbdb"
   },
   "source": [
    "model.make_inspector().training_logs()"
   ],
   "execution_count": null,
   "outputs": []
  },
  {
   "cell_type": "code",
   "metadata": {
    "colab": {
     "base_uri": "https://localhost:8080/",
     "height": 282
    },
    "id": "Kp2D5aWE4ZND",
    "outputId": "8bcf2e9e-a873-43ad-919a-c33b32789611"
   },
   "source": [
    "import matplotlib.pyplot as plt\n",
    "\n",
    "logs = model.make_inspector().training_logs()\n",
    "\n",
    "plt.figure(figsize=(12, 4))\n",
    "\n",
    "plt.subplot(1, 2, 1)\n",
    "plt.plot([log.num_trees for log in logs], [log.evaluation.accuracy for log in logs])\n",
    "plt.xlabel(\"Number of trees\")\n",
    "plt.ylabel(\"Accuracy (out-of-bag)\")\n",
    "\n",
    "plt.subplot(1, 2, 2)\n",
    "plt.plot([log.num_trees for log in logs], [log.evaluation.loss for log in logs])\n",
    "plt.xlabel(\"Number of trees\")\n",
    "plt.ylabel(\"Logloss (out-of-bag)\")\n",
    "\n",
    "plt.show()"
   ],
   "execution_count": null,
   "outputs": []
  },
  {
   "cell_type": "code",
   "metadata": {
    "id": "zLMNKK0A5uq1"
   },
   "source": [
    "y_pred = model.predict(test_ds)"
   ],
   "execution_count": null,
   "outputs": []
  },
  {
   "cell_type": "code",
   "metadata": {
    "colab": {
     "base_uri": "https://localhost:8080/",
     "height": 419
    },
    "id": "VHTwKBe6502X",
    "outputId": "045e6836-7980-4c07-ee30-288279dc2629"
   },
   "source": [
    "sample_submission.iloc[:, 1:5] = y_pred\n",
    "sample_submission"
   ],
   "execution_count": null,
   "outputs": []
  },
  {
   "cell_type": "code",
   "metadata": {
    "id": "oPjBBN0p57l2"
   },
   "source": [
    "sample_submission.to_csv(\"submission_df.csv\", index=False)"
   ],
   "execution_count": null,
   "outputs": []
  }
 ]
}
